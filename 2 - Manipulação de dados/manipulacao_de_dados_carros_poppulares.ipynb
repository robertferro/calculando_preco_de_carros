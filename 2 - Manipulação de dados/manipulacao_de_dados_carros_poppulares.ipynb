{
 "cells": [
  {
   "cell_type": "markdown",
   "metadata": {},
   "source": [
    "# Tratamento de dados\n",
    "\n",
    "## - Neste Notebook foram extraídos dados  existentes na coluna informações."
   ]
  },
  {
   "cell_type": "code",
   "execution_count": 1,
   "metadata": {},
   "outputs": [],
   "source": [
    "import pandas as pd\n",
    "import numpy as np\n",
    "import seaborn as sns\n",
    "import matplotlib.pyplot as plt"
   ]
  },
  {
   "cell_type": "code",
   "execution_count": 2,
   "metadata": {},
   "outputs": [],
   "source": [
    "url='https://raw.githubusercontent.com/robertferro/carros_populares/main/1%20-%20Web%20scraping/carros_populares.csv'"
   ]
  },
  {
   "cell_type": "code",
   "execution_count": 3,
   "metadata": {},
   "outputs": [],
   "source": [
    "df = pd.read_csv(url, sep = ',')"
   ]
  },
  {
   "cell_type": "code",
   "execution_count": 4,
   "metadata": {},
   "outputs": [
    {
     "data": {
      "text/html": [
       "<div>\n",
       "<style scoped>\n",
       "    .dataframe tbody tr th:only-of-type {\n",
       "        vertical-align: middle;\n",
       "    }\n",
       "\n",
       "    .dataframe tbody tr th {\n",
       "        vertical-align: top;\n",
       "    }\n",
       "\n",
       "    .dataframe thead th {\n",
       "        text-align: right;\n",
       "    }\n",
       "</style>\n",
       "<table border=\"1\" class=\"dataframe\">\n",
       "  <thead>\n",
       "    <tr style=\"text-align: right;\">\n",
       "      <th></th>\n",
       "      <th>modelo</th>\n",
       "      <th>preco</th>\n",
       "      <th>quilometragem</th>\n",
       "      <th>ano</th>\n",
       "      <th>infomacoes</th>\n",
       "    </tr>\n",
       "  </thead>\n",
       "  <tbody>\n",
       "    <tr>\n",
       "      <th>0</th>\n",
       "      <td>chevrolet/agile/</td>\n",
       "      <td>25.990</td>\n",
       "      <td>91.000 Km</td>\n",
       "      <td>2011</td>\n",
       "      <td>Chevrolet Agile 1.4 Lt 5p</td>\n",
       "    </tr>\n",
       "    <tr>\n",
       "      <th>1</th>\n",
       "      <td>chevrolet/agile/</td>\n",
       "      <td>23.499</td>\n",
       "      <td>78.400 Km</td>\n",
       "      <td>2011</td>\n",
       "      <td>Chevrolet Agile 1.4 Ltz 5p</td>\n",
       "    </tr>\n",
       "    <tr>\n",
       "      <th>2</th>\n",
       "      <td>chevrolet/agile/</td>\n",
       "      <td>28.900</td>\n",
       "      <td>123.915 Km</td>\n",
       "      <td>2013</td>\n",
       "      <td>Chevrolet Agile 1.4 Ltz 5p</td>\n",
       "    </tr>\n",
       "    <tr>\n",
       "      <th>3</th>\n",
       "      <td>chevrolet/agile/</td>\n",
       "      <td>28.000</td>\n",
       "      <td>91.000 Km</td>\n",
       "      <td>2013</td>\n",
       "      <td>Chevrolet Agile 1.4 Lt 5p</td>\n",
       "    </tr>\n",
       "    <tr>\n",
       "      <th>4</th>\n",
       "      <td>chevrolet/agile/</td>\n",
       "      <td>31.990</td>\n",
       "      <td>106.863 Km</td>\n",
       "      <td>2014</td>\n",
       "      <td>Chevrolet Agile Agile 1.4 Ltz 8v Flex 4p Manual</td>\n",
       "    </tr>\n",
       "  </tbody>\n",
       "</table>\n",
       "</div>"
      ],
      "text/plain": [
       "             modelo   preco quilometragem   ano  \\\n",
       "0  chevrolet/agile/  25.990     91.000 Km  2011   \n",
       "1  chevrolet/agile/  23.499     78.400 Km  2011   \n",
       "2  chevrolet/agile/  28.900    123.915 Km  2013   \n",
       "3  chevrolet/agile/  28.000     91.000 Km  2013   \n",
       "4  chevrolet/agile/  31.990    106.863 Km  2014   \n",
       "\n",
       "                                        infomacoes  \n",
       "0                        Chevrolet Agile 1.4 Lt 5p  \n",
       "1                       Chevrolet Agile 1.4 Ltz 5p  \n",
       "2                       Chevrolet Agile 1.4 Ltz 5p  \n",
       "3                        Chevrolet Agile 1.4 Lt 5p  \n",
       "4  Chevrolet Agile Agile 1.4 Ltz 8v Flex 4p Manual  "
      ]
     },
     "execution_count": 4,
     "metadata": {},
     "output_type": "execute_result"
    }
   ],
   "source": [
    "df.head()"
   ]
  },
  {
   "cell_type": "code",
   "execution_count": 5,
   "metadata": {},
   "outputs": [
    {
     "data": {
      "text/plain": [
       "(11904, 5)"
      ]
     },
     "execution_count": 5,
     "metadata": {},
     "output_type": "execute_result"
    }
   ],
   "source": [
    "df.shape"
   ]
  },
  {
   "cell_type": "code",
   "execution_count": 6,
   "metadata": {},
   "outputs": [
    {
     "name": "stdout",
     "output_type": "stream",
     "text": [
      "<class 'pandas.core.frame.DataFrame'>\n",
      "RangeIndex: 11904 entries, 0 to 11903\n",
      "Data columns (total 5 columns):\n",
      " #   Column         Non-Null Count  Dtype \n",
      "---  ------         --------------  ----- \n",
      " 0   modelo         11904 non-null  object\n",
      " 1   preco          11904 non-null  object\n",
      " 2   quilometragem  11904 non-null  object\n",
      " 3   ano            11904 non-null  int64 \n",
      " 4   infomacoes     11904 non-null  object\n",
      "dtypes: int64(1), object(4)\n",
      "memory usage: 465.1+ KB\n"
     ]
    }
   ],
   "source": [
    "df.info()"
   ]
  },
  {
   "cell_type": "markdown",
   "metadata": {},
   "source": [
    "### Separando marca e modelo."
   ]
  },
  {
   "cell_type": "code",
   "execution_count": 7,
   "metadata": {},
   "outputs": [],
   "source": [
    "marca = df['modelo'].str.split(\"/\",n=2, expand=True)"
   ]
  },
  {
   "cell_type": "code",
   "execution_count": 8,
   "metadata": {},
   "outputs": [],
   "source": [
    "df['marca'] = marca[0]\n",
    "df['modelo'] = marca[1]"
   ]
  },
  {
   "cell_type": "code",
   "execution_count": 9,
   "metadata": {},
   "outputs": [
    {
     "data": {
      "text/plain": [
       "fiat          1728\n",
       "chevrolet     1632\n",
       "volkswagen    1536\n",
       "citroen        864\n",
       "ford           864\n",
       "peugeot        864\n",
       "renault        768\n",
       "mitsubishi     768\n",
       "hyundai        672\n",
       "nissan         672\n",
       "honda          576\n",
       "toyota         576\n",
       "kia            384\n",
       "Name: marca, dtype: int64"
      ]
     },
     "execution_count": 9,
     "metadata": {},
     "output_type": "execute_result"
    }
   ],
   "source": [
    "df.marca.value_counts()"
   ]
  },
  {
   "cell_type": "code",
   "execution_count": 10,
   "metadata": {},
   "outputs": [
    {
     "data": {
      "text/plain": [
       "idea           96\n",
       "RAV4           96\n",
       "escort         96\n",
       "207-Passion    96\n",
       "toro           96\n",
       "               ..\n",
       "fusion         96\n",
       "ranger         96\n",
       "astra          96\n",
       "C4-Cactus      96\n",
       "ecosport       96\n",
       "Name: modelo, Length: 124, dtype: int64"
      ]
     },
     "execution_count": 10,
     "metadata": {},
     "output_type": "execute_result"
    }
   ],
   "source": [
    "df.modelo.value_counts()"
   ]
  },
  {
   "cell_type": "markdown",
   "metadata": {},
   "source": [
    "### Reorganizando os dados da coluna \"informacoes\""
   ]
  },
  {
   "cell_type": "code",
   "execution_count": 11,
   "metadata": {},
   "outputs": [],
   "source": [
    "informacoes = df['infomacoes'].str.split(\" \", n = 1, expand = True)\n",
    "df['informacoes'] = informacoes[1]"
   ]
  },
  {
   "cell_type": "code",
   "execution_count": 12,
   "metadata": {},
   "outputs": [],
   "source": [
    "df = df.drop('infomacoes', axis = 1)"
   ]
  },
  {
   "cell_type": "code",
   "execution_count": 13,
   "metadata": {},
   "outputs": [
    {
     "data": {
      "text/html": [
       "<div>\n",
       "<style scoped>\n",
       "    .dataframe tbody tr th:only-of-type {\n",
       "        vertical-align: middle;\n",
       "    }\n",
       "\n",
       "    .dataframe tbody tr th {\n",
       "        vertical-align: top;\n",
       "    }\n",
       "\n",
       "    .dataframe thead th {\n",
       "        text-align: right;\n",
       "    }\n",
       "</style>\n",
       "<table border=\"1\" class=\"dataframe\">\n",
       "  <thead>\n",
       "    <tr style=\"text-align: right;\">\n",
       "      <th></th>\n",
       "      <th>modelo</th>\n",
       "      <th>preco</th>\n",
       "      <th>quilometragem</th>\n",
       "      <th>ano</th>\n",
       "      <th>marca</th>\n",
       "      <th>informacoes</th>\n",
       "    </tr>\n",
       "  </thead>\n",
       "  <tbody>\n",
       "    <tr>\n",
       "      <th>0</th>\n",
       "      <td>agile</td>\n",
       "      <td>25.990</td>\n",
       "      <td>91.000 Km</td>\n",
       "      <td>2011</td>\n",
       "      <td>chevrolet</td>\n",
       "      <td>Agile 1.4 Lt 5p</td>\n",
       "    </tr>\n",
       "    <tr>\n",
       "      <th>1</th>\n",
       "      <td>agile</td>\n",
       "      <td>23.499</td>\n",
       "      <td>78.400 Km</td>\n",
       "      <td>2011</td>\n",
       "      <td>chevrolet</td>\n",
       "      <td>Agile 1.4 Ltz 5p</td>\n",
       "    </tr>\n",
       "    <tr>\n",
       "      <th>2</th>\n",
       "      <td>agile</td>\n",
       "      <td>28.900</td>\n",
       "      <td>123.915 Km</td>\n",
       "      <td>2013</td>\n",
       "      <td>chevrolet</td>\n",
       "      <td>Agile 1.4 Ltz 5p</td>\n",
       "    </tr>\n",
       "    <tr>\n",
       "      <th>3</th>\n",
       "      <td>agile</td>\n",
       "      <td>28.000</td>\n",
       "      <td>91.000 Km</td>\n",
       "      <td>2013</td>\n",
       "      <td>chevrolet</td>\n",
       "      <td>Agile 1.4 Lt 5p</td>\n",
       "    </tr>\n",
       "    <tr>\n",
       "      <th>4</th>\n",
       "      <td>agile</td>\n",
       "      <td>31.990</td>\n",
       "      <td>106.863 Km</td>\n",
       "      <td>2014</td>\n",
       "      <td>chevrolet</td>\n",
       "      <td>Agile Agile 1.4 Ltz 8v Flex 4p Manual</td>\n",
       "    </tr>\n",
       "  </tbody>\n",
       "</table>\n",
       "</div>"
      ],
      "text/plain": [
       "  modelo   preco quilometragem   ano      marca  \\\n",
       "0  agile  25.990     91.000 Km  2011  chevrolet   \n",
       "1  agile  23.499     78.400 Km  2011  chevrolet   \n",
       "2  agile  28.900    123.915 Km  2013  chevrolet   \n",
       "3  agile  28.000     91.000 Km  2013  chevrolet   \n",
       "4  agile  31.990    106.863 Km  2014  chevrolet   \n",
       "\n",
       "                             informacoes  \n",
       "0                        Agile 1.4 Lt 5p  \n",
       "1                       Agile 1.4 Ltz 5p  \n",
       "2                       Agile 1.4 Ltz 5p  \n",
       "3                        Agile 1.4 Lt 5p  \n",
       "4  Agile Agile 1.4 Ltz 8v Flex 4p Manual  "
      ]
     },
     "execution_count": 13,
     "metadata": {},
     "output_type": "execute_result"
    }
   ],
   "source": [
    "df.head()"
   ]
  },
  {
   "cell_type": "code",
   "execution_count": 14,
   "metadata": {},
   "outputs": [
    {
     "data": {
      "text/plain": [
       "fiat          1728\n",
       "chevrolet     1632\n",
       "volkswagen    1536\n",
       "citroen        864\n",
       "ford           864\n",
       "peugeot        864\n",
       "renault        768\n",
       "mitsubishi     768\n",
       "hyundai        672\n",
       "nissan         672\n",
       "honda          576\n",
       "toyota         576\n",
       "kia            384\n",
       "Name: marca, dtype: int64"
      ]
     },
     "execution_count": 14,
     "metadata": {},
     "output_type": "execute_result"
    }
   ],
   "source": [
    "df.marca.value_counts().tail(33)"
   ]
  },
  {
   "cell_type": "code",
   "execution_count": 15,
   "metadata": {},
   "outputs": [],
   "source": [
    "# pd.set_option('display.max_rows', 1001)\n",
    "# df.head(1001)"
   ]
  },
  {
   "cell_type": "markdown",
   "metadata": {},
   "source": [
    " - Tratando a coluna quilometragem."
   ]
  },
  {
   "cell_type": "code",
   "execution_count": 16,
   "metadata": {},
   "outputs": [],
   "source": [
    "km = df['quilometragem'].str.split(\" \", n = 1, expand = True)"
   ]
  },
  {
   "cell_type": "code",
   "execution_count": 17,
   "metadata": {},
   "outputs": [],
   "source": [
    "df['quilometragem'] = km[0]"
   ]
  },
  {
   "cell_type": "code",
   "execution_count": 18,
   "metadata": {},
   "outputs": [],
   "source": [
    "df['preco'] = df['preco'].str.replace('.','')\n",
    "df['quilometragem'] = df['quilometragem'].str.replace('.','')"
   ]
  },
  {
   "cell_type": "code",
   "execution_count": 19,
   "metadata": {},
   "outputs": [],
   "source": [
    "df['quilometragem'] = df['quilometragem'].str.replace(',','0')\n",
    "df['quilometragem'] = df['quilometragem'].astype(float)"
   ]
  },
  {
   "cell_type": "code",
   "execution_count": 20,
   "metadata": {},
   "outputs": [
    {
     "data": {
      "text/html": [
       "<div>\n",
       "<style scoped>\n",
       "    .dataframe tbody tr th:only-of-type {\n",
       "        vertical-align: middle;\n",
       "    }\n",
       "\n",
       "    .dataframe tbody tr th {\n",
       "        vertical-align: top;\n",
       "    }\n",
       "\n",
       "    .dataframe thead th {\n",
       "        text-align: right;\n",
       "    }\n",
       "</style>\n",
       "<table border=\"1\" class=\"dataframe\">\n",
       "  <thead>\n",
       "    <tr style=\"text-align: right;\">\n",
       "      <th></th>\n",
       "      <th>modelo</th>\n",
       "      <th>preco</th>\n",
       "      <th>quilometragem</th>\n",
       "      <th>ano</th>\n",
       "      <th>marca</th>\n",
       "      <th>informacoes</th>\n",
       "    </tr>\n",
       "  </thead>\n",
       "  <tbody>\n",
       "    <tr>\n",
       "      <th>0</th>\n",
       "      <td>agile</td>\n",
       "      <td>25990</td>\n",
       "      <td>91000.0</td>\n",
       "      <td>2011</td>\n",
       "      <td>chevrolet</td>\n",
       "      <td>Agile 1.4 Lt 5p</td>\n",
       "    </tr>\n",
       "    <tr>\n",
       "      <th>1</th>\n",
       "      <td>agile</td>\n",
       "      <td>23499</td>\n",
       "      <td>78400.0</td>\n",
       "      <td>2011</td>\n",
       "      <td>chevrolet</td>\n",
       "      <td>Agile 1.4 Ltz 5p</td>\n",
       "    </tr>\n",
       "    <tr>\n",
       "      <th>2</th>\n",
       "      <td>agile</td>\n",
       "      <td>28900</td>\n",
       "      <td>123915.0</td>\n",
       "      <td>2013</td>\n",
       "      <td>chevrolet</td>\n",
       "      <td>Agile 1.4 Ltz 5p</td>\n",
       "    </tr>\n",
       "    <tr>\n",
       "      <th>3</th>\n",
       "      <td>agile</td>\n",
       "      <td>28000</td>\n",
       "      <td>91000.0</td>\n",
       "      <td>2013</td>\n",
       "      <td>chevrolet</td>\n",
       "      <td>Agile 1.4 Lt 5p</td>\n",
       "    </tr>\n",
       "    <tr>\n",
       "      <th>4</th>\n",
       "      <td>agile</td>\n",
       "      <td>31990</td>\n",
       "      <td>106863.0</td>\n",
       "      <td>2014</td>\n",
       "      <td>chevrolet</td>\n",
       "      <td>Agile Agile 1.4 Ltz 8v Flex 4p Manual</td>\n",
       "    </tr>\n",
       "  </tbody>\n",
       "</table>\n",
       "</div>"
      ],
      "text/plain": [
       "  modelo  preco  quilometragem   ano      marca  \\\n",
       "0  agile  25990        91000.0  2011  chevrolet   \n",
       "1  agile  23499        78400.0  2011  chevrolet   \n",
       "2  agile  28900       123915.0  2013  chevrolet   \n",
       "3  agile  28000        91000.0  2013  chevrolet   \n",
       "4  agile  31990       106863.0  2014  chevrolet   \n",
       "\n",
       "                             informacoes  \n",
       "0                        Agile 1.4 Lt 5p  \n",
       "1                       Agile 1.4 Ltz 5p  \n",
       "2                       Agile 1.4 Ltz 5p  \n",
       "3                        Agile 1.4 Lt 5p  \n",
       "4  Agile Agile 1.4 Ltz 8v Flex 4p Manual  "
      ]
     },
     "execution_count": 20,
     "metadata": {},
     "output_type": "execute_result"
    }
   ],
   "source": [
    "df.head()"
   ]
  },
  {
   "cell_type": "markdown",
   "metadata": {},
   "source": [
    "## Criando a coluna motor."
   ]
  },
  {
   "cell_type": "markdown",
   "metadata": {},
   "source": [
    " - Funçao para pegar apenas a potência do motor."
   ]
  },
  {
   "cell_type": "code",
   "execution_count": 21,
   "metadata": {},
   "outputs": [],
   "source": [
    "def pegar_potencia_do_motor(entrada):\n",
    "    entrada = entrada.split()\n",
    "    \n",
    "    nova_entrada = []\n",
    "    for num in  entrada :\n",
    "        if len(num) == 3 and '.' in num:\n",
    "            nova_entrada.append(num)\n",
    "            \n",
    "            \n",
    "    if  len(nova_entrada) == 0:\n",
    "         motor = np.nan\n",
    "    else:\n",
    "        motor = nova_entrada\n",
    "        motor = motor[0]\n",
    "    \n",
    "    return motor"
   ]
  },
  {
   "cell_type": "code",
   "execution_count": 22,
   "metadata": {},
   "outputs": [
    {
     "data": {
      "text/html": [
       "<div>\n",
       "<style scoped>\n",
       "    .dataframe tbody tr th:only-of-type {\n",
       "        vertical-align: middle;\n",
       "    }\n",
       "\n",
       "    .dataframe tbody tr th {\n",
       "        vertical-align: top;\n",
       "    }\n",
       "\n",
       "    .dataframe thead th {\n",
       "        text-align: right;\n",
       "    }\n",
       "</style>\n",
       "<table border=\"1\" class=\"dataframe\">\n",
       "  <thead>\n",
       "    <tr style=\"text-align: right;\">\n",
       "      <th></th>\n",
       "      <th>modelo</th>\n",
       "      <th>preco</th>\n",
       "      <th>quilometragem</th>\n",
       "      <th>ano</th>\n",
       "      <th>marca</th>\n",
       "      <th>informacoes</th>\n",
       "      <th>motor</th>\n",
       "    </tr>\n",
       "  </thead>\n",
       "  <tbody>\n",
       "    <tr>\n",
       "      <th>0</th>\n",
       "      <td>agile</td>\n",
       "      <td>25990</td>\n",
       "      <td>91000.0</td>\n",
       "      <td>2011</td>\n",
       "      <td>chevrolet</td>\n",
       "      <td>Agile 1.4 Lt 5p</td>\n",
       "      <td>1.4</td>\n",
       "    </tr>\n",
       "    <tr>\n",
       "      <th>1</th>\n",
       "      <td>agile</td>\n",
       "      <td>23499</td>\n",
       "      <td>78400.0</td>\n",
       "      <td>2011</td>\n",
       "      <td>chevrolet</td>\n",
       "      <td>Agile 1.4 Ltz 5p</td>\n",
       "      <td>1.4</td>\n",
       "    </tr>\n",
       "    <tr>\n",
       "      <th>2</th>\n",
       "      <td>agile</td>\n",
       "      <td>28900</td>\n",
       "      <td>123915.0</td>\n",
       "      <td>2013</td>\n",
       "      <td>chevrolet</td>\n",
       "      <td>Agile 1.4 Ltz 5p</td>\n",
       "      <td>1.4</td>\n",
       "    </tr>\n",
       "    <tr>\n",
       "      <th>3</th>\n",
       "      <td>agile</td>\n",
       "      <td>28000</td>\n",
       "      <td>91000.0</td>\n",
       "      <td>2013</td>\n",
       "      <td>chevrolet</td>\n",
       "      <td>Agile 1.4 Lt 5p</td>\n",
       "      <td>1.4</td>\n",
       "    </tr>\n",
       "    <tr>\n",
       "      <th>4</th>\n",
       "      <td>agile</td>\n",
       "      <td>31990</td>\n",
       "      <td>106863.0</td>\n",
       "      <td>2014</td>\n",
       "      <td>chevrolet</td>\n",
       "      <td>Agile Agile 1.4 Ltz 8v Flex 4p Manual</td>\n",
       "      <td>1.4</td>\n",
       "    </tr>\n",
       "  </tbody>\n",
       "</table>\n",
       "</div>"
      ],
      "text/plain": [
       "  modelo  preco  quilometragem   ano      marca  \\\n",
       "0  agile  25990        91000.0  2011  chevrolet   \n",
       "1  agile  23499        78400.0  2011  chevrolet   \n",
       "2  agile  28900       123915.0  2013  chevrolet   \n",
       "3  agile  28000        91000.0  2013  chevrolet   \n",
       "4  agile  31990       106863.0  2014  chevrolet   \n",
       "\n",
       "                             informacoes motor  \n",
       "0                        Agile 1.4 Lt 5p   1.4  \n",
       "1                       Agile 1.4 Ltz 5p   1.4  \n",
       "2                       Agile 1.4 Ltz 5p   1.4  \n",
       "3                        Agile 1.4 Lt 5p   1.4  \n",
       "4  Agile Agile 1.4 Ltz 8v Flex 4p Manual   1.4  "
      ]
     },
     "execution_count": 22,
     "metadata": {},
     "output_type": "execute_result"
    }
   ],
   "source": [
    "df['motor'] = df['informacoes'].apply(pegar_potencia_do_motor)\n",
    "df.head()"
   ]
  },
  {
   "cell_type": "code",
   "execution_count": 23,
   "metadata": {},
   "outputs": [
    {
     "data": {
      "text/plain": [
       "1.6    2831\n",
       "2.0    2217\n",
       "1.0    1883\n",
       "1.4    1261\n",
       "1.8    1218\n",
       "1.5     539\n",
       "2.4     209\n",
       "2.8     167\n",
       "2.5     165\n",
       "1.3     141\n",
       "3.2     132\n",
       "3.0     130\n",
       "3.5      68\n",
       "2.3      66\n",
       "2.2      49\n",
       "1.2      47\n",
       "2.7      42\n",
       "3.8      38\n",
       "3.3      36\n",
       "1.9      26\n",
       "1.7      12\n",
       "4.0       4\n",
       "1.1       2\n",
       "3.o       1\n",
       "2.o       1\n",
       "Name: motor, dtype: int64"
      ]
     },
     "execution_count": 23,
     "metadata": {},
     "output_type": "execute_result"
    }
   ],
   "source": [
    "df.motor.value_counts()"
   ]
  },
  {
   "cell_type": "code",
   "execution_count": 24,
   "metadata": {},
   "outputs": [],
   "source": [
    "df['motor'] = df['motor'].str.replace('o','0')"
   ]
  },
  {
   "cell_type": "code",
   "execution_count": 25,
   "metadata": {},
   "outputs": [
    {
     "data": {
      "text/plain": [
       "1.6    2831\n",
       "2.0    2218\n",
       "1.0    1883\n",
       "1.4    1261\n",
       "1.8    1218\n",
       "1.5     539\n",
       "2.4     209\n",
       "2.8     167\n",
       "2.5     165\n",
       "1.3     141\n",
       "3.2     132\n",
       "3.0     131\n",
       "3.5      68\n",
       "2.3      66\n",
       "2.2      49\n",
       "1.2      47\n",
       "2.7      42\n",
       "3.8      38\n",
       "3.3      36\n",
       "1.9      26\n",
       "1.7      12\n",
       "4.0       4\n",
       "1.1       2\n",
       "Name: motor, dtype: int64"
      ]
     },
     "execution_count": 25,
     "metadata": {},
     "output_type": "execute_result"
    }
   ],
   "source": [
    "df.motor.value_counts()"
   ]
  },
  {
   "cell_type": "code",
   "execution_count": 26,
   "metadata": {},
   "outputs": [],
   "source": [
    "df = df.query('motor != \"(n.\"')"
   ]
  },
  {
   "cell_type": "code",
   "execution_count": 27,
   "metadata": {},
   "outputs": [
    {
     "data": {
      "text/plain": [
       "1.6    2831\n",
       "2.0    2218\n",
       "1.0    1883\n",
       "1.4    1261\n",
       "1.8    1218\n",
       "1.5     539\n",
       "2.4     209\n",
       "2.8     167\n",
       "2.5     165\n",
       "1.3     141\n",
       "3.2     132\n",
       "3.0     131\n",
       "3.5      68\n",
       "2.3      66\n",
       "2.2      49\n",
       "1.2      47\n",
       "2.7      42\n",
       "3.8      38\n",
       "3.3      36\n",
       "1.9      26\n",
       "1.7      12\n",
       "4.0       4\n",
       "1.1       2\n",
       "Name: motor, dtype: int64"
      ]
     },
     "execution_count": 27,
     "metadata": {},
     "output_type": "execute_result"
    }
   ],
   "source": [
    "df.motor.value_counts()"
   ]
  },
  {
   "cell_type": "code",
   "execution_count": 28,
   "metadata": {},
   "outputs": [
    {
     "name": "stdout",
     "output_type": "stream",
     "text": [
      "<class 'pandas.core.frame.DataFrame'>\n",
      "Int64Index: 11904 entries, 0 to 11903\n",
      "Data columns (total 7 columns):\n",
      " #   Column         Non-Null Count  Dtype  \n",
      "---  ------         --------------  -----  \n",
      " 0   modelo         11904 non-null  object \n",
      " 1   preco          11904 non-null  object \n",
      " 2   quilometragem  11904 non-null  float64\n",
      " 3   ano            11904 non-null  int64  \n",
      " 4   marca          11904 non-null  object \n",
      " 5   informacoes    11904 non-null  object \n",
      " 6   motor          11285 non-null  object \n",
      "dtypes: float64(1), int64(1), object(5)\n",
      "memory usage: 744.0+ KB\n"
     ]
    }
   ],
   "source": [
    "df.info()"
   ]
  },
  {
   "cell_type": "code",
   "execution_count": 29,
   "metadata": {},
   "outputs": [],
   "source": [
    "df['preco'] = df['preco'].astype(float)\n",
    "df['motor'] = df['motor'].astype(float)"
   ]
  },
  {
   "cell_type": "code",
   "execution_count": 30,
   "metadata": {},
   "outputs": [
    {
     "data": {
      "text/html": [
       "<div>\n",
       "<style scoped>\n",
       "    .dataframe tbody tr th:only-of-type {\n",
       "        vertical-align: middle;\n",
       "    }\n",
       "\n",
       "    .dataframe tbody tr th {\n",
       "        vertical-align: top;\n",
       "    }\n",
       "\n",
       "    .dataframe thead th {\n",
       "        text-align: right;\n",
       "    }\n",
       "</style>\n",
       "<table border=\"1\" class=\"dataframe\">\n",
       "  <thead>\n",
       "    <tr style=\"text-align: right;\">\n",
       "      <th></th>\n",
       "      <th>modelo</th>\n",
       "      <th>preco</th>\n",
       "      <th>quilometragem</th>\n",
       "      <th>ano</th>\n",
       "      <th>marca</th>\n",
       "      <th>informacoes</th>\n",
       "      <th>motor</th>\n",
       "    </tr>\n",
       "  </thead>\n",
       "  <tbody>\n",
       "    <tr>\n",
       "      <th>0</th>\n",
       "      <td>agile</td>\n",
       "      <td>25990.0</td>\n",
       "      <td>91000.0</td>\n",
       "      <td>2011</td>\n",
       "      <td>chevrolet</td>\n",
       "      <td>Agile 1.4 Lt 5p</td>\n",
       "      <td>1.4</td>\n",
       "    </tr>\n",
       "    <tr>\n",
       "      <th>1</th>\n",
       "      <td>agile</td>\n",
       "      <td>23499.0</td>\n",
       "      <td>78400.0</td>\n",
       "      <td>2011</td>\n",
       "      <td>chevrolet</td>\n",
       "      <td>Agile 1.4 Ltz 5p</td>\n",
       "      <td>1.4</td>\n",
       "    </tr>\n",
       "    <tr>\n",
       "      <th>2</th>\n",
       "      <td>agile</td>\n",
       "      <td>28900.0</td>\n",
       "      <td>123915.0</td>\n",
       "      <td>2013</td>\n",
       "      <td>chevrolet</td>\n",
       "      <td>Agile 1.4 Ltz 5p</td>\n",
       "      <td>1.4</td>\n",
       "    </tr>\n",
       "    <tr>\n",
       "      <th>3</th>\n",
       "      <td>agile</td>\n",
       "      <td>28000.0</td>\n",
       "      <td>91000.0</td>\n",
       "      <td>2013</td>\n",
       "      <td>chevrolet</td>\n",
       "      <td>Agile 1.4 Lt 5p</td>\n",
       "      <td>1.4</td>\n",
       "    </tr>\n",
       "    <tr>\n",
       "      <th>4</th>\n",
       "      <td>agile</td>\n",
       "      <td>31990.0</td>\n",
       "      <td>106863.0</td>\n",
       "      <td>2014</td>\n",
       "      <td>chevrolet</td>\n",
       "      <td>Agile Agile 1.4 Ltz 8v Flex 4p Manual</td>\n",
       "      <td>1.4</td>\n",
       "    </tr>\n",
       "  </tbody>\n",
       "</table>\n",
       "</div>"
      ],
      "text/plain": [
       "  modelo    preco  quilometragem   ano      marca  \\\n",
       "0  agile  25990.0        91000.0  2011  chevrolet   \n",
       "1  agile  23499.0        78400.0  2011  chevrolet   \n",
       "2  agile  28900.0       123915.0  2013  chevrolet   \n",
       "3  agile  28000.0        91000.0  2013  chevrolet   \n",
       "4  agile  31990.0       106863.0  2014  chevrolet   \n",
       "\n",
       "                             informacoes  motor  \n",
       "0                        Agile 1.4 Lt 5p    1.4  \n",
       "1                       Agile 1.4 Ltz 5p    1.4  \n",
       "2                       Agile 1.4 Ltz 5p    1.4  \n",
       "3                        Agile 1.4 Lt 5p    1.4  \n",
       "4  Agile Agile 1.4 Ltz 8v Flex 4p Manual    1.4  "
      ]
     },
     "execution_count": 30,
     "metadata": {},
     "output_type": "execute_result"
    }
   ],
   "source": [
    "df.head()"
   ]
  },
  {
   "cell_type": "code",
   "execution_count": 31,
   "metadata": {},
   "outputs": [
    {
     "name": "stdout",
     "output_type": "stream",
     "text": [
      "<class 'pandas.core.frame.DataFrame'>\n",
      "Int64Index: 11904 entries, 0 to 11903\n",
      "Data columns (total 7 columns):\n",
      " #   Column         Non-Null Count  Dtype  \n",
      "---  ------         --------------  -----  \n",
      " 0   modelo         11904 non-null  object \n",
      " 1   preco          11904 non-null  float64\n",
      " 2   quilometragem  11904 non-null  float64\n",
      " 3   ano            11904 non-null  int64  \n",
      " 4   marca          11904 non-null  object \n",
      " 5   informacoes    11904 non-null  object \n",
      " 6   motor          11285 non-null  float64\n",
      "dtypes: float64(3), int64(1), object(3)\n",
      "memory usage: 744.0+ KB\n"
     ]
    }
   ],
   "source": [
    "df.info()"
   ]
  },
  {
   "cell_type": "code",
   "execution_count": 32,
   "metadata": {},
   "outputs": [
    {
     "data": {
      "text/plain": [
       "Index(['modelo', 'preco', 'quilometragem', 'ano', 'marca', 'informacoes',\n",
       "       'motor'],\n",
       "      dtype='object')"
      ]
     },
     "execution_count": 32,
     "metadata": {},
     "output_type": "execute_result"
    }
   ],
   "source": [
    "df.columns"
   ]
  },
  {
   "cell_type": "code",
   "execution_count": 33,
   "metadata": {},
   "outputs": [],
   "source": [
    "df = df[['marca', 'modelo','motor', 'quilometragem', 'ano', 'preco', 'informacoes']]"
   ]
  },
  {
   "cell_type": "markdown",
   "metadata": {},
   "source": [
    " - Criando novo arquivo csv com os dados pré-processados."
   ]
  },
  {
   "cell_type": "code",
   "execution_count": 34,
   "metadata": {},
   "outputs": [
    {
     "data": {
      "text/html": [
       "<div>\n",
       "<style scoped>\n",
       "    .dataframe tbody tr th:only-of-type {\n",
       "        vertical-align: middle;\n",
       "    }\n",
       "\n",
       "    .dataframe tbody tr th {\n",
       "        vertical-align: top;\n",
       "    }\n",
       "\n",
       "    .dataframe thead th {\n",
       "        text-align: right;\n",
       "    }\n",
       "</style>\n",
       "<table border=\"1\" class=\"dataframe\">\n",
       "  <thead>\n",
       "    <tr style=\"text-align: right;\">\n",
       "      <th></th>\n",
       "      <th>marca</th>\n",
       "      <th>modelo</th>\n",
       "      <th>motor</th>\n",
       "      <th>quilometragem</th>\n",
       "      <th>ano</th>\n",
       "      <th>preco</th>\n",
       "      <th>informacoes</th>\n",
       "    </tr>\n",
       "  </thead>\n",
       "  <tbody>\n",
       "    <tr>\n",
       "      <th>0</th>\n",
       "      <td>chevrolet</td>\n",
       "      <td>agile</td>\n",
       "      <td>1.4</td>\n",
       "      <td>91000.0</td>\n",
       "      <td>2011</td>\n",
       "      <td>25990.0</td>\n",
       "      <td>Agile 1.4 Lt 5p</td>\n",
       "    </tr>\n",
       "    <tr>\n",
       "      <th>1</th>\n",
       "      <td>chevrolet</td>\n",
       "      <td>agile</td>\n",
       "      <td>1.4</td>\n",
       "      <td>78400.0</td>\n",
       "      <td>2011</td>\n",
       "      <td>23499.0</td>\n",
       "      <td>Agile 1.4 Ltz 5p</td>\n",
       "    </tr>\n",
       "    <tr>\n",
       "      <th>2</th>\n",
       "      <td>chevrolet</td>\n",
       "      <td>agile</td>\n",
       "      <td>1.4</td>\n",
       "      <td>123915.0</td>\n",
       "      <td>2013</td>\n",
       "      <td>28900.0</td>\n",
       "      <td>Agile 1.4 Ltz 5p</td>\n",
       "    </tr>\n",
       "    <tr>\n",
       "      <th>3</th>\n",
       "      <td>chevrolet</td>\n",
       "      <td>agile</td>\n",
       "      <td>1.4</td>\n",
       "      <td>91000.0</td>\n",
       "      <td>2013</td>\n",
       "      <td>28000.0</td>\n",
       "      <td>Agile 1.4 Lt 5p</td>\n",
       "    </tr>\n",
       "    <tr>\n",
       "      <th>4</th>\n",
       "      <td>chevrolet</td>\n",
       "      <td>agile</td>\n",
       "      <td>1.4</td>\n",
       "      <td>106863.0</td>\n",
       "      <td>2014</td>\n",
       "      <td>31990.0</td>\n",
       "      <td>Agile Agile 1.4 Ltz 8v Flex 4p Manual</td>\n",
       "    </tr>\n",
       "  </tbody>\n",
       "</table>\n",
       "</div>"
      ],
      "text/plain": [
       "       marca modelo  motor  quilometragem   ano    preco  \\\n",
       "0  chevrolet  agile    1.4        91000.0  2011  25990.0   \n",
       "1  chevrolet  agile    1.4        78400.0  2011  23499.0   \n",
       "2  chevrolet  agile    1.4       123915.0  2013  28900.0   \n",
       "3  chevrolet  agile    1.4        91000.0  2013  28000.0   \n",
       "4  chevrolet  agile    1.4       106863.0  2014  31990.0   \n",
       "\n",
       "                             informacoes  \n",
       "0                        Agile 1.4 Lt 5p  \n",
       "1                       Agile 1.4 Ltz 5p  \n",
       "2                       Agile 1.4 Ltz 5p  \n",
       "3                        Agile 1.4 Lt 5p  \n",
       "4  Agile Agile 1.4 Ltz 8v Flex 4p Manual  "
      ]
     },
     "execution_count": 34,
     "metadata": {},
     "output_type": "execute_result"
    }
   ],
   "source": [
    "df.head()"
   ]
  },
  {
   "cell_type": "code",
   "execution_count": 35,
   "metadata": {},
   "outputs": [],
   "source": [
    "df.to_csv('carros_populares_manipulado.csv',index =False , encoding = 'utf-8')"
   ]
  },
  {
   "cell_type": "code",
   "execution_count": null,
   "metadata": {},
   "outputs": [],
   "source": []
  }
 ],
 "metadata": {
  "kernelspec": {
   "display_name": "Python 3",
   "language": "python",
   "name": "python3"
  },
  "language_info": {
   "codemirror_mode": {
    "name": "ipython",
    "version": 3
   },
   "file_extension": ".py",
   "mimetype": "text/x-python",
   "name": "python",
   "nbconvert_exporter": "python",
   "pygments_lexer": "ipython3",
   "version": "3.8.3"
  },
  "widgets": {
   "application/vnd.jupyter.widget-state+json": {
    "state": {},
    "version_major": 2,
    "version_minor": 0
   }
  }
 },
 "nbformat": 4,
 "nbformat_minor": 4
}
