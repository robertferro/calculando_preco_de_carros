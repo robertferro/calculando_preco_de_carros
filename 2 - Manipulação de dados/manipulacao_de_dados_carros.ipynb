{
 "cells": [
  {
   "cell_type": "markdown",
   "metadata": {},
   "source": [
    "# Tratamento de dados\n",
    "\n",
    "## - Neste Notebook foram extraídos dados  existentes na coluna informações."
   ]
  },
  {
   "cell_type": "code",
   "execution_count": 1,
   "metadata": {},
   "outputs": [],
   "source": [
    "import pandas as pd\n",
    "import numpy as np\n",
    "import seaborn as sns\n",
    "import matplotlib.pyplot as plt"
   ]
  },
  {
   "cell_type": "code",
   "execution_count": 2,
   "metadata": {},
   "outputs": [],
   "source": [
    "url = 'https://raw.githubusercontent.com/robertferro/carros/main/1%20-%20Web%20scraping/carros.csv'"
   ]
  },
  {
   "cell_type": "code",
   "execution_count": 32,
   "metadata": {},
   "outputs": [],
   "source": [
    "df = pd.read_csv(url, sep = ',')"
   ]
  },
  {
   "cell_type": "code",
   "execution_count": 33,
   "metadata": {},
   "outputs": [
    {
     "data": {
      "text/html": [
       "<div>\n",
       "<style scoped>\n",
       "    .dataframe tbody tr th:only-of-type {\n",
       "        vertical-align: middle;\n",
       "    }\n",
       "\n",
       "    .dataframe tbody tr th {\n",
       "        vertical-align: top;\n",
       "    }\n",
       "\n",
       "    .dataframe thead th {\n",
       "        text-align: right;\n",
       "    }\n",
       "</style>\n",
       "<table border=\"1\" class=\"dataframe\">\n",
       "  <thead>\n",
       "    <tr style=\"text-align: right;\">\n",
       "      <th></th>\n",
       "      <th>modelo</th>\n",
       "      <th>preco</th>\n",
       "      <th>quilometragem</th>\n",
       "      <th>ano</th>\n",
       "      <th>infomacoes</th>\n",
       "    </tr>\n",
       "  </thead>\n",
       "  <tbody>\n",
       "    <tr>\n",
       "      <th>0</th>\n",
       "      <td>Agile</td>\n",
       "      <td>25.990</td>\n",
       "      <td>91.000 Km</td>\n",
       "      <td>2011</td>\n",
       "      <td>Chevrolet Agile 1.4 Lt 5p</td>\n",
       "    </tr>\n",
       "    <tr>\n",
       "      <th>1</th>\n",
       "      <td>Agile</td>\n",
       "      <td>28.900</td>\n",
       "      <td>123.915 Km</td>\n",
       "      <td>2013</td>\n",
       "      <td>Chevrolet Agile 1.4 Ltz 5p</td>\n",
       "    </tr>\n",
       "    <tr>\n",
       "      <th>2</th>\n",
       "      <td>Agile</td>\n",
       "      <td>28.000</td>\n",
       "      <td>91.000 Km</td>\n",
       "      <td>2013</td>\n",
       "      <td>Chevrolet Agile 1.4 Lt 5p</td>\n",
       "    </tr>\n",
       "    <tr>\n",
       "      <th>3</th>\n",
       "      <td>Agile</td>\n",
       "      <td>26.890</td>\n",
       "      <td>151.000 Km</td>\n",
       "      <td>2011</td>\n",
       "      <td>Chevrolet Agile 1.4 Mpfi Ltz 8v</td>\n",
       "    </tr>\n",
       "    <tr>\n",
       "      <th>4</th>\n",
       "      <td>Agile</td>\n",
       "      <td>31.990</td>\n",
       "      <td>106.863 Km</td>\n",
       "      <td>2014</td>\n",
       "      <td>Chevrolet Agile Agile 1.4 Ltz 8v Flex 4p Manual</td>\n",
       "    </tr>\n",
       "  </tbody>\n",
       "</table>\n",
       "</div>"
      ],
      "text/plain": [
       "  modelo   preco quilometragem   ano  \\\n",
       "0  Agile  25.990     91.000 Km  2011   \n",
       "1  Agile  28.900    123.915 Km  2013   \n",
       "2  Agile  28.000     91.000 Km  2013   \n",
       "3  Agile  26.890    151.000 Km  2011   \n",
       "4  Agile  31.990    106.863 Km  2014   \n",
       "\n",
       "                                        infomacoes  \n",
       "0                        Chevrolet Agile 1.4 Lt 5p  \n",
       "1                       Chevrolet Agile 1.4 Ltz 5p  \n",
       "2                        Chevrolet Agile 1.4 Lt 5p  \n",
       "3                  Chevrolet Agile 1.4 Mpfi Ltz 8v  \n",
       "4  Chevrolet Agile Agile 1.4 Ltz 8v Flex 4p Manual  "
      ]
     },
     "execution_count": 33,
     "metadata": {},
     "output_type": "execute_result"
    }
   ],
   "source": [
    "df.head()"
   ]
  },
  {
   "cell_type": "code",
   "execution_count": 34,
   "metadata": {},
   "outputs": [
    {
     "data": {
      "text/plain": [
       "(16834, 5)"
      ]
     },
     "execution_count": 34,
     "metadata": {},
     "output_type": "execute_result"
    }
   ],
   "source": [
    "df.shape"
   ]
  },
  {
   "cell_type": "markdown",
   "metadata": {},
   "source": [
    "### Reorganizando os dados da coluna \"informacoes\""
   ]
  },
  {
   "cell_type": "code",
   "execution_count": 35,
   "metadata": {},
   "outputs": [],
   "source": [
    "informacoes = df['infomacoes'].str.split(\" \", n = 1, expand = True)\n",
    "df['marca'] = informacoes[0]\n",
    "df['informacoes'] = informacoes[1]"
   ]
  },
  {
   "cell_type": "code",
   "execution_count": 36,
   "metadata": {},
   "outputs": [
    {
     "data": {
      "text/html": [
       "<div>\n",
       "<style scoped>\n",
       "    .dataframe tbody tr th:only-of-type {\n",
       "        vertical-align: middle;\n",
       "    }\n",
       "\n",
       "    .dataframe tbody tr th {\n",
       "        vertical-align: top;\n",
       "    }\n",
       "\n",
       "    .dataframe thead th {\n",
       "        text-align: right;\n",
       "    }\n",
       "</style>\n",
       "<table border=\"1\" class=\"dataframe\">\n",
       "  <thead>\n",
       "    <tr style=\"text-align: right;\">\n",
       "      <th></th>\n",
       "      <th>modelo</th>\n",
       "      <th>preco</th>\n",
       "      <th>quilometragem</th>\n",
       "      <th>ano</th>\n",
       "      <th>infomacoes</th>\n",
       "      <th>marca</th>\n",
       "      <th>informacoes</th>\n",
       "    </tr>\n",
       "  </thead>\n",
       "  <tbody>\n",
       "    <tr>\n",
       "      <th>0</th>\n",
       "      <td>Agile</td>\n",
       "      <td>25.990</td>\n",
       "      <td>91.000 Km</td>\n",
       "      <td>2011</td>\n",
       "      <td>Chevrolet Agile 1.4 Lt 5p</td>\n",
       "      <td>Chevrolet</td>\n",
       "      <td>Agile 1.4 Lt 5p</td>\n",
       "    </tr>\n",
       "    <tr>\n",
       "      <th>1</th>\n",
       "      <td>Agile</td>\n",
       "      <td>28.900</td>\n",
       "      <td>123.915 Km</td>\n",
       "      <td>2013</td>\n",
       "      <td>Chevrolet Agile 1.4 Ltz 5p</td>\n",
       "      <td>Chevrolet</td>\n",
       "      <td>Agile 1.4 Ltz 5p</td>\n",
       "    </tr>\n",
       "    <tr>\n",
       "      <th>2</th>\n",
       "      <td>Agile</td>\n",
       "      <td>28.000</td>\n",
       "      <td>91.000 Km</td>\n",
       "      <td>2013</td>\n",
       "      <td>Chevrolet Agile 1.4 Lt 5p</td>\n",
       "      <td>Chevrolet</td>\n",
       "      <td>Agile 1.4 Lt 5p</td>\n",
       "    </tr>\n",
       "    <tr>\n",
       "      <th>3</th>\n",
       "      <td>Agile</td>\n",
       "      <td>26.890</td>\n",
       "      <td>151.000 Km</td>\n",
       "      <td>2011</td>\n",
       "      <td>Chevrolet Agile 1.4 Mpfi Ltz 8v</td>\n",
       "      <td>Chevrolet</td>\n",
       "      <td>Agile 1.4 Mpfi Ltz 8v</td>\n",
       "    </tr>\n",
       "    <tr>\n",
       "      <th>4</th>\n",
       "      <td>Agile</td>\n",
       "      <td>31.990</td>\n",
       "      <td>106.863 Km</td>\n",
       "      <td>2014</td>\n",
       "      <td>Chevrolet Agile Agile 1.4 Ltz 8v Flex 4p Manual</td>\n",
       "      <td>Chevrolet</td>\n",
       "      <td>Agile Agile 1.4 Ltz 8v Flex 4p Manual</td>\n",
       "    </tr>\n",
       "  </tbody>\n",
       "</table>\n",
       "</div>"
      ],
      "text/plain": [
       "  modelo   preco quilometragem   ano  \\\n",
       "0  Agile  25.990     91.000 Km  2011   \n",
       "1  Agile  28.900    123.915 Km  2013   \n",
       "2  Agile  28.000     91.000 Km  2013   \n",
       "3  Agile  26.890    151.000 Km  2011   \n",
       "4  Agile  31.990    106.863 Km  2014   \n",
       "\n",
       "                                        infomacoes      marca  \\\n",
       "0                        Chevrolet Agile 1.4 Lt 5p  Chevrolet   \n",
       "1                       Chevrolet Agile 1.4 Ltz 5p  Chevrolet   \n",
       "2                        Chevrolet Agile 1.4 Lt 5p  Chevrolet   \n",
       "3                  Chevrolet Agile 1.4 Mpfi Ltz 8v  Chevrolet   \n",
       "4  Chevrolet Agile Agile 1.4 Ltz 8v Flex 4p Manual  Chevrolet   \n",
       "\n",
       "                             informacoes  \n",
       "0                        Agile 1.4 Lt 5p  \n",
       "1                       Agile 1.4 Ltz 5p  \n",
       "2                        Agile 1.4 Lt 5p  \n",
       "3                  Agile 1.4 Mpfi Ltz 8v  \n",
       "4  Agile Agile 1.4 Ltz 8v Flex 4p Manual  "
      ]
     },
     "execution_count": 36,
     "metadata": {},
     "output_type": "execute_result"
    }
   ],
   "source": [
    "df.head()"
   ]
  },
  {
   "cell_type": "code",
   "execution_count": 37,
   "metadata": {},
   "outputs": [
    {
     "data": {
      "text/plain": [
       "Chevrolet        2342\n",
       "Volkswagen       1959\n",
       "Fiat             1829\n",
       "Renault          1070\n",
       "Hyundai          1067\n",
       "Ford             1023\n",
       "Citroën           993\n",
       "Peugeot           891\n",
       "Toyota            681\n",
       "Nissan            669\n",
       "Mercedes-benz     595\n",
       "Bmw               593\n",
       "Land              583\n",
       "Mitsubishi        581\n",
       "Kia               578\n",
       "Honda             528\n",
       "Jeep              394\n",
       "Audi              291\n",
       "Suzuki             96\n",
       "Amc                 9\n",
       "Mercedes            9\n",
       "Jinbei              5\n",
       "Gm                  4\n",
       "Seat                4\n",
       "Chrysler            4\n",
       "Subaru              3\n",
       "Sucata              3\n",
       "Novo                3\n",
       "Iveco               3\n",
       "Mlb3185             2\n",
       "Smart               2\n",
       "Dodge               2\n",
       "Rover               1\n",
       "Invel               1\n",
       "Volksvawen          1\n",
       "Chery               1\n",
       "Volvo               1\n",
       "Idéia               1\n",
       "Lexus               1\n",
       "Envemo              1\n",
       "Jaguar              1\n",
       "Mlb5683             1\n",
       "Mlb5753             1\n",
       "Escort              1\n",
       "Porsche             1\n",
       "Mlb3196             1\n",
       "Mlb5784             1\n",
       "Mlb5779             1\n",
       "Scania              1\n",
       "Vw                  1\n",
       "Name: marca, dtype: int64"
      ]
     },
     "execution_count": 37,
     "metadata": {},
     "output_type": "execute_result"
    }
   ],
   "source": [
    "df.marca.value_counts()"
   ]
  },
  {
   "cell_type": "code",
   "execution_count": 38,
   "metadata": {},
   "outputs": [
    {
     "data": {
      "text/plain": [
       "dict_keys(['Amc', 'Mercedes', 'Jinbei', 'Gm', 'Seat', 'Chrysler', 'Subaru', 'Sucata', 'Novo', 'Iveco', 'Mlb3185', 'Smart', 'Dodge', 'Rover', 'Invel', 'Volksvawen', 'Chery', 'Volvo', 'Idéia', 'Lexus', 'Envemo', 'Jaguar', 'Mlb5683', 'Mlb5753', 'Escort', 'Porsche', 'Mlb3196', 'Mlb5784', 'Mlb5779', 'Scania', 'Vw'])"
      ]
     },
     "execution_count": 38,
     "metadata": {},
     "output_type": "execute_result"
    }
   ],
   "source": [
    "dict(df.marca.value_counts().tail(31)).keys()"
   ]
  },
  {
   "cell_type": "code",
   "execution_count": 39,
   "metadata": {},
   "outputs": [],
   "source": [
    "drop_marcas = list(dict(df.marca.value_counts().tail(31)).keys())"
   ]
  },
  {
   "cell_type": "markdown",
   "metadata": {},
   "source": [
    "  - Tratando a coluna marcas"
   ]
  },
  {
   "cell_type": "code",
   "execution_count": 40,
   "metadata": {},
   "outputs": [],
   "source": [
    "df = df.set_index('marca')"
   ]
  },
  {
   "cell_type": "code",
   "execution_count": 41,
   "metadata": {},
   "outputs": [],
   "source": [
    "df = df.drop(drop_marcas)"
   ]
  },
  {
   "cell_type": "code",
   "execution_count": 42,
   "metadata": {},
   "outputs": [],
   "source": [
    "df = df.reset_index()"
   ]
  },
  {
   "cell_type": "code",
   "execution_count": 43,
   "metadata": {},
   "outputs": [],
   "source": [
    "df = df.drop('infomacoes', axis = 1)"
   ]
  },
  {
   "cell_type": "code",
   "execution_count": 44,
   "metadata": {},
   "outputs": [
    {
     "data": {
      "text/html": [
       "<div>\n",
       "<style scoped>\n",
       "    .dataframe tbody tr th:only-of-type {\n",
       "        vertical-align: middle;\n",
       "    }\n",
       "\n",
       "    .dataframe tbody tr th {\n",
       "        vertical-align: top;\n",
       "    }\n",
       "\n",
       "    .dataframe thead th {\n",
       "        text-align: right;\n",
       "    }\n",
       "</style>\n",
       "<table border=\"1\" class=\"dataframe\">\n",
       "  <thead>\n",
       "    <tr style=\"text-align: right;\">\n",
       "      <th></th>\n",
       "      <th>marca</th>\n",
       "      <th>modelo</th>\n",
       "      <th>preco</th>\n",
       "      <th>quilometragem</th>\n",
       "      <th>ano</th>\n",
       "      <th>informacoes</th>\n",
       "    </tr>\n",
       "  </thead>\n",
       "  <tbody>\n",
       "    <tr>\n",
       "      <th>0</th>\n",
       "      <td>Chevrolet</td>\n",
       "      <td>Agile</td>\n",
       "      <td>25.990</td>\n",
       "      <td>91.000 Km</td>\n",
       "      <td>2011</td>\n",
       "      <td>Agile 1.4 Lt 5p</td>\n",
       "    </tr>\n",
       "    <tr>\n",
       "      <th>1</th>\n",
       "      <td>Chevrolet</td>\n",
       "      <td>Agile</td>\n",
       "      <td>28.900</td>\n",
       "      <td>123.915 Km</td>\n",
       "      <td>2013</td>\n",
       "      <td>Agile 1.4 Ltz 5p</td>\n",
       "    </tr>\n",
       "    <tr>\n",
       "      <th>2</th>\n",
       "      <td>Chevrolet</td>\n",
       "      <td>Agile</td>\n",
       "      <td>28.000</td>\n",
       "      <td>91.000 Km</td>\n",
       "      <td>2013</td>\n",
       "      <td>Agile 1.4 Lt 5p</td>\n",
       "    </tr>\n",
       "    <tr>\n",
       "      <th>3</th>\n",
       "      <td>Chevrolet</td>\n",
       "      <td>Agile</td>\n",
       "      <td>26.890</td>\n",
       "      <td>151.000 Km</td>\n",
       "      <td>2011</td>\n",
       "      <td>Agile 1.4 Mpfi Ltz 8v</td>\n",
       "    </tr>\n",
       "    <tr>\n",
       "      <th>4</th>\n",
       "      <td>Chevrolet</td>\n",
       "      <td>Agile</td>\n",
       "      <td>31.990</td>\n",
       "      <td>106.863 Km</td>\n",
       "      <td>2014</td>\n",
       "      <td>Agile Agile 1.4 Ltz 8v Flex 4p Manual</td>\n",
       "    </tr>\n",
       "  </tbody>\n",
       "</table>\n",
       "</div>"
      ],
      "text/plain": [
       "       marca modelo   preco quilometragem   ano  \\\n",
       "0  Chevrolet  Agile  25.990     91.000 Km  2011   \n",
       "1  Chevrolet  Agile  28.900    123.915 Km  2013   \n",
       "2  Chevrolet  Agile  28.000     91.000 Km  2013   \n",
       "3  Chevrolet  Agile  26.890    151.000 Km  2011   \n",
       "4  Chevrolet  Agile  31.990    106.863 Km  2014   \n",
       "\n",
       "                             informacoes  \n",
       "0                        Agile 1.4 Lt 5p  \n",
       "1                       Agile 1.4 Ltz 5p  \n",
       "2                        Agile 1.4 Lt 5p  \n",
       "3                  Agile 1.4 Mpfi Ltz 8v  \n",
       "4  Agile Agile 1.4 Ltz 8v Flex 4p Manual  "
      ]
     },
     "execution_count": 44,
     "metadata": {},
     "output_type": "execute_result"
    }
   ],
   "source": [
    "df.head()"
   ]
  },
  {
   "cell_type": "markdown",
   "metadata": {},
   "source": [
    " - Tratando a coluna quilometragem."
   ]
  },
  {
   "cell_type": "code",
   "execution_count": 45,
   "metadata": {},
   "outputs": [],
   "source": [
    "km = df['quilometragem'].str.split(\" \", n = 1, expand = True)"
   ]
  },
  {
   "cell_type": "code",
   "execution_count": 46,
   "metadata": {},
   "outputs": [],
   "source": [
    "df['quilometragem'] = km[0]"
   ]
  },
  {
   "cell_type": "code",
   "execution_count": 47,
   "metadata": {},
   "outputs": [],
   "source": [
    "df['preco'] = df['preco'].str.replace('.','')\n",
    "df['quilometragem'] = df['quilometragem'].str.replace('.','')"
   ]
  },
  {
   "cell_type": "code",
   "execution_count": 48,
   "metadata": {},
   "outputs": [
    {
     "data": {
      "text/html": [
       "<div>\n",
       "<style scoped>\n",
       "    .dataframe tbody tr th:only-of-type {\n",
       "        vertical-align: middle;\n",
       "    }\n",
       "\n",
       "    .dataframe tbody tr th {\n",
       "        vertical-align: top;\n",
       "    }\n",
       "\n",
       "    .dataframe thead th {\n",
       "        text-align: right;\n",
       "    }\n",
       "</style>\n",
       "<table border=\"1\" class=\"dataframe\">\n",
       "  <thead>\n",
       "    <tr style=\"text-align: right;\">\n",
       "      <th></th>\n",
       "      <th>marca</th>\n",
       "      <th>modelo</th>\n",
       "      <th>preco</th>\n",
       "      <th>quilometragem</th>\n",
       "      <th>ano</th>\n",
       "      <th>informacoes</th>\n",
       "    </tr>\n",
       "  </thead>\n",
       "  <tbody>\n",
       "    <tr>\n",
       "      <th>0</th>\n",
       "      <td>Chevrolet</td>\n",
       "      <td>Agile</td>\n",
       "      <td>25990</td>\n",
       "      <td>91000</td>\n",
       "      <td>2011</td>\n",
       "      <td>Agile 1.4 Lt 5p</td>\n",
       "    </tr>\n",
       "    <tr>\n",
       "      <th>1</th>\n",
       "      <td>Chevrolet</td>\n",
       "      <td>Agile</td>\n",
       "      <td>28900</td>\n",
       "      <td>123915</td>\n",
       "      <td>2013</td>\n",
       "      <td>Agile 1.4 Ltz 5p</td>\n",
       "    </tr>\n",
       "    <tr>\n",
       "      <th>2</th>\n",
       "      <td>Chevrolet</td>\n",
       "      <td>Agile</td>\n",
       "      <td>28000</td>\n",
       "      <td>91000</td>\n",
       "      <td>2013</td>\n",
       "      <td>Agile 1.4 Lt 5p</td>\n",
       "    </tr>\n",
       "    <tr>\n",
       "      <th>3</th>\n",
       "      <td>Chevrolet</td>\n",
       "      <td>Agile</td>\n",
       "      <td>26890</td>\n",
       "      <td>151000</td>\n",
       "      <td>2011</td>\n",
       "      <td>Agile 1.4 Mpfi Ltz 8v</td>\n",
       "    </tr>\n",
       "    <tr>\n",
       "      <th>4</th>\n",
       "      <td>Chevrolet</td>\n",
       "      <td>Agile</td>\n",
       "      <td>31990</td>\n",
       "      <td>106863</td>\n",
       "      <td>2014</td>\n",
       "      <td>Agile Agile 1.4 Ltz 8v Flex 4p Manual</td>\n",
       "    </tr>\n",
       "  </tbody>\n",
       "</table>\n",
       "</div>"
      ],
      "text/plain": [
       "       marca modelo  preco quilometragem   ano  \\\n",
       "0  Chevrolet  Agile  25990         91000  2011   \n",
       "1  Chevrolet  Agile  28900        123915  2013   \n",
       "2  Chevrolet  Agile  28000         91000  2013   \n",
       "3  Chevrolet  Agile  26890        151000  2011   \n",
       "4  Chevrolet  Agile  31990        106863  2014   \n",
       "\n",
       "                             informacoes  \n",
       "0                        Agile 1.4 Lt 5p  \n",
       "1                       Agile 1.4 Ltz 5p  \n",
       "2                        Agile 1.4 Lt 5p  \n",
       "3                  Agile 1.4 Mpfi Ltz 8v  \n",
       "4  Agile Agile 1.4 Ltz 8v Flex 4p Manual  "
      ]
     },
     "execution_count": 48,
     "metadata": {},
     "output_type": "execute_result"
    }
   ],
   "source": [
    "df.head()"
   ]
  },
  {
   "cell_type": "markdown",
   "metadata": {},
   "source": [
    "## Criando a coluna motor."
   ]
  },
  {
   "cell_type": "markdown",
   "metadata": {},
   "source": [
    " - Funçao para pegar apenas a potência do motor."
   ]
  },
  {
   "cell_type": "code",
   "execution_count": 49,
   "metadata": {},
   "outputs": [],
   "source": [
    "def pegar_potencia_do_motor(entrada):\n",
    "    entrada = entrada.split()\n",
    "    \n",
    "    nova_entrada = []\n",
    "    for num in  entrada :\n",
    "        if len(num) == 3 and '.' in num:\n",
    "            nova_entrada.append(num)\n",
    "            \n",
    "            \n",
    "    if  len(nova_entrada) == 0:\n",
    "         motor = np.nan\n",
    "    else:\n",
    "        motor = nova_entrada\n",
    "        motor = motor[0]\n",
    "    \n",
    "    return motor"
   ]
  },
  {
   "cell_type": "code",
   "execution_count": 50,
   "metadata": {},
   "outputs": [
    {
     "data": {
      "text/html": [
       "<div>\n",
       "<style scoped>\n",
       "    .dataframe tbody tr th:only-of-type {\n",
       "        vertical-align: middle;\n",
       "    }\n",
       "\n",
       "    .dataframe tbody tr th {\n",
       "        vertical-align: top;\n",
       "    }\n",
       "\n",
       "    .dataframe thead th {\n",
       "        text-align: right;\n",
       "    }\n",
       "</style>\n",
       "<table border=\"1\" class=\"dataframe\">\n",
       "  <thead>\n",
       "    <tr style=\"text-align: right;\">\n",
       "      <th></th>\n",
       "      <th>marca</th>\n",
       "      <th>modelo</th>\n",
       "      <th>preco</th>\n",
       "      <th>quilometragem</th>\n",
       "      <th>ano</th>\n",
       "      <th>informacoes</th>\n",
       "      <th>motor</th>\n",
       "    </tr>\n",
       "  </thead>\n",
       "  <tbody>\n",
       "    <tr>\n",
       "      <th>0</th>\n",
       "      <td>Chevrolet</td>\n",
       "      <td>Agile</td>\n",
       "      <td>25990</td>\n",
       "      <td>91000</td>\n",
       "      <td>2011</td>\n",
       "      <td>Agile 1.4 Lt 5p</td>\n",
       "      <td>1.4</td>\n",
       "    </tr>\n",
       "    <tr>\n",
       "      <th>1</th>\n",
       "      <td>Chevrolet</td>\n",
       "      <td>Agile</td>\n",
       "      <td>28900</td>\n",
       "      <td>123915</td>\n",
       "      <td>2013</td>\n",
       "      <td>Agile 1.4 Ltz 5p</td>\n",
       "      <td>1.4</td>\n",
       "    </tr>\n",
       "    <tr>\n",
       "      <th>2</th>\n",
       "      <td>Chevrolet</td>\n",
       "      <td>Agile</td>\n",
       "      <td>28000</td>\n",
       "      <td>91000</td>\n",
       "      <td>2013</td>\n",
       "      <td>Agile 1.4 Lt 5p</td>\n",
       "      <td>1.4</td>\n",
       "    </tr>\n",
       "    <tr>\n",
       "      <th>3</th>\n",
       "      <td>Chevrolet</td>\n",
       "      <td>Agile</td>\n",
       "      <td>26890</td>\n",
       "      <td>151000</td>\n",
       "      <td>2011</td>\n",
       "      <td>Agile 1.4 Mpfi Ltz 8v</td>\n",
       "      <td>1.4</td>\n",
       "    </tr>\n",
       "    <tr>\n",
       "      <th>4</th>\n",
       "      <td>Chevrolet</td>\n",
       "      <td>Agile</td>\n",
       "      <td>31990</td>\n",
       "      <td>106863</td>\n",
       "      <td>2014</td>\n",
       "      <td>Agile Agile 1.4 Ltz 8v Flex 4p Manual</td>\n",
       "      <td>1.4</td>\n",
       "    </tr>\n",
       "  </tbody>\n",
       "</table>\n",
       "</div>"
      ],
      "text/plain": [
       "       marca modelo  preco quilometragem   ano  \\\n",
       "0  Chevrolet  Agile  25990         91000  2011   \n",
       "1  Chevrolet  Agile  28900        123915  2013   \n",
       "2  Chevrolet  Agile  28000         91000  2013   \n",
       "3  Chevrolet  Agile  26890        151000  2011   \n",
       "4  Chevrolet  Agile  31990        106863  2014   \n",
       "\n",
       "                             informacoes motor  \n",
       "0                        Agile 1.4 Lt 5p   1.4  \n",
       "1                       Agile 1.4 Ltz 5p   1.4  \n",
       "2                        Agile 1.4 Lt 5p   1.4  \n",
       "3                  Agile 1.4 Mpfi Ltz 8v   1.4  \n",
       "4  Agile Agile 1.4 Ltz 8v Flex 4p Manual   1.4  "
      ]
     },
     "execution_count": 50,
     "metadata": {},
     "output_type": "execute_result"
    }
   ],
   "source": [
    "df['motor'] = df['informacoes'].apply(pegar_potencia_do_motor)\n",
    "df.head()"
   ]
  },
  {
   "cell_type": "code",
   "execution_count": 51,
   "metadata": {},
   "outputs": [
    {
     "data": {
      "text/plain": [
       "1.6    3381\n",
       "2.0    3306\n",
       "1.0    1972\n",
       "1.4    1483\n",
       "1.8    1434\n",
       "3.0     571\n",
       "1.5     549\n",
       "2.2     371\n",
       "2.5     344\n",
       "2.8     332\n",
       "2.3     321\n",
       "2.4     297\n",
       "1.3     213\n",
       "3.5     185\n",
       "3.6     154\n",
       "3.2     133\n",
       "3.3     100\n",
       "2.7      85\n",
       "6.2      74\n",
       "4.4      58\n",
       "3.8      53\n",
       "1.2      37\n",
       "4.3      36\n",
       "3.7      24\n",
       "4.1      19\n",
       "4.0      18\n",
       "5.0      16\n",
       "4.7      16\n",
       "1.7      15\n",
       "5.9       8\n",
       "4.2       8\n",
       "1.9       6\n",
       "2.o       4\n",
       "1.1       3\n",
       "4.8       3\n",
       "3.o       2\n",
       "5.7       2\n",
       "T.b       2\n",
       "5.2       2\n",
       "6.3       2\n",
       "Ed.       1\n",
       "(n.       1\n",
       "Name: motor, dtype: int64"
      ]
     },
     "execution_count": 51,
     "metadata": {},
     "output_type": "execute_result"
    }
   ],
   "source": [
    "df.motor.value_counts()"
   ]
  },
  {
   "cell_type": "code",
   "execution_count": 57,
   "metadata": {},
   "outputs": [],
   "source": [
    "drop_motor = list(dict(df.motor.value_counts().tail(11)).keys())"
   ]
  },
  {
   "cell_type": "code",
   "execution_count": 58,
   "metadata": {},
   "outputs": [],
   "source": [
    "df = df.set_index('motor')"
   ]
  },
  {
   "cell_type": "code",
   "execution_count": 60,
   "metadata": {},
   "outputs": [],
   "source": [
    "df = df.drop(drop_motor)"
   ]
  },
  {
   "cell_type": "code",
   "execution_count": 61,
   "metadata": {},
   "outputs": [],
   "source": [
    "df = df.reset_index()"
   ]
  },
  {
   "cell_type": "code",
   "execution_count": 62,
   "metadata": {},
   "outputs": [
    {
     "data": {
      "text/html": [
       "<div>\n",
       "<style scoped>\n",
       "    .dataframe tbody tr th:only-of-type {\n",
       "        vertical-align: middle;\n",
       "    }\n",
       "\n",
       "    .dataframe tbody tr th {\n",
       "        vertical-align: top;\n",
       "    }\n",
       "\n",
       "    .dataframe thead th {\n",
       "        text-align: right;\n",
       "    }\n",
       "</style>\n",
       "<table border=\"1\" class=\"dataframe\">\n",
       "  <thead>\n",
       "    <tr style=\"text-align: right;\">\n",
       "      <th></th>\n",
       "      <th>motor</th>\n",
       "      <th>marca</th>\n",
       "      <th>modelo</th>\n",
       "      <th>preco</th>\n",
       "      <th>quilometragem</th>\n",
       "      <th>ano</th>\n",
       "      <th>informacoes</th>\n",
       "    </tr>\n",
       "  </thead>\n",
       "  <tbody>\n",
       "    <tr>\n",
       "      <th>0</th>\n",
       "      <td>1.4</td>\n",
       "      <td>Chevrolet</td>\n",
       "      <td>Agile</td>\n",
       "      <td>25990</td>\n",
       "      <td>91000</td>\n",
       "      <td>2011</td>\n",
       "      <td>Agile 1.4 Lt 5p</td>\n",
       "    </tr>\n",
       "    <tr>\n",
       "      <th>1</th>\n",
       "      <td>1.4</td>\n",
       "      <td>Chevrolet</td>\n",
       "      <td>Agile</td>\n",
       "      <td>28900</td>\n",
       "      <td>123915</td>\n",
       "      <td>2013</td>\n",
       "      <td>Agile 1.4 Ltz 5p</td>\n",
       "    </tr>\n",
       "    <tr>\n",
       "      <th>2</th>\n",
       "      <td>1.4</td>\n",
       "      <td>Chevrolet</td>\n",
       "      <td>Agile</td>\n",
       "      <td>28000</td>\n",
       "      <td>91000</td>\n",
       "      <td>2013</td>\n",
       "      <td>Agile 1.4 Lt 5p</td>\n",
       "    </tr>\n",
       "    <tr>\n",
       "      <th>3</th>\n",
       "      <td>1.4</td>\n",
       "      <td>Chevrolet</td>\n",
       "      <td>Agile</td>\n",
       "      <td>26890</td>\n",
       "      <td>151000</td>\n",
       "      <td>2011</td>\n",
       "      <td>Agile 1.4 Mpfi Ltz 8v</td>\n",
       "    </tr>\n",
       "    <tr>\n",
       "      <th>4</th>\n",
       "      <td>1.4</td>\n",
       "      <td>Chevrolet</td>\n",
       "      <td>Agile</td>\n",
       "      <td>31990</td>\n",
       "      <td>106863</td>\n",
       "      <td>2014</td>\n",
       "      <td>Agile Agile 1.4 Ltz 8v Flex 4p Manual</td>\n",
       "    </tr>\n",
       "  </tbody>\n",
       "</table>\n",
       "</div>"
      ],
      "text/plain": [
       "  motor      marca modelo  preco quilometragem   ano  \\\n",
       "0   1.4  Chevrolet  Agile  25990         91000  2011   \n",
       "1   1.4  Chevrolet  Agile  28900        123915  2013   \n",
       "2   1.4  Chevrolet  Agile  28000         91000  2013   \n",
       "3   1.4  Chevrolet  Agile  26890        151000  2011   \n",
       "4   1.4  Chevrolet  Agile  31990        106863  2014   \n",
       "\n",
       "                             informacoes  \n",
       "0                        Agile 1.4 Lt 5p  \n",
       "1                       Agile 1.4 Ltz 5p  \n",
       "2                        Agile 1.4 Lt 5p  \n",
       "3                  Agile 1.4 Mpfi Ltz 8v  \n",
       "4  Agile Agile 1.4 Ltz 8v Flex 4p Manual  "
      ]
     },
     "execution_count": 62,
     "metadata": {},
     "output_type": "execute_result"
    }
   ],
   "source": [
    "df.head()"
   ]
  },
  {
   "cell_type": "markdown",
   "metadata": {},
   "source": [
    " - Criando novo arquivo csv com os dados pré-proessados."
   ]
  },
  {
   "cell_type": "code",
   "execution_count": null,
   "metadata": {},
   "outputs": [],
   "source": [
    "df.to_csv('carros_manipulado.csv',index =False , encoding = 'utf-8')"
   ]
  },
  {
   "cell_type": "code",
   "execution_count": null,
   "metadata": {},
   "outputs": [],
   "source": []
  }
 ],
 "metadata": {
  "kernelspec": {
   "display_name": "Python 3",
   "language": "python",
   "name": "python3"
  },
  "language_info": {
   "codemirror_mode": {
    "name": "ipython",
    "version": 3
   },
   "file_extension": ".py",
   "mimetype": "text/x-python",
   "name": "python",
   "nbconvert_exporter": "python",
   "pygments_lexer": "ipython3",
   "version": "3.8.3"
  },
  "widgets": {
   "application/vnd.jupyter.widget-state+json": {
    "state": {},
    "version_major": 2,
    "version_minor": 0
   }
  }
 },
 "nbformat": 4,
 "nbformat_minor": 4
}
