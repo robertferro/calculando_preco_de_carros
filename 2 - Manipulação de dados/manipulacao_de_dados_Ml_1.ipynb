{
 "cells": [
  {
   "cell_type": "markdown",
   "metadata": {},
   "source": [
    "# Tratamento de dados\n",
    "\n",
    "## - Neste Notebook foram extraindos dados   existentes na coluna informações."
   ]
  },
  {
   "cell_type": "code",
   "execution_count": 1,
   "metadata": {},
   "outputs": [],
   "source": [
    "import pandas as pd\n",
    "import numpy as np\n",
    "import seaborn as sns\n",
    "import matplotlib.pyplot as plt"
   ]
  },
  {
   "cell_type": "code",
   "execution_count": 2,
   "metadata": {},
   "outputs": [],
   "source": [
    "url = 'https://raw.githubusercontent.com/robertferro/carros/main/1%20-%20Web%20scraping/dados_carros_ml_ok.csv'"
   ]
  },
  {
   "cell_type": "code",
   "execution_count": 3,
   "metadata": {},
   "outputs": [],
   "source": [
    "df = pd.read_csv(url, sep = ',')"
   ]
  },
  {
   "cell_type": "code",
   "execution_count": 4,
   "metadata": {},
   "outputs": [
    {
     "data": {
      "text/html": [
       "<div>\n",
       "<style scoped>\n",
       "    .dataframe tbody tr th:only-of-type {\n",
       "        vertical-align: middle;\n",
       "    }\n",
       "\n",
       "    .dataframe tbody tr th {\n",
       "        vertical-align: top;\n",
       "    }\n",
       "\n",
       "    .dataframe thead th {\n",
       "        text-align: right;\n",
       "    }\n",
       "</style>\n",
       "<table border=\"1\" class=\"dataframe\">\n",
       "  <thead>\n",
       "    <tr style=\"text-align: right;\">\n",
       "      <th></th>\n",
       "      <th>preco</th>\n",
       "      <th>quilometragem</th>\n",
       "      <th>ano</th>\n",
       "      <th>infomacoes</th>\n",
       "    </tr>\n",
       "  </thead>\n",
       "  <tbody>\n",
       "    <tr>\n",
       "      <th>0</th>\n",
       "      <td>16.990</td>\n",
       "      <td>104.000 Km</td>\n",
       "      <td>2008</td>\n",
       "      <td>Citroën Xsara Picasso 1.6 Glx Flex 5p</td>\n",
       "    </tr>\n",
       "    <tr>\n",
       "      <th>1</th>\n",
       "      <td>43.900</td>\n",
       "      <td>77.000 Km</td>\n",
       "      <td>2018</td>\n",
       "      <td>Citroën Aircross Aircross Start 1.6 Flex 16v 5...</td>\n",
       "    </tr>\n",
       "    <tr>\n",
       "      <th>2</th>\n",
       "      <td>163.900</td>\n",
       "      <td>0 Km</td>\n",
       "      <td>2021</td>\n",
       "      <td>Citroën Jumpy Minibus</td>\n",
       "    </tr>\n",
       "    <tr>\n",
       "      <th>3</th>\n",
       "      <td>34.990</td>\n",
       "      <td>65.000 Km</td>\n",
       "      <td>2013</td>\n",
       "      <td>Citroën C3 1.6 Vti 16v Exclusive Flex Aut. 5p</td>\n",
       "    </tr>\n",
       "    <tr>\n",
       "      <th>4</th>\n",
       "      <td>129.900</td>\n",
       "      <td>0 Km</td>\n",
       "      <td>2021</td>\n",
       "      <td>Citroën Jumpy Furgão</td>\n",
       "    </tr>\n",
       "  </tbody>\n",
       "</table>\n",
       "</div>"
      ],
      "text/plain": [
       "     preco quilometragem   ano  \\\n",
       "0   16.990    104.000 Km  2008   \n",
       "1   43.900     77.000 Km  2018   \n",
       "2  163.900          0 Km  2021   \n",
       "3   34.990     65.000 Km  2013   \n",
       "4  129.900          0 Km  2021   \n",
       "\n",
       "                                          infomacoes  \n",
       "0              Citroën Xsara Picasso 1.6 Glx Flex 5p  \n",
       "1  Citroën Aircross Aircross Start 1.6 Flex 16v 5...  \n",
       "2                              Citroën Jumpy Minibus  \n",
       "3      Citroën C3 1.6 Vti 16v Exclusive Flex Aut. 5p  \n",
       "4                               Citroën Jumpy Furgão  "
      ]
     },
     "execution_count": 4,
     "metadata": {},
     "output_type": "execute_result"
    }
   ],
   "source": [
    "df.head()"
   ]
  },
  {
   "cell_type": "code",
   "execution_count": 5,
   "metadata": {},
   "outputs": [
    {
     "data": {
      "text/plain": [
       "(6384, 4)"
      ]
     },
     "execution_count": 5,
     "metadata": {},
     "output_type": "execute_result"
    }
   ],
   "source": [
    "df.shape"
   ]
  },
  {
   "cell_type": "markdown",
   "metadata": {},
   "source": [
    "### Reorganizando os dados da coluna \"informacoes\""
   ]
  },
  {
   "cell_type": "code",
   "execution_count": 6,
   "metadata": {},
   "outputs": [],
   "source": [
    "marca = df['infomacoes'].str.split(\" \", n = 1, expand = True)\n",
    "df['marca'] = marca[0]\n",
    "df['infomacoes'] = marca[1]"
   ]
  },
  {
   "cell_type": "code",
   "execution_count": 7,
   "metadata": {},
   "outputs": [
    {
     "data": {
      "text/html": [
       "<div>\n",
       "<style scoped>\n",
       "    .dataframe tbody tr th:only-of-type {\n",
       "        vertical-align: middle;\n",
       "    }\n",
       "\n",
       "    .dataframe tbody tr th {\n",
       "        vertical-align: top;\n",
       "    }\n",
       "\n",
       "    .dataframe thead th {\n",
       "        text-align: right;\n",
       "    }\n",
       "</style>\n",
       "<table border=\"1\" class=\"dataframe\">\n",
       "  <thead>\n",
       "    <tr style=\"text-align: right;\">\n",
       "      <th></th>\n",
       "      <th>preco</th>\n",
       "      <th>quilometragem</th>\n",
       "      <th>ano</th>\n",
       "      <th>infomacoes</th>\n",
       "      <th>marca</th>\n",
       "    </tr>\n",
       "  </thead>\n",
       "  <tbody>\n",
       "    <tr>\n",
       "      <th>0</th>\n",
       "      <td>16.990</td>\n",
       "      <td>104.000 Km</td>\n",
       "      <td>2008</td>\n",
       "      <td>Xsara Picasso 1.6 Glx Flex 5p</td>\n",
       "      <td>Citroën</td>\n",
       "    </tr>\n",
       "    <tr>\n",
       "      <th>1</th>\n",
       "      <td>43.900</td>\n",
       "      <td>77.000 Km</td>\n",
       "      <td>2018</td>\n",
       "      <td>Aircross Aircross Start 1.6 Flex 16v 5p Mec.</td>\n",
       "      <td>Citroën</td>\n",
       "    </tr>\n",
       "    <tr>\n",
       "      <th>2</th>\n",
       "      <td>163.900</td>\n",
       "      <td>0 Km</td>\n",
       "      <td>2021</td>\n",
       "      <td>Jumpy Minibus</td>\n",
       "      <td>Citroën</td>\n",
       "    </tr>\n",
       "    <tr>\n",
       "      <th>3</th>\n",
       "      <td>34.990</td>\n",
       "      <td>65.000 Km</td>\n",
       "      <td>2013</td>\n",
       "      <td>C3 1.6 Vti 16v Exclusive Flex Aut. 5p</td>\n",
       "      <td>Citroën</td>\n",
       "    </tr>\n",
       "    <tr>\n",
       "      <th>4</th>\n",
       "      <td>129.900</td>\n",
       "      <td>0 Km</td>\n",
       "      <td>2021</td>\n",
       "      <td>Jumpy Furgão</td>\n",
       "      <td>Citroën</td>\n",
       "    </tr>\n",
       "  </tbody>\n",
       "</table>\n",
       "</div>"
      ],
      "text/plain": [
       "     preco quilometragem   ano                                    infomacoes  \\\n",
       "0   16.990    104.000 Km  2008                 Xsara Picasso 1.6 Glx Flex 5p   \n",
       "1   43.900     77.000 Km  2018  Aircross Aircross Start 1.6 Flex 16v 5p Mec.   \n",
       "2  163.900          0 Km  2021                                 Jumpy Minibus   \n",
       "3   34.990     65.000 Km  2013         C3 1.6 Vti 16v Exclusive Flex Aut. 5p   \n",
       "4  129.900          0 Km  2021                                  Jumpy Furgão   \n",
       "\n",
       "     marca  \n",
       "0  Citroën  \n",
       "1  Citroën  \n",
       "2  Citroën  \n",
       "3  Citroën  \n",
       "4  Citroën  "
      ]
     },
     "execution_count": 7,
     "metadata": {},
     "output_type": "execute_result"
    }
   ],
   "source": [
    "df.head()"
   ]
  },
  {
   "cell_type": "markdown",
   "metadata": {},
   "source": [
    "  - Renomeando as marcas"
   ]
  },
  {
   "cell_type": "code",
   "execution_count": 8,
   "metadata": {},
   "outputs": [],
   "source": [
    "dic_marcas = dict(df.marca.value_counts())"
   ]
  },
  {
   "cell_type": "code",
   "execution_count": 9,
   "metadata": {},
   "outputs": [],
   "source": [
    "new_dict = {'Mercedes-benz': 'mercedes_benz','Jeep': 'jeep','Honda': 'honda',\n",
    " 'Volkswagen': 'volkswagem', 'Chevrolet': 'chevrolet','Nissan': 'nissan',\n",
    " 'Audi': 'audi','Renault': 'renault',\n",
    " 'Citroën': 'citroen','Ford': 'ford','Toyota':'toyota',\n",
    " 'Peugeot': 'peugeot','Hyundai': 'hyndai',\n",
    " 'Mitsubishi': 'mitsubishi','Land': 'land_rover',\n",
    " 'Fiat': 'fiat', 'Kia': 'kia','Suzuki': 'suzuki',\n",
    " 'Bmw': 'bmw',\n",
    "'Mini': 'nan','Novo': 'nan','I': 'nan','Isuzu': 'nan','Jaguar': 'nan',\n",
    " 'Gm':'chevrolet','Rover': 'land_rover'}"
   ]
  },
  {
   "cell_type": "code",
   "execution_count": 10,
   "metadata": {},
   "outputs": [],
   "source": [
    "df['marca'] = df['marca'].map(new_dict)"
   ]
  },
  {
   "cell_type": "code",
   "execution_count": 11,
   "metadata": {},
   "outputs": [
    {
     "data": {
      "text/plain": [
       "mercedes_benz    339\n",
       "jeep             339\n",
       "honda            338\n",
       "volkswagem       338\n",
       "chevrolet        338\n",
       "hyndai           336\n",
       "renault          336\n",
       "ford             336\n",
       "audi             336\n",
       "peugeot          336\n",
       "land_rover       336\n",
       "toyota           336\n",
       "mitsubishi       336\n",
       "nissan           336\n",
       "citroen          336\n",
       "fiat             335\n",
       "kia              333\n",
       "suzuki           332\n",
       "bmw              324\n",
       "nan                8\n",
       "Name: marca, dtype: int64"
      ]
     },
     "execution_count": 11,
     "metadata": {},
     "output_type": "execute_result"
    }
   ],
   "source": [
    "df.marca.value_counts()"
   ]
  },
  {
   "cell_type": "code",
   "execution_count": 12,
   "metadata": {},
   "outputs": [],
   "source": [
    "df = df.query('marca != \"nan\"')"
   ]
  },
  {
   "cell_type": "code",
   "execution_count": 13,
   "metadata": {},
   "outputs": [
    {
     "data": {
      "text/plain": [
       "mercedes_benz    339\n",
       "jeep             339\n",
       "chevrolet        338\n",
       "honda            338\n",
       "volkswagem       338\n",
       "nissan           336\n",
       "toyota           336\n",
       "hyndai           336\n",
       "renault          336\n",
       "ford             336\n",
       "audi             336\n",
       "peugeot          336\n",
       "land_rover       336\n",
       "citroen          336\n",
       "mitsubishi       336\n",
       "fiat             335\n",
       "kia              333\n",
       "suzuki           332\n",
       "bmw              324\n",
       "Name: marca, dtype: int64"
      ]
     },
     "execution_count": 13,
     "metadata": {},
     "output_type": "execute_result"
    }
   ],
   "source": [
    "df.marca.value_counts()"
   ]
  },
  {
   "cell_type": "markdown",
   "metadata": {},
   "source": [
    " - Criando a coluna modelo"
   ]
  },
  {
   "cell_type": "code",
   "execution_count": 14,
   "metadata": {},
   "outputs": [],
   "source": [
    "df = df.reset_index()"
   ]
  },
  {
   "cell_type": "code",
   "execution_count": 15,
   "metadata": {},
   "outputs": [],
   "source": [
    "df = df.drop('index', axis = 1)"
   ]
  },
  {
   "cell_type": "code",
   "execution_count": 16,
   "metadata": {},
   "outputs": [
    {
     "data": {
      "text/html": [
       "<div>\n",
       "<style scoped>\n",
       "    .dataframe tbody tr th:only-of-type {\n",
       "        vertical-align: middle;\n",
       "    }\n",
       "\n",
       "    .dataframe tbody tr th {\n",
       "        vertical-align: top;\n",
       "    }\n",
       "\n",
       "    .dataframe thead th {\n",
       "        text-align: right;\n",
       "    }\n",
       "</style>\n",
       "<table border=\"1\" class=\"dataframe\">\n",
       "  <thead>\n",
       "    <tr style=\"text-align: right;\">\n",
       "      <th></th>\n",
       "      <th>preco</th>\n",
       "      <th>quilometragem</th>\n",
       "      <th>ano</th>\n",
       "      <th>infomacoes</th>\n",
       "      <th>marca</th>\n",
       "    </tr>\n",
       "  </thead>\n",
       "  <tbody>\n",
       "    <tr>\n",
       "      <th>0</th>\n",
       "      <td>16.990</td>\n",
       "      <td>104.000 Km</td>\n",
       "      <td>2008</td>\n",
       "      <td>Xsara Picasso 1.6 Glx Flex 5p</td>\n",
       "      <td>citroen</td>\n",
       "    </tr>\n",
       "    <tr>\n",
       "      <th>1</th>\n",
       "      <td>43.900</td>\n",
       "      <td>77.000 Km</td>\n",
       "      <td>2018</td>\n",
       "      <td>Aircross Aircross Start 1.6 Flex 16v 5p Mec.</td>\n",
       "      <td>citroen</td>\n",
       "    </tr>\n",
       "    <tr>\n",
       "      <th>2</th>\n",
       "      <td>163.900</td>\n",
       "      <td>0 Km</td>\n",
       "      <td>2021</td>\n",
       "      <td>Jumpy Minibus</td>\n",
       "      <td>citroen</td>\n",
       "    </tr>\n",
       "    <tr>\n",
       "      <th>3</th>\n",
       "      <td>34.990</td>\n",
       "      <td>65.000 Km</td>\n",
       "      <td>2013</td>\n",
       "      <td>C3 1.6 Vti 16v Exclusive Flex Aut. 5p</td>\n",
       "      <td>citroen</td>\n",
       "    </tr>\n",
       "    <tr>\n",
       "      <th>4</th>\n",
       "      <td>129.900</td>\n",
       "      <td>0 Km</td>\n",
       "      <td>2021</td>\n",
       "      <td>Jumpy Furgão</td>\n",
       "      <td>citroen</td>\n",
       "    </tr>\n",
       "  </tbody>\n",
       "</table>\n",
       "</div>"
      ],
      "text/plain": [
       "     preco quilometragem   ano                                    infomacoes  \\\n",
       "0   16.990    104.000 Km  2008                 Xsara Picasso 1.6 Glx Flex 5p   \n",
       "1   43.900     77.000 Km  2018  Aircross Aircross Start 1.6 Flex 16v 5p Mec.   \n",
       "2  163.900          0 Km  2021                                 Jumpy Minibus   \n",
       "3   34.990     65.000 Km  2013         C3 1.6 Vti 16v Exclusive Flex Aut. 5p   \n",
       "4  129.900          0 Km  2021                                  Jumpy Furgão   \n",
       "\n",
       "     marca  \n",
       "0  citroen  \n",
       "1  citroen  \n",
       "2  citroen  \n",
       "3  citroen  \n",
       "4  citroen  "
      ]
     },
     "execution_count": 16,
     "metadata": {},
     "output_type": "execute_result"
    }
   ],
   "source": [
    "df.head()"
   ]
  },
  {
   "cell_type": "code",
   "execution_count": 17,
   "metadata": {},
   "outputs": [],
   "source": [
    "modelo = df['infomacoes'].str.split(\" \", n = 1 , expand = True)\n",
    "df['modelo'] = modelo[0]\n",
    "df['informacoes'] = modelo[1]"
   ]
  },
  {
   "cell_type": "code",
   "execution_count": 18,
   "metadata": {},
   "outputs": [],
   "source": [
    "df = df.drop('infomacoes', axis = 1)"
   ]
  },
  {
   "cell_type": "code",
   "execution_count": 19,
   "metadata": {},
   "outputs": [
    {
     "data": {
      "text/html": [
       "<div>\n",
       "<style scoped>\n",
       "    .dataframe tbody tr th:only-of-type {\n",
       "        vertical-align: middle;\n",
       "    }\n",
       "\n",
       "    .dataframe tbody tr th {\n",
       "        vertical-align: top;\n",
       "    }\n",
       "\n",
       "    .dataframe thead th {\n",
       "        text-align: right;\n",
       "    }\n",
       "</style>\n",
       "<table border=\"1\" class=\"dataframe\">\n",
       "  <thead>\n",
       "    <tr style=\"text-align: right;\">\n",
       "      <th></th>\n",
       "      <th>preco</th>\n",
       "      <th>quilometragem</th>\n",
       "      <th>ano</th>\n",
       "      <th>marca</th>\n",
       "      <th>modelo</th>\n",
       "      <th>informacoes</th>\n",
       "    </tr>\n",
       "  </thead>\n",
       "  <tbody>\n",
       "    <tr>\n",
       "      <th>0</th>\n",
       "      <td>16.990</td>\n",
       "      <td>104.000 Km</td>\n",
       "      <td>2008</td>\n",
       "      <td>citroen</td>\n",
       "      <td>Xsara</td>\n",
       "      <td>Picasso 1.6 Glx Flex 5p</td>\n",
       "    </tr>\n",
       "    <tr>\n",
       "      <th>1</th>\n",
       "      <td>43.900</td>\n",
       "      <td>77.000 Km</td>\n",
       "      <td>2018</td>\n",
       "      <td>citroen</td>\n",
       "      <td>Aircross</td>\n",
       "      <td>Aircross Start 1.6 Flex 16v 5p Mec.</td>\n",
       "    </tr>\n",
       "    <tr>\n",
       "      <th>2</th>\n",
       "      <td>163.900</td>\n",
       "      <td>0 Km</td>\n",
       "      <td>2021</td>\n",
       "      <td>citroen</td>\n",
       "      <td>Jumpy</td>\n",
       "      <td>Minibus</td>\n",
       "    </tr>\n",
       "    <tr>\n",
       "      <th>3</th>\n",
       "      <td>34.990</td>\n",
       "      <td>65.000 Km</td>\n",
       "      <td>2013</td>\n",
       "      <td>citroen</td>\n",
       "      <td>C3</td>\n",
       "      <td>1.6 Vti 16v Exclusive Flex Aut. 5p</td>\n",
       "    </tr>\n",
       "    <tr>\n",
       "      <th>4</th>\n",
       "      <td>129.900</td>\n",
       "      <td>0 Km</td>\n",
       "      <td>2021</td>\n",
       "      <td>citroen</td>\n",
       "      <td>Jumpy</td>\n",
       "      <td>Furgão</td>\n",
       "    </tr>\n",
       "  </tbody>\n",
       "</table>\n",
       "</div>"
      ],
      "text/plain": [
       "     preco quilometragem   ano    marca    modelo  \\\n",
       "0   16.990    104.000 Km  2008  citroen     Xsara   \n",
       "1   43.900     77.000 Km  2018  citroen  Aircross   \n",
       "2  163.900          0 Km  2021  citroen     Jumpy   \n",
       "3   34.990     65.000 Km  2013  citroen        C3   \n",
       "4  129.900          0 Km  2021  citroen     Jumpy   \n",
       "\n",
       "                           informacoes  \n",
       "0              Picasso 1.6 Glx Flex 5p  \n",
       "1  Aircross Start 1.6 Flex 16v 5p Mec.  \n",
       "2                              Minibus  \n",
       "3   1.6 Vti 16v Exclusive Flex Aut. 5p  \n",
       "4                               Furgão  "
      ]
     },
     "execution_count": 19,
     "metadata": {},
     "output_type": "execute_result"
    }
   ],
   "source": [
    "df.head()"
   ]
  },
  {
   "cell_type": "markdown",
   "metadata": {},
   "source": [
    " - Tratando a coluna quilometragem."
   ]
  },
  {
   "cell_type": "code",
   "execution_count": 20,
   "metadata": {},
   "outputs": [],
   "source": [
    "km = df['quilometragem'].str.split(\" \", n = 1, expand = True)"
   ]
  },
  {
   "cell_type": "code",
   "execution_count": 21,
   "metadata": {},
   "outputs": [],
   "source": [
    "df['quilometragem'] = km[0]"
   ]
  },
  {
   "cell_type": "code",
   "execution_count": 22,
   "metadata": {},
   "outputs": [
    {
     "data": {
      "text/html": [
       "<div>\n",
       "<style scoped>\n",
       "    .dataframe tbody tr th:only-of-type {\n",
       "        vertical-align: middle;\n",
       "    }\n",
       "\n",
       "    .dataframe tbody tr th {\n",
       "        vertical-align: top;\n",
       "    }\n",
       "\n",
       "    .dataframe thead th {\n",
       "        text-align: right;\n",
       "    }\n",
       "</style>\n",
       "<table border=\"1\" class=\"dataframe\">\n",
       "  <thead>\n",
       "    <tr style=\"text-align: right;\">\n",
       "      <th></th>\n",
       "      <th>preco</th>\n",
       "      <th>quilometragem</th>\n",
       "      <th>ano</th>\n",
       "      <th>marca</th>\n",
       "      <th>modelo</th>\n",
       "      <th>informacoes</th>\n",
       "    </tr>\n",
       "  </thead>\n",
       "  <tbody>\n",
       "    <tr>\n",
       "      <th>0</th>\n",
       "      <td>16.990</td>\n",
       "      <td>104.000</td>\n",
       "      <td>2008</td>\n",
       "      <td>citroen</td>\n",
       "      <td>Xsara</td>\n",
       "      <td>Picasso 1.6 Glx Flex 5p</td>\n",
       "    </tr>\n",
       "    <tr>\n",
       "      <th>1</th>\n",
       "      <td>43.900</td>\n",
       "      <td>77.000</td>\n",
       "      <td>2018</td>\n",
       "      <td>citroen</td>\n",
       "      <td>Aircross</td>\n",
       "      <td>Aircross Start 1.6 Flex 16v 5p Mec.</td>\n",
       "    </tr>\n",
       "    <tr>\n",
       "      <th>2</th>\n",
       "      <td>163.900</td>\n",
       "      <td>0</td>\n",
       "      <td>2021</td>\n",
       "      <td>citroen</td>\n",
       "      <td>Jumpy</td>\n",
       "      <td>Minibus</td>\n",
       "    </tr>\n",
       "    <tr>\n",
       "      <th>3</th>\n",
       "      <td>34.990</td>\n",
       "      <td>65.000</td>\n",
       "      <td>2013</td>\n",
       "      <td>citroen</td>\n",
       "      <td>C3</td>\n",
       "      <td>1.6 Vti 16v Exclusive Flex Aut. 5p</td>\n",
       "    </tr>\n",
       "    <tr>\n",
       "      <th>4</th>\n",
       "      <td>129.900</td>\n",
       "      <td>0</td>\n",
       "      <td>2021</td>\n",
       "      <td>citroen</td>\n",
       "      <td>Jumpy</td>\n",
       "      <td>Furgão</td>\n",
       "    </tr>\n",
       "  </tbody>\n",
       "</table>\n",
       "</div>"
      ],
      "text/plain": [
       "     preco quilometragem   ano    marca    modelo  \\\n",
       "0   16.990       104.000  2008  citroen     Xsara   \n",
       "1   43.900        77.000  2018  citroen  Aircross   \n",
       "2  163.900             0  2021  citroen     Jumpy   \n",
       "3   34.990        65.000  2013  citroen        C3   \n",
       "4  129.900             0  2021  citroen     Jumpy   \n",
       "\n",
       "                           informacoes  \n",
       "0              Picasso 1.6 Glx Flex 5p  \n",
       "1  Aircross Start 1.6 Flex 16v 5p Mec.  \n",
       "2                              Minibus  \n",
       "3   1.6 Vti 16v Exclusive Flex Aut. 5p  \n",
       "4                               Furgão  "
      ]
     },
     "execution_count": 22,
     "metadata": {},
     "output_type": "execute_result"
    }
   ],
   "source": [
    "df.head()"
   ]
  },
  {
   "cell_type": "code",
   "execution_count": 23,
   "metadata": {},
   "outputs": [],
   "source": [
    "df['preco'] = df['preco'].str.replace('.','')\n",
    "df['quilometragem'] = df['quilometragem'].str.replace('.','')"
   ]
  },
  {
   "cell_type": "code",
   "execution_count": 24,
   "metadata": {},
   "outputs": [
    {
     "data": {
      "text/html": [
       "<div>\n",
       "<style scoped>\n",
       "    .dataframe tbody tr th:only-of-type {\n",
       "        vertical-align: middle;\n",
       "    }\n",
       "\n",
       "    .dataframe tbody tr th {\n",
       "        vertical-align: top;\n",
       "    }\n",
       "\n",
       "    .dataframe thead th {\n",
       "        text-align: right;\n",
       "    }\n",
       "</style>\n",
       "<table border=\"1\" class=\"dataframe\">\n",
       "  <thead>\n",
       "    <tr style=\"text-align: right;\">\n",
       "      <th></th>\n",
       "      <th>preco</th>\n",
       "      <th>quilometragem</th>\n",
       "      <th>ano</th>\n",
       "      <th>marca</th>\n",
       "      <th>modelo</th>\n",
       "      <th>informacoes</th>\n",
       "    </tr>\n",
       "  </thead>\n",
       "  <tbody>\n",
       "    <tr>\n",
       "      <th>0</th>\n",
       "      <td>16990</td>\n",
       "      <td>104000</td>\n",
       "      <td>2008</td>\n",
       "      <td>citroen</td>\n",
       "      <td>Xsara</td>\n",
       "      <td>Picasso 1.6 Glx Flex 5p</td>\n",
       "    </tr>\n",
       "    <tr>\n",
       "      <th>1</th>\n",
       "      <td>43900</td>\n",
       "      <td>77000</td>\n",
       "      <td>2018</td>\n",
       "      <td>citroen</td>\n",
       "      <td>Aircross</td>\n",
       "      <td>Aircross Start 1.6 Flex 16v 5p Mec.</td>\n",
       "    </tr>\n",
       "    <tr>\n",
       "      <th>2</th>\n",
       "      <td>163900</td>\n",
       "      <td>0</td>\n",
       "      <td>2021</td>\n",
       "      <td>citroen</td>\n",
       "      <td>Jumpy</td>\n",
       "      <td>Minibus</td>\n",
       "    </tr>\n",
       "    <tr>\n",
       "      <th>3</th>\n",
       "      <td>34990</td>\n",
       "      <td>65000</td>\n",
       "      <td>2013</td>\n",
       "      <td>citroen</td>\n",
       "      <td>C3</td>\n",
       "      <td>1.6 Vti 16v Exclusive Flex Aut. 5p</td>\n",
       "    </tr>\n",
       "    <tr>\n",
       "      <th>4</th>\n",
       "      <td>129900</td>\n",
       "      <td>0</td>\n",
       "      <td>2021</td>\n",
       "      <td>citroen</td>\n",
       "      <td>Jumpy</td>\n",
       "      <td>Furgão</td>\n",
       "    </tr>\n",
       "  </tbody>\n",
       "</table>\n",
       "</div>"
      ],
      "text/plain": [
       "    preco quilometragem   ano    marca    modelo  \\\n",
       "0   16990        104000  2008  citroen     Xsara   \n",
       "1   43900         77000  2018  citroen  Aircross   \n",
       "2  163900             0  2021  citroen     Jumpy   \n",
       "3   34990         65000  2013  citroen        C3   \n",
       "4  129900             0  2021  citroen     Jumpy   \n",
       "\n",
       "                           informacoes  \n",
       "0              Picasso 1.6 Glx Flex 5p  \n",
       "1  Aircross Start 1.6 Flex 16v 5p Mec.  \n",
       "2                              Minibus  \n",
       "3   1.6 Vti 16v Exclusive Flex Aut. 5p  \n",
       "4                               Furgão  "
      ]
     },
     "execution_count": 24,
     "metadata": {},
     "output_type": "execute_result"
    }
   ],
   "source": [
    "df.head()"
   ]
  },
  {
   "cell_type": "markdown",
   "metadata": {},
   "source": [
    " - Criando novo arquivo csv com os dados pré-processados."
   ]
  },
  {
   "cell_type": "code",
   "execution_count": 25,
   "metadata": {},
   "outputs": [],
   "source": [
    "df.to_csv('carros_ml_pre_processados.csv',index =False , encoding = 'utf-8')"
   ]
  },
  {
   "cell_type": "code",
   "execution_count": null,
   "metadata": {},
   "outputs": [],
   "source": []
  },
  {
   "cell_type": "code",
   "execution_count": null,
   "metadata": {},
   "outputs": [],
   "source": []
  },
  {
   "cell_type": "code",
   "execution_count": null,
   "metadata": {},
   "outputs": [],
   "source": []
  },
  {
   "cell_type": "code",
   "execution_count": null,
   "metadata": {},
   "outputs": [],
   "source": []
  }
 ],
 "metadata": {
  "kernelspec": {
   "display_name": "Python 3",
   "language": "python",
   "name": "python3"
  },
  "language_info": {
   "codemirror_mode": {
    "name": "ipython",
    "version": 3
   },
   "file_extension": ".py",
   "mimetype": "text/x-python",
   "name": "python",
   "nbconvert_exporter": "python",
   "pygments_lexer": "ipython3",
   "version": "3.8.3"
  },
  "widgets": {
   "application/vnd.jupyter.widget-state+json": {
    "state": {},
    "version_major": 2,
    "version_minor": 0
   }
  }
 },
 "nbformat": 4,
 "nbformat_minor": 4
}
