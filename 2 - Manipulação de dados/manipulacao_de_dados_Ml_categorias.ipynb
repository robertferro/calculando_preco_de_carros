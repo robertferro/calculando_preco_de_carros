{
 "cells": [
  {
   "cell_type": "markdown",
   "metadata": {},
   "source": [
    "# Tratamento de dados\n",
    "\n",
    "## - Neste Notebook foram extraindos dados   existentes na coluna informações."
   ]
  },
  {
   "cell_type": "code",
   "execution_count": 1,
   "metadata": {},
   "outputs": [],
   "source": [
    "import pandas as pd\n",
    "import numpy as np\n",
    "import seaborn as sns\n",
    "import matplotlib.pyplot as plt"
   ]
  },
  {
   "cell_type": "code",
   "execution_count": null,
   "metadata": {},
   "outputs": [],
   "source": [
    "url = 'https://raw.githubusercontent.com/robertferro/carros/main/1%20-%20Web%20scraping/dados_carros_ml_categorias.csv'"
   ]
  },
  {
   "cell_type": "code",
   "execution_count": 2,
   "metadata": {},
   "outputs": [],
   "source": [
    "df = pd.read_csv('dados_carros_ml_categorias.csv', sep =',')"
   ]
  },
  {
   "cell_type": "code",
   "execution_count": 3,
   "metadata": {},
   "outputs": [
    {
     "data": {
      "text/html": [
       "<div>\n",
       "<style scoped>\n",
       "    .dataframe tbody tr th:only-of-type {\n",
       "        vertical-align: middle;\n",
       "    }\n",
       "\n",
       "    .dataframe tbody tr th {\n",
       "        vertical-align: top;\n",
       "    }\n",
       "\n",
       "    .dataframe thead th {\n",
       "        text-align: right;\n",
       "    }\n",
       "</style>\n",
       "<table border=\"1\" class=\"dataframe\">\n",
       "  <thead>\n",
       "    <tr style=\"text-align: right;\">\n",
       "      <th></th>\n",
       "      <th>preco</th>\n",
       "      <th>quilometragem</th>\n",
       "      <th>ano</th>\n",
       "      <th>infomacoes</th>\n",
       "    </tr>\n",
       "  </thead>\n",
       "  <tbody>\n",
       "    <tr>\n",
       "      <th>0</th>\n",
       "      <td>114.900</td>\n",
       "      <td>100.000 Km</td>\n",
       "      <td>2013</td>\n",
       "      <td>Volkswagen Fox 1.0 Trend Tec Total Flex 5p</td>\n",
       "    </tr>\n",
       "    <tr>\n",
       "      <th>1</th>\n",
       "      <td>29.990</td>\n",
       "      <td>71.000 Km</td>\n",
       "      <td>2012</td>\n",
       "      <td>Citroën C3 1.4 8v Glx Flex 5p</td>\n",
       "    </tr>\n",
       "    <tr>\n",
       "      <th>2</th>\n",
       "      <td>23.990</td>\n",
       "      <td>84.000 Km</td>\n",
       "      <td>2013</td>\n",
       "      <td>Volkswagen Fox 1.0 Trend Tec Total Flex 5p</td>\n",
       "    </tr>\n",
       "    <tr>\n",
       "      <th>3</th>\n",
       "      <td>28.990</td>\n",
       "      <td>10.800 Km</td>\n",
       "      <td>2019</td>\n",
       "      <td>Ford Ka 1.0 Se Flex 5p</td>\n",
       "    </tr>\n",
       "    <tr>\n",
       "      <th>4</th>\n",
       "      <td>47.879</td>\n",
       "      <td>23.000 Km</td>\n",
       "      <td>2017</td>\n",
       "      <td>Hyundai Hb20 1.0 Comfort Plus Flex 5p</td>\n",
       "    </tr>\n",
       "  </tbody>\n",
       "</table>\n",
       "</div>"
      ],
      "text/plain": [
       "     preco quilometragem   ano                                  infomacoes\n",
       "0  114.900    100.000 Km  2013  Volkswagen Fox 1.0 Trend Tec Total Flex 5p\n",
       "1   29.990     71.000 Km  2012               Citroën C3 1.4 8v Glx Flex 5p\n",
       "2   23.990     84.000 Km  2013  Volkswagen Fox 1.0 Trend Tec Total Flex 5p\n",
       "3   28.990     10.800 Km  2019                      Ford Ka 1.0 Se Flex 5p\n",
       "4   47.879     23.000 Km  2017       Hyundai Hb20 1.0 Comfort Plus Flex 5p"
      ]
     },
     "execution_count": 3,
     "metadata": {},
     "output_type": "execute_result"
    }
   ],
   "source": [
    "df.head()"
   ]
  },
  {
   "cell_type": "code",
   "execution_count": 4,
   "metadata": {},
   "outputs": [
    {
     "data": {
      "text/plain": [
       "(12288, 4)"
      ]
     },
     "execution_count": 4,
     "metadata": {},
     "output_type": "execute_result"
    }
   ],
   "source": [
    "df.shape"
   ]
  },
  {
   "cell_type": "markdown",
   "metadata": {},
   "source": [
    "### Reorganizando os dados da coluna \"informacoes\""
   ]
  },
  {
   "cell_type": "code",
   "execution_count": 5,
   "metadata": {},
   "outputs": [],
   "source": [
    "marca = df['infomacoes'].str.split(\" \", n = 1, expand = True)\n",
    "df['marca'] = marca[0]\n",
    "df['infomacoes'] = marca[1]"
   ]
  },
  {
   "cell_type": "code",
   "execution_count": 6,
   "metadata": {},
   "outputs": [
    {
     "data": {
      "text/html": [
       "<div>\n",
       "<style scoped>\n",
       "    .dataframe tbody tr th:only-of-type {\n",
       "        vertical-align: middle;\n",
       "    }\n",
       "\n",
       "    .dataframe tbody tr th {\n",
       "        vertical-align: top;\n",
       "    }\n",
       "\n",
       "    .dataframe thead th {\n",
       "        text-align: right;\n",
       "    }\n",
       "</style>\n",
       "<table border=\"1\" class=\"dataframe\">\n",
       "  <thead>\n",
       "    <tr style=\"text-align: right;\">\n",
       "      <th></th>\n",
       "      <th>preco</th>\n",
       "      <th>quilometragem</th>\n",
       "      <th>ano</th>\n",
       "      <th>infomacoes</th>\n",
       "      <th>marca</th>\n",
       "    </tr>\n",
       "  </thead>\n",
       "  <tbody>\n",
       "    <tr>\n",
       "      <th>0</th>\n",
       "      <td>114.900</td>\n",
       "      <td>100.000 Km</td>\n",
       "      <td>2013</td>\n",
       "      <td>Fox 1.0 Trend Tec Total Flex 5p</td>\n",
       "      <td>Volkswagen</td>\n",
       "    </tr>\n",
       "    <tr>\n",
       "      <th>1</th>\n",
       "      <td>29.990</td>\n",
       "      <td>71.000 Km</td>\n",
       "      <td>2012</td>\n",
       "      <td>C3 1.4 8v Glx Flex 5p</td>\n",
       "      <td>Citroën</td>\n",
       "    </tr>\n",
       "    <tr>\n",
       "      <th>2</th>\n",
       "      <td>23.990</td>\n",
       "      <td>84.000 Km</td>\n",
       "      <td>2013</td>\n",
       "      <td>Fox 1.0 Trend Tec Total Flex 5p</td>\n",
       "      <td>Volkswagen</td>\n",
       "    </tr>\n",
       "    <tr>\n",
       "      <th>3</th>\n",
       "      <td>28.990</td>\n",
       "      <td>10.800 Km</td>\n",
       "      <td>2019</td>\n",
       "      <td>Ka 1.0 Se Flex 5p</td>\n",
       "      <td>Ford</td>\n",
       "    </tr>\n",
       "    <tr>\n",
       "      <th>4</th>\n",
       "      <td>47.879</td>\n",
       "      <td>23.000 Km</td>\n",
       "      <td>2017</td>\n",
       "      <td>Hb20 1.0 Comfort Plus Flex 5p</td>\n",
       "      <td>Hyundai</td>\n",
       "    </tr>\n",
       "  </tbody>\n",
       "</table>\n",
       "</div>"
      ],
      "text/plain": [
       "     preco quilometragem   ano                       infomacoes       marca\n",
       "0  114.900    100.000 Km  2013  Fox 1.0 Trend Tec Total Flex 5p  Volkswagen\n",
       "1   29.990     71.000 Km  2012            C3 1.4 8v Glx Flex 5p     Citroën\n",
       "2   23.990     84.000 Km  2013  Fox 1.0 Trend Tec Total Flex 5p  Volkswagen\n",
       "3   28.990     10.800 Km  2019                Ka 1.0 Se Flex 5p        Ford\n",
       "4   47.879     23.000 Km  2017    Hb20 1.0 Comfort Plus Flex 5p     Hyundai"
      ]
     },
     "execution_count": 6,
     "metadata": {},
     "output_type": "execute_result"
    }
   ],
   "source": [
    "df.head()"
   ]
  },
  {
   "cell_type": "markdown",
   "metadata": {},
   "source": [
    "  - Renomeando as marcas"
   ]
  },
  {
   "cell_type": "code",
   "execution_count": 7,
   "metadata": {},
   "outputs": [],
   "source": [
    "dic_marcas = dict(df.marca.value_counts())"
   ]
  },
  {
   "cell_type": "code",
   "execution_count": 8,
   "metadata": {},
   "outputs": [
    {
     "data": {
      "text/plain": [
       "{'Fiat': 2016,\n",
       " 'Renault': 1611,\n",
       " 'Chevrolet': 1325,\n",
       " 'Hyundai': 1019,\n",
       " 'Volkswagen': 966,\n",
       " 'Mercedes-benz': 817,\n",
       " 'Ford': 730,\n",
       " 'Citroën': 695,\n",
       " 'Honda': 670,\n",
       " 'Nissan': 426,\n",
       " 'Peugeot': 381,\n",
       " 'Toyota': 326,\n",
       " 'Kia': 208,\n",
       " 'Jeep': 151,\n",
       " 'Mitsubishi': 144,\n",
       " 'Bmw': 120,\n",
       " 'Dodge': 97,\n",
       " 'Land': 93,\n",
       " 'Audi': 77,\n",
       " 'Jinbei': 61,\n",
       " 'Chrysler': 61,\n",
       " 'Mercedes': 57,\n",
       " 'Jac': 56,\n",
       " 'Volvo': 32,\n",
       " 'Chery': 30,\n",
       " 'Mini': 17,\n",
       " 'Suzuki': 15,\n",
       " 'Iveco': 13,\n",
       " 'Jaguar': 9,\n",
       " 'Porsche': 8,\n",
       " 'Ssangyong': 7,\n",
       " 'Asia': 7,\n",
       " 'Lexus': 6,\n",
       " 'Hafei': 6,\n",
       " 'Lifan': 6,\n",
       " 'Novo': 5,\n",
       " 'Ram': 4,\n",
       " 'Effa': 3,\n",
       " 'Mahindra': 3,\n",
       " 'Subaru': 2,\n",
       " 'Mazda': 2,\n",
       " 'Gurgel': 1,\n",
       " 'Vw': 1,\n",
       " 'Rely': 1,\n",
       " 'Seat': 1,\n",
       " 'Geely': 1,\n",
       " 'Shineray': 1}"
      ]
     },
     "execution_count": 8,
     "metadata": {},
     "output_type": "execute_result"
    }
   ],
   "source": [
    "dic_marcas"
   ]
  },
  {
   "cell_type": "code",
   "execution_count": 9,
   "metadata": {},
   "outputs": [],
   "source": [
    "new_dict = {\n",
    "    'Fiat': 'fiat','Renault': 'renault','Chevrolet': 'chevrolet','Hyundai': 'hyundai',\n",
    "     'Volkswagen': 'volkswagem','Mercedes-benz': 'mercedes','Ford': 'ford',\n",
    "     'Citroën': 'citroen','Honda': 'honda','Nissan': 'nissan', 'Peugeot': 'peugeot',\n",
    "     'Toyota':'toyota','Kia': 'kia','Jeep': 'jeep','Mitsubishi': 'Mitsubishi',\n",
    "     'Bmw': 'bmw','Dodge': 'dodge',\n",
    "     'Land': 'land rover', 'Audi': 'audi','Jinbei': 'jinbei',\n",
    "     'Chrysler': 'chrysler','Mercedes': 'mercedes',\n",
    "     'Jac': 'jac','Volvo': 'volvo','Chery': 'chery','Mini': 'nan',\n",
    "     'Suzuki': 'suzuki','Iveco': 'iveco','Jaguar': 'nan','Porsche': 'nan',\n",
    "     'Asia': 'nan','Ssangyong': 'nan','Lexus': 'nan','Lifan': 'nan',\n",
    "     'Hafei': 'nan','Novo': 'nan','Ram': 'dodge','Effa': 'nan',\n",
    "     'Mahindra': 'nan','Mazda': 'nan', 'Subaru': 'nan','Rely': 'nan',\n",
    "     'Geely': 'nan', 'Vw': 'volkswagem',\n",
    "     'Shineray': 'nan', 'Gurgel': 'nan','Seat': 'nan'\n",
    "    }"
   ]
  },
  {
   "cell_type": "code",
   "execution_count": 10,
   "metadata": {},
   "outputs": [],
   "source": [
    "df['marca'] = df['marca'].map(new_dict)"
   ]
  },
  {
   "cell_type": "code",
   "execution_count": 11,
   "metadata": {},
   "outputs": [
    {
     "data": {
      "text/plain": [
       "fiat          2016\n",
       "renault       1611\n",
       "chevrolet     1325\n",
       "hyundai       1019\n",
       "volkswagem     967\n",
       "mercedes       874\n",
       "ford           730\n",
       "citroen        695\n",
       "honda          670\n",
       "nissan         426\n",
       "peugeot        381\n",
       "toyota         326\n",
       "kia            208\n",
       "jeep           151\n",
       "Mitsubishi     144\n",
       "bmw            120\n",
       "dodge          101\n",
       "land rover      93\n",
       "nan             86\n",
       "audi            77\n",
       "chrysler        61\n",
       "jinbei          61\n",
       "jac             56\n",
       "volvo           32\n",
       "chery           30\n",
       "suzuki          15\n",
       "iveco           13\n",
       "Name: marca, dtype: int64"
      ]
     },
     "execution_count": 11,
     "metadata": {},
     "output_type": "execute_result"
    }
   ],
   "source": [
    "df.marca.value_counts()"
   ]
  },
  {
   "cell_type": "code",
   "execution_count": 12,
   "metadata": {},
   "outputs": [],
   "source": [
    "df = df.query('marca != \"nan\"')"
   ]
  },
  {
   "cell_type": "code",
   "execution_count": 13,
   "metadata": {},
   "outputs": [
    {
     "data": {
      "text/plain": [
       "fiat          2016\n",
       "renault       1611\n",
       "chevrolet     1325\n",
       "hyundai       1019\n",
       "volkswagem     967\n",
       "mercedes       874\n",
       "ford           730\n",
       "citroen        695\n",
       "honda          670\n",
       "nissan         426\n",
       "peugeot        381\n",
       "toyota         326\n",
       "kia            208\n",
       "jeep           151\n",
       "Mitsubishi     144\n",
       "bmw            120\n",
       "dodge          101\n",
       "land rover      93\n",
       "audi            77\n",
       "chrysler        61\n",
       "jinbei          61\n",
       "jac             56\n",
       "volvo           32\n",
       "chery           30\n",
       "suzuki          15\n",
       "iveco           13\n",
       "Name: marca, dtype: int64"
      ]
     },
     "execution_count": 13,
     "metadata": {},
     "output_type": "execute_result"
    }
   ],
   "source": [
    "df.marca.value_counts()"
   ]
  },
  {
   "cell_type": "markdown",
   "metadata": {},
   "source": [
    " - Criando a coluna modelo"
   ]
  },
  {
   "cell_type": "code",
   "execution_count": 14,
   "metadata": {},
   "outputs": [],
   "source": [
    "df = df.reset_index()"
   ]
  },
  {
   "cell_type": "code",
   "execution_count": 15,
   "metadata": {},
   "outputs": [],
   "source": [
    "df = df.drop('index', axis = 1)"
   ]
  },
  {
   "cell_type": "code",
   "execution_count": 16,
   "metadata": {},
   "outputs": [
    {
     "data": {
      "text/html": [
       "<div>\n",
       "<style scoped>\n",
       "    .dataframe tbody tr th:only-of-type {\n",
       "        vertical-align: middle;\n",
       "    }\n",
       "\n",
       "    .dataframe tbody tr th {\n",
       "        vertical-align: top;\n",
       "    }\n",
       "\n",
       "    .dataframe thead th {\n",
       "        text-align: right;\n",
       "    }\n",
       "</style>\n",
       "<table border=\"1\" class=\"dataframe\">\n",
       "  <thead>\n",
       "    <tr style=\"text-align: right;\">\n",
       "      <th></th>\n",
       "      <th>preco</th>\n",
       "      <th>quilometragem</th>\n",
       "      <th>ano</th>\n",
       "      <th>infomacoes</th>\n",
       "      <th>marca</th>\n",
       "    </tr>\n",
       "  </thead>\n",
       "  <tbody>\n",
       "    <tr>\n",
       "      <th>0</th>\n",
       "      <td>114.900</td>\n",
       "      <td>100.000 Km</td>\n",
       "      <td>2013</td>\n",
       "      <td>Fox 1.0 Trend Tec Total Flex 5p</td>\n",
       "      <td>volkswagem</td>\n",
       "    </tr>\n",
       "    <tr>\n",
       "      <th>1</th>\n",
       "      <td>29.990</td>\n",
       "      <td>71.000 Km</td>\n",
       "      <td>2012</td>\n",
       "      <td>C3 1.4 8v Glx Flex 5p</td>\n",
       "      <td>citroen</td>\n",
       "    </tr>\n",
       "    <tr>\n",
       "      <th>2</th>\n",
       "      <td>23.990</td>\n",
       "      <td>84.000 Km</td>\n",
       "      <td>2013</td>\n",
       "      <td>Fox 1.0 Trend Tec Total Flex 5p</td>\n",
       "      <td>volkswagem</td>\n",
       "    </tr>\n",
       "    <tr>\n",
       "      <th>3</th>\n",
       "      <td>28.990</td>\n",
       "      <td>10.800 Km</td>\n",
       "      <td>2019</td>\n",
       "      <td>Ka 1.0 Se Flex 5p</td>\n",
       "      <td>ford</td>\n",
       "    </tr>\n",
       "    <tr>\n",
       "      <th>4</th>\n",
       "      <td>47.879</td>\n",
       "      <td>23.000 Km</td>\n",
       "      <td>2017</td>\n",
       "      <td>Hb20 1.0 Comfort Plus Flex 5p</td>\n",
       "      <td>hyundai</td>\n",
       "    </tr>\n",
       "  </tbody>\n",
       "</table>\n",
       "</div>"
      ],
      "text/plain": [
       "     preco quilometragem   ano                       infomacoes       marca\n",
       "0  114.900    100.000 Km  2013  Fox 1.0 Trend Tec Total Flex 5p  volkswagem\n",
       "1   29.990     71.000 Km  2012            C3 1.4 8v Glx Flex 5p     citroen\n",
       "2   23.990     84.000 Km  2013  Fox 1.0 Trend Tec Total Flex 5p  volkswagem\n",
       "3   28.990     10.800 Km  2019                Ka 1.0 Se Flex 5p        ford\n",
       "4   47.879     23.000 Km  2017    Hb20 1.0 Comfort Plus Flex 5p     hyundai"
      ]
     },
     "execution_count": 16,
     "metadata": {},
     "output_type": "execute_result"
    }
   ],
   "source": [
    "df.head()"
   ]
  },
  {
   "cell_type": "code",
   "execution_count": 17,
   "metadata": {},
   "outputs": [],
   "source": [
    "modelo = df['infomacoes'].str.split(\" \", n = 1 , expand = True)\n",
    "df['modelo'] = modelo[0]\n",
    "df['informacoes'] = modelo[1]"
   ]
  },
  {
   "cell_type": "code",
   "execution_count": 18,
   "metadata": {},
   "outputs": [],
   "source": [
    "df = df.drop('infomacoes', axis = 1)"
   ]
  },
  {
   "cell_type": "code",
   "execution_count": 19,
   "metadata": {},
   "outputs": [
    {
     "data": {
      "text/html": [
       "<div>\n",
       "<style scoped>\n",
       "    .dataframe tbody tr th:only-of-type {\n",
       "        vertical-align: middle;\n",
       "    }\n",
       "\n",
       "    .dataframe tbody tr th {\n",
       "        vertical-align: top;\n",
       "    }\n",
       "\n",
       "    .dataframe thead th {\n",
       "        text-align: right;\n",
       "    }\n",
       "</style>\n",
       "<table border=\"1\" class=\"dataframe\">\n",
       "  <thead>\n",
       "    <tr style=\"text-align: right;\">\n",
       "      <th></th>\n",
       "      <th>preco</th>\n",
       "      <th>quilometragem</th>\n",
       "      <th>ano</th>\n",
       "      <th>marca</th>\n",
       "      <th>modelo</th>\n",
       "      <th>informacoes</th>\n",
       "    </tr>\n",
       "  </thead>\n",
       "  <tbody>\n",
       "    <tr>\n",
       "      <th>0</th>\n",
       "      <td>114.900</td>\n",
       "      <td>100.000 Km</td>\n",
       "      <td>2013</td>\n",
       "      <td>volkswagem</td>\n",
       "      <td>Fox</td>\n",
       "      <td>1.0 Trend Tec Total Flex 5p</td>\n",
       "    </tr>\n",
       "    <tr>\n",
       "      <th>1</th>\n",
       "      <td>29.990</td>\n",
       "      <td>71.000 Km</td>\n",
       "      <td>2012</td>\n",
       "      <td>citroen</td>\n",
       "      <td>C3</td>\n",
       "      <td>1.4 8v Glx Flex 5p</td>\n",
       "    </tr>\n",
       "    <tr>\n",
       "      <th>2</th>\n",
       "      <td>23.990</td>\n",
       "      <td>84.000 Km</td>\n",
       "      <td>2013</td>\n",
       "      <td>volkswagem</td>\n",
       "      <td>Fox</td>\n",
       "      <td>1.0 Trend Tec Total Flex 5p</td>\n",
       "    </tr>\n",
       "    <tr>\n",
       "      <th>3</th>\n",
       "      <td>28.990</td>\n",
       "      <td>10.800 Km</td>\n",
       "      <td>2019</td>\n",
       "      <td>ford</td>\n",
       "      <td>Ka</td>\n",
       "      <td>1.0 Se Flex 5p</td>\n",
       "    </tr>\n",
       "    <tr>\n",
       "      <th>4</th>\n",
       "      <td>47.879</td>\n",
       "      <td>23.000 Km</td>\n",
       "      <td>2017</td>\n",
       "      <td>hyundai</td>\n",
       "      <td>Hb20</td>\n",
       "      <td>1.0 Comfort Plus Flex 5p</td>\n",
       "    </tr>\n",
       "  </tbody>\n",
       "</table>\n",
       "</div>"
      ],
      "text/plain": [
       "     preco quilometragem   ano       marca modelo                  informacoes\n",
       "0  114.900    100.000 Km  2013  volkswagem    Fox  1.0 Trend Tec Total Flex 5p\n",
       "1   29.990     71.000 Km  2012     citroen     C3           1.4 8v Glx Flex 5p\n",
       "2   23.990     84.000 Km  2013  volkswagem    Fox  1.0 Trend Tec Total Flex 5p\n",
       "3   28.990     10.800 Km  2019        ford     Ka               1.0 Se Flex 5p\n",
       "4   47.879     23.000 Km  2017     hyundai   Hb20     1.0 Comfort Plus Flex 5p"
      ]
     },
     "execution_count": 19,
     "metadata": {},
     "output_type": "execute_result"
    }
   ],
   "source": [
    "df.head()"
   ]
  },
  {
   "cell_type": "markdown",
   "metadata": {},
   "source": [
    " - Tratando a coluna quilometragem."
   ]
  },
  {
   "cell_type": "code",
   "execution_count": 20,
   "metadata": {},
   "outputs": [],
   "source": [
    "km = df['quilometragem'].str.split(\" \", n = 1, expand = True)"
   ]
  },
  {
   "cell_type": "code",
   "execution_count": 21,
   "metadata": {},
   "outputs": [],
   "source": [
    "df['quilometragem'] = km[0]"
   ]
  },
  {
   "cell_type": "code",
   "execution_count": 22,
   "metadata": {},
   "outputs": [
    {
     "data": {
      "text/html": [
       "<div>\n",
       "<style scoped>\n",
       "    .dataframe tbody tr th:only-of-type {\n",
       "        vertical-align: middle;\n",
       "    }\n",
       "\n",
       "    .dataframe tbody tr th {\n",
       "        vertical-align: top;\n",
       "    }\n",
       "\n",
       "    .dataframe thead th {\n",
       "        text-align: right;\n",
       "    }\n",
       "</style>\n",
       "<table border=\"1\" class=\"dataframe\">\n",
       "  <thead>\n",
       "    <tr style=\"text-align: right;\">\n",
       "      <th></th>\n",
       "      <th>preco</th>\n",
       "      <th>quilometragem</th>\n",
       "      <th>ano</th>\n",
       "      <th>marca</th>\n",
       "      <th>modelo</th>\n",
       "      <th>informacoes</th>\n",
       "    </tr>\n",
       "  </thead>\n",
       "  <tbody>\n",
       "    <tr>\n",
       "      <th>0</th>\n",
       "      <td>114.900</td>\n",
       "      <td>100.000</td>\n",
       "      <td>2013</td>\n",
       "      <td>volkswagem</td>\n",
       "      <td>Fox</td>\n",
       "      <td>1.0 Trend Tec Total Flex 5p</td>\n",
       "    </tr>\n",
       "    <tr>\n",
       "      <th>1</th>\n",
       "      <td>29.990</td>\n",
       "      <td>71.000</td>\n",
       "      <td>2012</td>\n",
       "      <td>citroen</td>\n",
       "      <td>C3</td>\n",
       "      <td>1.4 8v Glx Flex 5p</td>\n",
       "    </tr>\n",
       "    <tr>\n",
       "      <th>2</th>\n",
       "      <td>23.990</td>\n",
       "      <td>84.000</td>\n",
       "      <td>2013</td>\n",
       "      <td>volkswagem</td>\n",
       "      <td>Fox</td>\n",
       "      <td>1.0 Trend Tec Total Flex 5p</td>\n",
       "    </tr>\n",
       "    <tr>\n",
       "      <th>3</th>\n",
       "      <td>28.990</td>\n",
       "      <td>10.800</td>\n",
       "      <td>2019</td>\n",
       "      <td>ford</td>\n",
       "      <td>Ka</td>\n",
       "      <td>1.0 Se Flex 5p</td>\n",
       "    </tr>\n",
       "    <tr>\n",
       "      <th>4</th>\n",
       "      <td>47.879</td>\n",
       "      <td>23.000</td>\n",
       "      <td>2017</td>\n",
       "      <td>hyundai</td>\n",
       "      <td>Hb20</td>\n",
       "      <td>1.0 Comfort Plus Flex 5p</td>\n",
       "    </tr>\n",
       "  </tbody>\n",
       "</table>\n",
       "</div>"
      ],
      "text/plain": [
       "     preco quilometragem   ano       marca modelo                  informacoes\n",
       "0  114.900       100.000  2013  volkswagem    Fox  1.0 Trend Tec Total Flex 5p\n",
       "1   29.990        71.000  2012     citroen     C3           1.4 8v Glx Flex 5p\n",
       "2   23.990        84.000  2013  volkswagem    Fox  1.0 Trend Tec Total Flex 5p\n",
       "3   28.990        10.800  2019        ford     Ka               1.0 Se Flex 5p\n",
       "4   47.879        23.000  2017     hyundai   Hb20     1.0 Comfort Plus Flex 5p"
      ]
     },
     "execution_count": 22,
     "metadata": {},
     "output_type": "execute_result"
    }
   ],
   "source": [
    "df.head()"
   ]
  },
  {
   "cell_type": "code",
   "execution_count": 23,
   "metadata": {},
   "outputs": [],
   "source": [
    "df['preco'] = df['preco'].str.replace('.','')\n",
    "df['quilometragem'] = df['quilometragem'].str.replace('.','')"
   ]
  },
  {
   "cell_type": "code",
   "execution_count": 24,
   "metadata": {},
   "outputs": [
    {
     "data": {
      "text/html": [
       "<div>\n",
       "<style scoped>\n",
       "    .dataframe tbody tr th:only-of-type {\n",
       "        vertical-align: middle;\n",
       "    }\n",
       "\n",
       "    .dataframe tbody tr th {\n",
       "        vertical-align: top;\n",
       "    }\n",
       "\n",
       "    .dataframe thead th {\n",
       "        text-align: right;\n",
       "    }\n",
       "</style>\n",
       "<table border=\"1\" class=\"dataframe\">\n",
       "  <thead>\n",
       "    <tr style=\"text-align: right;\">\n",
       "      <th></th>\n",
       "      <th>preco</th>\n",
       "      <th>quilometragem</th>\n",
       "      <th>ano</th>\n",
       "      <th>marca</th>\n",
       "      <th>modelo</th>\n",
       "      <th>informacoes</th>\n",
       "    </tr>\n",
       "  </thead>\n",
       "  <tbody>\n",
       "    <tr>\n",
       "      <th>0</th>\n",
       "      <td>114900</td>\n",
       "      <td>100000</td>\n",
       "      <td>2013</td>\n",
       "      <td>volkswagem</td>\n",
       "      <td>Fox</td>\n",
       "      <td>1.0 Trend Tec Total Flex 5p</td>\n",
       "    </tr>\n",
       "    <tr>\n",
       "      <th>1</th>\n",
       "      <td>29990</td>\n",
       "      <td>71000</td>\n",
       "      <td>2012</td>\n",
       "      <td>citroen</td>\n",
       "      <td>C3</td>\n",
       "      <td>1.4 8v Glx Flex 5p</td>\n",
       "    </tr>\n",
       "    <tr>\n",
       "      <th>2</th>\n",
       "      <td>23990</td>\n",
       "      <td>84000</td>\n",
       "      <td>2013</td>\n",
       "      <td>volkswagem</td>\n",
       "      <td>Fox</td>\n",
       "      <td>1.0 Trend Tec Total Flex 5p</td>\n",
       "    </tr>\n",
       "    <tr>\n",
       "      <th>3</th>\n",
       "      <td>28990</td>\n",
       "      <td>10800</td>\n",
       "      <td>2019</td>\n",
       "      <td>ford</td>\n",
       "      <td>Ka</td>\n",
       "      <td>1.0 Se Flex 5p</td>\n",
       "    </tr>\n",
       "    <tr>\n",
       "      <th>4</th>\n",
       "      <td>47879</td>\n",
       "      <td>23000</td>\n",
       "      <td>2017</td>\n",
       "      <td>hyundai</td>\n",
       "      <td>Hb20</td>\n",
       "      <td>1.0 Comfort Plus Flex 5p</td>\n",
       "    </tr>\n",
       "  </tbody>\n",
       "</table>\n",
       "</div>"
      ],
      "text/plain": [
       "    preco quilometragem   ano       marca modelo                  informacoes\n",
       "0  114900        100000  2013  volkswagem    Fox  1.0 Trend Tec Total Flex 5p\n",
       "1   29990         71000  2012     citroen     C3           1.4 8v Glx Flex 5p\n",
       "2   23990         84000  2013  volkswagem    Fox  1.0 Trend Tec Total Flex 5p\n",
       "3   28990         10800  2019        ford     Ka               1.0 Se Flex 5p\n",
       "4   47879         23000  2017     hyundai   Hb20     1.0 Comfort Plus Flex 5p"
      ]
     },
     "execution_count": 24,
     "metadata": {},
     "output_type": "execute_result"
    }
   ],
   "source": [
    "df.head()"
   ]
  },
  {
   "cell_type": "markdown",
   "metadata": {},
   "source": [
    " - Criando novo arquivo csv com os dados pré-processados."
   ]
  },
  {
   "cell_type": "code",
   "execution_count": null,
   "metadata": {},
   "outputs": [],
   "source": [
    "df.to_csv('carros_ml_categorias_pre_processados.csv',index =False , encoding = 'utf-8')"
   ]
  },
  {
   "cell_type": "code",
   "execution_count": null,
   "metadata": {},
   "outputs": [],
   "source": []
  },
  {
   "cell_type": "code",
   "execution_count": null,
   "metadata": {},
   "outputs": [],
   "source": []
  }
 ],
 "metadata": {
  "kernelspec": {
   "display_name": "Python 3",
   "language": "python",
   "name": "python3"
  },
  "language_info": {
   "codemirror_mode": {
    "name": "ipython",
    "version": 3
   },
   "file_extension": ".py",
   "mimetype": "text/x-python",
   "name": "python",
   "nbconvert_exporter": "python",
   "pygments_lexer": "ipython3",
   "version": "3.8.3"
  },
  "widgets": {
   "application/vnd.jupyter.widget-state+json": {
    "state": {},
    "version_major": 2,
    "version_minor": 0
   }
  }
 },
 "nbformat": 4,
 "nbformat_minor": 4
}
