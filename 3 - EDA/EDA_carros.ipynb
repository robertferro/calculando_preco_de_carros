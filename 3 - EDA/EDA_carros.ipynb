{
 "cells": [
  {
   "cell_type": "code",
   "execution_count": 1,
   "metadata": {},
   "outputs": [],
   "source": [
    "import pandas as pd\n",
    "import numpy as np\n",
    "import matplotlib.pyplot as plt\n",
    "import seaborn as sns"
   ]
  },
  {
   "cell_type": "code",
   "execution_count": 2,
   "metadata": {},
   "outputs": [],
   "source": [
    "url = 'https://raw.githubusercontent.com/robertferro/carros/main/2%20-%20Manipula%C3%A7%C3%A3o%20de%20dados/carros_ml_pre_processados.csv'"
   ]
  },
  {
   "cell_type": "code",
   "execution_count": 3,
   "metadata": {},
   "outputs": [],
   "source": [
    "df = pd.read_csv(url, sep = ',')"
   ]
  },
  {
   "cell_type": "code",
   "execution_count": 4,
   "metadata": {},
   "outputs": [
    {
     "data": {
      "text/html": [
       "<div>\n",
       "<style scoped>\n",
       "    .dataframe tbody tr th:only-of-type {\n",
       "        vertical-align: middle;\n",
       "    }\n",
       "\n",
       "    .dataframe tbody tr th {\n",
       "        vertical-align: top;\n",
       "    }\n",
       "\n",
       "    .dataframe thead th {\n",
       "        text-align: right;\n",
       "    }\n",
       "</style>\n",
       "<table border=\"1\" class=\"dataframe\">\n",
       "  <thead>\n",
       "    <tr style=\"text-align: right;\">\n",
       "      <th></th>\n",
       "      <th>preco</th>\n",
       "      <th>quilometragem</th>\n",
       "      <th>ano</th>\n",
       "      <th>marca</th>\n",
       "      <th>modelo</th>\n",
       "      <th>informacoes</th>\n",
       "    </tr>\n",
       "  </thead>\n",
       "  <tbody>\n",
       "    <tr>\n",
       "      <th>0</th>\n",
       "      <td>16.990</td>\n",
       "      <td>104.0</td>\n",
       "      <td>2008</td>\n",
       "      <td>citroen</td>\n",
       "      <td>Xsara</td>\n",
       "      <td>Picasso 1.6 Glx Flex 5p</td>\n",
       "    </tr>\n",
       "    <tr>\n",
       "      <th>1</th>\n",
       "      <td>43.900</td>\n",
       "      <td>77.0</td>\n",
       "      <td>2018</td>\n",
       "      <td>citroen</td>\n",
       "      <td>Aircross</td>\n",
       "      <td>Aircross Start 1.6 Flex 16v 5p Mec.</td>\n",
       "    </tr>\n",
       "    <tr>\n",
       "      <th>2</th>\n",
       "      <td>163.900</td>\n",
       "      <td>0.0</td>\n",
       "      <td>2021</td>\n",
       "      <td>citroen</td>\n",
       "      <td>Jumpy</td>\n",
       "      <td>Minibus</td>\n",
       "    </tr>\n",
       "    <tr>\n",
       "      <th>3</th>\n",
       "      <td>34.990</td>\n",
       "      <td>65.0</td>\n",
       "      <td>2013</td>\n",
       "      <td>citroen</td>\n",
       "      <td>C3</td>\n",
       "      <td>1.6 Vti 16v Exclusive Flex Aut. 5p</td>\n",
       "    </tr>\n",
       "    <tr>\n",
       "      <th>4</th>\n",
       "      <td>129.900</td>\n",
       "      <td>0.0</td>\n",
       "      <td>2021</td>\n",
       "      <td>citroen</td>\n",
       "      <td>Jumpy</td>\n",
       "      <td>Furgão</td>\n",
       "    </tr>\n",
       "  </tbody>\n",
       "</table>\n",
       "</div>"
      ],
      "text/plain": [
       "     preco  quilometragem   ano    marca    modelo  \\\n",
       "0   16.990          104.0  2008  citroen     Xsara   \n",
       "1   43.900           77.0  2018  citroen  Aircross   \n",
       "2  163.900            0.0  2021  citroen     Jumpy   \n",
       "3   34.990           65.0  2013  citroen        C3   \n",
       "4  129.900            0.0  2021  citroen     Jumpy   \n",
       "\n",
       "                           informacoes  \n",
       "0              Picasso 1.6 Glx Flex 5p  \n",
       "1  Aircross Start 1.6 Flex 16v 5p Mec.  \n",
       "2                              Minibus  \n",
       "3   1.6 Vti 16v Exclusive Flex Aut. 5p  \n",
       "4                               Furgão  "
      ]
     },
     "execution_count": 4,
     "metadata": {},
     "output_type": "execute_result"
    }
   ],
   "source": [
    "df.head()"
   ]
  },
  {
   "cell_type": "markdown",
   "metadata": {},
   "source": [
    " - Excluindo a coluna informacoes."
   ]
  },
  {
   "cell_type": "code",
   "execution_count": 5,
   "metadata": {},
   "outputs": [],
   "source": [
    "df = df.drop('informacoes', axis = 1)"
   ]
  },
  {
   "cell_type": "code",
   "execution_count": 6,
   "metadata": {},
   "outputs": [
    {
     "data": {
      "text/html": [
       "<div>\n",
       "<style scoped>\n",
       "    .dataframe tbody tr th:only-of-type {\n",
       "        vertical-align: middle;\n",
       "    }\n",
       "\n",
       "    .dataframe tbody tr th {\n",
       "        vertical-align: top;\n",
       "    }\n",
       "\n",
       "    .dataframe thead th {\n",
       "        text-align: right;\n",
       "    }\n",
       "</style>\n",
       "<table border=\"1\" class=\"dataframe\">\n",
       "  <thead>\n",
       "    <tr style=\"text-align: right;\">\n",
       "      <th></th>\n",
       "      <th>preco</th>\n",
       "      <th>quilometragem</th>\n",
       "      <th>ano</th>\n",
       "      <th>marca</th>\n",
       "      <th>modelo</th>\n",
       "    </tr>\n",
       "  </thead>\n",
       "  <tbody>\n",
       "    <tr>\n",
       "      <th>0</th>\n",
       "      <td>16.990</td>\n",
       "      <td>104.0</td>\n",
       "      <td>2008</td>\n",
       "      <td>citroen</td>\n",
       "      <td>Xsara</td>\n",
       "    </tr>\n",
       "    <tr>\n",
       "      <th>1</th>\n",
       "      <td>43.900</td>\n",
       "      <td>77.0</td>\n",
       "      <td>2018</td>\n",
       "      <td>citroen</td>\n",
       "      <td>Aircross</td>\n",
       "    </tr>\n",
       "    <tr>\n",
       "      <th>2</th>\n",
       "      <td>163.900</td>\n",
       "      <td>0.0</td>\n",
       "      <td>2021</td>\n",
       "      <td>citroen</td>\n",
       "      <td>Jumpy</td>\n",
       "    </tr>\n",
       "    <tr>\n",
       "      <th>3</th>\n",
       "      <td>34.990</td>\n",
       "      <td>65.0</td>\n",
       "      <td>2013</td>\n",
       "      <td>citroen</td>\n",
       "      <td>C3</td>\n",
       "    </tr>\n",
       "    <tr>\n",
       "      <th>4</th>\n",
       "      <td>129.900</td>\n",
       "      <td>0.0</td>\n",
       "      <td>2021</td>\n",
       "      <td>citroen</td>\n",
       "      <td>Jumpy</td>\n",
       "    </tr>\n",
       "  </tbody>\n",
       "</table>\n",
       "</div>"
      ],
      "text/plain": [
       "     preco  quilometragem   ano    marca    modelo\n",
       "0   16.990          104.0  2008  citroen     Xsara\n",
       "1   43.900           77.0  2018  citroen  Aircross\n",
       "2  163.900            0.0  2021  citroen     Jumpy\n",
       "3   34.990           65.0  2013  citroen        C3\n",
       "4  129.900            0.0  2021  citroen     Jumpy"
      ]
     },
     "execution_count": 6,
     "metadata": {},
     "output_type": "execute_result"
    }
   ],
   "source": [
    "df.head()"
   ]
  },
  {
   "cell_type": "code",
   "execution_count": 7,
   "metadata": {},
   "outputs": [
    {
     "name": "stdout",
     "output_type": "stream",
     "text": [
      "<class 'pandas.core.frame.DataFrame'>\n",
      "RangeIndex: 6376 entries, 0 to 6375\n",
      "Data columns (total 5 columns):\n",
      " #   Column         Non-Null Count  Dtype  \n",
      "---  ------         --------------  -----  \n",
      " 0   preco          6376 non-null   object \n",
      " 1   quilometragem  6376 non-null   float64\n",
      " 2   ano            6376 non-null   int64  \n",
      " 3   marca          6376 non-null   object \n",
      " 4   modelo         6376 non-null   object \n",
      "dtypes: float64(1), int64(1), object(3)\n",
      "memory usage: 249.2+ KB\n"
     ]
    }
   ],
   "source": [
    "df.info()"
   ]
  },
  {
   "cell_type": "markdown",
   "metadata": {},
   "source": [
    " - Reordenando as colunas"
   ]
  },
  {
   "cell_type": "code",
   "execution_count": 8,
   "metadata": {},
   "outputs": [],
   "source": [
    "df = df[['marca', 'modelo','ano','quilometragem', 'preco']]"
   ]
  },
  {
   "cell_type": "code",
   "execution_count": 9,
   "metadata": {},
   "outputs": [
    {
     "data": {
      "text/html": [
       "<div>\n",
       "<style scoped>\n",
       "    .dataframe tbody tr th:only-of-type {\n",
       "        vertical-align: middle;\n",
       "    }\n",
       "\n",
       "    .dataframe tbody tr th {\n",
       "        vertical-align: top;\n",
       "    }\n",
       "\n",
       "    .dataframe thead th {\n",
       "        text-align: right;\n",
       "    }\n",
       "</style>\n",
       "<table border=\"1\" class=\"dataframe\">\n",
       "  <thead>\n",
       "    <tr style=\"text-align: right;\">\n",
       "      <th></th>\n",
       "      <th>marca</th>\n",
       "      <th>modelo</th>\n",
       "      <th>ano</th>\n",
       "      <th>quilometragem</th>\n",
       "      <th>preco</th>\n",
       "    </tr>\n",
       "  </thead>\n",
       "  <tbody>\n",
       "    <tr>\n",
       "      <th>0</th>\n",
       "      <td>citroen</td>\n",
       "      <td>Xsara</td>\n",
       "      <td>2008</td>\n",
       "      <td>104.0</td>\n",
       "      <td>16.990</td>\n",
       "    </tr>\n",
       "    <tr>\n",
       "      <th>1</th>\n",
       "      <td>citroen</td>\n",
       "      <td>Aircross</td>\n",
       "      <td>2018</td>\n",
       "      <td>77.0</td>\n",
       "      <td>43.900</td>\n",
       "    </tr>\n",
       "    <tr>\n",
       "      <th>2</th>\n",
       "      <td>citroen</td>\n",
       "      <td>Jumpy</td>\n",
       "      <td>2021</td>\n",
       "      <td>0.0</td>\n",
       "      <td>163.900</td>\n",
       "    </tr>\n",
       "    <tr>\n",
       "      <th>3</th>\n",
       "      <td>citroen</td>\n",
       "      <td>C3</td>\n",
       "      <td>2013</td>\n",
       "      <td>65.0</td>\n",
       "      <td>34.990</td>\n",
       "    </tr>\n",
       "    <tr>\n",
       "      <th>4</th>\n",
       "      <td>citroen</td>\n",
       "      <td>Jumpy</td>\n",
       "      <td>2021</td>\n",
       "      <td>0.0</td>\n",
       "      <td>129.900</td>\n",
       "    </tr>\n",
       "  </tbody>\n",
       "</table>\n",
       "</div>"
      ],
      "text/plain": [
       "     marca    modelo   ano  quilometragem    preco\n",
       "0  citroen     Xsara  2008          104.0   16.990\n",
       "1  citroen  Aircross  2018           77.0   43.900\n",
       "2  citroen     Jumpy  2021            0.0  163.900\n",
       "3  citroen        C3  2013           65.0   34.990\n",
       "4  citroen     Jumpy  2021            0.0  129.900"
      ]
     },
     "execution_count": 9,
     "metadata": {},
     "output_type": "execute_result"
    }
   ],
   "source": [
    "df.head()"
   ]
  },
  {
   "cell_type": "markdown",
   "metadata": {},
   "source": [
    " - Convertendo a coluna preço para float"
   ]
  },
  {
   "cell_type": "code",
   "execution_count": 10,
   "metadata": {},
   "outputs": [],
   "source": [
    "df['preco'] = df['preco'].str.replace('.', '')\n",
    "df['preco'] = df['preco'].astype(float)"
   ]
  },
  {
   "cell_type": "code",
   "execution_count": 11,
   "metadata": {},
   "outputs": [
    {
     "data": {
      "text/html": [
       "<div>\n",
       "<style scoped>\n",
       "    .dataframe tbody tr th:only-of-type {\n",
       "        vertical-align: middle;\n",
       "    }\n",
       "\n",
       "    .dataframe tbody tr th {\n",
       "        vertical-align: top;\n",
       "    }\n",
       "\n",
       "    .dataframe thead th {\n",
       "        text-align: right;\n",
       "    }\n",
       "</style>\n",
       "<table border=\"1\" class=\"dataframe\">\n",
       "  <thead>\n",
       "    <tr style=\"text-align: right;\">\n",
       "      <th></th>\n",
       "      <th>marca</th>\n",
       "      <th>modelo</th>\n",
       "      <th>ano</th>\n",
       "      <th>quilometragem</th>\n",
       "      <th>preco</th>\n",
       "    </tr>\n",
       "  </thead>\n",
       "  <tbody>\n",
       "    <tr>\n",
       "      <th>0</th>\n",
       "      <td>citroen</td>\n",
       "      <td>Xsara</td>\n",
       "      <td>2008</td>\n",
       "      <td>104.0</td>\n",
       "      <td>16990.0</td>\n",
       "    </tr>\n",
       "    <tr>\n",
       "      <th>1</th>\n",
       "      <td>citroen</td>\n",
       "      <td>Aircross</td>\n",
       "      <td>2018</td>\n",
       "      <td>77.0</td>\n",
       "      <td>43900.0</td>\n",
       "    </tr>\n",
       "    <tr>\n",
       "      <th>2</th>\n",
       "      <td>citroen</td>\n",
       "      <td>Jumpy</td>\n",
       "      <td>2021</td>\n",
       "      <td>0.0</td>\n",
       "      <td>163900.0</td>\n",
       "    </tr>\n",
       "    <tr>\n",
       "      <th>3</th>\n",
       "      <td>citroen</td>\n",
       "      <td>C3</td>\n",
       "      <td>2013</td>\n",
       "      <td>65.0</td>\n",
       "      <td>34990.0</td>\n",
       "    </tr>\n",
       "    <tr>\n",
       "      <th>4</th>\n",
       "      <td>citroen</td>\n",
       "      <td>Jumpy</td>\n",
       "      <td>2021</td>\n",
       "      <td>0.0</td>\n",
       "      <td>129900.0</td>\n",
       "    </tr>\n",
       "  </tbody>\n",
       "</table>\n",
       "</div>"
      ],
      "text/plain": [
       "     marca    modelo   ano  quilometragem     preco\n",
       "0  citroen     Xsara  2008          104.0   16990.0\n",
       "1  citroen  Aircross  2018           77.0   43900.0\n",
       "2  citroen     Jumpy  2021            0.0  163900.0\n",
       "3  citroen        C3  2013           65.0   34990.0\n",
       "4  citroen     Jumpy  2021            0.0  129900.0"
      ]
     },
     "execution_count": 11,
     "metadata": {},
     "output_type": "execute_result"
    }
   ],
   "source": [
    "df.head()"
   ]
  },
  {
   "cell_type": "code",
   "execution_count": 12,
   "metadata": {},
   "outputs": [
    {
     "name": "stdout",
     "output_type": "stream",
     "text": [
      "<class 'pandas.core.frame.DataFrame'>\n",
      "RangeIndex: 6376 entries, 0 to 6375\n",
      "Data columns (total 5 columns):\n",
      " #   Column         Non-Null Count  Dtype  \n",
      "---  ------         --------------  -----  \n",
      " 0   marca          6376 non-null   object \n",
      " 1   modelo         6376 non-null   object \n",
      " 2   ano            6376 non-null   int64  \n",
      " 3   quilometragem  6376 non-null   float64\n",
      " 4   preco          6376 non-null   float64\n",
      "dtypes: float64(2), int64(1), object(2)\n",
      "memory usage: 249.2+ KB\n"
     ]
    }
   ],
   "source": [
    "df.info()"
   ]
  },
  {
   "cell_type": "markdown",
   "metadata": {},
   "source": [
    " - Verificando a existência de valores nulos."
   ]
  },
  {
   "cell_type": "code",
   "execution_count": 13,
   "metadata": {},
   "outputs": [
    {
     "data": {
      "text/plain": [
       "marca            0\n",
       "modelo           0\n",
       "ano              0\n",
       "quilometragem    0\n",
       "preco            0\n",
       "dtype: int64"
      ]
     },
     "execution_count": 13,
     "metadata": {},
     "output_type": "execute_result"
    }
   ],
   "source": [
    "df.isna().sum()"
   ]
  },
  {
   "cell_type": "code",
   "execution_count": 14,
   "metadata": {},
   "outputs": [
    {
     "data": {
      "text/html": [
       "<div>\n",
       "<style scoped>\n",
       "    .dataframe tbody tr th:only-of-type {\n",
       "        vertical-align: middle;\n",
       "    }\n",
       "\n",
       "    .dataframe tbody tr th {\n",
       "        vertical-align: top;\n",
       "    }\n",
       "\n",
       "    .dataframe thead th {\n",
       "        text-align: right;\n",
       "    }\n",
       "</style>\n",
       "<table border=\"1\" class=\"dataframe\">\n",
       "  <thead>\n",
       "    <tr style=\"text-align: right;\">\n",
       "      <th></th>\n",
       "      <th>ano</th>\n",
       "      <th>quilometragem</th>\n",
       "      <th>preco</th>\n",
       "    </tr>\n",
       "  </thead>\n",
       "  <tbody>\n",
       "    <tr>\n",
       "      <th>count</th>\n",
       "      <td>6376.000000</td>\n",
       "      <td>6376.000000</td>\n",
       "      <td>6.376000e+03</td>\n",
       "    </tr>\n",
       "    <tr>\n",
       "      <th>mean</th>\n",
       "      <td>2014.936324</td>\n",
       "      <td>78.945124</td>\n",
       "      <td>1.010590e+05</td>\n",
       "    </tr>\n",
       "    <tr>\n",
       "      <th>std</th>\n",
       "      <td>4.769612</td>\n",
       "      <td>85.825499</td>\n",
       "      <td>6.295357e+05</td>\n",
       "    </tr>\n",
       "    <tr>\n",
       "      <th>min</th>\n",
       "      <td>1974.000000</td>\n",
       "      <td>0.000000</td>\n",
       "      <td>6.500000e+03</td>\n",
       "    </tr>\n",
       "    <tr>\n",
       "      <th>25%</th>\n",
       "      <td>2012.000000</td>\n",
       "      <td>29.000000</td>\n",
       "      <td>3.800000e+04</td>\n",
       "    </tr>\n",
       "    <tr>\n",
       "      <th>50%</th>\n",
       "      <td>2015.000000</td>\n",
       "      <td>69.000000</td>\n",
       "      <td>6.689500e+04</td>\n",
       "    </tr>\n",
       "    <tr>\n",
       "      <th>75%</th>\n",
       "      <td>2019.000000</td>\n",
       "      <td>105.000000</td>\n",
       "      <td>1.149900e+05</td>\n",
       "    </tr>\n",
       "    <tr>\n",
       "      <th>max</th>\n",
       "      <td>2022.000000</td>\n",
       "      <td>999.999000</td>\n",
       "      <td>3.990000e+07</td>\n",
       "    </tr>\n",
       "  </tbody>\n",
       "</table>\n",
       "</div>"
      ],
      "text/plain": [
       "               ano  quilometragem         preco\n",
       "count  6376.000000    6376.000000  6.376000e+03\n",
       "mean   2014.936324      78.945124  1.010590e+05\n",
       "std       4.769612      85.825499  6.295357e+05\n",
       "min    1974.000000       0.000000  6.500000e+03\n",
       "25%    2012.000000      29.000000  3.800000e+04\n",
       "50%    2015.000000      69.000000  6.689500e+04\n",
       "75%    2019.000000     105.000000  1.149900e+05\n",
       "max    2022.000000     999.999000  3.990000e+07"
      ]
     },
     "execution_count": 14,
     "metadata": {},
     "output_type": "execute_result"
    }
   ],
   "source": [
    "df.describe()"
   ]
  },
  {
   "cell_type": "code",
   "execution_count": 15,
   "metadata": {},
   "outputs": [
    {
     "data": {
      "text/html": [
       "<div>\n",
       "<style scoped>\n",
       "    .dataframe tbody tr th:only-of-type {\n",
       "        vertical-align: middle;\n",
       "    }\n",
       "\n",
       "    .dataframe tbody tr th {\n",
       "        vertical-align: top;\n",
       "    }\n",
       "\n",
       "    .dataframe thead th {\n",
       "        text-align: right;\n",
       "    }\n",
       "</style>\n",
       "<table border=\"1\" class=\"dataframe\">\n",
       "  <thead>\n",
       "    <tr style=\"text-align: right;\">\n",
       "      <th></th>\n",
       "      <th>ano</th>\n",
       "      <th>quilometragem</th>\n",
       "      <th>preco</th>\n",
       "    </tr>\n",
       "  </thead>\n",
       "  <tbody>\n",
       "    <tr>\n",
       "      <th>ano</th>\n",
       "      <td>1.000000</td>\n",
       "      <td>-0.488278</td>\n",
       "      <td>0.022503</td>\n",
       "    </tr>\n",
       "    <tr>\n",
       "      <th>quilometragem</th>\n",
       "      <td>-0.488278</td>\n",
       "      <td>1.000000</td>\n",
       "      <td>-0.044597</td>\n",
       "    </tr>\n",
       "    <tr>\n",
       "      <th>preco</th>\n",
       "      <td>0.022503</td>\n",
       "      <td>-0.044597</td>\n",
       "      <td>1.000000</td>\n",
       "    </tr>\n",
       "  </tbody>\n",
       "</table>\n",
       "</div>"
      ],
      "text/plain": [
       "                    ano  quilometragem     preco\n",
       "ano            1.000000      -0.488278  0.022503\n",
       "quilometragem -0.488278       1.000000 -0.044597\n",
       "preco          0.022503      -0.044597  1.000000"
      ]
     },
     "execution_count": 15,
     "metadata": {},
     "output_type": "execute_result"
    }
   ],
   "source": [
    "df.corr()"
   ]
  },
  {
   "cell_type": "code",
   "execution_count": 16,
   "metadata": {},
   "outputs": [
    {
     "data": {
      "text/plain": [
       "<matplotlib.axes._subplots.AxesSubplot at 0xb53ccd0>"
      ]
     },
     "execution_count": 16,
     "metadata": {},
     "output_type": "execute_result"
    },
    {
     "data": {
      "image/png": "[encoded data removed]",
      "text/plain": [
       "<Figure size 432x288 with 2 Axes>"
      ]
     },
     "metadata": {
      "needs_background": "light"
     },
     "output_type": "display_data"
    }
   ],
   "source": [
    "sns.heatmap(df.corr(), annot=True, center=0, cmap=\"YlGnBu\")"
   ]
  },
  {
   "cell_type": "markdown",
   "metadata": {},
   "source": [
    "- Gerando algumas visualizações."
   ]
  },
  {
   "cell_type": "code",
   "execution_count": 17,
   "metadata": {},
   "outputs": [
    {
     "data": {
      "image/png": "[encoded data removed]",
      "text/plain": [
       "<Figure size 1800x1080 with 4 Axes>"
      ]
     },
     "metadata": {
      "needs_background": "light"
     },
     "output_type": "display_data"
    }
   ],
   "source": [
    "df.hist(figsize=(25,15))\n",
    "plt.show()"
   ]
  },
  {
   "cell_type": "code",
   "execution_count": 18,
   "metadata": {},
   "outputs": [
    {
     "data": {
      "text/plain": [
       "<seaborn.axisgrid.PairGrid at 0xb53c580>"
      ]
     },
     "execution_count": 18,
     "metadata": {},
     "output_type": "execute_result"
    },
    {
     "data": {
      "image/png": "[encoded data removed]",
      "text/plain": [
       "<Figure size 653.875x540 with 12 Axes>"
      ]
     },
     "metadata": {
      "needs_background": "light"
     },
     "output_type": "display_data"
    }
   ],
   "source": [
    "sns.pairplot(data = df, hue = 'marca')"
   ]
  },
  {
   "cell_type": "code",
   "execution_count": null,
   "metadata": {},
   "outputs": [],
   "source": [
    "df.query('preco == 39900000.0')"
   ]
  }
 ],
 "metadata": {
  "kernelspec": {
   "display_name": "Python 3",
   "language": "python",
   "name": "python3"
  },
  "language_info": {
   "codemirror_mode": {
    "name": "ipython",
    "version": 3
   },
   "file_extension": ".py",
   "mimetype": "text/x-python",
   "name": "python",
   "nbconvert_exporter": "python",
   "pygments_lexer": "ipython3",
   "version": "3.8.3"
  }
 },
 "nbformat": 4,
 "nbformat_minor": 4
}
