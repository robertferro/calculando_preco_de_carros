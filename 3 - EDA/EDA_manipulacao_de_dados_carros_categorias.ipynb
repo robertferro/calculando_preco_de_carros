{
 "cells": [
  {
   "cell_type": "code",
   "execution_count": 1,
   "metadata": {},
   "outputs": [],
   "source": [
    "import pandas as pd\n",
    "import numpy as np\n",
    "import matplotlib.pyplot as plt\n",
    "import seaborn as sns\n",
    "import re"
   ]
  },
  {
   "cell_type": "code",
   "execution_count": null,
   "metadata": {},
   "outputs": [],
   "source": [
    "url = 'https://raw.githubusercontent.com/robertferro/carros/main/2%20-%20Manipula%C3%A7%C3%A3o%20de%20dados/carros_ml_categorias_pre_processados.csv'"
   ]
  },
  {
   "cell_type": "code",
   "execution_count": 2,
   "metadata": {},
   "outputs": [],
   "source": [
    "df = pd.read_csv(url, sep = ',')"
   ]
  },
  {
   "cell_type": "code",
   "execution_count": 3,
   "metadata": {},
   "outputs": [
    {
     "data": {
      "text/html": [
       "<div>\n",
       "<style scoped>\n",
       "    .dataframe tbody tr th:only-of-type {\n",
       "        vertical-align: middle;\n",
       "    }\n",
       "\n",
       "    .dataframe tbody tr th {\n",
       "        vertical-align: top;\n",
       "    }\n",
       "\n",
       "    .dataframe thead th {\n",
       "        text-align: right;\n",
       "    }\n",
       "</style>\n",
       "<table border=\"1\" class=\"dataframe\">\n",
       "  <thead>\n",
       "    <tr style=\"text-align: right;\">\n",
       "      <th></th>\n",
       "      <th>preco</th>\n",
       "      <th>quilometragem</th>\n",
       "      <th>ano</th>\n",
       "      <th>marca</th>\n",
       "      <th>modelo</th>\n",
       "      <th>informacoes</th>\n",
       "    </tr>\n",
       "  </thead>\n",
       "  <tbody>\n",
       "    <tr>\n",
       "      <th>0</th>\n",
       "      <td>114900</td>\n",
       "      <td>100000</td>\n",
       "      <td>2013</td>\n",
       "      <td>volkswagem</td>\n",
       "      <td>Fox</td>\n",
       "      <td>1.0 Trend Tec Total Flex 5p</td>\n",
       "    </tr>\n",
       "    <tr>\n",
       "      <th>1</th>\n",
       "      <td>29990</td>\n",
       "      <td>71000</td>\n",
       "      <td>2012</td>\n",
       "      <td>citroen</td>\n",
       "      <td>C3</td>\n",
       "      <td>1.4 8v Glx Flex 5p</td>\n",
       "    </tr>\n",
       "    <tr>\n",
       "      <th>2</th>\n",
       "      <td>23990</td>\n",
       "      <td>84000</td>\n",
       "      <td>2013</td>\n",
       "      <td>volkswagem</td>\n",
       "      <td>Fox</td>\n",
       "      <td>1.0 Trend Tec Total Flex 5p</td>\n",
       "    </tr>\n",
       "    <tr>\n",
       "      <th>3</th>\n",
       "      <td>28990</td>\n",
       "      <td>10800</td>\n",
       "      <td>2019</td>\n",
       "      <td>ford</td>\n",
       "      <td>Ka</td>\n",
       "      <td>1.0 Se Flex 5p</td>\n",
       "    </tr>\n",
       "    <tr>\n",
       "      <th>4</th>\n",
       "      <td>47879</td>\n",
       "      <td>23000</td>\n",
       "      <td>2017</td>\n",
       "      <td>hyundai</td>\n",
       "      <td>Hb20</td>\n",
       "      <td>1.0 Comfort Plus Flex 5p</td>\n",
       "    </tr>\n",
       "  </tbody>\n",
       "</table>\n",
       "</div>"
      ],
      "text/plain": [
       "    preco  quilometragem   ano       marca modelo                  informacoes\n",
       "0  114900         100000  2013  volkswagem    Fox  1.0 Trend Tec Total Flex 5p\n",
       "1   29990          71000  2012     citroen     C3           1.4 8v Glx Flex 5p\n",
       "2   23990          84000  2013  volkswagem    Fox  1.0 Trend Tec Total Flex 5p\n",
       "3   28990          10800  2019        ford     Ka               1.0 Se Flex 5p\n",
       "4   47879          23000  2017     hyundai   Hb20     1.0 Comfort Plus Flex 5p"
      ]
     },
     "execution_count": 3,
     "metadata": {},
     "output_type": "execute_result"
    }
   ],
   "source": [
    "df.head()"
   ]
  },
  {
   "cell_type": "code",
   "execution_count": 4,
   "metadata": {},
   "outputs": [
    {
     "name": "stdout",
     "output_type": "stream",
     "text": [
      "<class 'pandas.core.frame.DataFrame'>\n",
      "RangeIndex: 12202 entries, 0 to 12201\n",
      "Data columns (total 6 columns):\n",
      " #   Column         Non-Null Count  Dtype \n",
      "---  ------         --------------  ----- \n",
      " 0   preco          12202 non-null  int64 \n",
      " 1   quilometragem  12202 non-null  uint64\n",
      " 2   ano            12202 non-null  int64 \n",
      " 3   marca          12202 non-null  object\n",
      " 4   modelo         12202 non-null  object\n",
      " 5   informacoes    12202 non-null  object\n",
      "dtypes: int64(2), object(3), uint64(1)\n",
      "memory usage: 572.1+ KB\n"
     ]
    }
   ],
   "source": [
    "df.info()"
   ]
  },
  {
   "cell_type": "code",
   "execution_count": null,
   "metadata": {},
   "outputs": [],
   "source": [
    "# pd.set_option('display.max_rows', 250)\n",
    "# df.modelo.value_counts().tail(250)"
   ]
  },
  {
   "cell_type": "code",
   "execution_count": 5,
   "metadata": {},
   "outputs": [
    {
     "data": {
      "text/plain": [
       "(12202, 6)"
      ]
     },
     "execution_count": 5,
     "metadata": {},
     "output_type": "execute_result"
    }
   ],
   "source": [
    "df.shape"
   ]
  },
  {
   "cell_type": "markdown",
   "metadata": {},
   "source": [
    " ###  Criando a coluna motor"
   ]
  },
  {
   "cell_type": "markdown",
   "metadata": {},
   "source": [
    " - Fazendo um filtro na coluna informações e eliminando os dados não numéricos, iremos pegar apenas a potência do motor."
   ]
  },
  {
   "cell_type": "code",
   "execution_count": 6,
   "metadata": {},
   "outputs": [
    {
     "data": {
      "text/plain": [
       "2.3 Grand L2h2 5p                          282\n",
       "2.3 Executive L3h2 16l 5p                  212\n",
       "2.3 Extra L3h2 5p                          179\n",
       "2.3 Multijet Longo Teto Alto Economy 5p    106\n",
       "1.4 Standard Total Flex 3p                 103\n",
       "                                          ... \n",
       "Classic 1.0 Life 4p Gasolina                 1\n",
       "3 320i                                       1\n",
       "A 1.6 Classic 5p 102 Hp                      1\n",
       "Gla 2.0 Sport Turbo 5p                       1\n",
       "Sedan 2.0 Comfort Flex Power 4p              1\n",
       "Name: informacoes, Length: 2883, dtype: int64"
      ]
     },
     "execution_count": 6,
     "metadata": {},
     "output_type": "execute_result"
    }
   ],
   "source": [
    "df.informacoes.value_counts()"
   ]
  },
  {
   "cell_type": "markdown",
   "metadata": {},
   "source": [
    " - Desenvolvendo  a função"
   ]
  },
  {
   "cell_type": "code",
   "execution_count": 7,
   "metadata": {},
   "outputs": [],
   "source": [
    "# entrada = 'Hilux Sw4 4x4 3.0 Turbo Diesel'\n",
    "entrada = 'Oroch Duster Oroch Dyna. 2.0 Flex 16v Aut.'"
   ]
  },
  {
   "cell_type": "code",
   "execution_count": 8,
   "metadata": {},
   "outputs": [],
   "source": [
    "entrada = entrada.split()"
   ]
  },
  {
   "cell_type": "code",
   "execution_count": 9,
   "metadata": {},
   "outputs": [
    {
     "data": {
      "text/plain": [
       "['Oroch', 'Duster', 'Oroch', 'Dyna.', '2.0', 'Flex', '16v', 'Aut.']"
      ]
     },
     "execution_count": 9,
     "metadata": {},
     "output_type": "execute_result"
    }
   ],
   "source": [
    "entrada"
   ]
  },
  {
   "cell_type": "code",
   "execution_count": 10,
   "metadata": {},
   "outputs": [],
   "source": [
    "nova_entrada = []\n",
    "for num in  entrada :\n",
    "    if len(num) == 3 and '.' in num:\n",
    "        nova_entrada.append(num)"
   ]
  },
  {
   "cell_type": "code",
   "execution_count": 11,
   "metadata": {},
   "outputs": [
    {
     "data": {
      "text/plain": [
       "['2.0']"
      ]
     },
     "execution_count": 11,
     "metadata": {},
     "output_type": "execute_result"
    }
   ],
   "source": [
    "nova_entrada"
   ]
  },
  {
   "cell_type": "code",
   "execution_count": 12,
   "metadata": {},
   "outputs": [],
   "source": [
    "if  len(nova_entrada) == 0:\n",
    "     motor = np.nan\n",
    "else:\n",
    "    motor = nova_entrada"
   ]
  },
  {
   "cell_type": "code",
   "execution_count": 13,
   "metadata": {},
   "outputs": [
    {
     "data": {
      "text/plain": [
       "['2.0']"
      ]
     },
     "execution_count": 13,
     "metadata": {},
     "output_type": "execute_result"
    }
   ],
   "source": [
    "motor"
   ]
  },
  {
   "cell_type": "markdown",
   "metadata": {},
   "source": [
    " ## Função pra pegar a potênia do motor "
   ]
  },
  {
   "cell_type": "code",
   "execution_count": 14,
   "metadata": {},
   "outputs": [],
   "source": [
    "def pegar_potencia_do_motor(entrada):\n",
    "    entrada = entrada.split()\n",
    "    \n",
    "    nova_entrada = []\n",
    "    for num in  entrada :\n",
    "        if len(num) == 3 and '.' in num:\n",
    "            nova_entrada.append(num)\n",
    "            \n",
    "            \n",
    "    if  len(nova_entrada) == 0:\n",
    "         motor = np.nan\n",
    "    else:\n",
    "        motor = nova_entrada\n",
    "        motor = motor[0]\n",
    "    \n",
    "    return motor"
   ]
  },
  {
   "cell_type": "markdown",
   "metadata": {},
   "source": [
    " - Testando a função"
   ]
  },
  {
   "cell_type": "code",
   "execution_count": 15,
   "metadata": {},
   "outputs": [],
   "source": [
    "# entrada = 'Hilux Sw4 4x4 3.0 Turbo Diesel'\n",
    "entrada = 'Oroch Duster Oroch Dyna. 2.0 Flex 16v Aut.'"
   ]
  },
  {
   "cell_type": "code",
   "execution_count": 16,
   "metadata": {},
   "outputs": [
    {
     "data": {
      "text/plain": [
       "'2.0'"
      ]
     },
     "execution_count": 16,
     "metadata": {},
     "output_type": "execute_result"
    }
   ],
   "source": [
    "pegar_potencia_do_motor(entrada)"
   ]
  },
  {
   "cell_type": "markdown",
   "metadata": {},
   "source": [
    " - Testando em um subset."
   ]
  },
  {
   "cell_type": "code",
   "execution_count": 17,
   "metadata": {},
   "outputs": [],
   "source": [
    "pot_subset = list(df.informacoes.head())"
   ]
  },
  {
   "cell_type": "code",
   "execution_count": 18,
   "metadata": {},
   "outputs": [],
   "source": [
    "pot_subset.append(entrada)"
   ]
  },
  {
   "cell_type": "code",
   "execution_count": 19,
   "metadata": {},
   "outputs": [
    {
     "data": {
      "text/plain": [
       "['1.0 Trend Tec Total Flex 5p',\n",
       " '1.4 8v Glx Flex 5p',\n",
       " '1.0 Trend Tec Total Flex 5p',\n",
       " '1.0 Se Flex 5p',\n",
       " '1.0 Comfort Plus Flex 5p',\n",
       " 'Oroch Duster Oroch Dyna. 2.0 Flex 16v Aut.']"
      ]
     },
     "execution_count": 19,
     "metadata": {},
     "output_type": "execute_result"
    }
   ],
   "source": [
    "pot_subset"
   ]
  },
  {
   "cell_type": "code",
   "execution_count": 20,
   "metadata": {},
   "outputs": [
    {
     "name": "stdout",
     "output_type": "stream",
     "text": [
      "1.0\n",
      "1.4\n",
      "1.0\n",
      "1.0\n",
      "1.0\n",
      "2.0\n"
     ]
    }
   ],
   "source": [
    "for pot in pot_subset:\n",
    "  print(pegar_potencia_do_motor(pot))"
   ]
  },
  {
   "cell_type": "markdown",
   "metadata": {},
   "source": [
    " - Criando a coluna motor"
   ]
  },
  {
   "cell_type": "code",
   "execution_count": 21,
   "metadata": {},
   "outputs": [],
   "source": [
    "df['motor'] = df['informacoes'].apply(pegar_potencia_do_motor)"
   ]
  },
  {
   "cell_type": "code",
   "execution_count": 22,
   "metadata": {},
   "outputs": [
    {
     "data": {
      "text/html": [
       "<div>\n",
       "<style scoped>\n",
       "    .dataframe tbody tr th:only-of-type {\n",
       "        vertical-align: middle;\n",
       "    }\n",
       "\n",
       "    .dataframe tbody tr th {\n",
       "        vertical-align: top;\n",
       "    }\n",
       "\n",
       "    .dataframe thead th {\n",
       "        text-align: right;\n",
       "    }\n",
       "</style>\n",
       "<table border=\"1\" class=\"dataframe\">\n",
       "  <thead>\n",
       "    <tr style=\"text-align: right;\">\n",
       "      <th></th>\n",
       "      <th>preco</th>\n",
       "      <th>quilometragem</th>\n",
       "      <th>ano</th>\n",
       "      <th>marca</th>\n",
       "      <th>modelo</th>\n",
       "      <th>informacoes</th>\n",
       "      <th>motor</th>\n",
       "    </tr>\n",
       "  </thead>\n",
       "  <tbody>\n",
       "    <tr>\n",
       "      <th>0</th>\n",
       "      <td>114900</td>\n",
       "      <td>100000</td>\n",
       "      <td>2013</td>\n",
       "      <td>volkswagem</td>\n",
       "      <td>Fox</td>\n",
       "      <td>1.0 Trend Tec Total Flex 5p</td>\n",
       "      <td>1.0</td>\n",
       "    </tr>\n",
       "    <tr>\n",
       "      <th>1</th>\n",
       "      <td>29990</td>\n",
       "      <td>71000</td>\n",
       "      <td>2012</td>\n",
       "      <td>citroen</td>\n",
       "      <td>C3</td>\n",
       "      <td>1.4 8v Glx Flex 5p</td>\n",
       "      <td>1.4</td>\n",
       "    </tr>\n",
       "    <tr>\n",
       "      <th>2</th>\n",
       "      <td>23990</td>\n",
       "      <td>84000</td>\n",
       "      <td>2013</td>\n",
       "      <td>volkswagem</td>\n",
       "      <td>Fox</td>\n",
       "      <td>1.0 Trend Tec Total Flex 5p</td>\n",
       "      <td>1.0</td>\n",
       "    </tr>\n",
       "    <tr>\n",
       "      <th>3</th>\n",
       "      <td>28990</td>\n",
       "      <td>10800</td>\n",
       "      <td>2019</td>\n",
       "      <td>ford</td>\n",
       "      <td>Ka</td>\n",
       "      <td>1.0 Se Flex 5p</td>\n",
       "      <td>1.0</td>\n",
       "    </tr>\n",
       "    <tr>\n",
       "      <th>4</th>\n",
       "      <td>47879</td>\n",
       "      <td>23000</td>\n",
       "      <td>2017</td>\n",
       "      <td>hyundai</td>\n",
       "      <td>Hb20</td>\n",
       "      <td>1.0 Comfort Plus Flex 5p</td>\n",
       "      <td>1.0</td>\n",
       "    </tr>\n",
       "  </tbody>\n",
       "</table>\n",
       "</div>"
      ],
      "text/plain": [
       "    preco  quilometragem   ano       marca modelo  \\\n",
       "0  114900         100000  2013  volkswagem    Fox   \n",
       "1   29990          71000  2012     citroen     C3   \n",
       "2   23990          84000  2013  volkswagem    Fox   \n",
       "3   28990          10800  2019        ford     Ka   \n",
       "4   47879          23000  2017     hyundai   Hb20   \n",
       "\n",
       "                   informacoes motor  \n",
       "0  1.0 Trend Tec Total Flex 5p   1.0  \n",
       "1           1.4 8v Glx Flex 5p   1.4  \n",
       "2  1.0 Trend Tec Total Flex 5p   1.0  \n",
       "3               1.0 Se Flex 5p   1.0  \n",
       "4     1.0 Comfort Plus Flex 5p   1.0  "
      ]
     },
     "execution_count": 22,
     "metadata": {},
     "output_type": "execute_result"
    }
   ],
   "source": [
    "df.head()"
   ]
  },
  {
   "cell_type": "code",
   "execution_count": 23,
   "metadata": {},
   "outputs": [],
   "source": [
    "# def pegar_potencia_do_motor(entrada):\n",
    "\n",
    "#     entrada = entrada.split()\n",
    "\n",
    "#     lista = [] []\n",
    "#     for num in entrada:\n",
    "#         m = re.sub('[^0-9 - $ # @]', '', num)\n",
    "#         lista.append(m)\n",
    "\n",
    "#     nova_lista=[]\n",
    "#     nova_lista_2 = []\n",
    "#     for num in lista :\n",
    "#         if len(num) == 2:\n",
    "#             nova_lista.append(num)\n",
    "#         else:\n",
    "#             num = np.nan\n",
    "#             nova_lista_2.append(num)\n",
    "\n",
    "\n",
    "#     if  len(nova_lista) == 0:\n",
    "#          motor = np.nan\n",
    "#     else:\n",
    "#         nova_lista = nova_lista[0]\n",
    "#         novo = nova_lista.replace('', '.')\n",
    "#         motor = novo[1:4]\n",
    "\n",
    "#     return motor"
   ]
  },
  {
   "cell_type": "markdown",
   "metadata": {},
   "source": [
    " - Visualizando os dados referentes a nova coluna."
   ]
  },
  {
   "cell_type": "code",
   "execution_count": 24,
   "metadata": {},
   "outputs": [
    {
     "data": {
      "text/plain": [
       "37"
      ]
     },
     "execution_count": 24,
     "metadata": {},
     "output_type": "execute_result"
    }
   ],
   "source": [
    "len(df.motor.value_counts())"
   ]
  },
  {
   "cell_type": "code",
   "execution_count": 25,
   "metadata": {},
   "outputs": [
    {
     "data": {
      "text/plain": [
       "1.6    1888\n",
       "2.0    1811\n",
       "2.3    1557\n",
       "1.4    1370\n",
       "1.0    1240\n",
       "1.8    1232\n",
       "2.2     569\n",
       "1.5     451\n",
       "2.8     282\n",
       "2.5     280\n",
       "2.4     206\n",
       "3.0     186\n",
       "1.3     119\n",
       "3.2      88\n",
       "3.6      75\n",
       "3.5      59\n",
       "2.7      58\n",
       "3.3      33\n",
       "3.8      28\n",
       "1.2      20\n",
       "1.9      14\n",
       "1.7      13\n",
       "4.2      12\n",
       "3.9      12\n",
       "2.6      10\n",
       "4.0      10\n",
       "5.9       5\n",
       "6.7       5\n",
       "4.4       4\n",
       "4.3       4\n",
       "E.l       3\n",
       "1.1       2\n",
       "3.7       2\n",
       "5.2       1\n",
       "6.2       1\n",
       "4.1       1\n",
       "5.0       1\n",
       "Name: motor, dtype: int64"
      ]
     },
     "execution_count": 25,
     "metadata": {},
     "output_type": "execute_result"
    }
   ],
   "source": [
    "df.motor.value_counts().tail(58)"
   ]
  },
  {
   "cell_type": "markdown",
   "metadata": {},
   "source": [
    " - Verificando um registro considerado estranho."
   ]
  },
  {
   "cell_type": "code",
   "execution_count": 26,
   "metadata": {},
   "outputs": [
    {
     "data": {
      "text/html": [
       "<div>\n",
       "<style scoped>\n",
       "    .dataframe tbody tr th:only-of-type {\n",
       "        vertical-align: middle;\n",
       "    }\n",
       "\n",
       "    .dataframe tbody tr th {\n",
       "        vertical-align: top;\n",
       "    }\n",
       "\n",
       "    .dataframe thead th {\n",
       "        text-align: right;\n",
       "    }\n",
       "</style>\n",
       "<table border=\"1\" class=\"dataframe\">\n",
       "  <thead>\n",
       "    <tr style=\"text-align: right;\">\n",
       "      <th></th>\n",
       "      <th>preco</th>\n",
       "      <th>quilometragem</th>\n",
       "      <th>ano</th>\n",
       "      <th>marca</th>\n",
       "      <th>modelo</th>\n",
       "      <th>informacoes</th>\n",
       "      <th>motor</th>\n",
       "    </tr>\n",
       "  </thead>\n",
       "  <tbody>\n",
       "    <tr>\n",
       "      <th>2145</th>\n",
       "      <td>165900</td>\n",
       "      <td>0</td>\n",
       "      <td>2021</td>\n",
       "      <td>mercedes</td>\n",
       "      <td>Sprinter</td>\n",
       "      <td>Furgão 516 T.a. E.l</td>\n",
       "      <td>E.l</td>\n",
       "    </tr>\n",
       "    <tr>\n",
       "      <th>4014</th>\n",
       "      <td>165900</td>\n",
       "      <td>0</td>\n",
       "      <td>2021</td>\n",
       "      <td>mercedes</td>\n",
       "      <td>Sprinter</td>\n",
       "      <td>Furgão 516 T.a. E.l</td>\n",
       "      <td>E.l</td>\n",
       "    </tr>\n",
       "    <tr>\n",
       "      <th>9417</th>\n",
       "      <td>199900</td>\n",
       "      <td>0</td>\n",
       "      <td>2021</td>\n",
       "      <td>mercedes</td>\n",
       "      <td>Sprinter</td>\n",
       "      <td>T.a. E.l</td>\n",
       "      <td>E.l</td>\n",
       "    </tr>\n",
       "  </tbody>\n",
       "</table>\n",
       "</div>"
      ],
      "text/plain": [
       "       preco  quilometragem   ano     marca    modelo          informacoes  \\\n",
       "2145  165900              0  2021  mercedes  Sprinter  Furgão 516 T.a. E.l   \n",
       "4014  165900              0  2021  mercedes  Sprinter  Furgão 516 T.a. E.l   \n",
       "9417  199900              0  2021  mercedes  Sprinter             T.a. E.l   \n",
       "\n",
       "     motor  \n",
       "2145   E.l  \n",
       "4014   E.l  \n",
       "9417   E.l  "
      ]
     },
     "execution_count": 26,
     "metadata": {},
     "output_type": "execute_result"
    }
   ],
   "source": [
    "df.query(' motor ==\"E.l\"')"
   ]
  },
  {
   "cell_type": "code",
   "execution_count": 27,
   "metadata": {},
   "outputs": [],
   "source": [
    "df.iloc[2145,6] = '2.2'"
   ]
  },
  {
   "cell_type": "code",
   "execution_count": 28,
   "metadata": {},
   "outputs": [],
   "source": [
    "df.iloc[4014,6] = '2.2'"
   ]
  },
  {
   "cell_type": "code",
   "execution_count": 29,
   "metadata": {},
   "outputs": [],
   "source": [
    "df.iloc[9417,6] = '2.2'"
   ]
  },
  {
   "cell_type": "code",
   "execution_count": 30,
   "metadata": {},
   "outputs": [
    {
     "data": {
      "text/html": [
       "<div>\n",
       "<style scoped>\n",
       "    .dataframe tbody tr th:only-of-type {\n",
       "        vertical-align: middle;\n",
       "    }\n",
       "\n",
       "    .dataframe tbody tr th {\n",
       "        vertical-align: top;\n",
       "    }\n",
       "\n",
       "    .dataframe thead th {\n",
       "        text-align: right;\n",
       "    }\n",
       "</style>\n",
       "<table border=\"1\" class=\"dataframe\">\n",
       "  <thead>\n",
       "    <tr style=\"text-align: right;\">\n",
       "      <th></th>\n",
       "      <th>preco</th>\n",
       "      <th>quilometragem</th>\n",
       "      <th>ano</th>\n",
       "      <th>marca</th>\n",
       "      <th>modelo</th>\n",
       "      <th>informacoes</th>\n",
       "      <th>motor</th>\n",
       "    </tr>\n",
       "  </thead>\n",
       "  <tbody>\n",
       "  </tbody>\n",
       "</table>\n",
       "</div>"
      ],
      "text/plain": [
       "Empty DataFrame\n",
       "Columns: [preco, quilometragem, ano, marca, modelo, informacoes, motor]\n",
       "Index: []"
      ]
     },
     "execution_count": 30,
     "metadata": {},
     "output_type": "execute_result"
    }
   ],
   "source": [
    "df.query(' motor ==\"E.l\"')"
   ]
  },
  {
   "cell_type": "code",
   "execution_count": 31,
   "metadata": {},
   "outputs": [
    {
     "data": {
      "text/plain": [
       "36"
      ]
     },
     "execution_count": 31,
     "metadata": {},
     "output_type": "execute_result"
    }
   ],
   "source": [
    "len(df.motor.value_counts())"
   ]
  },
  {
   "cell_type": "code",
   "execution_count": 32,
   "metadata": {},
   "outputs": [
    {
     "data": {
      "text/plain": [
       "1.6    1888\n",
       "2.0    1811\n",
       "2.3    1557\n",
       "1.4    1370\n",
       "1.0    1240\n",
       "1.8    1232\n",
       "2.2     572\n",
       "1.5     451\n",
       "2.8     282\n",
       "2.5     280\n",
       "2.4     206\n",
       "3.0     186\n",
       "1.3     119\n",
       "3.2      88\n",
       "3.6      75\n",
       "3.5      59\n",
       "2.7      58\n",
       "3.3      33\n",
       "3.8      28\n",
       "1.2      20\n",
       "1.9      14\n",
       "1.7      13\n",
       "4.2      12\n",
       "3.9      12\n",
       "2.6      10\n",
       "4.0      10\n",
       "5.9       5\n",
       "6.7       5\n",
       "4.4       4\n",
       "4.3       4\n",
       "1.1       2\n",
       "3.7       2\n",
       "5.2       1\n",
       "6.2       1\n",
       "4.1       1\n",
       "5.0       1\n",
       "Name: motor, dtype: int64"
      ]
     },
     "execution_count": 32,
     "metadata": {},
     "output_type": "execute_result"
    }
   ],
   "source": [
    "df.motor.value_counts()"
   ]
  },
  {
   "cell_type": "markdown",
   "metadata": {},
   "source": [
    " - Reordenando as colunas"
   ]
  },
  {
   "cell_type": "code",
   "execution_count": 33,
   "metadata": {},
   "outputs": [],
   "source": [
    "df = df[['marca', 'modelo','motor','informacoes','ano','quilometragem', 'preco']]"
   ]
  },
  {
   "cell_type": "code",
   "execution_count": 34,
   "metadata": {},
   "outputs": [
    {
     "data": {
      "text/html": [
       "<div>\n",
       "<style scoped>\n",
       "    .dataframe tbody tr th:only-of-type {\n",
       "        vertical-align: middle;\n",
       "    }\n",
       "\n",
       "    .dataframe tbody tr th {\n",
       "        vertical-align: top;\n",
       "    }\n",
       "\n",
       "    .dataframe thead th {\n",
       "        text-align: right;\n",
       "    }\n",
       "</style>\n",
       "<table border=\"1\" class=\"dataframe\">\n",
       "  <thead>\n",
       "    <tr style=\"text-align: right;\">\n",
       "      <th></th>\n",
       "      <th>marca</th>\n",
       "      <th>modelo</th>\n",
       "      <th>motor</th>\n",
       "      <th>informacoes</th>\n",
       "      <th>ano</th>\n",
       "      <th>quilometragem</th>\n",
       "      <th>preco</th>\n",
       "    </tr>\n",
       "  </thead>\n",
       "  <tbody>\n",
       "    <tr>\n",
       "      <th>0</th>\n",
       "      <td>volkswagem</td>\n",
       "      <td>Fox</td>\n",
       "      <td>1.0</td>\n",
       "      <td>1.0 Trend Tec Total Flex 5p</td>\n",
       "      <td>2013</td>\n",
       "      <td>100000</td>\n",
       "      <td>114900</td>\n",
       "    </tr>\n",
       "    <tr>\n",
       "      <th>1</th>\n",
       "      <td>citroen</td>\n",
       "      <td>C3</td>\n",
       "      <td>1.4</td>\n",
       "      <td>1.4 8v Glx Flex 5p</td>\n",
       "      <td>2012</td>\n",
       "      <td>71000</td>\n",
       "      <td>29990</td>\n",
       "    </tr>\n",
       "    <tr>\n",
       "      <th>2</th>\n",
       "      <td>volkswagem</td>\n",
       "      <td>Fox</td>\n",
       "      <td>1.0</td>\n",
       "      <td>1.0 Trend Tec Total Flex 5p</td>\n",
       "      <td>2013</td>\n",
       "      <td>84000</td>\n",
       "      <td>23990</td>\n",
       "    </tr>\n",
       "    <tr>\n",
       "      <th>3</th>\n",
       "      <td>ford</td>\n",
       "      <td>Ka</td>\n",
       "      <td>1.0</td>\n",
       "      <td>1.0 Se Flex 5p</td>\n",
       "      <td>2019</td>\n",
       "      <td>10800</td>\n",
       "      <td>28990</td>\n",
       "    </tr>\n",
       "    <tr>\n",
       "      <th>4</th>\n",
       "      <td>hyundai</td>\n",
       "      <td>Hb20</td>\n",
       "      <td>1.0</td>\n",
       "      <td>1.0 Comfort Plus Flex 5p</td>\n",
       "      <td>2017</td>\n",
       "      <td>23000</td>\n",
       "      <td>47879</td>\n",
       "    </tr>\n",
       "  </tbody>\n",
       "</table>\n",
       "</div>"
      ],
      "text/plain": [
       "        marca modelo motor                  informacoes   ano  quilometragem  \\\n",
       "0  volkswagem    Fox   1.0  1.0 Trend Tec Total Flex 5p  2013         100000   \n",
       "1     citroen     C3   1.4           1.4 8v Glx Flex 5p  2012          71000   \n",
       "2  volkswagem    Fox   1.0  1.0 Trend Tec Total Flex 5p  2013          84000   \n",
       "3        ford     Ka   1.0               1.0 Se Flex 5p  2019          10800   \n",
       "4     hyundai   Hb20   1.0     1.0 Comfort Plus Flex 5p  2017          23000   \n",
       "\n",
       "    preco  \n",
       "0  114900  \n",
       "1   29990  \n",
       "2   23990  \n",
       "3   28990  \n",
       "4   47879  "
      ]
     },
     "execution_count": 34,
     "metadata": {},
     "output_type": "execute_result"
    }
   ],
   "source": [
    "df.head()"
   ]
  },
  {
   "cell_type": "markdown",
   "metadata": {},
   "source": [
    " - Mudando o formato de algumas colunas."
   ]
  },
  {
   "cell_type": "code",
   "execution_count": 35,
   "metadata": {},
   "outputs": [
    {
     "name": "stdout",
     "output_type": "stream",
     "text": [
      "<class 'pandas.core.frame.DataFrame'>\n",
      "RangeIndex: 12202 entries, 0 to 12201\n",
      "Data columns (total 7 columns):\n",
      " #   Column         Non-Null Count  Dtype \n",
      "---  ------         --------------  ----- \n",
      " 0   marca          12202 non-null  object\n",
      " 1   modelo         12202 non-null  object\n",
      " 2   motor          11652 non-null  object\n",
      " 3   informacoes    12202 non-null  object\n",
      " 4   ano            12202 non-null  int64 \n",
      " 5   quilometragem  12202 non-null  uint64\n",
      " 6   preco          12202 non-null  int64 \n",
      "dtypes: int64(2), object(4), uint64(1)\n",
      "memory usage: 667.4+ KB\n"
     ]
    }
   ],
   "source": [
    "df.info()"
   ]
  },
  {
   "cell_type": "code",
   "execution_count": 36,
   "metadata": {},
   "outputs": [],
   "source": [
    "df['quilometragem'] = df['quilometragem'].astype(int)"
   ]
  },
  {
   "cell_type": "code",
   "execution_count": 43,
   "metadata": {},
   "outputs": [],
   "source": [
    "df['motor'] = df['motor'].astype(float)"
   ]
  },
  {
   "cell_type": "code",
   "execution_count": 44,
   "metadata": {},
   "outputs": [
    {
     "name": "stdout",
     "output_type": "stream",
     "text": [
      "<class 'pandas.core.frame.DataFrame'>\n",
      "RangeIndex: 12202 entries, 0 to 12201\n",
      "Data columns (total 7 columns):\n",
      " #   Column         Non-Null Count  Dtype  \n",
      "---  ------         --------------  -----  \n",
      " 0   marca          12202 non-null  object \n",
      " 1   modelo         12202 non-null  object \n",
      " 2   motor          11652 non-null  float64\n",
      " 3   informacoes    12202 non-null  object \n",
      " 4   ano            12202 non-null  int64  \n",
      " 5   quilometragem  12202 non-null  int32  \n",
      " 6   preco          12202 non-null  int64  \n",
      "dtypes: float64(1), int32(1), int64(2), object(3)\n",
      "memory usage: 619.8+ KB\n"
     ]
    }
   ],
   "source": [
    "df.info()"
   ]
  },
  {
   "cell_type": "markdown",
   "metadata": {},
   "source": [
    " - Verificando a existência de valores nulos."
   ]
  },
  {
   "cell_type": "code",
   "execution_count": 45,
   "metadata": {},
   "outputs": [
    {
     "data": {
      "text/plain": [
       "marca              0\n",
       "modelo             0\n",
       "motor            550\n",
       "informacoes        0\n",
       "ano                0\n",
       "quilometragem      0\n",
       "preco              0\n",
       "dtype: int64"
      ]
     },
     "execution_count": 45,
     "metadata": {},
     "output_type": "execute_result"
    }
   ],
   "source": [
    "df.isna().sum()"
   ]
  },
  {
   "cell_type": "code",
   "execution_count": 46,
   "metadata": {},
   "outputs": [
    {
     "data": {
      "text/html": [
       "<div>\n",
       "<style scoped>\n",
       "    .dataframe tbody tr th:only-of-type {\n",
       "        vertical-align: middle;\n",
       "    }\n",
       "\n",
       "    .dataframe tbody tr th {\n",
       "        vertical-align: top;\n",
       "    }\n",
       "\n",
       "    .dataframe thead th {\n",
       "        text-align: right;\n",
       "    }\n",
       "</style>\n",
       "<table border=\"1\" class=\"dataframe\">\n",
       "  <thead>\n",
       "    <tr style=\"text-align: right;\">\n",
       "      <th></th>\n",
       "      <th>motor</th>\n",
       "      <th>ano</th>\n",
       "      <th>quilometragem</th>\n",
       "      <th>preco</th>\n",
       "    </tr>\n",
       "  </thead>\n",
       "  <tbody>\n",
       "    <tr>\n",
       "      <th>count</th>\n",
       "      <td>11652.000000</td>\n",
       "      <td>12202.000000</td>\n",
       "      <td>1.220200e+04</td>\n",
       "      <td>1.220200e+04</td>\n",
       "    </tr>\n",
       "    <tr>\n",
       "      <th>mean</th>\n",
       "      <td>1.864478</td>\n",
       "      <td>2120.294952</td>\n",
       "      <td>5.870014e+03</td>\n",
       "      <td>8.022495e+04</td>\n",
       "    </tr>\n",
       "    <tr>\n",
       "      <th>std</th>\n",
       "      <td>0.566491</td>\n",
       "      <td>6746.953262</td>\n",
       "      <td>2.009298e+07</td>\n",
       "      <td>3.668699e+05</td>\n",
       "    </tr>\n",
       "    <tr>\n",
       "      <th>min</th>\n",
       "      <td>1.000000</td>\n",
       "      <td>1966.000000</td>\n",
       "      <td>-1.981284e+09</td>\n",
       "      <td>1.000000e+03</td>\n",
       "    </tr>\n",
       "    <tr>\n",
       "      <th>25%</th>\n",
       "      <td>1.500000</td>\n",
       "      <td>2011.000000</td>\n",
       "      <td>1.220000e+02</td>\n",
       "      <td>3.300000e+04</td>\n",
       "    </tr>\n",
       "    <tr>\n",
       "      <th>50%</th>\n",
       "      <td>1.800000</td>\n",
       "      <td>2015.000000</td>\n",
       "      <td>7.300000e+04</td>\n",
       "      <td>5.798000e+04</td>\n",
       "    </tr>\n",
       "    <tr>\n",
       "      <th>75%</th>\n",
       "      <td>2.300000</td>\n",
       "      <td>2019.000000</td>\n",
       "      <td>1.250000e+05</td>\n",
       "      <td>1.003675e+05</td>\n",
       "    </tr>\n",
       "    <tr>\n",
       "      <th>max</th>\n",
       "      <td>6.700000</td>\n",
       "      <td>436662.000000</td>\n",
       "      <td>1.000000e+09</td>\n",
       "      <td>3.990000e+07</td>\n",
       "    </tr>\n",
       "  </tbody>\n",
       "</table>\n",
       "</div>"
      ],
      "text/plain": [
       "              motor            ano  quilometragem         preco\n",
       "count  11652.000000   12202.000000   1.220200e+04  1.220200e+04\n",
       "mean       1.864478    2120.294952   5.870014e+03  8.022495e+04\n",
       "std        0.566491    6746.953262   2.009298e+07  3.668699e+05\n",
       "min        1.000000    1966.000000  -1.981284e+09  1.000000e+03\n",
       "25%        1.500000    2011.000000   1.220000e+02  3.300000e+04\n",
       "50%        1.800000    2015.000000   7.300000e+04  5.798000e+04\n",
       "75%        2.300000    2019.000000   1.250000e+05  1.003675e+05\n",
       "max        6.700000  436662.000000   1.000000e+09  3.990000e+07"
      ]
     },
     "execution_count": 46,
     "metadata": {},
     "output_type": "execute_result"
    }
   ],
   "source": [
    "df.describe()"
   ]
  },
  {
   "cell_type": "code",
   "execution_count": 47,
   "metadata": {},
   "outputs": [
    {
     "data": {
      "text/html": [
       "<div>\n",
       "<style scoped>\n",
       "    .dataframe tbody tr th:only-of-type {\n",
       "        vertical-align: middle;\n",
       "    }\n",
       "\n",
       "    .dataframe tbody tr th {\n",
       "        vertical-align: top;\n",
       "    }\n",
       "\n",
       "    .dataframe thead th {\n",
       "        text-align: right;\n",
       "    }\n",
       "</style>\n",
       "<table border=\"1\" class=\"dataframe\">\n",
       "  <thead>\n",
       "    <tr style=\"text-align: right;\">\n",
       "      <th></th>\n",
       "      <th>motor</th>\n",
       "      <th>ano</th>\n",
       "      <th>quilometragem</th>\n",
       "      <th>preco</th>\n",
       "    </tr>\n",
       "  </thead>\n",
       "  <tbody>\n",
       "    <tr>\n",
       "      <th>motor</th>\n",
       "      <td>1.000000</td>\n",
       "      <td>0.000226</td>\n",
       "      <td>-0.004768</td>\n",
       "      <td>0.045340</td>\n",
       "    </tr>\n",
       "    <tr>\n",
       "      <th>ano</th>\n",
       "      <td>0.000226</td>\n",
       "      <td>1.000000</td>\n",
       "      <td>0.000087</td>\n",
       "      <td>-0.001558</td>\n",
       "    </tr>\n",
       "    <tr>\n",
       "      <th>quilometragem</th>\n",
       "      <td>-0.004768</td>\n",
       "      <td>0.000087</td>\n",
       "      <td>1.000000</td>\n",
       "      <td>-0.003565</td>\n",
       "    </tr>\n",
       "    <tr>\n",
       "      <th>preco</th>\n",
       "      <td>0.045340</td>\n",
       "      <td>-0.001558</td>\n",
       "      <td>-0.003565</td>\n",
       "      <td>1.000000</td>\n",
       "    </tr>\n",
       "  </tbody>\n",
       "</table>\n",
       "</div>"
      ],
      "text/plain": [
       "                  motor       ano  quilometragem     preco\n",
       "motor          1.000000  0.000226      -0.004768  0.045340\n",
       "ano            0.000226  1.000000       0.000087 -0.001558\n",
       "quilometragem -0.004768  0.000087       1.000000 -0.003565\n",
       "preco          0.045340 -0.001558      -0.003565  1.000000"
      ]
     },
     "execution_count": 47,
     "metadata": {},
     "output_type": "execute_result"
    }
   ],
   "source": [
    "df.corr()"
   ]
  },
  {
   "cell_type": "code",
   "execution_count": 48,
   "metadata": {},
   "outputs": [
    {
     "data": {
      "text/plain": [
       "<matplotlib.axes._subplots.AxesSubplot at 0x1c16e932ee0>"
      ]
     },
     "execution_count": 48,
     "metadata": {},
     "output_type": "execute_result"
    },
    {
     "data": {
      "image/png": "[encoded data removed]",
      "text/plain": [
       "<Figure size 432x288 with 2 Axes>"
      ]
     },
     "metadata": {
      "needs_background": "light"
     },
     "output_type": "display_data"
    }
   ],
   "source": [
    "sns.heatmap(df.corr(), annot=True, center=0, cmap=\"YlGnBu\")"
   ]
  },
  {
   "cell_type": "markdown",
   "metadata": {},
   "source": [
    "- Gerando algumas visualizações."
   ]
  },
  {
   "cell_type": "code",
   "execution_count": 49,
   "metadata": {},
   "outputs": [
    {
     "data": {
      "image/png": "[encoded data removed]",
      "text/plain": [
       "<Figure size 1800x1080 with 4 Axes>"
      ]
     },
     "metadata": {
      "needs_background": "light"
     },
     "output_type": "display_data"
    }
   ],
   "source": [
    "df.hist(figsize=(25,15))\n",
    "plt.show()"
   ]
  },
  {
   "cell_type": "code",
   "execution_count": 50,
   "metadata": {},
   "outputs": [
    {
     "name": "stderr",
     "output_type": "stream",
     "text": [
      "C:\\Users\\Biena\\anaconda3\\lib\\site-packages\\seaborn\\distributions.py:369: UserWarning: Default bandwidth for data is 0; skipping density estimation.\n",
      "  warnings.warn(msg, UserWarning)\n",
      "C:\\Users\\Biena\\anaconda3\\lib\\site-packages\\seaborn\\distributions.py:369: UserWarning: Default bandwidth for data is 0; skipping density estimation.\n",
      "  warnings.warn(msg, UserWarning)\n"
     ]
    },
    {
     "data": {
      "text/plain": [
       "<seaborn.axisgrid.PairGrid at 0x1c16e96f490>"
      ]
     },
     "execution_count": 50,
     "metadata": {},
     "output_type": "execute_result"
    },
    {
     "data": {
      "image/png": "[encoded data removed]",
      "text/plain": [
       "<Figure size 818.125x720 with 20 Axes>"
      ]
     },
     "metadata": {
      "needs_background": "light"
     },
     "output_type": "display_data"
    }
   ],
   "source": [
    "sns.pairplot(data = df, hue = 'marca')"
   ]
  },
  {
   "cell_type": "code",
   "execution_count": 57,
   "metadata": {},
   "outputs": [
    {
     "data": {
      "image/png": "[encoded data removed]",
      "text/plain": [
       "<Figure size 864x432 with 1 Axes>"
      ]
     },
     "metadata": {
      "needs_background": "light"
     },
     "output_type": "display_data"
    }
   ],
   "source": [
    "plt.figure(figsize=(12,6))\n",
    "sns.countplot(x = df['marca'],data = df)\n",
    "plt.title('Distribuição da quantidade de veículos por marca', fontsize = 16)\n",
    "plt.xlabel('Marcas', fontsize = 12)\n",
    "plt.ylabel('Quantidade de veículos', fontsize = 12)\n",
    "plt.xticks(rotation = 45)\n",
    "plt.show()"
   ]
  },
  {
   "cell_type": "code",
   "execution_count": 103,
   "metadata": {},
   "outputs": [
    {
     "data": {
      "text/html": [
       "<div>\n",
       "<style scoped>\n",
       "    .dataframe tbody tr th:only-of-type {\n",
       "        vertical-align: middle;\n",
       "    }\n",
       "\n",
       "    .dataframe tbody tr th {\n",
       "        vertical-align: top;\n",
       "    }\n",
       "\n",
       "    .dataframe thead th {\n",
       "        text-align: right;\n",
       "    }\n",
       "</style>\n",
       "<table border=\"1\" class=\"dataframe\">\n",
       "  <thead>\n",
       "    <tr style=\"text-align: right;\">\n",
       "      <th></th>\n",
       "      <th>marca</th>\n",
       "      <th>modelo</th>\n",
       "      <th>motor</th>\n",
       "      <th>informacoes</th>\n",
       "      <th>ano</th>\n",
       "      <th>quilometragem</th>\n",
       "      <th>preco</th>\n",
       "    </tr>\n",
       "  </thead>\n",
       "  <tbody>\n",
       "    <tr>\n",
       "      <th>0</th>\n",
       "      <td>volkswagem</td>\n",
       "      <td>Fox</td>\n",
       "      <td>1.0</td>\n",
       "      <td>1.0 Trend Tec Total Flex 5p</td>\n",
       "      <td>2013</td>\n",
       "      <td>100000</td>\n",
       "      <td>114900</td>\n",
       "    </tr>\n",
       "    <tr>\n",
       "      <th>1</th>\n",
       "      <td>citroen</td>\n",
       "      <td>C3</td>\n",
       "      <td>1.4</td>\n",
       "      <td>1.4 8v Glx Flex 5p</td>\n",
       "      <td>2012</td>\n",
       "      <td>71000</td>\n",
       "      <td>29990</td>\n",
       "    </tr>\n",
       "    <tr>\n",
       "      <th>2</th>\n",
       "      <td>volkswagem</td>\n",
       "      <td>Fox</td>\n",
       "      <td>1.0</td>\n",
       "      <td>1.0 Trend Tec Total Flex 5p</td>\n",
       "      <td>2013</td>\n",
       "      <td>84000</td>\n",
       "      <td>23990</td>\n",
       "    </tr>\n",
       "    <tr>\n",
       "      <th>3</th>\n",
       "      <td>ford</td>\n",
       "      <td>Ka</td>\n",
       "      <td>1.0</td>\n",
       "      <td>1.0 Se Flex 5p</td>\n",
       "      <td>2019</td>\n",
       "      <td>10800</td>\n",
       "      <td>28990</td>\n",
       "    </tr>\n",
       "    <tr>\n",
       "      <th>4</th>\n",
       "      <td>hyundai</td>\n",
       "      <td>Hb20</td>\n",
       "      <td>1.0</td>\n",
       "      <td>1.0 Comfort Plus Flex 5p</td>\n",
       "      <td>2017</td>\n",
       "      <td>23000</td>\n",
       "      <td>47879</td>\n",
       "    </tr>\n",
       "  </tbody>\n",
       "</table>\n",
       "</div>"
      ],
      "text/plain": [
       "        marca modelo  motor                  informacoes   ano  quilometragem  \\\n",
       "0  volkswagem    Fox    1.0  1.0 Trend Tec Total Flex 5p  2013         100000   \n",
       "1     citroen     C3    1.4           1.4 8v Glx Flex 5p  2012          71000   \n",
       "2  volkswagem    Fox    1.0  1.0 Trend Tec Total Flex 5p  2013          84000   \n",
       "3        ford     Ka    1.0               1.0 Se Flex 5p  2019          10800   \n",
       "4     hyundai   Hb20    1.0     1.0 Comfort Plus Flex 5p  2017          23000   \n",
       "\n",
       "    preco  \n",
       "0  114900  \n",
       "1   29990  \n",
       "2   23990  \n",
       "3   28990  \n",
       "4   47879  "
      ]
     },
     "execution_count": 103,
     "metadata": {},
     "output_type": "execute_result"
    }
   ],
   "source": [
    "df.head()"
   ]
  },
  {
   "cell_type": "code",
   "execution_count": 112,
   "metadata": {},
   "outputs": [
    {
     "data": {
      "text/plain": [
       "<matplotlib.axes._subplots.AxesSubplot at 0x1c171e78a90>"
      ]
     },
     "execution_count": 112,
     "metadata": {},
     "output_type": "execute_result"
    },
    {
     "data": {
      "image/png": "[encoded data removed]",
      "text/plain": [
       "<Figure size 864x432 with 1 Axes>"
      ]
     },
     "metadata": {
      "needs_background": "light"
     },
     "output_type": "display_data"
    }
   ],
   "source": [
    "plt.figure(figsize=(12,6))\n",
    "sns.scatterplot(data = df, y = \"quilometragem\", x=\"preco\" )"
   ]
  },
  {
   "cell_type": "code",
   "execution_count": null,
   "metadata": {},
   "outputs": [],
   "source": []
  },
  {
   "cell_type": "code",
   "execution_count": null,
   "metadata": {},
   "outputs": [],
   "source": []
  },
  {
   "cell_type": "code",
   "execution_count": null,
   "metadata": {},
   "outputs": [],
   "source": [
    "df.query('preco == 39900000.0')"
   ]
  }
 ],
 "metadata": {
  "kernelspec": {
   "display_name": "Python 3",
   "language": "python",
   "name": "python3"
  },
  "language_info": {
   "codemirror_mode": {
    "name": "ipython",
    "version": 3
   },
   "file_extension": ".py",
   "mimetype": "text/x-python",
   "name": "python",
   "nbconvert_exporter": "python",
   "pygments_lexer": "ipython3",
   "version": "3.8.3"
  }
 },
 "nbformat": 4,
 "nbformat_minor": 4
}
