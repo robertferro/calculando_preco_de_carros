{
  "nbformat": 4,
  "nbformat_minor": 0,
  "metadata": {
    "colab": {
      "name": "carros_triagem_modelos_machine_learning_filtrado.ipynb",
      "provenance": []
    },
    "kernelspec": {
      "display_name": "Python 3",
      "language": "python",
      "name": "python3"
    },
    "language_info": {
      "codemirror_mode": {
        "name": "ipython",
        "version": 3
      },
      "file_extension": ".py",
      "mimetype": "text/x-python",
      "name": "python",
      "nbconvert_exporter": "python",
      "pygments_lexer": "ipython3",
      "version": "3.8.3"
    }
  },
  "cells": [
    {
      "cell_type": "markdown",
      "metadata": {
        "id": "FVZHPjPOnINL"
      },
      "source": [
        "# Objetivo:\n",
        "\n",
        " - Encontrar o melhor algoritmo  para fazer a previsão do preço do carro."
      ]
    },
    {
      "cell_type": "code",
      "metadata": {
        "id": "UOzuxQtinINk"
      },
      "source": [
        "import pandas as pd\n",
        "import numpy as np\n",
        "import matplotlib.pyplot as plt\n",
        "import seaborn as sns"
      ],
      "execution_count": 1,
      "outputs": []
    },
    {
      "cell_type": "code",
      "metadata": {
        "id": "3JPuJT4znINm"
      },
      "source": [
        "url = 'https://raw.githubusercontent.com/robertferro/carros_populares/main/3%20-%20EDA/carros_populares_filtrados.csv'"
      ],
      "execution_count": 2,
      "outputs": []
    },
    {
      "cell_type": "code",
      "metadata": {
        "id": "nW1sd5vFnINn"
      },
      "source": [
        "df = pd.read_csv(url, sep = ',')"
      ],
      "execution_count": 3,
      "outputs": []
    },
    {
      "cell_type": "code",
      "metadata": {
        "colab": {
          "base_uri": "https://localhost:8080/",
          "height": 204
        },
        "id": "Ry6BxV2HnINo",
        "outputId": "f1f46588-1656-44dd-b3f2-947cb8bd901b"
      },
      "source": [
        "# pd.set_option('display.max_rows', 250)\n",
        "# df.modelo.value_counts().tail(250)\n",
        "df.head()"
      ],
      "execution_count": 4,
      "outputs": [
        {
          "output_type": "execute_result",
          "data": {
            "text/html": [
              "<div>\n",
              "<style scoped>\n",
              "    .dataframe tbody tr th:only-of-type {\n",
              "        vertical-align: middle;\n",
              "    }\n",
              "\n",
              "    .dataframe tbody tr th {\n",
              "        vertical-align: top;\n",
              "    }\n",
              "\n",
              "    .dataframe thead th {\n",
              "        text-align: right;\n",
              "    }\n",
              "</style>\n",
              "<table border=\"1\" class=\"dataframe\">\n",
              "  <thead>\n",
              "    <tr style=\"text-align: right;\">\n",
              "      <th></th>\n",
              "      <th>marca</th>\n",
              "      <th>modelo</th>\n",
              "      <th>motor</th>\n",
              "      <th>quilometragem</th>\n",
              "      <th>ano</th>\n",
              "      <th>preco</th>\n",
              "      <th>informacoes</th>\n",
              "    </tr>\n",
              "  </thead>\n",
              "  <tbody>\n",
              "    <tr>\n",
              "      <th>0</th>\n",
              "      <td>chevrolet</td>\n",
              "      <td>agile</td>\n",
              "      <td>1.4</td>\n",
              "      <td>91000.0</td>\n",
              "      <td>2011</td>\n",
              "      <td>25990.0</td>\n",
              "      <td>Agile 1.4 Lt 5p</td>\n",
              "    </tr>\n",
              "    <tr>\n",
              "      <th>1</th>\n",
              "      <td>chevrolet</td>\n",
              "      <td>agile</td>\n",
              "      <td>1.4</td>\n",
              "      <td>78400.0</td>\n",
              "      <td>2011</td>\n",
              "      <td>23499.0</td>\n",
              "      <td>Agile 1.4 Ltz 5p</td>\n",
              "    </tr>\n",
              "    <tr>\n",
              "      <th>2</th>\n",
              "      <td>chevrolet</td>\n",
              "      <td>agile</td>\n",
              "      <td>1.4</td>\n",
              "      <td>123915.0</td>\n",
              "      <td>2013</td>\n",
              "      <td>28900.0</td>\n",
              "      <td>Agile 1.4 Ltz 5p</td>\n",
              "    </tr>\n",
              "    <tr>\n",
              "      <th>3</th>\n",
              "      <td>chevrolet</td>\n",
              "      <td>agile</td>\n",
              "      <td>1.4</td>\n",
              "      <td>91000.0</td>\n",
              "      <td>2013</td>\n",
              "      <td>28000.0</td>\n",
              "      <td>Agile 1.4 Lt 5p</td>\n",
              "    </tr>\n",
              "    <tr>\n",
              "      <th>4</th>\n",
              "      <td>chevrolet</td>\n",
              "      <td>agile</td>\n",
              "      <td>1.4</td>\n",
              "      <td>106863.0</td>\n",
              "      <td>2014</td>\n",
              "      <td>31990.0</td>\n",
              "      <td>Agile Agile 1.4 Ltz 8v Flex 4p Manual</td>\n",
              "    </tr>\n",
              "  </tbody>\n",
              "</table>\n",
              "</div>"
            ],
            "text/plain": [
              "       marca modelo  ...    preco                            informacoes\n",
              "0  chevrolet  agile  ...  25990.0                        Agile 1.4 Lt 5p\n",
              "1  chevrolet  agile  ...  23499.0                       Agile 1.4 Ltz 5p\n",
              "2  chevrolet  agile  ...  28900.0                       Agile 1.4 Ltz 5p\n",
              "3  chevrolet  agile  ...  28000.0                        Agile 1.4 Lt 5p\n",
              "4  chevrolet  agile  ...  31990.0  Agile Agile 1.4 Ltz 8v Flex 4p Manual\n",
              "\n",
              "[5 rows x 7 columns]"
            ]
          },
          "metadata": {
            "tags": []
          },
          "execution_count": 4
        }
      ]
    },
    {
      "cell_type": "code",
      "metadata": {
        "colab": {
          "base_uri": "https://localhost:8080/"
        },
        "id": "vGkXKcF8snsF",
        "outputId": "f42bceda-d526-4806-e761-aa404d010a46"
      },
      "source": [
        "df.info()"
      ],
      "execution_count": 5,
      "outputs": [
        {
          "output_type": "stream",
          "text": [
            "<class 'pandas.core.frame.DataFrame'>\n",
            "RangeIndex: 9161 entries, 0 to 9160\n",
            "Data columns (total 7 columns):\n",
            " #   Column         Non-Null Count  Dtype  \n",
            "---  ------         --------------  -----  \n",
            " 0   marca          9161 non-null   object \n",
            " 1   modelo         9161 non-null   object \n",
            " 2   motor          9161 non-null   float64\n",
            " 3   quilometragem  9161 non-null   float64\n",
            " 4   ano            9161 non-null   int64  \n",
            " 5   preco          9161 non-null   float64\n",
            " 6   informacoes    9161 non-null   object \n",
            "dtypes: float64(3), int64(1), object(3)\n",
            "memory usage: 501.1+ KB\n"
          ],
          "name": "stdout"
        }
      ]
    },
    {
      "cell_type": "code",
      "metadata": {
        "colab": {
          "base_uri": "https://localhost:8080/",
          "height": 173
        },
        "id": "WaEea9gLCDVb",
        "outputId": "f5324718-2542-42e3-c634-eb52c4a4fa62"
      },
      "source": [
        "df.describe().round(2).T"
      ],
      "execution_count": 6,
      "outputs": [
        {
          "output_type": "execute_result",
          "data": {
            "text/html": [
              "<div>\n",
              "<style scoped>\n",
              "    .dataframe tbody tr th:only-of-type {\n",
              "        vertical-align: middle;\n",
              "    }\n",
              "\n",
              "    .dataframe tbody tr th {\n",
              "        vertical-align: top;\n",
              "    }\n",
              "\n",
              "    .dataframe thead th {\n",
              "        text-align: right;\n",
              "    }\n",
              "</style>\n",
              "<table border=\"1\" class=\"dataframe\">\n",
              "  <thead>\n",
              "    <tr style=\"text-align: right;\">\n",
              "      <th></th>\n",
              "      <th>count</th>\n",
              "      <th>mean</th>\n",
              "      <th>std</th>\n",
              "      <th>min</th>\n",
              "      <th>25%</th>\n",
              "      <th>50%</th>\n",
              "      <th>75%</th>\n",
              "      <th>max</th>\n",
              "    </tr>\n",
              "  </thead>\n",
              "  <tbody>\n",
              "    <tr>\n",
              "      <th>motor</th>\n",
              "      <td>9161.0</td>\n",
              "      <td>1.66</td>\n",
              "      <td>0.48</td>\n",
              "      <td>1.0</td>\n",
              "      <td>1.4</td>\n",
              "      <td>1.6</td>\n",
              "      <td>2.0</td>\n",
              "      <td>4.0</td>\n",
              "    </tr>\n",
              "    <tr>\n",
              "      <th>quilometragem</th>\n",
              "      <td>9161.0</td>\n",
              "      <td>87948.85</td>\n",
              "      <td>46157.31</td>\n",
              "      <td>5000.0</td>\n",
              "      <td>49236.0</td>\n",
              "      <td>85888.0</td>\n",
              "      <td>120187.0</td>\n",
              "      <td>200000.0</td>\n",
              "    </tr>\n",
              "    <tr>\n",
              "      <th>ano</th>\n",
              "      <td>9161.0</td>\n",
              "      <td>2013.75</td>\n",
              "      <td>4.93</td>\n",
              "      <td>1973.0</td>\n",
              "      <td>2011.0</td>\n",
              "      <td>2014.0</td>\n",
              "      <td>2018.0</td>\n",
              "      <td>2021.0</td>\n",
              "    </tr>\n",
              "    <tr>\n",
              "      <th>preco</th>\n",
              "      <td>9161.0</td>\n",
              "      <td>50064.36</td>\n",
              "      <td>30792.26</td>\n",
              "      <td>6000.0</td>\n",
              "      <td>28870.0</td>\n",
              "      <td>41890.0</td>\n",
              "      <td>64990.0</td>\n",
              "      <td>199990.0</td>\n",
              "    </tr>\n",
              "  </tbody>\n",
              "</table>\n",
              "</div>"
            ],
            "text/plain": [
              "                count      mean       std  ...      50%       75%       max\n",
              "motor          9161.0      1.66      0.48  ...      1.6       2.0       4.0\n",
              "quilometragem  9161.0  87948.85  46157.31  ...  85888.0  120187.0  200000.0\n",
              "ano            9161.0   2013.75      4.93  ...   2014.0    2018.0    2021.0\n",
              "preco          9161.0  50064.36  30792.26  ...  41890.0   64990.0  199990.0\n",
              "\n",
              "[4 rows x 8 columns]"
            ]
          },
          "metadata": {
            "tags": []
          },
          "execution_count": 6
        }
      ]
    },
    {
      "cell_type": "code",
      "metadata": {
        "colab": {
          "base_uri": "https://localhost:8080/"
        },
        "id": "zlNp34gEsnsI",
        "outputId": "c3bf4dbe-c73a-4c58-903a-f107c64663fd"
      },
      "source": [
        "df.isna().sum()"
      ],
      "execution_count": 7,
      "outputs": [
        {
          "output_type": "execute_result",
          "data": {
            "text/plain": [
              "marca            0\n",
              "modelo           0\n",
              "motor            0\n",
              "quilometragem    0\n",
              "ano              0\n",
              "preco            0\n",
              "informacoes      0\n",
              "dtype: int64"
            ]
          },
          "metadata": {
            "tags": []
          },
          "execution_count": 7
        }
      ]
    },
    {
      "cell_type": "code",
      "metadata": {
        "id": "oq5s8OYgsnsJ"
      },
      "source": [
        "dados = df"
      ],
      "execution_count": 8,
      "outputs": []
    },
    {
      "cell_type": "code",
      "metadata": {
        "colab": {
          "base_uri": "https://localhost:8080/",
          "height": 173
        },
        "id": "L7fdwKmoCbrR",
        "outputId": "aba9e049-d9fd-4139-eb1e-739a41ec00d2"
      },
      "source": [
        "dados.describe().round(2).T"
      ],
      "execution_count": 9,
      "outputs": [
        {
          "output_type": "execute_result",
          "data": {
            "text/html": [
              "<div>\n",
              "<style scoped>\n",
              "    .dataframe tbody tr th:only-of-type {\n",
              "        vertical-align: middle;\n",
              "    }\n",
              "\n",
              "    .dataframe tbody tr th {\n",
              "        vertical-align: top;\n",
              "    }\n",
              "\n",
              "    .dataframe thead th {\n",
              "        text-align: right;\n",
              "    }\n",
              "</style>\n",
              "<table border=\"1\" class=\"dataframe\">\n",
              "  <thead>\n",
              "    <tr style=\"text-align: right;\">\n",
              "      <th></th>\n",
              "      <th>count</th>\n",
              "      <th>mean</th>\n",
              "      <th>std</th>\n",
              "      <th>min</th>\n",
              "      <th>25%</th>\n",
              "      <th>50%</th>\n",
              "      <th>75%</th>\n",
              "      <th>max</th>\n",
              "    </tr>\n",
              "  </thead>\n",
              "  <tbody>\n",
              "    <tr>\n",
              "      <th>motor</th>\n",
              "      <td>9161.0</td>\n",
              "      <td>1.66</td>\n",
              "      <td>0.48</td>\n",
              "      <td>1.0</td>\n",
              "      <td>1.4</td>\n",
              "      <td>1.6</td>\n",
              "      <td>2.0</td>\n",
              "      <td>4.0</td>\n",
              "    </tr>\n",
              "    <tr>\n",
              "      <th>quilometragem</th>\n",
              "      <td>9161.0</td>\n",
              "      <td>87948.85</td>\n",
              "      <td>46157.31</td>\n",
              "      <td>5000.0</td>\n",
              "      <td>49236.0</td>\n",
              "      <td>85888.0</td>\n",
              "      <td>120187.0</td>\n",
              "      <td>200000.0</td>\n",
              "    </tr>\n",
              "    <tr>\n",
              "      <th>ano</th>\n",
              "      <td>9161.0</td>\n",
              "      <td>2013.75</td>\n",
              "      <td>4.93</td>\n",
              "      <td>1973.0</td>\n",
              "      <td>2011.0</td>\n",
              "      <td>2014.0</td>\n",
              "      <td>2018.0</td>\n",
              "      <td>2021.0</td>\n",
              "    </tr>\n",
              "    <tr>\n",
              "      <th>preco</th>\n",
              "      <td>9161.0</td>\n",
              "      <td>50064.36</td>\n",
              "      <td>30792.26</td>\n",
              "      <td>6000.0</td>\n",
              "      <td>28870.0</td>\n",
              "      <td>41890.0</td>\n",
              "      <td>64990.0</td>\n",
              "      <td>199990.0</td>\n",
              "    </tr>\n",
              "  </tbody>\n",
              "</table>\n",
              "</div>"
            ],
            "text/plain": [
              "                count      mean       std  ...      50%       75%       max\n",
              "motor          9161.0      1.66      0.48  ...      1.6       2.0       4.0\n",
              "quilometragem  9161.0  87948.85  46157.31  ...  85888.0  120187.0  200000.0\n",
              "ano            9161.0   2013.75      4.93  ...   2014.0    2018.0    2021.0\n",
              "preco          9161.0  50064.36  30792.26  ...  41890.0   64990.0  199990.0\n",
              "\n",
              "[4 rows x 8 columns]"
            ]
          },
          "metadata": {
            "tags": []
          },
          "execution_count": 9
        }
      ]
    },
    {
      "cell_type": "code",
      "metadata": {
        "colab": {
          "base_uri": "https://localhost:8080/",
          "height": 609
        },
        "id": "9jERgfAqnIN0",
        "outputId": "6541017f-6991-40e2-8e88-d02e034164cd"
      },
      "source": [
        "plt.figure(figsize=(14,10))\n",
        "\n",
        "corr = dados.corr().abs()\n",
        "mask = np.triu(np.ones_like(corr, dtype=np.bool))\n",
        "\n",
        "sns.heatmap(corr, mask=mask, annot=True, center=0, cmap=\"YlGnBu\")"
      ],
      "execution_count": 10,
      "outputs": [
        {
          "output_type": "execute_result",
          "data": {
            "text/plain": [
              "<matplotlib.axes._subplots.AxesSubplot at 0x7fe7ccfeef90>"
            ]
          },
          "metadata": {
            "tags": []
          },
          "execution_count": 10
        },
        {
          "output_type": "display_data",
          "data": {
            "image/png": "[encoded data removed]",
            "text/plain": [
              "<Figure size 1008x720 with 2 Axes>"
            ]
          },
          "metadata": {
            "tags": [],
            "needs_background": "light"
          }
        }
      ]
    },
    {
      "cell_type": "code",
      "metadata": {
        "colab": {
          "base_uri": "https://localhost:8080/",
          "height": 584
        },
        "id": "xmZ_sdErXYpa",
        "outputId": "aee5654a-7b38-4d29-f15f-0d436fd01dec"
      },
      "source": [
        "dados.hist(bins=50, figsize=(15,8))"
      ],
      "execution_count": 11,
      "outputs": [
        {
          "output_type": "execute_result",
          "data": {
            "text/plain": [
              "array([[<matplotlib.axes._subplots.AxesSubplot object at 0x7fe7c4253310>,\n",
              "        <matplotlib.axes._subplots.AxesSubplot object at 0x7fe7c4206890>],\n",
              "       [<matplotlib.axes._subplots.AxesSubplot object at 0x7fe7c41bdf10>,\n",
              "        <matplotlib.axes._subplots.AxesSubplot object at 0x7fe7c417d5d0>]],\n",
              "      dtype=object)"
            ]
          },
          "metadata": {
            "tags": []
          },
          "execution_count": 11
        },
        {
          "output_type": "display_data",
          "data": {
            "image/png": "[encoded data removed]",
            "text/plain": [
              "<Figure size 1080x576 with 4 Axes>"
            ]
          },
          "metadata": {
            "tags": [],
            "needs_background": "light"
          }
        }
      ]
    },
    {
      "cell_type": "markdown",
      "metadata": {
        "id": "oY710J_TepyA"
      },
      "source": [
        " - Filtrando os valores referentees ao preço."
      ]
    },
    {
      "cell_type": "code",
      "metadata": {
        "colab": {
          "base_uri": "https://localhost:8080/",
          "height": 350
        },
        "id": "QbHQ3pEyXYpd",
        "outputId": "8ceb05e3-9a81-46f8-f4e2-80db138db563"
      },
      "source": [
        "sns.boxplot(dados['preco'])"
      ],
      "execution_count": 12,
      "outputs": [
        {
          "output_type": "stream",
          "text": [
            "/usr/local/lib/python3.7/dist-packages/seaborn/_decorators.py:43: FutureWarning: Pass the following variable as a keyword arg: x. From version 0.12, the only valid positional argument will be `data`, and passing other arguments without an explicit keyword will result in an error or misinterpretation.\n",
            "  FutureWarning\n"
          ],
          "name": "stderr"
        },
        {
          "output_type": "execute_result",
          "data": {
            "text/plain": [
              "<matplotlib.axes._subplots.AxesSubplot at 0x7fe7c46aca90>"
            ]
          },
          "metadata": {
            "tags": []
          },
          "execution_count": 12
        },
        {
          "output_type": "display_data",
          "data": {
            "image/png": "[encoded data removed]",
            "text/plain": [
              "<Figure size 432x288 with 1 Axes>"
            ]
          },
          "metadata": {
            "tags": [],
            "needs_background": "light"
          }
        }
      ]
    },
    {
      "cell_type": "code",
      "metadata": {
        "id": "ZwzG542hXYpe"
      },
      "source": [
        "dados = dados.query('preco <=110000')"
      ],
      "execution_count": 13,
      "outputs": []
    },
    {
      "cell_type": "code",
      "metadata": {
        "colab": {
          "base_uri": "https://localhost:8080/",
          "height": 350
        },
        "id": "pgVaB3fYXYpg",
        "outputId": "21801fca-2611-48e7-a4f2-e0100866629b"
      },
      "source": [
        "sns.boxplot(dados['preco'])"
      ],
      "execution_count": 14,
      "outputs": [
        {
          "output_type": "stream",
          "text": [
            "/usr/local/lib/python3.7/dist-packages/seaborn/_decorators.py:43: FutureWarning: Pass the following variable as a keyword arg: x. From version 0.12, the only valid positional argument will be `data`, and passing other arguments without an explicit keyword will result in an error or misinterpretation.\n",
            "  FutureWarning\n"
          ],
          "name": "stderr"
        },
        {
          "output_type": "execute_result",
          "data": {
            "text/plain": [
              "<matplotlib.axes._subplots.AxesSubplot at 0x7fe7c3ae5a50>"
            ]
          },
          "metadata": {
            "tags": []
          },
          "execution_count": 14
        },
        {
          "output_type": "display_data",
          "data": {
            "image/png": "[encoded data removed]",
            "text/plain": [
              "<Figure size 432x288 with 1 Axes>"
            ]
          },
          "metadata": {
            "tags": [],
            "needs_background": "light"
          }
        }
      ]
    },
    {
      "cell_type": "code",
      "metadata": {
        "colab": {
          "base_uri": "https://localhost:8080/",
          "height": 584
        },
        "id": "34Wl_KPqXYpg",
        "outputId": "a9f2e1e8-c16d-4efd-bdba-0365da6c85b1"
      },
      "source": [
        "dados.hist(bins=50, figsize=(15,8))"
      ],
      "execution_count": 15,
      "outputs": [
        {
          "output_type": "execute_result",
          "data": {
            "text/plain": [
              "array([[<matplotlib.axes._subplots.AxesSubplot object at 0x7fe7c3ad4790>,\n",
              "        <matplotlib.axes._subplots.AxesSubplot object at 0x7fe7c41d2910>],\n",
              "       [<matplotlib.axes._subplots.AxesSubplot object at 0x7fe7c410ac10>,\n",
              "        <matplotlib.axes._subplots.AxesSubplot object at 0x7fe7c3ff3e90>]],\n",
              "      dtype=object)"
            ]
          },
          "metadata": {
            "tags": []
          },
          "execution_count": 15
        },
        {
          "output_type": "display_data",
          "data": {
            "image/png": "[encoded data removed]",
            "text/plain": [
              "<Figure size 1080x576 with 4 Axes>"
            ]
          },
          "metadata": {
            "tags": [],
            "needs_background": "light"
          }
        }
      ]
    },
    {
      "cell_type": "markdown",
      "metadata": {
        "id": "dHqmb5iMkSMm"
      },
      "source": [
        "## Definindo as amostras de treino e teste"
      ]
    },
    {
      "cell_type": "code",
      "metadata": {
        "id": "6uHzERpDsns9"
      },
      "source": [
        "from sklearn.preprocessing import LabelEncoder"
      ],
      "execution_count": 16,
      "outputs": []
    },
    {
      "cell_type": "code",
      "metadata": {
        "id": "O80XaND7sntG"
      },
      "source": [
        "enconder = LabelEncoder()"
      ],
      "execution_count": 17,
      "outputs": []
    },
    {
      "cell_type": "code",
      "metadata": {
        "id": "s7VM7DTvsntH",
        "colab": {
          "base_uri": "https://localhost:8080/"
        },
        "outputId": "95702775-ad51-406e-eeb4-823815fd2b5e"
      },
      "source": [
        "dados['marca'] = enconder.fit_transform(dados['marca'])\n",
        "dados['modelo'] = enconder.fit_transform(dados['modelo'])"
      ],
      "execution_count": 18,
      "outputs": [
        {
          "output_type": "stream",
          "text": [
            "/usr/local/lib/python3.7/dist-packages/ipykernel_launcher.py:1: SettingWithCopyWarning: \n",
            "A value is trying to be set on a copy of a slice from a DataFrame.\n",
            "Try using .loc[row_indexer,col_indexer] = value instead\n",
            "\n",
            "See the caveats in the documentation: https://pandas.pydata.org/pandas-docs/stable/user_guide/indexing.html#returning-a-view-versus-a-copy\n",
            "  \"\"\"Entry point for launching an IPython kernel.\n",
            "/usr/local/lib/python3.7/dist-packages/ipykernel_launcher.py:2: SettingWithCopyWarning: \n",
            "A value is trying to be set on a copy of a slice from a DataFrame.\n",
            "Try using .loc[row_indexer,col_indexer] = value instead\n",
            "\n",
            "See the caveats in the documentation: https://pandas.pydata.org/pandas-docs/stable/user_guide/indexing.html#returning-a-view-versus-a-copy\n",
            "  \n"
          ],
          "name": "stderr"
        }
      ]
    },
    {
      "cell_type": "code",
      "metadata": {
        "colab": {
          "base_uri": "https://localhost:8080/",
          "height": 609
        },
        "id": "NvCgB3VSXYpj",
        "outputId": "9d087048-d614-4a00-9205-5a45dbcce71a"
      },
      "source": [
        "plt.figure(figsize=(14,10))\n",
        "\n",
        "corr = dados.corr().abs()\n",
        "mask = np.triu(np.ones_like(corr, dtype=np.bool))\n",
        "\n",
        "sns.heatmap(corr, mask=mask, annot=True, center=0, cmap=\"YlGnBu\")"
      ],
      "execution_count": 19,
      "outputs": [
        {
          "output_type": "execute_result",
          "data": {
            "text/plain": [
              "<matplotlib.axes._subplots.AxesSubplot at 0x7fe7c28d9b50>"
            ]
          },
          "metadata": {
            "tags": []
          },
          "execution_count": 19
        },
        {
          "output_type": "display_data",
          "data": {
            "image/png": "[encoded data removed]",
            "text/plain": [
              "<Figure size 1008x720 with 2 Axes>"
            ]
          },
          "metadata": {
            "tags": [],
            "needs_background": "light"
          }
        }
      ]
    },
    {
      "cell_type": "code",
      "metadata": {
        "id": "EeduinjrkL3w"
      },
      "source": [
        "from sklearn.model_selection import train_test_split"
      ],
      "execution_count": 20,
      "outputs": []
    },
    {
      "cell_type": "code",
      "metadata": {
        "id": "xd26HcK6sntI"
      },
      "source": [
        "X = dados.drop(columns=['preco','informacoes'])\n",
        "Y = dados['preco']"
      ],
      "execution_count": 21,
      "outputs": []
    },
    {
      "cell_type": "code",
      "metadata": {
        "id": "xg49TNzVkL-B"
      },
      "source": [
        "X_treino,X_teste,Y_treino,Y_teste = train_test_split(X,Y,test_size=0.25,random_state=0 )"
      ],
      "execution_count": 22,
      "outputs": []
    },
    {
      "cell_type": "code",
      "metadata": {
        "id": "w0ZWcHvh-9gP"
      },
      "source": [
        "# treino['preco'] = treino['preco'].apply(np.log1p)\n",
        "# treino['quilometragem'] = treino['quilometragem'].apply(np.log1p)\n",
        "# teste['preco'] = teste['preco'].apply(np.log1p)\n",
        "# teste['quilometragem'] = teste['quilometragem'].apply(np.log1p)"
      ],
      "execution_count": 23,
      "outputs": []
    },
    {
      "cell_type": "markdown",
      "metadata": {
        "id": "2qyhuuFmq3Tc"
      },
      "source": [
        " - Modelo \"Baseline\" (Ponto de partida)"
      ]
    },
    {
      "cell_type": "code",
      "metadata": {
        "id": "Q9SIbFFDnIN5"
      },
      "source": [
        "from sklearn.linear_model import LinearRegression"
      ],
      "execution_count": 24,
      "outputs": []
    },
    {
      "cell_type": "code",
      "metadata": {
        "colab": {
          "base_uri": "https://localhost:8080/"
        },
        "id": "f79edtGSnIN6",
        "outputId": "48fa7e0a-7f53-4239-ef24-cd4a450adc48"
      },
      "source": [
        "lr = LinearRegression()\n",
        "lr.fit(X_treino, Y_treino)\n",
        "lr.score(X_teste, Y_teste)"
      ],
      "execution_count": 25,
      "outputs": [
        {
          "output_type": "execute_result",
          "data": {
            "text/plain": [
              "0.5551416824344206"
            ]
          },
          "metadata": {
            "tags": []
          },
          "execution_count": 25
        }
      ]
    },
    {
      "cell_type": "code",
      "metadata": {
        "id": "ahYXusw_XYpo"
      },
      "source": [
        "from sklearn.metrics import mean_absolute_error,mean_squared_error, r2_score"
      ],
      "execution_count": 26,
      "outputs": []
    },
    {
      "cell_type": "code",
      "metadata": {
        "id": "bEAyxMEyYAsb"
      },
      "source": [
        "y_pred = lr.predict(X_teste)"
      ],
      "execution_count": 28,
      "outputs": []
    },
    {
      "cell_type": "code",
      "metadata": {
        "colab": {
          "base_uri": "https://localhost:8080/"
        },
        "id": "IerlxfODXYpo",
        "outputId": "cf58229e-be84-44fa-9a41-039c1c8a092a"
      },
      "source": [
        "MAE  = mean_absolute_error(Y_teste,y_pred)\n",
        "MSE  = mean_squared_error(Y_teste,y_pred)\n",
        "RMSE = np.sqrt(mean_squared_error(Y_teste,y_pred))\n",
        "R2 = r2_score(Y_teste, y_pred)\n",
        "\n",
        "\n",
        "print('MAE = {:0.4f}'.format(MAE))\n",
        "print('MSE = {:0.4f}'.format(MSE))\n",
        "print('RMSE = {:0.4f}'.format(RMSE))\n",
        "print('R2 = {:0.4f}'.format(R2))"
      ],
      "execution_count": 29,
      "outputs": [
        {
          "output_type": "stream",
          "text": [
            "MAE = 11649.2042\n",
            "MSE = 235979246.9682\n",
            "RMSE = 15361.6160\n",
            "R2 = 0.5551\n"
          ],
          "name": "stdout"
        }
      ]
    },
    {
      "cell_type": "markdown",
      "metadata": {
        "id": "APUAvXnEnIN7"
      },
      "source": [
        " - Machine learning"
      ]
    },
    {
      "cell_type": "code",
      "metadata": {
        "colab": {
          "base_uri": "https://localhost:8080/"
        },
        "id": "oGLHoDbUnIN7",
        "outputId": "c5875385-c9f7-4689-ae5a-566da03295fa"
      },
      "source": [
        "from sklearn.tree import DecisionTreeRegressor\n",
        "from sklearn.ensemble import RandomForestRegressor\n",
        "from sklearn.neural_network import MLPRegressor\n",
        "from xgboost import XGBRegressor\n",
        "import warnings\n",
        "warnings.filterwarnings(\"ignore\")\n",
        "\n",
        "\n",
        "regressor_list = [\n",
        "                  DecisionTreeRegressor(),\n",
        "                  RandomForestRegressor(),\n",
        "                  MLPRegressor(),\n",
        "                  XGBRegressor(),\n",
        "           \n",
        "                  ]\n",
        "\n",
        "for reg in regressor_list:\n",
        "  print('Treinando', reg.__class__.__name__)\n",
        "  reg.fit(X_treino, Y_treino)\n",
        "  train_score = reg.score(X_treino, Y_treino)\n",
        "  test_score = reg.score(X_teste, Y_teste)\n",
        "  print('Train score', train_score)\n",
        "  print('Test score', test_score)\n",
        "  print('='*80)"
      ],
      "execution_count": 30,
      "outputs": [
        {
          "output_type": "stream",
          "text": [
            "Treinando DecisionTreeRegressor\n",
            "Train score 0.9939729577118595\n",
            "Test score 0.7297353125229677\n",
            "================================================================================\n",
            "Treinando RandomForestRegressor\n",
            "Train score 0.9708301308546954\n",
            "Test score 0.8319661098386852\n",
            "================================================================================\n",
            "Treinando MLPRegressor\n",
            "Train score 0.316404605551845\n",
            "Test score 0.323129035877065\n",
            "================================================================================\n",
            "Treinando XGBRegressor\n",
            "[23:25:03] WARNING: /workspace/src/objective/regression_obj.cu:152: reg:linear is now deprecated in favor of reg:squarederror.\n",
            "Train score 0.7894286132570767\n",
            "Test score 0.7715604595822678\n",
            "================================================================================\n"
          ],
          "name": "stdout"
        }
      ]
    },
    {
      "cell_type": "code",
      "metadata": {
        "colab": {
          "base_uri": "https://localhost:8080/"
        },
        "id": "KuFanXxCnIN8",
        "outputId": "92101e44-579e-4764-c082-3d7d5635063c"
      },
      "source": [
        "# repetindo processo com validação cruzada\n",
        "import warnings\n",
        "warnings.filterwarnings(\"ignore\")\n",
        "\n",
        "from sklearn.tree import DecisionTreeRegressor\n",
        "from sklearn.ensemble import RandomForestRegressor\n",
        "from sklearn.neural_network import MLPRegressor\n",
        "from xgboost import XGBRegressor\n",
        "from sklearn.model_selection import cross_val_score\n",
        "\n",
        "\n",
        "regressor_list = [\n",
        "                  DecisionTreeRegressor(),\n",
        "                  RandomForestRegressor(),\n",
        "                  MLPRegressor(),\n",
        "                  XGBRegressor(),\n",
        "                  ]\n",
        "\n",
        "for reg in regressor_list:\n",
        "  print('Treinando', reg.__class__.__name__)\n",
        "  reg.fit(X_treino, Y_treino)\n",
        "  train_score = reg.score(X_treino, Y_treino)\n",
        "  val_score = cross_val_score(reg, X_treino, Y_treino, cv=5)\n",
        "  test_score = reg.score(X_teste, Y_teste)\n",
        "  print('Train score', train_score)\n",
        "  print('Validation score', val_score)\n",
        "  print('Test score', test_score)\n",
        "  print('='*80)"
      ],
      "execution_count": 31,
      "outputs": [
        {
          "output_type": "stream",
          "text": [
            "Treinando DecisionTreeRegressor\n",
            "Train score 0.9939729577118595\n",
            "Validation score [0.70759621 0.67321038 0.67885152 0.714768   0.67956455]\n",
            "Test score 0.7185291957953357\n",
            "================================================================================\n",
            "Treinando RandomForestRegressor\n",
            "Train score 0.9710897203864072\n",
            "Validation score [0.82874791 0.78057934 0.80459832 0.84043854 0.82584289]\n",
            "Test score 0.8300095219014711\n",
            "================================================================================\n",
            "Treinando MLPRegressor\n",
            "Train score 0.3184366575966429\n",
            "Validation score [0.36564016 0.29934179 0.25733474 0.35040794 0.26394466]\n",
            "Test score 0.3220210931713502\n",
            "================================================================================\n",
            "Treinando XGBRegressor\n",
            "[23:25:30] WARNING: /workspace/src/objective/regression_obj.cu:152: reg:linear is now deprecated in favor of reg:squarederror.\n",
            "[23:25:30] WARNING: /workspace/src/objective/regression_obj.cu:152: reg:linear is now deprecated in favor of reg:squarederror.\n",
            "[23:25:31] WARNING: /workspace/src/objective/regression_obj.cu:152: reg:linear is now deprecated in favor of reg:squarederror.\n",
            "[23:25:31] WARNING: /workspace/src/objective/regression_obj.cu:152: reg:linear is now deprecated in favor of reg:squarederror.\n",
            "[23:25:31] WARNING: /workspace/src/objective/regression_obj.cu:152: reg:linear is now deprecated in favor of reg:squarederror.\n",
            "[23:25:31] WARNING: /workspace/src/objective/regression_obj.cu:152: reg:linear is now deprecated in favor of reg:squarederror.\n",
            "Train score 0.7894286132570767\n",
            "Validation score [0.77756211 0.74635997 0.74758002 0.79768927 0.79541118]\n",
            "Test score 0.7715604595822678\n",
            "================================================================================\n"
          ],
          "name": "stdout"
        }
      ]
    },
    {
      "cell_type": "code",
      "metadata": {
        "colab": {
          "base_uri": "https://localhost:8080/"
        },
        "id": "QJg7hbHfsntS",
        "outputId": "84de3406-7ae3-4512-a6b9-6292f983ee81"
      },
      "source": [
        "#  Todo: calibração do modelo\n",
        "from sklearn.model_selection import GridSearchCV\n",
        "parameters=[{'learning_rate':[0.1,0.2,0.3,0.4,0.5],\n",
        "             'max_depth':[3,4,5,6,7,8],\n",
        "             'n_estimators':[50, 100,150,200,250]}]\n",
        "            \n",
        "xgb = XGBRegressor(n_estimators=100, max_depth=1)\n",
        "gs = GridSearchCV(xgb,parameters,scoring='r2',n_jobs=-1,cv=5)\n",
        "gs.fit(X_treino, Y_treino)\n",
        "xgb = gs.best_estimator_\n",
        "\n",
        "train_score = xgb.score(X_treino, Y_treino)\n",
        "val_score = cross_val_score(xgb, X_treino, Y_treino, cv=5)\n",
        "test_score = xgb.score(X_teste, Y_teste)\n",
        "print('Train score', train_score)\n",
        "print('Validation score', val_score)\n",
        "print('Test score', test_score)"
      ],
      "execution_count": 32,
      "outputs": [
        {
          "output_type": "stream",
          "text": [
            "[23:30:48] WARNING: /workspace/src/objective/regression_obj.cu:152: reg:linear is now deprecated in favor of reg:squarederror.\n",
            "[23:30:49] WARNING: /workspace/src/objective/regression_obj.cu:152: reg:linear is now deprecated in favor of reg:squarederror.\n",
            "[23:30:50] WARNING: /workspace/src/objective/regression_obj.cu:152: reg:linear is now deprecated in favor of reg:squarederror.\n",
            "[23:30:50] WARNING: /workspace/src/objective/regression_obj.cu:152: reg:linear is now deprecated in favor of reg:squarederror.\n",
            "[23:30:51] WARNING: /workspace/src/objective/regression_obj.cu:152: reg:linear is now deprecated in favor of reg:squarederror.\n",
            "[23:30:52] WARNING: /workspace/src/objective/regression_obj.cu:152: reg:linear is now deprecated in favor of reg:squarederror.\n",
            "Train score 0.9073221912231683\n",
            "Validation score [0.83541881 0.79300586 0.81954453 0.862651   0.84165578]\n",
            "Test score 0.8404710369878556\n"
          ],
          "name": "stdout"
        }
      ]
    },
    {
      "cell_type": "markdown",
      "metadata": {
        "id": "qZZo5qoDnIOB"
      },
      "source": [
        " - Calculando o erro"
      ]
    },
    {
      "cell_type": "code",
      "metadata": {
        "id": "RKrx8NgvnIOC"
      },
      "source": [
        "y_pred = xgb.predict(X_teste)"
      ],
      "execution_count": 33,
      "outputs": []
    },
    {
      "cell_type": "code",
      "metadata": {
        "colab": {
          "base_uri": "https://localhost:8080/"
        },
        "id": "32YRmCqLnIOC",
        "outputId": "e9524741-b97d-440f-cb69-6c120489b9a0"
      },
      "source": [
        "MAE  = mean_absolute_error(Y_teste,y_pred)\n",
        "MSE  = mean_squared_error(Y_teste,y_pred)\n",
        "RMSE = np.sqrt(mean_squared_error(Y_teste,y_pred))\n",
        "R2 = r2_score(Y_teste, y_pred)\n",
        "\n",
        "\n",
        "print('MAE = {:0.4f}'.format(MAE))\n",
        "print('MSE = {:0.4f}'.format(MSE))\n",
        "print('RMSE = {:0.4f}'.format(RMSE))\n",
        "print('R2 = {:0.4f}'.format(R2))"
      ],
      "execution_count": 34,
      "outputs": [
        {
          "output_type": "stream",
          "text": [
            "MAE = 5781.9678\n",
            "MSE = 84623627.5119\n",
            "RMSE = 9199.1101\n",
            "R2 = 0.8405\n"
          ],
          "name": "stdout"
        }
      ]
    },
    {
      "cell_type": "markdown",
      "metadata": {
        "id": "90uC8MvrApdI"
      },
      "source": [
        "## Gridserch RandomForest"
      ]
    },
    {
      "cell_type": "code",
      "metadata": {
        "colab": {
          "base_uri": "https://localhost:8080/"
        },
        "id": "AtGdrmWSAjAJ",
        "outputId": "53aeb8cc-aca4-4346-aec2-15bc377bf505"
      },
      "source": [
        "from sklearn.model_selection import GridSearchCV\n",
        "parameters=[{\n",
        "            \"max_features\": [\"auto\", \"sqrt\", \"log2\"],\n",
        "            \"min_samples_split\" : [2,4,8],\n",
        "            \"bootstrap\": [True, False],\n",
        "            'max_depth':[3,4,5,6,7,8,9,10],\n",
        "            'n_estimators':np.arange(1,51,5)}]\n",
        "            \n",
        "reg = RandomForestRegressor(n_estimators=100, max_depth=1)\n",
        "gs = GridSearchCV(reg,parameters,scoring='r2',n_jobs=-1,cv=5, refit = True)\n",
        "gs.fit(X_treino, Y_treino)\n",
        "reg = gs.best_estimator_\n",
        "\n",
        "train_score = reg.score(X_treino, Y_treino)\n",
        "val_score = cross_val_score(reg, X_treino, Y_treino, cv=5)\n",
        "test_score = reg.score(X_teste, Y_teste)\n",
        "print('Train score', train_score)\n",
        "print('Validation score', val_score)\n",
        "print('Test score', test_score)"
      ],
      "execution_count": 35,
      "outputs": [
        {
          "output_type": "stream",
          "text": [
            "Train score 0.8810001827949828\n",
            "Validation score [0.81996301 0.77942754 0.7901421  0.83218378 0.82324343]\n",
            "Test score 0.8175436856272933\n"
          ],
          "name": "stdout"
        }
      ]
    },
    {
      "cell_type": "code",
      "metadata": {
        "colab": {
          "base_uri": "https://localhost:8080/"
        },
        "id": "1gCzIiTHA0Nj",
        "outputId": "c9ac59fe-c60c-4dfa-a068-adafe06a5704"
      },
      "source": [
        "y_pred = reg.predict(X_teste)\n",
        "\n",
        "MAE  = mean_absolute_error(Y_teste,y_pred)\n",
        "MSE  = mean_squared_error(Y_teste,y_pred)\n",
        "RMSE = np.sqrt(mean_squared_error(Y_teste,y_pred))\n",
        "R2 = r2_score(Y_teste, y_pred)\n",
        "\n",
        "\n",
        "print('MAE = {:0.4f}'.format(MAE))\n",
        "print('MSE = {:0.4f}'.format(MSE))\n",
        "print('RMSE = {:0.4f}'.format(RMSE))\n",
        "print('R2 = {:0.4f}'.format(R2))"
      ],
      "execution_count": 36,
      "outputs": [
        {
          "output_type": "stream",
          "text": [
            "MAE = 6395.5980\n",
            "MSE = 96785655.0505\n",
            "RMSE = 9837.9701\n",
            "R2 = 0.8175\n"
          ],
          "name": "stdout"
        }
      ]
    },
    {
      "cell_type": "code",
      "metadata": {
        "id": "059Tj2RQCPVg"
      },
      "source": [
        ""
      ],
      "execution_count": 36,
      "outputs": []
    }
  ]
}