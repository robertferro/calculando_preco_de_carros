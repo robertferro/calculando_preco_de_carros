{
  "nbformat": 4,
  "nbformat_minor": 0,
  "metadata": {
    "colab": {
      "name": "carros_triagem_modelos_machine_learning.ipynb",
      "provenance": []
    },
    "kernelspec": {
      "display_name": "Python 3",
      "language": "python",
      "name": "python3"
    },
    "language_info": {
      "codemirror_mode": {
        "name": "ipython",
        "version": 3
      },
      "file_extension": ".py",
      "mimetype": "text/x-python",
      "name": "python",
      "nbconvert_exporter": "python",
      "pygments_lexer": "ipython3",
      "version": "3.8.3"
    }
  },
  "cells": [
    {
      "cell_type": "markdown",
      "metadata": {
        "id": "FVZHPjPOnINL"
      },
      "source": [
        "# Objetivo:\n",
        "\n",
        " - Encontrar o melhor algoritmo  para fazer a previsão do preço do carro."
      ]
    },
    {
      "cell_type": "code",
      "metadata": {
        "id": "UOzuxQtinINk"
      },
      "source": [
        "import pandas as pd\n",
        "import numpy as np\n",
        "import matplotlib.pyplot as plt\n",
        "import seaborn as sns"
      ],
      "execution_count": 1,
      "outputs": []
    },
    {
      "cell_type": "code",
      "metadata": {
        "id": "3JPuJT4znINm"
      },
      "source": [
        "url = 'https://raw.githubusercontent.com/robertferro/carros/main/3%20-%20EDA/carros_sem_outliers.csv'\n",
        "\n",
        "\n",
        "# url = 'https://raw.githubusercontent.com/robertferro/carros/main/3%20-%20EDA/carros_ml_pre_processados.csv'"
      ],
      "execution_count": 2,
      "outputs": []
    },
    {
      "cell_type": "code",
      "metadata": {
        "id": "nW1sd5vFnINn"
      },
      "source": [
        "df = pd.read_csv(url, sep = ',')"
      ],
      "execution_count": 3,
      "outputs": []
    },
    {
      "cell_type": "code",
      "metadata": {
        "colab": {
          "base_uri": "https://localhost:8080/",
          "height": 197
        },
        "id": "Ry6BxV2HnINo",
        "outputId": "4e0aaa08-83a9-4138-e025-dbac4faa5d1f"
      },
      "source": [
        "# pd.set_option('display.max_rows', 250)\n",
        "# df.modelo.value_counts().tail(250)\n",
        "df.head()"
      ],
      "execution_count": 4,
      "outputs": [
        {
          "output_type": "execute_result",
          "data": {
            "text/html": [
              "<div>\n",
              "<style scoped>\n",
              "    .dataframe tbody tr th:only-of-type {\n",
              "        vertical-align: middle;\n",
              "    }\n",
              "\n",
              "    .dataframe tbody tr th {\n",
              "        vertical-align: top;\n",
              "    }\n",
              "\n",
              "    .dataframe thead th {\n",
              "        text-align: right;\n",
              "    }\n",
              "</style>\n",
              "<table border=\"1\" class=\"dataframe\">\n",
              "  <thead>\n",
              "    <tr style=\"text-align: right;\">\n",
              "      <th></th>\n",
              "      <th>motor</th>\n",
              "      <th>marca</th>\n",
              "      <th>modelo</th>\n",
              "      <th>preco</th>\n",
              "      <th>quilometragem</th>\n",
              "      <th>ano</th>\n",
              "      <th>informacoes</th>\n",
              "    </tr>\n",
              "  </thead>\n",
              "  <tbody>\n",
              "    <tr>\n",
              "      <th>0</th>\n",
              "      <td>1.4</td>\n",
              "      <td>Chevrolet</td>\n",
              "      <td>Agile</td>\n",
              "      <td>25990</td>\n",
              "      <td>91000.0</td>\n",
              "      <td>2011</td>\n",
              "      <td>Agile 1.4 Lt 5p</td>\n",
              "    </tr>\n",
              "    <tr>\n",
              "      <th>1</th>\n",
              "      <td>1.4</td>\n",
              "      <td>Chevrolet</td>\n",
              "      <td>Agile</td>\n",
              "      <td>28900</td>\n",
              "      <td>123915.0</td>\n",
              "      <td>2013</td>\n",
              "      <td>Agile 1.4 Ltz 5p</td>\n",
              "    </tr>\n",
              "    <tr>\n",
              "      <th>2</th>\n",
              "      <td>1.4</td>\n",
              "      <td>Chevrolet</td>\n",
              "      <td>Agile</td>\n",
              "      <td>28000</td>\n",
              "      <td>91000.0</td>\n",
              "      <td>2013</td>\n",
              "      <td>Agile 1.4 Lt 5p</td>\n",
              "    </tr>\n",
              "    <tr>\n",
              "      <th>3</th>\n",
              "      <td>1.4</td>\n",
              "      <td>Chevrolet</td>\n",
              "      <td>Agile</td>\n",
              "      <td>31990</td>\n",
              "      <td>106863.0</td>\n",
              "      <td>2014</td>\n",
              "      <td>Agile Agile 1.4 Ltz 8v Flex 4p Manual</td>\n",
              "    </tr>\n",
              "    <tr>\n",
              "      <th>4</th>\n",
              "      <td>1.4</td>\n",
              "      <td>Chevrolet</td>\n",
              "      <td>Agile</td>\n",
              "      <td>28999</td>\n",
              "      <td>97000.0</td>\n",
              "      <td>2012</td>\n",
              "      <td>Agile 1.4 Mpfi Ltz 8v Flex 4p Manual</td>\n",
              "    </tr>\n",
              "  </tbody>\n",
              "</table>\n",
              "</div>"
            ],
            "text/plain": [
              "   motor      marca  ...   ano                            informacoes\n",
              "0    1.4  Chevrolet  ...  2011                        Agile 1.4 Lt 5p\n",
              "1    1.4  Chevrolet  ...  2013                       Agile 1.4 Ltz 5p\n",
              "2    1.4  Chevrolet  ...  2013                        Agile 1.4 Lt 5p\n",
              "3    1.4  Chevrolet  ...  2014  Agile Agile 1.4 Ltz 8v Flex 4p Manual\n",
              "4    1.4  Chevrolet  ...  2012   Agile 1.4 Mpfi Ltz 8v Flex 4p Manual\n",
              "\n",
              "[5 rows x 7 columns]"
            ]
          },
          "metadata": {
            "tags": []
          },
          "execution_count": 4
        }
      ]
    },
    {
      "cell_type": "code",
      "metadata": {
        "colab": {
          "base_uri": "https://localhost:8080/"
        },
        "id": "vGkXKcF8snsF",
        "outputId": "40d69f75-3952-4868-fd6f-da2181db9080"
      },
      "source": [
        "df.info()"
      ],
      "execution_count": 5,
      "outputs": [
        {
          "output_type": "stream",
          "text": [
            "<class 'pandas.core.frame.DataFrame'>\n",
            "RangeIndex: 9508 entries, 0 to 9507\n",
            "Data columns (total 7 columns):\n",
            " #   Column         Non-Null Count  Dtype  \n",
            "---  ------         --------------  -----  \n",
            " 0   motor          9508 non-null   float64\n",
            " 1   marca          9508 non-null   object \n",
            " 2   modelo         9508 non-null   object \n",
            " 3   preco          9508 non-null   int64  \n",
            " 4   quilometragem  9508 non-null   float64\n",
            " 5   ano            9508 non-null   int64  \n",
            " 6   informacoes    9508 non-null   object \n",
            "dtypes: float64(2), int64(2), object(3)\n",
            "memory usage: 520.1+ KB\n"
          ],
          "name": "stdout"
        }
      ]
    },
    {
      "cell_type": "code",
      "metadata": {
        "colab": {
          "base_uri": "https://localhost:8080/",
          "height": 167
        },
        "id": "WaEea9gLCDVb",
        "outputId": "9f8a80a9-37d3-4fbb-f320-94c0f6d546d3"
      },
      "source": [
        "df.describe().round(2).T"
      ],
      "execution_count": 6,
      "outputs": [
        {
          "output_type": "execute_result",
          "data": {
            "text/html": [
              "<div>\n",
              "<style scoped>\n",
              "    .dataframe tbody tr th:only-of-type {\n",
              "        vertical-align: middle;\n",
              "    }\n",
              "\n",
              "    .dataframe tbody tr th {\n",
              "        vertical-align: top;\n",
              "    }\n",
              "\n",
              "    .dataframe thead th {\n",
              "        text-align: right;\n",
              "    }\n",
              "</style>\n",
              "<table border=\"1\" class=\"dataframe\">\n",
              "  <thead>\n",
              "    <tr style=\"text-align: right;\">\n",
              "      <th></th>\n",
              "      <th>count</th>\n",
              "      <th>mean</th>\n",
              "      <th>std</th>\n",
              "      <th>min</th>\n",
              "      <th>25%</th>\n",
              "      <th>50%</th>\n",
              "      <th>75%</th>\n",
              "      <th>max</th>\n",
              "    </tr>\n",
              "  </thead>\n",
              "  <tbody>\n",
              "    <tr>\n",
              "      <th>motor</th>\n",
              "      <td>9508.0</td>\n",
              "      <td>1.77</td>\n",
              "      <td>0.59</td>\n",
              "      <td>1.0</td>\n",
              "      <td>1.4</td>\n",
              "      <td>1.6</td>\n",
              "      <td>2.0</td>\n",
              "      <td>6.2</td>\n",
              "    </tr>\n",
              "    <tr>\n",
              "      <th>preco</th>\n",
              "      <td>9508.0</td>\n",
              "      <td>51969.07</td>\n",
              "      <td>27338.27</td>\n",
              "      <td>3500.0</td>\n",
              "      <td>31490.0</td>\n",
              "      <td>44990.0</td>\n",
              "      <td>68690.0</td>\n",
              "      <td>130000.0</td>\n",
              "    </tr>\n",
              "    <tr>\n",
              "      <th>quilometragem</th>\n",
              "      <td>9508.0</td>\n",
              "      <td>82622.77</td>\n",
              "      <td>35088.28</td>\n",
              "      <td>15000.0</td>\n",
              "      <td>54000.0</td>\n",
              "      <td>83000.0</td>\n",
              "      <td>110000.0</td>\n",
              "      <td>150000.0</td>\n",
              "    </tr>\n",
              "    <tr>\n",
              "      <th>ano</th>\n",
              "      <td>9508.0</td>\n",
              "      <td>2013.98</td>\n",
              "      <td>3.94</td>\n",
              "      <td>2000.0</td>\n",
              "      <td>2011.0</td>\n",
              "      <td>2014.0</td>\n",
              "      <td>2017.0</td>\n",
              "      <td>2021.0</td>\n",
              "    </tr>\n",
              "  </tbody>\n",
              "</table>\n",
              "</div>"
            ],
            "text/plain": [
              "                count      mean       std  ...      50%       75%       max\n",
              "motor          9508.0      1.77      0.59  ...      1.6       2.0       6.2\n",
              "preco          9508.0  51969.07  27338.27  ...  44990.0   68690.0  130000.0\n",
              "quilometragem  9508.0  82622.77  35088.28  ...  83000.0  110000.0  150000.0\n",
              "ano            9508.0   2013.98      3.94  ...   2014.0    2017.0    2021.0\n",
              "\n",
              "[4 rows x 8 columns]"
            ]
          },
          "metadata": {
            "tags": []
          },
          "execution_count": 6
        }
      ]
    },
    {
      "cell_type": "code",
      "metadata": {
        "colab": {
          "base_uri": "https://localhost:8080/"
        },
        "id": "zlNp34gEsnsI",
        "outputId": "6d1ec166-01fa-48f2-98fc-100068056eff"
      },
      "source": [
        "df.isna().sum()"
      ],
      "execution_count": 7,
      "outputs": [
        {
          "output_type": "execute_result",
          "data": {
            "text/plain": [
              "motor            0\n",
              "marca            0\n",
              "modelo           0\n",
              "preco            0\n",
              "quilometragem    0\n",
              "ano              0\n",
              "informacoes      0\n",
              "dtype: int64"
            ]
          },
          "metadata": {
            "tags": []
          },
          "execution_count": 7
        }
      ]
    },
    {
      "cell_type": "code",
      "metadata": {
        "id": "oq5s8OYgsnsJ"
      },
      "source": [
        "dados = df"
      ],
      "execution_count": 8,
      "outputs": []
    },
    {
      "cell_type": "code",
      "metadata": {
        "colab": {
          "base_uri": "https://localhost:8080/",
          "height": 167
        },
        "id": "L7fdwKmoCbrR",
        "outputId": "43b78548-b3a8-4f40-b7d2-cc2700e1cd1f"
      },
      "source": [
        "dados.describe().round(2).T"
      ],
      "execution_count": 9,
      "outputs": [
        {
          "output_type": "execute_result",
          "data": {
            "text/html": [
              "<div>\n",
              "<style scoped>\n",
              "    .dataframe tbody tr th:only-of-type {\n",
              "        vertical-align: middle;\n",
              "    }\n",
              "\n",
              "    .dataframe tbody tr th {\n",
              "        vertical-align: top;\n",
              "    }\n",
              "\n",
              "    .dataframe thead th {\n",
              "        text-align: right;\n",
              "    }\n",
              "</style>\n",
              "<table border=\"1\" class=\"dataframe\">\n",
              "  <thead>\n",
              "    <tr style=\"text-align: right;\">\n",
              "      <th></th>\n",
              "      <th>count</th>\n",
              "      <th>mean</th>\n",
              "      <th>std</th>\n",
              "      <th>min</th>\n",
              "      <th>25%</th>\n",
              "      <th>50%</th>\n",
              "      <th>75%</th>\n",
              "      <th>max</th>\n",
              "    </tr>\n",
              "  </thead>\n",
              "  <tbody>\n",
              "    <tr>\n",
              "      <th>motor</th>\n",
              "      <td>9508.0</td>\n",
              "      <td>1.77</td>\n",
              "      <td>0.59</td>\n",
              "      <td>1.0</td>\n",
              "      <td>1.4</td>\n",
              "      <td>1.6</td>\n",
              "      <td>2.0</td>\n",
              "      <td>6.2</td>\n",
              "    </tr>\n",
              "    <tr>\n",
              "      <th>preco</th>\n",
              "      <td>9508.0</td>\n",
              "      <td>51969.07</td>\n",
              "      <td>27338.27</td>\n",
              "      <td>3500.0</td>\n",
              "      <td>31490.0</td>\n",
              "      <td>44990.0</td>\n",
              "      <td>68690.0</td>\n",
              "      <td>130000.0</td>\n",
              "    </tr>\n",
              "    <tr>\n",
              "      <th>quilometragem</th>\n",
              "      <td>9508.0</td>\n",
              "      <td>82622.77</td>\n",
              "      <td>35088.28</td>\n",
              "      <td>15000.0</td>\n",
              "      <td>54000.0</td>\n",
              "      <td>83000.0</td>\n",
              "      <td>110000.0</td>\n",
              "      <td>150000.0</td>\n",
              "    </tr>\n",
              "    <tr>\n",
              "      <th>ano</th>\n",
              "      <td>9508.0</td>\n",
              "      <td>2013.98</td>\n",
              "      <td>3.94</td>\n",
              "      <td>2000.0</td>\n",
              "      <td>2011.0</td>\n",
              "      <td>2014.0</td>\n",
              "      <td>2017.0</td>\n",
              "      <td>2021.0</td>\n",
              "    </tr>\n",
              "  </tbody>\n",
              "</table>\n",
              "</div>"
            ],
            "text/plain": [
              "                count      mean       std  ...      50%       75%       max\n",
              "motor          9508.0      1.77      0.59  ...      1.6       2.0       6.2\n",
              "preco          9508.0  51969.07  27338.27  ...  44990.0   68690.0  130000.0\n",
              "quilometragem  9508.0  82622.77  35088.28  ...  83000.0  110000.0  150000.0\n",
              "ano            9508.0   2013.98      3.94  ...   2014.0    2017.0    2021.0\n",
              "\n",
              "[4 rows x 8 columns]"
            ]
          },
          "metadata": {
            "tags": []
          },
          "execution_count": 9
        }
      ]
    },
    {
      "cell_type": "code",
      "metadata": {
        "colab": {
          "base_uri": "https://localhost:8080/",
          "height": 610
        },
        "id": "9jERgfAqnIN0",
        "outputId": "61137f83-d27f-43d0-8fb8-a8327cb852fb"
      },
      "source": [
        "plt.figure(figsize=(14,10))\n",
        "\n",
        "corr = dados.corr().abs()\n",
        "mask = np.triu(np.ones_like(corr, dtype=np.bool))\n",
        "\n",
        "sns.heatmap(corr, mask=mask, annot=True, center=0, cmap=\"YlGnBu\")"
      ],
      "execution_count": 10,
      "outputs": [
        {
          "output_type": "execute_result",
          "data": {
            "text/plain": [
              "<matplotlib.axes._subplots.AxesSubplot at 0x7fe453fcdc50>"
            ]
          },
          "metadata": {
            "tags": []
          },
          "execution_count": 10
        },
        {
          "output_type": "display_data",
          "data": {
            "image/png": "[encoded data removed]",
            "text/plain": [
              "<Figure size 1008x720 with 2 Axes>"
            ]
          },
          "metadata": {
            "tags": [],
            "needs_background": "light"
          }
        }
      ]
    },
    {
      "cell_type": "markdown",
      "metadata": {
        "id": "dHqmb5iMkSMm"
      },
      "source": [
        "## Definindo as amostras de treino e teste"
      ]
    },
    {
      "cell_type": "code",
      "metadata": {
        "id": "6uHzERpDsns9"
      },
      "source": [
        "from sklearn.preprocessing import LabelEncoder"
      ],
      "execution_count": 11,
      "outputs": []
    },
    {
      "cell_type": "code",
      "metadata": {
        "id": "O80XaND7sntG"
      },
      "source": [
        "enconder = LabelEncoder()"
      ],
      "execution_count": 12,
      "outputs": []
    },
    {
      "cell_type": "code",
      "metadata": {
        "id": "s7VM7DTvsntH"
      },
      "source": [
        "dados['marca'] = enconder.fit_transform(dados['marca'])\n",
        "dados['modelo'] = enconder.fit_transform(dados['modelo'])"
      ],
      "execution_count": 13,
      "outputs": []
    },
    {
      "cell_type": "code",
      "metadata": {
        "id": "EeduinjrkL3w"
      },
      "source": [
        "from sklearn.model_selection import train_test_split"
      ],
      "execution_count": 14,
      "outputs": []
    },
    {
      "cell_type": "code",
      "metadata": {
        "id": "xd26HcK6sntI"
      },
      "source": [
        "X = dados.drop(columns=['preco','informacoes'])\n",
        "Y = dados['preco']"
      ],
      "execution_count": 15,
      "outputs": []
    },
    {
      "cell_type": "code",
      "metadata": {
        "id": "xg49TNzVkL-B"
      },
      "source": [
        "X_treino,X_teste,Y_treino,Y_teste = train_test_split(X,Y,test_size=0.25,random_state=0 )"
      ],
      "execution_count": 16,
      "outputs": []
    },
    {
      "cell_type": "code",
      "metadata": {
        "id": "w0ZWcHvh-9gP"
      },
      "source": [
        "# treino['preco'] = treino['preco'].apply(np.log1p)\n",
        "# treino['quilometragem'] = treino['quilometragem'].apply(np.log1p)\n",
        "# teste['preco'] = teste['preco'].apply(np.log1p)\n",
        "# teste['quilometragem'] = teste['quilometragem'].apply(np.log1p)"
      ],
      "execution_count": 17,
      "outputs": []
    },
    {
      "cell_type": "markdown",
      "metadata": {
        "id": "2qyhuuFmq3Tc"
      },
      "source": [
        " - Modelo \"Baseline\" (Ponto de partida)"
      ]
    },
    {
      "cell_type": "code",
      "metadata": {
        "id": "Q9SIbFFDnIN5"
      },
      "source": [
        "from sklearn.linear_model import LinearRegression"
      ],
      "execution_count": 18,
      "outputs": []
    },
    {
      "cell_type": "code",
      "metadata": {
        "colab": {
          "base_uri": "https://localhost:8080/"
        },
        "id": "f79edtGSnIN6",
        "outputId": "47875e80-1a04-4773-dac7-383d74341215"
      },
      "source": [
        "lr = LinearRegression()\n",
        "lr.fit(X_treino, Y_treino)\n",
        "lr.score(X_teste, Y_teste)"
      ],
      "execution_count": 19,
      "outputs": [
        {
          "output_type": "execute_result",
          "data": {
            "text/plain": [
              "0.4662657593007131"
            ]
          },
          "metadata": {
            "tags": []
          },
          "execution_count": 19
        }
      ]
    },
    {
      "cell_type": "markdown",
      "metadata": {
        "id": "APUAvXnEnIN7"
      },
      "source": [
        " - Machine learning"
      ]
    },
    {
      "cell_type": "code",
      "metadata": {
        "colab": {
          "base_uri": "https://localhost:8080/"
        },
        "id": "oGLHoDbUnIN7",
        "outputId": "aae17a03-f62e-4d7b-b7af-869b7ce81188"
      },
      "source": [
        "from sklearn.tree import DecisionTreeRegressor\n",
        "from sklearn.ensemble import RandomForestRegressor\n",
        "from sklearn.neural_network import MLPRegressor\n",
        "from xgboost import XGBRegressor\n",
        "import warnings\n",
        "warnings.filterwarnings(\"ignore\")\n",
        "\n",
        "\n",
        "regressor_list = [\n",
        "                  DecisionTreeRegressor(),\n",
        "                  RandomForestRegressor(),\n",
        "                  MLPRegressor(),\n",
        "                  XGBRegressor(),\n",
        "           \n",
        "                  ]\n",
        "\n",
        "for reg in regressor_list:\n",
        "  print('Treinando', reg.__class__.__name__)\n",
        "  reg.fit(X_treino, Y_treino)\n",
        "  train_score = reg.score(X_treino, Y_treino)\n",
        "  test_score = reg.score(X_teste, Y_teste)\n",
        "  print('Train score', train_score)\n",
        "  print('Test score', test_score)\n",
        "  print('='*80)"
      ],
      "execution_count": 20,
      "outputs": [
        {
          "output_type": "stream",
          "text": [
            "Treinando DecisionTreeRegressor\n",
            "Train score 0.9920684361286236\n",
            "Test score 0.6871483794034482\n",
            "================================================================================\n",
            "Treinando RandomForestRegressor\n",
            "Train score 0.9692838654924846\n",
            "Test score 0.8124303319224033\n",
            "================================================================================\n",
            "Treinando MLPRegressor\n",
            "Train score 0.16714439102062328\n",
            "Test score 0.14024672786725711\n",
            "================================================================================\n",
            "Treinando XGBRegressor\n",
            "[12:53:45] WARNING: /workspace/src/objective/regression_obj.cu:152: reg:linear is now deprecated in favor of reg:squarederror.\n",
            "Train score 0.7517795336170815\n",
            "Test score 0.7331753325889974\n",
            "================================================================================\n"
          ],
          "name": "stdout"
        }
      ]
    },
    {
      "cell_type": "code",
      "metadata": {
        "colab": {
          "base_uri": "https://localhost:8080/"
        },
        "id": "KuFanXxCnIN8",
        "outputId": "ab4baa2a-769e-4614-c149-80af4d2f2415"
      },
      "source": [
        "# repetindo processo com validação cruzada\n",
        "import warnings\n",
        "warnings.filterwarnings(\"ignore\")\n",
        "\n",
        "from sklearn.tree import DecisionTreeRegressor\n",
        "from sklearn.ensemble import RandomForestRegressor\n",
        "from sklearn.neural_network import MLPRegressor\n",
        "from xgboost import XGBRegressor\n",
        "from sklearn.model_selection import cross_val_score\n",
        "\n",
        "\n",
        "regressor_list = [\n",
        "                  DecisionTreeRegressor(),\n",
        "                  RandomForestRegressor(),\n",
        "                  MLPRegressor(),\n",
        "                  XGBRegressor(),\n",
        "                  ]\n",
        "\n",
        "for reg in regressor_list:\n",
        "  print('Treinando', reg.__class__.__name__)\n",
        "  reg.fit(X_treino, Y_treino)\n",
        "  train_score = reg.score(X_treino, Y_treino)\n",
        "  val_score = cross_val_score(reg, X_treino, Y_treino, cv=5)\n",
        "  test_score = reg.score(X_teste, Y_teste)\n",
        "  print('Train score', train_score)\n",
        "  print('Validation score', val_score)\n",
        "  print('Test score', test_score)\n",
        "  print('='*80)"
      ],
      "execution_count": 21,
      "outputs": [
        {
          "output_type": "stream",
          "text": [
            "Treinando DecisionTreeRegressor\n",
            "Train score 0.9920684361286236\n",
            "Validation score [0.64366933 0.68300435 0.67955394 0.71124416 0.6314409 ]\n",
            "Test score 0.6807901900515241\n",
            "================================================================================\n",
            "Treinando RandomForestRegressor\n",
            "Train score 0.9686569423737154\n",
            "Validation score [0.80732508 0.81721068 0.81354793 0.80917172 0.78225929]\n",
            "Test score 0.8132585159869479\n",
            "================================================================================\n",
            "Treinando MLPRegressor\n",
            "Train score 0.16669557294658666\n",
            "Validation score [0.14455358 0.18093664 0.15129477 0.18124826 0.17377699]\n",
            "Test score 0.1398164578284652\n",
            "================================================================================\n",
            "Treinando XGBRegressor\n",
            "[12:54:11] WARNING: /workspace/src/objective/regression_obj.cu:152: reg:linear is now deprecated in favor of reg:squarederror.\n",
            "[12:54:11] WARNING: /workspace/src/objective/regression_obj.cu:152: reg:linear is now deprecated in favor of reg:squarederror.\n",
            "[12:54:11] WARNING: /workspace/src/objective/regression_obj.cu:152: reg:linear is now deprecated in favor of reg:squarederror.\n",
            "[12:54:12] WARNING: /workspace/src/objective/regression_obj.cu:152: reg:linear is now deprecated in favor of reg:squarederror.\n",
            "[12:54:12] WARNING: /workspace/src/objective/regression_obj.cu:152: reg:linear is now deprecated in favor of reg:squarederror.\n",
            "[12:54:12] WARNING: /workspace/src/objective/regression_obj.cu:152: reg:linear is now deprecated in favor of reg:squarederror.\n",
            "Train score 0.7517795336170815\n",
            "Validation score [0.72580394 0.76500705 0.72284712 0.73271148 0.71335606]\n",
            "Test score 0.7331753325889974\n",
            "================================================================================\n"
          ],
          "name": "stdout"
        }
      ]
    },
    {
      "cell_type": "code",
      "metadata": {
        "colab": {
          "base_uri": "https://localhost:8080/"
        },
        "id": "QJg7hbHfsntS",
        "outputId": "cac93ccd-d97a-482b-e4c4-ba79bee38c89"
      },
      "source": [
        "#  Todo: calibração do modelo\n",
        "from sklearn.model_selection import GridSearchCV\n",
        "parameters=[{'learning_rate':[0.1,0.2,0.3,0.4,0.5],\n",
        "             'max_depth':[3,4,5,6,7,8],\n",
        "             'n_estimators':[50, 100,150,200,250]}]\n",
        "            \n",
        "xgb = XGBRegressor(n_estimators=100, max_depth=1)\n",
        "gs = GridSearchCV(xgb,parameters,scoring='r2',n_jobs=-1,cv=5)\n",
        "gs.fit(X_treino, Y_treino)\n",
        "xgb = gs.best_estimator_\n",
        "\n",
        "train_score = xgb.score(X_treino, Y_treino)\n",
        "val_score = cross_val_score(xgb, X_treino, Y_treino, cv=5)\n",
        "test_score = xgb.score(X_teste, Y_teste)\n",
        "print('Train score', train_score)\n",
        "print('Validation score', val_score)\n",
        "print('Test score', test_score)"
      ],
      "execution_count": 35,
      "outputs": [
        {
          "output_type": "stream",
          "text": [
            "[14:18:53] WARNING: /workspace/src/objective/regression_obj.cu:152: reg:linear is now deprecated in favor of reg:squarederror.\n",
            "[14:18:54] WARNING: /workspace/src/objective/regression_obj.cu:152: reg:linear is now deprecated in favor of reg:squarederror.\n",
            "[14:18:54] WARNING: /workspace/src/objective/regression_obj.cu:152: reg:linear is now deprecated in favor of reg:squarederror.\n",
            "[14:18:55] WARNING: /workspace/src/objective/regression_obj.cu:152: reg:linear is now deprecated in favor of reg:squarederror.\n",
            "[14:18:56] WARNING: /workspace/src/objective/regression_obj.cu:152: reg:linear is now deprecated in favor of reg:squarederror.\n",
            "[14:18:56] WARNING: /workspace/src/objective/regression_obj.cu:152: reg:linear is now deprecated in favor of reg:squarederror.\n",
            "Train score 0.9241765167784728\n",
            "Validation score [0.81042954 0.82935794 0.81928472 0.81407381 0.79313608]\n",
            "Test score 0.8255036368006831\n"
          ],
          "name": "stdout"
        }
      ]
    },
    {
      "cell_type": "markdown",
      "metadata": {
        "id": "qZZo5qoDnIOB"
      },
      "source": [
        " - Calculando o erro"
      ]
    },
    {
      "cell_type": "code",
      "metadata": {
        "id": "98rh2XRBnIOB"
      },
      "source": [
        "from sklearn.metrics import mean_absolute_error,mean_squared_error, r2_score"
      ],
      "execution_count": 36,
      "outputs": []
    },
    {
      "cell_type": "code",
      "metadata": {
        "id": "RKrx8NgvnIOC"
      },
      "source": [
        "y_pred = xgb.predict(X_teste)"
      ],
      "execution_count": 37,
      "outputs": []
    },
    {
      "cell_type": "code",
      "metadata": {
        "colab": {
          "base_uri": "https://localhost:8080/"
        },
        "id": "32YRmCqLnIOC",
        "outputId": "eea99991-3d0b-462c-f071-ef5f656d455d"
      },
      "source": [
        "MAE  = mean_absolute_error(Y_teste,y_pred)\n",
        "MSE  = mean_squared_error(Y_teste,y_pred)\n",
        "RMSE = np.sqrt(mean_squared_error(Y_teste,y_pred))\n",
        "R2 = r2_score(Y_teste, y_pred)\n",
        "\n",
        "\n",
        "print('MAE = {:0.4f}'.format(MAE))\n",
        "print('MSE = {:0.4f}'.format(MSE))\n",
        "print('RMSE = {:0.4f}'.format(RMSE))\n",
        "print('R2 = {:0.4f}'.format(R2))"
      ],
      "execution_count": 38,
      "outputs": [
        {
          "output_type": "stream",
          "text": [
            "MAE = 7135.3629\n",
            "MSE = 135504948.4461\n",
            "RMSE = 11640.6593\n",
            "R2 = 0.8255\n"
          ],
          "name": "stdout"
        }
      ]
    },
    {
      "cell_type": "markdown",
      "metadata": {
        "id": "90uC8MvrApdI"
      },
      "source": [
        "## Gridserch RandomForest"
      ]
    },
    {
      "cell_type": "code",
      "metadata": {
        "colab": {
          "base_uri": "https://localhost:8080/"
        },
        "id": "AtGdrmWSAjAJ",
        "outputId": "f686f819-6ec2-4232-d04e-e663a6247c6d"
      },
      "source": [
        "from sklearn.model_selection import GridSearchCV\r\n",
        "parameters=[{\r\n",
        "            \"max_features\": [\"auto\", \"sqrt\", \"log2\"],\r\n",
        "            \"min_samples_split\" : [2,4,8],\r\n",
        "            \"bootstrap\": [True, False],\r\n",
        "            'max_depth':[3,4,5,6,7,8,9,10],\r\n",
        "            'n_estimators':np.arange(1,51,5)}]\r\n",
        "            \r\n",
        "reg = RandomForestRegressor(n_estimators=100, max_depth=1)\r\n",
        "gs = GridSearchCV(reg,parameters,scoring='r2',n_jobs=-1,cv=5, refit = True)\r\n",
        "gs.fit(X_treino, Y_treino)\r\n",
        "reg = gs.best_estimator_\r\n",
        "\r\n",
        "train_score = reg.score(X_treino, Y_treino)\r\n",
        "val_score = cross_val_score(reg, X_treino, Y_treino, cv=5)\r\n",
        "test_score = reg.score(X_teste, Y_teste)\r\n",
        "print('Train score', train_score)\r\n",
        "print('Validation score', val_score)\r\n",
        "print('Test score', test_score)"
      ],
      "execution_count": 48,
      "outputs": [
        {
          "output_type": "stream",
          "text": [
            "Train score 0.8722284306756357\n",
            "Validation score [0.78618179 0.81373285 0.79277008 0.79811282 0.7770709 ]\n",
            "Test score 0.7988519466024279\n"
          ],
          "name": "stdout"
        }
      ]
    },
    {
      "cell_type": "code",
      "metadata": {
        "colab": {
          "base_uri": "https://localhost:8080/"
        },
        "id": "1gCzIiTHA0Nj",
        "outputId": "12c0551b-29f0-432d-e385-32caf88a2531"
      },
      "source": [
        "y_pred = reg.predict(X_teste)\r\n",
        "\r\n",
        "MAE  = mean_absolute_error(Y_teste,y_pred)\r\n",
        "MSE  = mean_squared_error(Y_teste,y_pred)\r\n",
        "RMSE = np.sqrt(mean_squared_error(Y_teste,y_pred))\r\n",
        "R2 = r2_score(Y_teste, y_pred)\r\n",
        "\r\n",
        "\r\n",
        "print('MAE = {:0.4f}'.format(MAE))\r\n",
        "print('MSE = {:0.4f}'.format(MSE))\r\n",
        "print('RMSE = {:0.4f}'.format(RMSE))\r\n",
        "print('R2 = {:0.4f}'.format(R2))"
      ],
      "execution_count": 49,
      "outputs": [
        {
          "output_type": "stream",
          "text": [
            "MAE = 7854.1456\n",
            "MSE = 156201287.5566\n",
            "RMSE = 12498.0514\n",
            "R2 = 0.7989\n"
          ],
          "name": "stdout"
        }
      ]
    },
    {
      "cell_type": "code",
      "metadata": {
        "id": "059Tj2RQCPVg"
      },
      "source": [
        ""
      ],
      "execution_count": null,
      "outputs": []
    }
  ]
}