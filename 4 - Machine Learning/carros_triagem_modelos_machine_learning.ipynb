{
 "cells": [
  {
   "cell_type": "markdown",
   "metadata": {},
   "source": [
    "# Objetivo:\n",
    "\n",
    " - Encontrar o melhor algoritmo  para fazer a previsão do preço do carro."
   ]
  },
  {
   "cell_type": "code",
   "execution_count": 1,
   "metadata": {},
   "outputs": [],
   "source": [
    "import pandas as pd\n",
    "import numpy as np\n",
    "import matplotlib.pyplot as plt\n",
    "import seaborn as sns"
   ]
  },
  {
   "cell_type": "code",
   "execution_count": 2,
   "metadata": {},
   "outputs": [],
   "source": [
    "url = 'https://raw.githubusercontent.com/robertferro/carros/main/3%20-%20EDA/carros_ml_sem_outliers.csv'"
   ]
  },
  {
   "cell_type": "code",
   "execution_count": 3,
   "metadata": {},
   "outputs": [],
   "source": [
    "df = pd.read_csv(url, sep = ',')"
   ]
  },
  {
   "cell_type": "code",
   "execution_count": 4,
   "metadata": {},
   "outputs": [
    {
     "data": {
      "text/html": [
       "<div>\n",
       "<style scoped>\n",
       "    .dataframe tbody tr th:only-of-type {\n",
       "        vertical-align: middle;\n",
       "    }\n",
       "\n",
       "    .dataframe tbody tr th {\n",
       "        vertical-align: top;\n",
       "    }\n",
       "\n",
       "    .dataframe thead th {\n",
       "        text-align: right;\n",
       "    }\n",
       "</style>\n",
       "<table border=\"1\" class=\"dataframe\">\n",
       "  <thead>\n",
       "    <tr style=\"text-align: right;\">\n",
       "      <th></th>\n",
       "      <th>marca</th>\n",
       "      <th>modelo</th>\n",
       "      <th>motor</th>\n",
       "      <th>ano</th>\n",
       "      <th>quilometragem</th>\n",
       "      <th>novo</th>\n",
       "      <th>preco</th>\n",
       "    </tr>\n",
       "  </thead>\n",
       "  <tbody>\n",
       "    <tr>\n",
       "      <th>0</th>\n",
       "      <td>volkswagem</td>\n",
       "      <td>Fox</td>\n",
       "      <td>1.0</td>\n",
       "      <td>2013</td>\n",
       "      <td>100000</td>\n",
       "      <td>0</td>\n",
       "      <td>114900</td>\n",
       "    </tr>\n",
       "    <tr>\n",
       "      <th>1</th>\n",
       "      <td>citroen</td>\n",
       "      <td>C3</td>\n",
       "      <td>1.4</td>\n",
       "      <td>2012</td>\n",
       "      <td>71000</td>\n",
       "      <td>0</td>\n",
       "      <td>29990</td>\n",
       "    </tr>\n",
       "    <tr>\n",
       "      <th>2</th>\n",
       "      <td>volkswagem</td>\n",
       "      <td>Fox</td>\n",
       "      <td>1.0</td>\n",
       "      <td>2013</td>\n",
       "      <td>84000</td>\n",
       "      <td>0</td>\n",
       "      <td>23990</td>\n",
       "    </tr>\n",
       "    <tr>\n",
       "      <th>3</th>\n",
       "      <td>ford</td>\n",
       "      <td>Ka</td>\n",
       "      <td>1.0</td>\n",
       "      <td>2019</td>\n",
       "      <td>10800</td>\n",
       "      <td>0</td>\n",
       "      <td>28990</td>\n",
       "    </tr>\n",
       "    <tr>\n",
       "      <th>4</th>\n",
       "      <td>hyundai</td>\n",
       "      <td>Hb20</td>\n",
       "      <td>1.0</td>\n",
       "      <td>2017</td>\n",
       "      <td>23000</td>\n",
       "      <td>0</td>\n",
       "      <td>47879</td>\n",
       "    </tr>\n",
       "  </tbody>\n",
       "</table>\n",
       "</div>"
      ],
      "text/plain": [
       "        marca modelo  motor   ano  quilometragem  novo   preco\n",
       "0  volkswagem    Fox    1.0  2013         100000     0  114900\n",
       "1     citroen     C3    1.4  2012          71000     0   29990\n",
       "2  volkswagem    Fox    1.0  2013          84000     0   23990\n",
       "3        ford     Ka    1.0  2019          10800     0   28990\n",
       "4     hyundai   Hb20    1.0  2017          23000     0   47879"
      ]
     },
     "execution_count": 4,
     "metadata": {},
     "output_type": "execute_result"
    }
   ],
   "source": [
    "# pd.set_option('display.max_rows', 250)\n",
    "# df.modelo.value_counts().tail(250)\n",
    "df.head()"
   ]
  },
  {
   "cell_type": "code",
   "execution_count": 5,
   "metadata": {},
   "outputs": [
    {
     "name": "stdout",
     "output_type": "stream",
     "text": [
      "<class 'pandas.core.frame.DataFrame'>\n",
      "RangeIndex: 10849 entries, 0 to 10848\n",
      "Data columns (total 7 columns):\n",
      " #   Column         Non-Null Count  Dtype  \n",
      "---  ------         --------------  -----  \n",
      " 0   marca          10849 non-null  object \n",
      " 1   modelo         10849 non-null  object \n",
      " 2   motor          10849 non-null  float64\n",
      " 3   ano            10849 non-null  int64  \n",
      " 4   quilometragem  10849 non-null  int64  \n",
      " 5   novo           10849 non-null  int64  \n",
      " 6   preco          10849 non-null  int64  \n",
      "dtypes: float64(1), int64(4), object(2)\n",
      "memory usage: 593.4+ KB\n"
     ]
    }
   ],
   "source": [
    "df.info()"
   ]
  },
  {
   "cell_type": "code",
   "execution_count": 6,
   "metadata": {},
   "outputs": [
    {
     "data": {
      "text/plain": [
       "(10849, 7)"
      ]
     },
     "execution_count": 6,
     "metadata": {},
     "output_type": "execute_result"
    }
   ],
   "source": [
    "df.shape"
   ]
  },
  {
   "cell_type": "code",
   "execution_count": 7,
   "metadata": {},
   "outputs": [
    {
     "data": {
      "text/html": [
       "<div>\n",
       "<style scoped>\n",
       "    .dataframe tbody tr th:only-of-type {\n",
       "        vertical-align: middle;\n",
       "    }\n",
       "\n",
       "    .dataframe tbody tr th {\n",
       "        vertical-align: top;\n",
       "    }\n",
       "\n",
       "    .dataframe thead th {\n",
       "        text-align: right;\n",
       "    }\n",
       "</style>\n",
       "<table border=\"1\" class=\"dataframe\">\n",
       "  <thead>\n",
       "    <tr style=\"text-align: right;\">\n",
       "      <th></th>\n",
       "      <th>motor</th>\n",
       "      <th>ano</th>\n",
       "      <th>quilometragem</th>\n",
       "      <th>novo</th>\n",
       "      <th>preco</th>\n",
       "    </tr>\n",
       "  </thead>\n",
       "  <tbody>\n",
       "    <tr>\n",
       "      <th>count</th>\n",
       "      <td>10849.00</td>\n",
       "      <td>10849.00</td>\n",
       "      <td>10849.00</td>\n",
       "      <td>10849.00</td>\n",
       "      <td>10849.00</td>\n",
       "    </tr>\n",
       "    <tr>\n",
       "      <th>mean</th>\n",
       "      <td>1.83</td>\n",
       "      <td>2014.58</td>\n",
       "      <td>73593.82</td>\n",
       "      <td>0.19</td>\n",
       "      <td>69110.03</td>\n",
       "    </tr>\n",
       "    <tr>\n",
       "      <th>std</th>\n",
       "      <td>0.56</td>\n",
       "      <td>5.11</td>\n",
       "      <td>63857.34</td>\n",
       "      <td>0.40</td>\n",
       "      <td>47199.82</td>\n",
       "    </tr>\n",
       "    <tr>\n",
       "      <th>min</th>\n",
       "      <td>1.00</td>\n",
       "      <td>1991.00</td>\n",
       "      <td>0.00</td>\n",
       "      <td>0.00</td>\n",
       "      <td>1000.00</td>\n",
       "    </tr>\n",
       "    <tr>\n",
       "      <th>25%</th>\n",
       "      <td>1.50</td>\n",
       "      <td>2011.00</td>\n",
       "      <td>176.00</td>\n",
       "      <td>0.00</td>\n",
       "      <td>32000.00</td>\n",
       "    </tr>\n",
       "    <tr>\n",
       "      <th>50%</th>\n",
       "      <td>1.80</td>\n",
       "      <td>2015.00</td>\n",
       "      <td>70100.00</td>\n",
       "      <td>0.00</td>\n",
       "      <td>54888.00</td>\n",
       "    </tr>\n",
       "    <tr>\n",
       "      <th>75%</th>\n",
       "      <td>2.20</td>\n",
       "      <td>2019.00</td>\n",
       "      <td>119200.00</td>\n",
       "      <td>0.00</td>\n",
       "      <td>91990.00</td>\n",
       "    </tr>\n",
       "    <tr>\n",
       "      <th>max</th>\n",
       "      <td>6.70</td>\n",
       "      <td>2021.00</td>\n",
       "      <td>250000.00</td>\n",
       "      <td>1.00</td>\n",
       "      <td>200000.00</td>\n",
       "    </tr>\n",
       "  </tbody>\n",
       "</table>\n",
       "</div>"
      ],
      "text/plain": [
       "          motor       ano  quilometragem      novo      preco\n",
       "count  10849.00  10849.00       10849.00  10849.00   10849.00\n",
       "mean       1.83   2014.58       73593.82      0.19   69110.03\n",
       "std        0.56      5.11       63857.34      0.40   47199.82\n",
       "min        1.00   1991.00           0.00      0.00    1000.00\n",
       "25%        1.50   2011.00         176.00      0.00   32000.00\n",
       "50%        1.80   2015.00       70100.00      0.00   54888.00\n",
       "75%        2.20   2019.00      119200.00      0.00   91990.00\n",
       "max        6.70   2021.00      250000.00      1.00  200000.00"
      ]
     },
     "execution_count": 7,
     "metadata": {},
     "output_type": "execute_result"
    }
   ],
   "source": [
    "df.describe().round(2)"
   ]
  },
  {
   "cell_type": "code",
   "execution_count": 8,
   "metadata": {},
   "outputs": [
    {
     "data": {
      "text/html": [
       "<div>\n",
       "<style scoped>\n",
       "    .dataframe tbody tr th:only-of-type {\n",
       "        vertical-align: middle;\n",
       "    }\n",
       "\n",
       "    .dataframe tbody tr th {\n",
       "        vertical-align: top;\n",
       "    }\n",
       "\n",
       "    .dataframe thead th {\n",
       "        text-align: right;\n",
       "    }\n",
       "</style>\n",
       "<table border=\"1\" class=\"dataframe\">\n",
       "  <thead>\n",
       "    <tr style=\"text-align: right;\">\n",
       "      <th></th>\n",
       "      <th>motor</th>\n",
       "      <th>ano</th>\n",
       "      <th>quilometragem</th>\n",
       "      <th>novo</th>\n",
       "      <th>preco</th>\n",
       "    </tr>\n",
       "  </thead>\n",
       "  <tbody>\n",
       "    <tr>\n",
       "      <th>motor</th>\n",
       "      <td>1.0000</td>\n",
       "      <td>-0.1049</td>\n",
       "      <td>0.0558</td>\n",
       "      <td>0.0040</td>\n",
       "      <td>0.3190</td>\n",
       "    </tr>\n",
       "    <tr>\n",
       "      <th>ano</th>\n",
       "      <td>-0.1049</td>\n",
       "      <td>1.0000</td>\n",
       "      <td>-0.6235</td>\n",
       "      <td>0.5381</td>\n",
       "      <td>0.4764</td>\n",
       "    </tr>\n",
       "    <tr>\n",
       "      <th>quilometragem</th>\n",
       "      <td>0.0558</td>\n",
       "      <td>-0.6235</td>\n",
       "      <td>1.0000</td>\n",
       "      <td>-0.5668</td>\n",
       "      <td>-0.3338</td>\n",
       "    </tr>\n",
       "    <tr>\n",
       "      <th>novo</th>\n",
       "      <td>0.0040</td>\n",
       "      <td>0.5381</td>\n",
       "      <td>-0.5668</td>\n",
       "      <td>1.0000</td>\n",
       "      <td>0.4365</td>\n",
       "    </tr>\n",
       "    <tr>\n",
       "      <th>preco</th>\n",
       "      <td>0.3190</td>\n",
       "      <td>0.4764</td>\n",
       "      <td>-0.3338</td>\n",
       "      <td>0.4365</td>\n",
       "      <td>1.0000</td>\n",
       "    </tr>\n",
       "  </tbody>\n",
       "</table>\n",
       "</div>"
      ],
      "text/plain": [
       "                motor     ano  quilometragem    novo   preco\n",
       "motor          1.0000 -0.1049         0.0558  0.0040  0.3190\n",
       "ano           -0.1049  1.0000        -0.6235  0.5381  0.4764\n",
       "quilometragem  0.0558 -0.6235         1.0000 -0.5668 -0.3338\n",
       "novo           0.0040  0.5381        -0.5668  1.0000  0.4365\n",
       "preco          0.3190  0.4764        -0.3338  0.4365  1.0000"
      ]
     },
     "execution_count": 8,
     "metadata": {},
     "output_type": "execute_result"
    }
   ],
   "source": [
    "df.corr().round(4)"
   ]
  },
  {
   "cell_type": "code",
   "execution_count": 9,
   "metadata": {},
   "outputs": [
    {
     "data": {
      "text/plain": [
       "<matplotlib.axes._subplots.AxesSubplot at 0x19839133d30>"
      ]
     },
     "execution_count": 9,
     "metadata": {},
     "output_type": "execute_result"
    },
    {
     "data": {
      "image/png": "[encoded data removed]",
      "text/plain": [
       "<Figure size 432x288 with 2 Axes>"
      ]
     },
     "metadata": {
      "needs_background": "light"
     },
     "output_type": "display_data"
    }
   ],
   "source": [
    "sns.heatmap(df.corr(), annot=True, center=0, cmap=\"YlGnBu\")"
   ]
  },
  {
   "cell_type": "markdown",
   "metadata": {},
   "source": [
    " - Definindo as amostras de treino e teste"
   ]
  },
  {
   "cell_type": "code",
   "execution_count": 10,
   "metadata": {},
   "outputs": [
    {
     "data": {
      "text/html": [
       "<div>\n",
       "<style scoped>\n",
       "    .dataframe tbody tr th:only-of-type {\n",
       "        vertical-align: middle;\n",
       "    }\n",
       "\n",
       "    .dataframe tbody tr th {\n",
       "        vertical-align: top;\n",
       "    }\n",
       "\n",
       "    .dataframe thead th {\n",
       "        text-align: right;\n",
       "    }\n",
       "</style>\n",
       "<table border=\"1\" class=\"dataframe\">\n",
       "  <thead>\n",
       "    <tr style=\"text-align: right;\">\n",
       "      <th></th>\n",
       "      <th>marca</th>\n",
       "      <th>modelo</th>\n",
       "      <th>motor</th>\n",
       "      <th>ano</th>\n",
       "      <th>quilometragem</th>\n",
       "      <th>novo</th>\n",
       "      <th>preco</th>\n",
       "    </tr>\n",
       "  </thead>\n",
       "  <tbody>\n",
       "    <tr>\n",
       "      <th>0</th>\n",
       "      <td>volkswagem</td>\n",
       "      <td>Fox</td>\n",
       "      <td>1.0</td>\n",
       "      <td>2013</td>\n",
       "      <td>100000</td>\n",
       "      <td>0</td>\n",
       "      <td>114900</td>\n",
       "    </tr>\n",
       "    <tr>\n",
       "      <th>1</th>\n",
       "      <td>citroen</td>\n",
       "      <td>C3</td>\n",
       "      <td>1.4</td>\n",
       "      <td>2012</td>\n",
       "      <td>71000</td>\n",
       "      <td>0</td>\n",
       "      <td>29990</td>\n",
       "    </tr>\n",
       "    <tr>\n",
       "      <th>2</th>\n",
       "      <td>volkswagem</td>\n",
       "      <td>Fox</td>\n",
       "      <td>1.0</td>\n",
       "      <td>2013</td>\n",
       "      <td>84000</td>\n",
       "      <td>0</td>\n",
       "      <td>23990</td>\n",
       "    </tr>\n",
       "    <tr>\n",
       "      <th>3</th>\n",
       "      <td>ford</td>\n",
       "      <td>Ka</td>\n",
       "      <td>1.0</td>\n",
       "      <td>2019</td>\n",
       "      <td>10800</td>\n",
       "      <td>0</td>\n",
       "      <td>28990</td>\n",
       "    </tr>\n",
       "    <tr>\n",
       "      <th>4</th>\n",
       "      <td>hyundai</td>\n",
       "      <td>Hb20</td>\n",
       "      <td>1.0</td>\n",
       "      <td>2017</td>\n",
       "      <td>23000</td>\n",
       "      <td>0</td>\n",
       "      <td>47879</td>\n",
       "    </tr>\n",
       "  </tbody>\n",
       "</table>\n",
       "</div>"
      ],
      "text/plain": [
       "        marca modelo  motor   ano  quilometragem  novo   preco\n",
       "0  volkswagem    Fox    1.0  2013         100000     0  114900\n",
       "1     citroen     C3    1.4  2012          71000     0   29990\n",
       "2  volkswagem    Fox    1.0  2013          84000     0   23990\n",
       "3        ford     Ka    1.0  2019          10800     0   28990\n",
       "4     hyundai   Hb20    1.0  2017          23000     0   47879"
      ]
     },
     "execution_count": 10,
     "metadata": {},
     "output_type": "execute_result"
    }
   ],
   "source": [
    "df.head()"
   ]
  },
  {
   "cell_type": "code",
   "execution_count": 11,
   "metadata": {},
   "outputs": [],
   "source": [
    "from sklearn.preprocessing import LabelEncoder"
   ]
  },
  {
   "cell_type": "code",
   "execution_count": 12,
   "metadata": {},
   "outputs": [],
   "source": [
    "enconder = LabelEncoder()"
   ]
  },
  {
   "cell_type": "code",
   "execution_count": 13,
   "metadata": {},
   "outputs": [],
   "source": [
    "df['marca'] = enconder.fit_transform(df['marca'])\n",
    "df['modelo'] = enconder.fit_transform(df['modelo'])"
   ]
  },
  {
   "cell_type": "code",
   "execution_count": 14,
   "metadata": {},
   "outputs": [
    {
     "data": {
      "text/plain": [
       "<matplotlib.axes._subplots.AxesSubplot at 0x198393f0880>"
      ]
     },
     "execution_count": 14,
     "metadata": {},
     "output_type": "execute_result"
    },
    {
     "data": {
      "image/png": "[encoded data removed]",
      "text/plain": [
       "<Figure size 432x288 with 2 Axes>"
      ]
     },
     "metadata": {
      "needs_background": "light"
     },
     "output_type": "display_data"
    }
   ],
   "source": [
    "sns.heatmap(df.corr(), annot=True, center=0, cmap=\"YlGnBu\")"
   ]
  },
  {
   "cell_type": "code",
   "execution_count": 15,
   "metadata": {},
   "outputs": [
    {
     "name": "stdout",
     "output_type": "stream",
     "text": [
      "<class 'pandas.core.frame.DataFrame'>\n",
      "RangeIndex: 10849 entries, 0 to 10848\n",
      "Data columns (total 7 columns):\n",
      " #   Column         Non-Null Count  Dtype  \n",
      "---  ------         --------------  -----  \n",
      " 0   marca          10849 non-null  int32  \n",
      " 1   modelo         10849 non-null  int32  \n",
      " 2   motor          10849 non-null  float64\n",
      " 3   ano            10849 non-null  int64  \n",
      " 4   quilometragem  10849 non-null  int64  \n",
      " 5   novo           10849 non-null  int64  \n",
      " 6   preco          10849 non-null  int64  \n",
      "dtypes: float64(1), int32(2), int64(4)\n",
      "memory usage: 508.7 KB\n"
     ]
    }
   ],
   "source": [
    "df.info()"
   ]
  },
  {
   "cell_type": "code",
   "execution_count": 16,
   "metadata": {},
   "outputs": [
    {
     "data": {
      "text/html": [
       "<div>\n",
       "<style scoped>\n",
       "    .dataframe tbody tr th:only-of-type {\n",
       "        vertical-align: middle;\n",
       "    }\n",
       "\n",
       "    .dataframe tbody tr th {\n",
       "        vertical-align: top;\n",
       "    }\n",
       "\n",
       "    .dataframe thead th {\n",
       "        text-align: right;\n",
       "    }\n",
       "</style>\n",
       "<table border=\"1\" class=\"dataframe\">\n",
       "  <thead>\n",
       "    <tr style=\"text-align: right;\">\n",
       "      <th></th>\n",
       "      <th>marca</th>\n",
       "      <th>modelo</th>\n",
       "      <th>motor</th>\n",
       "      <th>ano</th>\n",
       "      <th>quilometragem</th>\n",
       "      <th>novo</th>\n",
       "      <th>preco</th>\n",
       "    </tr>\n",
       "  </thead>\n",
       "  <tbody>\n",
       "    <tr>\n",
       "      <th>0</th>\n",
       "      <td>23</td>\n",
       "      <td>97</td>\n",
       "      <td>1.0</td>\n",
       "      <td>2013</td>\n",
       "      <td>100000</td>\n",
       "      <td>0</td>\n",
       "      <td>114900</td>\n",
       "    </tr>\n",
       "    <tr>\n",
       "      <th>1</th>\n",
       "      <td>6</td>\n",
       "      <td>40</td>\n",
       "      <td>1.4</td>\n",
       "      <td>2012</td>\n",
       "      <td>71000</td>\n",
       "      <td>0</td>\n",
       "      <td>29990</td>\n",
       "    </tr>\n",
       "    <tr>\n",
       "      <th>2</th>\n",
       "      <td>23</td>\n",
       "      <td>97</td>\n",
       "      <td>1.0</td>\n",
       "      <td>2013</td>\n",
       "      <td>84000</td>\n",
       "      <td>0</td>\n",
       "      <td>23990</td>\n",
       "    </tr>\n",
       "    <tr>\n",
       "      <th>3</th>\n",
       "      <td>9</td>\n",
       "      <td>133</td>\n",
       "      <td>1.0</td>\n",
       "      <td>2019</td>\n",
       "      <td>10800</td>\n",
       "      <td>0</td>\n",
       "      <td>28990</td>\n",
       "    </tr>\n",
       "    <tr>\n",
       "      <th>4</th>\n",
       "      <td>11</td>\n",
       "      <td>112</td>\n",
       "      <td>1.0</td>\n",
       "      <td>2017</td>\n",
       "      <td>23000</td>\n",
       "      <td>0</td>\n",
       "      <td>47879</td>\n",
       "    </tr>\n",
       "  </tbody>\n",
       "</table>\n",
       "</div>"
      ],
      "text/plain": [
       "   marca  modelo  motor   ano  quilometragem  novo   preco\n",
       "0     23      97    1.0  2013         100000     0  114900\n",
       "1      6      40    1.4  2012          71000     0   29990\n",
       "2     23      97    1.0  2013          84000     0   23990\n",
       "3      9     133    1.0  2019          10800     0   28990\n",
       "4     11     112    1.0  2017          23000     0   47879"
      ]
     },
     "execution_count": 16,
     "metadata": {},
     "output_type": "execute_result"
    }
   ],
   "source": [
    "df.head()"
   ]
  },
  {
   "cell_type": "code",
   "execution_count": 17,
   "metadata": {},
   "outputs": [],
   "source": [
    "dados = df"
   ]
  },
  {
   "cell_type": "code",
   "execution_count": 18,
   "metadata": {},
   "outputs": [],
   "source": [
    "X = dados[['novo','ano','motor', 'marca']]\n",
    "Y = dados['preco']"
   ]
  },
  {
   "cell_type": "code",
   "execution_count": 19,
   "metadata": {},
   "outputs": [],
   "source": [
    "from sklearn.model_selection import train_test_split"
   ]
  },
  {
   "cell_type": "code",
   "execution_count": 25,
   "metadata": {},
   "outputs": [],
   "source": [
    "X_treino,X_teste,Y_treino,Y_teste = train_test_split(X,Y,test_size=0.25,random_state=0 )"
   ]
  },
  {
   "cell_type": "markdown",
   "metadata": {},
   "source": [
    " - Modelo \"Baseline\" (Ponto de partida)"
   ]
  },
  {
   "cell_type": "code",
   "execution_count": 26,
   "metadata": {},
   "outputs": [],
   "source": [
    "from sklearn.linear_model import LinearRegression"
   ]
  },
  {
   "cell_type": "code",
   "execution_count": 27,
   "metadata": {},
   "outputs": [
    {
     "data": {
      "text/plain": [
       "0.420009528045326"
      ]
     },
     "execution_count": 27,
     "metadata": {},
     "output_type": "execute_result"
    }
   ],
   "source": [
    "lr = LinearRegression()\n",
    "lr.fit(X_treino, Y_treino)\n",
    "lr.score(X_teste, Y_teste)"
   ]
  },
  {
   "cell_type": "markdown",
   "metadata": {},
   "source": [
    " - Machine learning"
   ]
  },
  {
   "cell_type": "code",
   "execution_count": 28,
   "metadata": {},
   "outputs": [
    {
     "name": "stdout",
     "output_type": "stream",
     "text": [
      "Treinando DecisionTreeRegressor\n",
      "Train score 0.6433093119134938\n",
      "Test score 0.48233196103121345\n",
      "================================================================================\n",
      "Treinando RandomForestRegressor\n",
      "Train score 0.6373674782422776\n",
      "Test score 0.5140354486671135\n",
      "================================================================================\n",
      "Treinando MLPRegressor\n"
     ]
    },
    {
     "name": "stderr",
     "output_type": "stream",
     "text": [
      "C:\\Users\\Biena\\anaconda3\\lib\\site-packages\\sklearn\\neural_network\\_multilayer_perceptron.py:582: ConvergenceWarning: Stochastic Optimizer: Maximum iterations (200) reached and the optimization hasn't converged yet.\n",
      "  warnings.warn(\n"
     ]
    },
    {
     "name": "stdout",
     "output_type": "stream",
     "text": [
      "Train score 0.02674773445968237\n",
      "Test score 0.023728060466643996\n",
      "================================================================================\n",
      "Treinando XGBRegressor\n",
      "Train score 0.6277719887087148\n",
      "Test score 0.52887230454374\n",
      "================================================================================\n"
     ]
    }
   ],
   "source": [
    "from sklearn.tree import DecisionTreeRegressor\n",
    "from sklearn.ensemble import RandomForestRegressor\n",
    "from sklearn.neural_network import MLPRegressor\n",
    "from xgboost import XGBRegressor\n",
    "\n",
    "\n",
    "regressor_list = [\n",
    "                  DecisionTreeRegressor(),\n",
    "                  RandomForestRegressor(),\n",
    "                  MLPRegressor(),\n",
    "                  XGBRegressor(),\n",
    "           \n",
    "                  ]\n",
    "\n",
    "for reg in regressor_list:\n",
    "  print('Treinando', reg.__class__.__name__)\n",
    "  reg.fit(X_treino, Y_treino)\n",
    "  train_score = reg.score(X_treino, Y_treino)\n",
    "  test_score = reg.score(X_teste, Y_teste)\n",
    "  print('Train score', train_score)\n",
    "  print('Test score', test_score)\n",
    "  print('='*80)"
   ]
  },
  {
   "cell_type": "code",
   "execution_count": 29,
   "metadata": {},
   "outputs": [
    {
     "name": "stdout",
     "output_type": "stream",
     "text": [
      "Treinando DecisionTreeRegressor\n",
      "Train score 0.6433093119134938\n",
      "Validation score [0.41698516 0.50709648 0.44858293 0.43859928 0.44472927]\n",
      "Test score 0.48637151867979356\n",
      "================================================================================\n",
      "Treinando RandomForestRegressor\n",
      "Train score 0.6372413279907365\n",
      "Validation score [0.46234708 0.53846059 0.49229438 0.48439499 0.49009042]\n",
      "Test score 0.5146683788868498\n",
      "================================================================================\n",
      "Treinando MLPRegressor\n",
      "Train score 0.021800864762120398\n",
      "Validation score [0.02213572 0.02286954 0.01777378 0.01675915 0.0199459 ]\n",
      "Test score 0.0190628852534529\n",
      "================================================================================\n",
      "Treinando XGBRegressor\n",
      "Train score 0.6277719887087148\n",
      "Validation score [0.4786126  0.55853144 0.49857979 0.4970098  0.49263784]\n",
      "Test score 0.52887230454374\n",
      "================================================================================\n"
     ]
    }
   ],
   "source": [
    "# repetindo processo com validação cruzada\n",
    "import warnings\n",
    "warnings.filterwarnings(\"ignore\")\n",
    "\n",
    "from sklearn.tree import DecisionTreeRegressor\n",
    "from sklearn.ensemble import RandomForestRegressor\n",
    "from sklearn.neural_network import MLPRegressor\n",
    "from xgboost import XGBRegressor\n",
    "from sklearn.model_selection import cross_val_score\n",
    "\n",
    "\n",
    "regressor_list = [\n",
    "                  DecisionTreeRegressor(),\n",
    "                  RandomForestRegressor(),\n",
    "                  MLPRegressor(),\n",
    "                  XGBRegressor(),\n",
    "                  ]\n",
    "\n",
    "for reg in regressor_list:\n",
    "  print('Treinando', reg.__class__.__name__)\n",
    "  reg.fit(X_treino, Y_treino)\n",
    "  train_score = reg.score(X_treino, Y_treino)\n",
    "  val_score = cross_val_score(reg, X_treino, Y_treino, cv=5)\n",
    "  test_score = reg.score(X_teste, Y_teste)\n",
    "  print('Train score', train_score)\n",
    "  print('Validation score', val_score)\n",
    "  print('Test score', test_score)\n",
    "  print('='*80)"
   ]
  },
  {
   "cell_type": "code",
   "execution_count": 30,
   "metadata": {},
   "outputs": [
    {
     "data": {
      "text/plain": [
       "GridSearchCV(cv=5,\n",
       "             estimator=XGBRegressor(base_score=None, booster=None,\n",
       "                                    colsample_bylevel=None,\n",
       "                                    colsample_bynode=None,\n",
       "                                    colsample_bytree=None, gamma=None,\n",
       "                                    gpu_id=None, importance_type='gain',\n",
       "                                    interaction_constraints=None,\n",
       "                                    learning_rate=None, max_delta_step=None,\n",
       "                                    max_depth=1, min_child_weight=None,\n",
       "                                    missing=nan, monotone_constraints=None,\n",
       "                                    n_estimators=100, n_jobs=None,\n",
       "                                    num_parallel_tree=None, random_state=None,\n",
       "                                    reg_alpha=None, reg_lambda=None,\n",
       "                                    scale_pos_weight=None, subsample=None,\n",
       "                                    tree_method=None, validate_parameters=None,\n",
       "                                    verbosity=None),\n",
       "             n_jobs=-1,\n",
       "             param_grid=[{'learning_rate': [0.1, 0.2, 0.3, 0.4, 0.5],\n",
       "                          'max_depth': [3, 4, 5, 6, 7, 8],\n",
       "                          'n_estimators': [50, 100, 150, 200, 250]}],\n",
       "             scoring='r2')"
      ]
     },
     "execution_count": 30,
     "metadata": {},
     "output_type": "execute_result"
    }
   ],
   "source": [
    "from sklearn.model_selection import GridSearchCV\n",
    "parameters=[{'learning_rate':[0.1,0.2,0.3,0.4,0.5],\n",
    "             'max_depth':[3,4,5,6,7,8],\n",
    "             'n_estimators':[50, 100,150,200,250]}]\n",
    "            \n",
    "xgb = XGBRegressor(n_estimators=100, max_depth=1)\n",
    "gs = GridSearchCV(xgb,parameters,scoring='r2',n_jobs=-1,cv=5)\n",
    "gs.fit(X_treino, Y_treino)"
   ]
  },
  {
   "cell_type": "code",
   "execution_count": 31,
   "metadata": {},
   "outputs": [
    {
     "data": {
      "text/plain": [
       "{'learning_rate': 0.1, 'max_depth': 3, 'n_estimators': 250}"
      ]
     },
     "execution_count": 31,
     "metadata": {},
     "output_type": "execute_result"
    }
   ],
   "source": [
    "gs.best_params_"
   ]
  },
  {
   "cell_type": "code",
   "execution_count": 32,
   "metadata": {},
   "outputs": [],
   "source": [
    "xgb = XGBRegressor(learning_rate=0.1, max_depth=3, n_estimators=250)"
   ]
  },
  {
   "cell_type": "code",
   "execution_count": 33,
   "metadata": {},
   "outputs": [
    {
     "data": {
      "text/plain": [
       "XGBRegressor(base_score=0.5, booster='gbtree', colsample_bylevel=1,\n",
       "             colsample_bynode=1, colsample_bytree=1, gamma=0, gpu_id=-1,\n",
       "             importance_type='gain', interaction_constraints='',\n",
       "             learning_rate=0.1, max_delta_step=0, max_depth=3,\n",
       "             min_child_weight=1, missing=nan, monotone_constraints='()',\n",
       "             n_estimators=250, n_jobs=2, num_parallel_tree=1, random_state=0,\n",
       "             reg_alpha=0, reg_lambda=1, scale_pos_weight=1, subsample=1,\n",
       "             tree_method='exact', validate_parameters=1, verbosity=None)"
      ]
     },
     "execution_count": 33,
     "metadata": {},
     "output_type": "execute_result"
    }
   ],
   "source": [
    "xgb.fit(X_treino, Y_treino)"
   ]
  },
  {
   "cell_type": "code",
   "execution_count": 34,
   "metadata": {},
   "outputs": [
    {
     "name": "stdout",
     "output_type": "stream",
     "text": [
      "Train score 0.5648031547647805\n",
      "Validation score [0.52808204 0.54309542 0.5149725 ]\n",
      "Test score 0.5419343899402012\n"
     ]
    }
   ],
   "source": [
    "train_score = xgb.score(X_treino, Y_treino)\n",
    "val_score = cross_val_score(xgb, X_treino, Y_treino, cv=3)\n",
    "test_score = xgb.score(X_teste, Y_teste)\n",
    "print('Train score', train_score)\n",
    "print('Validation score', val_score)\n",
    "print('Test score', test_score)"
   ]
  },
  {
   "cell_type": "markdown",
   "metadata": {},
   "source": [
    " - Calculando o erro"
   ]
  },
  {
   "cell_type": "code",
   "execution_count": 35,
   "metadata": {},
   "outputs": [],
   "source": [
    "from sklearn.metrics import mean_absolute_error,mean_squared_error, r2_score"
   ]
  },
  {
   "cell_type": "code",
   "execution_count": 36,
   "metadata": {},
   "outputs": [],
   "source": [
    "y_pred = xgb.predict(X_teste)"
   ]
  },
  {
   "cell_type": "code",
   "execution_count": 37,
   "metadata": {},
   "outputs": [
    {
     "name": "stdout",
     "output_type": "stream",
     "text": [
      "MAE = 22253.1148\n",
      "MSE = 1012066326.0558\n",
      "RMSE = 31812.9899\n",
      "R2 = 0.5419\n"
     ]
    }
   ],
   "source": [
    "MAE  = mean_absolute_error(Y_teste,y_pred)\n",
    "MSE  = mean_squared_error(Y_teste,y_pred)\n",
    "RMSE = np.sqrt(mean_squared_error(Y_teste,y_pred))\n",
    "R2 = r2_score(Y_teste, y_pred)\n",
    "\n",
    "\n",
    "print('MAE = {:0.4f}'.format(MAE))\n",
    "print('MSE = {:0.4f}'.format(MSE))\n",
    "print('RMSE = {:0.4f}'.format(RMSE))\n",
    "print('R2 = {:0.4f}'.format(R2))"
   ]
  },
  {
   "cell_type": "code",
   "execution_count": null,
   "metadata": {},
   "outputs": [],
   "source": []
  }
 ],
 "metadata": {
  "kernelspec": {
   "display_name": "Python 3",
   "language": "python",
   "name": "python3"
  },
  "language_info": {
   "codemirror_mode": {
    "name": "ipython",
    "version": 3
   },
   "file_extension": ".py",
   "mimetype": "text/x-python",
   "name": "python",
   "nbconvert_exporter": "python",
   "pygments_lexer": "ipython3",
   "version": "3.8.3"
  }
 },
 "nbformat": 4,
 "nbformat_minor": 4
}
