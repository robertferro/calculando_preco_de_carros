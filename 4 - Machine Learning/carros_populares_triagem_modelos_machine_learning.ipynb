{
  "nbformat": 4,
  "nbformat_minor": 0,
  "metadata": {
    "colab": {
      "name": "carros_populares_triagem_modelos_machine_learning.ipynb",
      "provenance": []
    },
    "kernelspec": {
      "display_name": "Python 3",
      "language": "python",
      "name": "python3"
    },
    "language_info": {
      "codemirror_mode": {
        "name": "ipython",
        "version": 3
      },
      "file_extension": ".py",
      "mimetype": "text/x-python",
      "name": "python",
      "nbconvert_exporter": "python",
      "pygments_lexer": "ipython3",
      "version": "3.8.3"
    }
  },
  "cells": [
    {
      "cell_type": "markdown",
      "metadata": {
        "id": "FVZHPjPOnINL"
      },
      "source": [
        "# Objetivo:\n",
        " \n",
        "\n",
        " - Encontrar o melhor algoritmo  para fazer a previsão do preço dos carros populares. "
      ]
    },
    {
      "cell_type": "code",
      "metadata": {
        "id": "UOzuxQtinINk"
      },
      "source": [
        "import pandas as pd\n",
        "import numpy as np\n",
        "import matplotlib.pyplot as plt\n",
        "import seaborn as sns"
      ],
      "execution_count": 1,
      "outputs": []
    },
    {
      "cell_type": "code",
      "metadata": {
        "id": "3JPuJT4znINm"
      },
      "source": [
        "url = 'https://raw.githubusercontent.com/robertferro/carros/main/3%20-%20EDA/carros_populares_sem_outliers.csv'"
      ],
      "execution_count": 2,
      "outputs": []
    },
    {
      "cell_type": "code",
      "metadata": {
        "id": "nW1sd5vFnINn"
      },
      "source": [
        "df = pd.read_csv(url, sep = ',')"
      ],
      "execution_count": 3,
      "outputs": []
    },
    {
      "cell_type": "code",
      "metadata": {
        "colab": {
          "base_uri": "https://localhost:8080/",
          "height": 197
        },
        "id": "Ry6BxV2HnINo",
        "outputId": "9fb84eef-0e16-42cf-c4b0-e6df9733cfe6"
      },
      "source": [
        "# pd.set_option('display.max_rows', 250)\n",
        "# df.modelo.value_counts().tail(250)\n",
        "df.head()"
      ],
      "execution_count": 4,
      "outputs": [
        {
          "output_type": "execute_result",
          "data": {
            "text/html": [
              "<div>\n",
              "<style scoped>\n",
              "    .dataframe tbody tr th:only-of-type {\n",
              "        vertical-align: middle;\n",
              "    }\n",
              "\n",
              "    .dataframe tbody tr th {\n",
              "        vertical-align: top;\n",
              "    }\n",
              "\n",
              "    .dataframe thead th {\n",
              "        text-align: right;\n",
              "    }\n",
              "</style>\n",
              "<table border=\"1\" class=\"dataframe\">\n",
              "  <thead>\n",
              "    <tr style=\"text-align: right;\">\n",
              "      <th></th>\n",
              "      <th>modelo</th>\n",
              "      <th>marca</th>\n",
              "      <th>motor</th>\n",
              "      <th>preco</th>\n",
              "      <th>quilometragem</th>\n",
              "      <th>ano</th>\n",
              "      <th>informacoes</th>\n",
              "    </tr>\n",
              "  </thead>\n",
              "  <tbody>\n",
              "    <tr>\n",
              "      <th>0</th>\n",
              "      <td>Agile</td>\n",
              "      <td>Chevrolet</td>\n",
              "      <td>1.4</td>\n",
              "      <td>25990</td>\n",
              "      <td>91000.0</td>\n",
              "      <td>2011</td>\n",
              "      <td>Agile 1.4 Lt 5p</td>\n",
              "    </tr>\n",
              "    <tr>\n",
              "      <th>1</th>\n",
              "      <td>Agile</td>\n",
              "      <td>Chevrolet</td>\n",
              "      <td>1.4</td>\n",
              "      <td>28900</td>\n",
              "      <td>123915.0</td>\n",
              "      <td>2013</td>\n",
              "      <td>Agile 1.4 Ltz 5p</td>\n",
              "    </tr>\n",
              "    <tr>\n",
              "      <th>2</th>\n",
              "      <td>Agile</td>\n",
              "      <td>Chevrolet</td>\n",
              "      <td>1.4</td>\n",
              "      <td>28000</td>\n",
              "      <td>91000.0</td>\n",
              "      <td>2013</td>\n",
              "      <td>Agile 1.4 Lt 5p</td>\n",
              "    </tr>\n",
              "    <tr>\n",
              "      <th>3</th>\n",
              "      <td>Agile</td>\n",
              "      <td>Chevrolet</td>\n",
              "      <td>1.4</td>\n",
              "      <td>26890</td>\n",
              "      <td>151000.0</td>\n",
              "      <td>2011</td>\n",
              "      <td>Agile 1.4 Mpfi Ltz 8v</td>\n",
              "    </tr>\n",
              "    <tr>\n",
              "      <th>4</th>\n",
              "      <td>Agile</td>\n",
              "      <td>Chevrolet</td>\n",
              "      <td>1.4</td>\n",
              "      <td>31990</td>\n",
              "      <td>106863.0</td>\n",
              "      <td>2014</td>\n",
              "      <td>Agile Agile 1.4 Ltz 8v Flex 4p Manual</td>\n",
              "    </tr>\n",
              "  </tbody>\n",
              "</table>\n",
              "</div>"
            ],
            "text/plain": [
              "  modelo      marca  ...   ano                            informacoes\n",
              "0  Agile  Chevrolet  ...  2011                        Agile 1.4 Lt 5p\n",
              "1  Agile  Chevrolet  ...  2013                       Agile 1.4 Ltz 5p\n",
              "2  Agile  Chevrolet  ...  2013                        Agile 1.4 Lt 5p\n",
              "3  Agile  Chevrolet  ...  2011                  Agile 1.4 Mpfi Ltz 8v\n",
              "4  Agile  Chevrolet  ...  2014  Agile Agile 1.4 Ltz 8v Flex 4p Manual\n",
              "\n",
              "[5 rows x 7 columns]"
            ]
          },
          "metadata": {
            "tags": []
          },
          "execution_count": 4
        }
      ]
    },
    {
      "cell_type": "code",
      "metadata": {
        "colab": {
          "base_uri": "https://localhost:8080/"
        },
        "id": "23iSFgF7V8Hc",
        "outputId": "5b9d7b5b-088c-4a83-c7ec-f6590392ed32"
      },
      "source": [
        "df.info()"
      ],
      "execution_count": 5,
      "outputs": [
        {
          "output_type": "stream",
          "text": [
            "<class 'pandas.core.frame.DataFrame'>\n",
            "RangeIndex: 7769 entries, 0 to 7768\n",
            "Data columns (total 7 columns):\n",
            " #   Column         Non-Null Count  Dtype  \n",
            "---  ------         --------------  -----  \n",
            " 0   modelo         7769 non-null   object \n",
            " 1   marca          7769 non-null   object \n",
            " 2   motor          7769 non-null   float64\n",
            " 3   preco          7769 non-null   int64  \n",
            " 4   quilometragem  7769 non-null   float64\n",
            " 5   ano            7769 non-null   int64  \n",
            " 6   informacoes    7769 non-null   object \n",
            "dtypes: float64(2), int64(2), object(3)\n",
            "memory usage: 425.0+ KB\n"
          ],
          "name": "stdout"
        }
      ]
    },
    {
      "cell_type": "code",
      "metadata": {
        "colab": {
          "base_uri": "https://localhost:8080/",
          "height": 167
        },
        "id": "WaEea9gLCDVb",
        "outputId": "9fabd799-6b45-4a90-d909-9b5d098cf7d6"
      },
      "source": [
        "df.describe().round(2).T"
      ],
      "execution_count": 6,
      "outputs": [
        {
          "output_type": "execute_result",
          "data": {
            "text/html": [
              "<div>\n",
              "<style scoped>\n",
              "    .dataframe tbody tr th:only-of-type {\n",
              "        vertical-align: middle;\n",
              "    }\n",
              "\n",
              "    .dataframe tbody tr th {\n",
              "        vertical-align: top;\n",
              "    }\n",
              "\n",
              "    .dataframe thead th {\n",
              "        text-align: right;\n",
              "    }\n",
              "</style>\n",
              "<table border=\"1\" class=\"dataframe\">\n",
              "  <thead>\n",
              "    <tr style=\"text-align: right;\">\n",
              "      <th></th>\n",
              "      <th>count</th>\n",
              "      <th>mean</th>\n",
              "      <th>std</th>\n",
              "      <th>min</th>\n",
              "      <th>25%</th>\n",
              "      <th>50%</th>\n",
              "      <th>75%</th>\n",
              "      <th>max</th>\n",
              "    </tr>\n",
              "  </thead>\n",
              "  <tbody>\n",
              "    <tr>\n",
              "      <th>motor</th>\n",
              "      <td>7769.0</td>\n",
              "      <td>1.66</td>\n",
              "      <td>0.50</td>\n",
              "      <td>1.0</td>\n",
              "      <td>1.4</td>\n",
              "      <td>1.6</td>\n",
              "      <td>2.0</td>\n",
              "      <td>3.8</td>\n",
              "    </tr>\n",
              "    <tr>\n",
              "      <th>preco</th>\n",
              "      <td>7769.0</td>\n",
              "      <td>42239.35</td>\n",
              "      <td>16867.66</td>\n",
              "      <td>8500.0</td>\n",
              "      <td>28990.0</td>\n",
              "      <td>38969.0</td>\n",
              "      <td>53990.0</td>\n",
              "      <td>80000.0</td>\n",
              "    </tr>\n",
              "    <tr>\n",
              "      <th>quilometragem</th>\n",
              "      <td>7769.0</td>\n",
              "      <td>89710.59</td>\n",
              "      <td>42726.23</td>\n",
              "      <td>5000.0</td>\n",
              "      <td>56320.0</td>\n",
              "      <td>88502.0</td>\n",
              "      <td>119769.0</td>\n",
              "      <td>210000.0</td>\n",
              "    </tr>\n",
              "    <tr>\n",
              "      <th>ano</th>\n",
              "      <td>7769.0</td>\n",
              "      <td>2014.00</td>\n",
              "      <td>3.50</td>\n",
              "      <td>2008.0</td>\n",
              "      <td>2011.0</td>\n",
              "      <td>2014.0</td>\n",
              "      <td>2017.0</td>\n",
              "      <td>2021.0</td>\n",
              "    </tr>\n",
              "  </tbody>\n",
              "</table>\n",
              "</div>"
            ],
            "text/plain": [
              "                count      mean       std  ...      50%       75%       max\n",
              "motor          7769.0      1.66      0.50  ...      1.6       2.0       3.8\n",
              "preco          7769.0  42239.35  16867.66  ...  38969.0   53990.0   80000.0\n",
              "quilometragem  7769.0  89710.59  42726.23  ...  88502.0  119769.0  210000.0\n",
              "ano            7769.0   2014.00      3.50  ...   2014.0    2017.0    2021.0\n",
              "\n",
              "[4 rows x 8 columns]"
            ]
          },
          "metadata": {
            "tags": []
          },
          "execution_count": 6
        }
      ]
    },
    {
      "cell_type": "code",
      "metadata": {
        "colab": {
          "base_uri": "https://localhost:8080/"
        },
        "id": "zlNp34gEsnsI",
        "outputId": "db2db78e-b705-4e6d-c93b-ded8c982fd6d"
      },
      "source": [
        "df.isna().sum()"
      ],
      "execution_count": 7,
      "outputs": [
        {
          "output_type": "execute_result",
          "data": {
            "text/plain": [
              "modelo           0\n",
              "marca            0\n",
              "motor            0\n",
              "preco            0\n",
              "quilometragem    0\n",
              "ano              0\n",
              "informacoes      0\n",
              "dtype: int64"
            ]
          },
          "metadata": {
            "tags": []
          },
          "execution_count": 7
        }
      ]
    },
    {
      "cell_type": "markdown",
      "metadata": {
        "id": "Mi6dyewKskhl"
      },
      "source": [
        " - Filtrando outliers."
      ]
    },
    {
      "cell_type": "code",
      "metadata": {
        "id": "asYdFb8gsqFp"
      },
      "source": [
        "dados = df"
      ],
      "execution_count": 8,
      "outputs": []
    },
    {
      "cell_type": "code",
      "metadata": {
        "colab": {
          "base_uri": "https://localhost:8080/",
          "height": 766
        },
        "id": "HCFNj6INsjau",
        "outputId": "908d1088-a1c6-458c-e694-a94ab651fcff"
      },
      "source": [
        "sns.set_palette('Accent')\r\n",
        "sns.set_style('darkgrid')\r\n",
        "\r\n",
        "ax = sns.boxplot(x='marca', y='preco', data=dados, orient='v', width=0.2)\r\n",
        "ax.figure.set_size_inches(20, 12)\r\n",
        "ax.set_title('Visualizando outliers por marcas', fontsize=25)\r\n",
        "ax.set_ylabel('Preço', fontsize=22)\r\n",
        "ax.set_xlabel('Marca', fontsize=22)\r\n",
        "ax"
      ],
      "execution_count": 9,
      "outputs": [
        {
          "output_type": "execute_result",
          "data": {
            "text/plain": [
              "<matplotlib.axes._subplots.AxesSubplot at 0x7f02ed755510>"
            ]
          },
          "metadata": {
            "tags": []
          },
          "execution_count": 9
        },
        {
          "output_type": "display_data",
          "data": {
            "image/png": "[encoded data removed]",
            "text/plain": [
              "<Figure size 1440x864 with 1 Axes>"
            ]
          },
          "metadata": {
            "tags": []
          }
        }
      ]
    },
    {
      "cell_type": "code",
      "metadata": {
        "colab": {
          "base_uri": "https://localhost:8080/",
          "height": 766
        },
        "id": "qyCWEMmzsjie",
        "outputId": "66065f32-5c26-41ae-f5d9-deb458ee315f"
      },
      "source": [
        "sns.set_palette('Accent')\r\n",
        "sns.set_style('darkgrid')\r\n",
        "\r\n",
        "ax = sns.boxplot(x='ano', y='preco', data=dados, orient='v', width=0.2)\r\n",
        "ax.figure.set_size_inches(20, 12)\r\n",
        "ax.set_title('Distribuição carros por ano de fabricação e preço', fontsize=25)\r\n",
        "ax.set_ylabel('Preço', fontsize=22)\r\n",
        "ax.set_xlabel('Ano', fontsize=22)\r\n",
        "ax"
      ],
      "execution_count": 10,
      "outputs": [
        {
          "output_type": "execute_result",
          "data": {
            "text/plain": [
              "<matplotlib.axes._subplots.AxesSubplot at 0x7f02ed28d210>"
            ]
          },
          "metadata": {
            "tags": []
          },
          "execution_count": 10
        },
        {
          "output_type": "display_data",
          "data": {
            "image/png": "[encoded data removed]",
            "text/plain": [
              "<Figure size 1440x864 with 1 Axes>"
            ]
          },
          "metadata": {
            "tags": []
          }
        }
      ]
    },
    {
      "cell_type": "markdown",
      "metadata": {
        "id": "dHqmb5iMkSMm"
      },
      "source": [
        "## Definindo as amostras de treino e teste"
      ]
    },
    {
      "cell_type": "code",
      "metadata": {
        "id": "6uHzERpDsns9"
      },
      "source": [
        "from sklearn.preprocessing import LabelEncoder"
      ],
      "execution_count": 11,
      "outputs": []
    },
    {
      "cell_type": "code",
      "metadata": {
        "id": "O80XaND7sntG"
      },
      "source": [
        "enconder = LabelEncoder()"
      ],
      "execution_count": 12,
      "outputs": []
    },
    {
      "cell_type": "code",
      "metadata": {
        "id": "s7VM7DTvsntH"
      },
      "source": [
        "dados['marca'] = enconder.fit_transform(dados['marca'])\n",
        "dados['modelo'] = enconder.fit_transform(dados['modelo'])"
      ],
      "execution_count": 13,
      "outputs": []
    },
    {
      "cell_type": "code",
      "metadata": {
        "colab": {
          "base_uri": "https://localhost:8080/",
          "height": 610
        },
        "id": "jM00CYdHV8Hs",
        "outputId": "e6e35a4a-9e4f-475b-d2c5-144eb8c4f039"
      },
      "source": [
        "plt.figure(figsize=(14,10))\n",
        "\n",
        "corr = dados.corr().abs()\n",
        "mask = np.triu(np.ones_like(corr, dtype=np.bool))\n",
        "\n",
        "sns.heatmap(corr, mask=mask, annot=True, center=0, cmap=\"YlGnBu\")"
      ],
      "execution_count": 14,
      "outputs": [
        {
          "output_type": "execute_result",
          "data": {
            "text/plain": [
              "<matplotlib.axes._subplots.AxesSubplot at 0x7f02ed02b110>"
            ]
          },
          "metadata": {
            "tags": []
          },
          "execution_count": 14
        },
        {
          "output_type": "display_data",
          "data": {
            "image/png": "[encoded data removed]",
            "text/plain": [
              "<Figure size 1008x720 with 2 Axes>"
            ]
          },
          "metadata": {
            "tags": []
          }
        }
      ]
    },
    {
      "cell_type": "code",
      "metadata": {
        "id": "EeduinjrkL3w"
      },
      "source": [
        "from sklearn.model_selection import train_test_split"
      ],
      "execution_count": 15,
      "outputs": []
    },
    {
      "cell_type": "code",
      "metadata": {
        "id": "xd26HcK6sntI"
      },
      "source": [
        "X = dados.drop(columns=['preco','informacoes'])\n",
        "Y = dados['preco']"
      ],
      "execution_count": 16,
      "outputs": []
    },
    {
      "cell_type": "code",
      "metadata": {
        "id": "xg49TNzVkL-B"
      },
      "source": [
        "X_treino,X_teste,Y_treino,Y_teste = train_test_split(X,Y,test_size=0.25,random_state=0 )"
      ],
      "execution_count": 17,
      "outputs": []
    },
    {
      "cell_type": "code",
      "metadata": {
        "id": "w0ZWcHvh-9gP"
      },
      "source": [
        "# treino['preco'] = treino['preco'].apply(np.log1p)\n",
        "# treino['quilometragem'] = treino['quilometragem'].apply(np.log1p)\n",
        "# teste['preco'] = teste['preco'].apply(np.log1p)\n",
        "# teste['quilometragem'] = teste['quilometragem'].apply(np.log1p)"
      ],
      "execution_count": 18,
      "outputs": []
    },
    {
      "cell_type": "markdown",
      "metadata": {
        "id": "2qyhuuFmq3Tc"
      },
      "source": [
        " - Modelo \"Baseline\" (Ponto de partida)"
      ]
    },
    {
      "cell_type": "code",
      "metadata": {
        "id": "Q9SIbFFDnIN5"
      },
      "source": [
        "from sklearn.linear_model import LinearRegression"
      ],
      "execution_count": 19,
      "outputs": []
    },
    {
      "cell_type": "code",
      "metadata": {
        "colab": {
          "base_uri": "https://localhost:8080/"
        },
        "id": "f79edtGSnIN6",
        "outputId": "ed764861-cf14-4cde-aaef-56cb591eb00c"
      },
      "source": [
        "lr = LinearRegression()\n",
        "lr.fit(X_treino, Y_treino)\n",
        "lr.score(X_teste, Y_teste)"
      ],
      "execution_count": 20,
      "outputs": [
        {
          "output_type": "execute_result",
          "data": {
            "text/plain": [
              "0.5496783466338998"
            ]
          },
          "metadata": {
            "tags": []
          },
          "execution_count": 20
        }
      ]
    },
    {
      "cell_type": "markdown",
      "metadata": {
        "id": "APUAvXnEnIN7"
      },
      "source": [
        " - Machine learning"
      ]
    },
    {
      "cell_type": "code",
      "metadata": {
        "colab": {
          "base_uri": "https://localhost:8080/"
        },
        "id": "oGLHoDbUnIN7",
        "outputId": "53b08a40-66b3-4cfb-f06d-d939e01dbaf4"
      },
      "source": [
        "from sklearn.tree import DecisionTreeRegressor\n",
        "from sklearn.ensemble import RandomForestRegressor\n",
        "from sklearn.neural_network import MLPRegressor\n",
        "from xgboost import XGBRegressor\n",
        "import warnings\n",
        "warnings.filterwarnings(\"ignore\")\n",
        "\n",
        "\n",
        "regressor_list = [\n",
        "                  DecisionTreeRegressor(),\n",
        "                  RandomForestRegressor(),\n",
        "                  MLPRegressor(),\n",
        "                  XGBRegressor(),\n",
        "           \n",
        "                  ]\n",
        "\n",
        "for reg in regressor_list:\n",
        "  print('Treinando', reg.__class__.__name__)\n",
        "  reg.fit(X_treino, Y_treino)\n",
        "  train_score = reg.score(X_treino, Y_treino)\n",
        "  test_score = reg.score(X_teste, Y_teste)\n",
        "  print('Train score', train_score)\n",
        "  print('Test score', test_score)\n",
        "  print('='*80)"
      ],
      "execution_count": 21,
      "outputs": [
        {
          "output_type": "stream",
          "text": [
            "Treinando DecisionTreeRegressor\n",
            "Train score 0.9919558664084195\n",
            "Test score 0.608050283273603\n",
            "================================================================================\n",
            "Treinando RandomForestRegressor\n",
            "Train score 0.9617380118535629\n",
            "Test score 0.7657907487498047\n",
            "================================================================================\n",
            "Treinando MLPRegressor\n",
            "Train score 0.24291597078953775\n",
            "Test score 0.23525251417598003\n",
            "================================================================================\n",
            "Treinando XGBRegressor\n",
            "[17:33:33] WARNING: /workspace/src/objective/regression_obj.cu:152: reg:linear is now deprecated in favor of reg:squarederror.\n",
            "Train score 0.7516060828328912\n",
            "Test score 0.7250702283826602\n",
            "================================================================================\n"
          ],
          "name": "stdout"
        }
      ]
    },
    {
      "cell_type": "code",
      "metadata": {
        "colab": {
          "base_uri": "https://localhost:8080/"
        },
        "id": "KuFanXxCnIN8",
        "outputId": "b41e32b7-f4bf-4c94-b842-7333d5af09aa"
      },
      "source": [
        "# repetindo processo com validação cruzada\n",
        "import warnings\n",
        "warnings.filterwarnings(\"ignore\")\n",
        "\n",
        "from sklearn.tree import DecisionTreeRegressor\n",
        "from sklearn.ensemble import RandomForestRegressor\n",
        "from sklearn.neural_network import MLPRegressor\n",
        "from xgboost import XGBRegressor\n",
        "from sklearn.model_selection import cross_val_score\n",
        "\n",
        "\n",
        "regressor_list = [\n",
        "                  DecisionTreeRegressor(),\n",
        "                  RandomForestRegressor(),\n",
        "                  MLPRegressor(),\n",
        "                  XGBRegressor(),\n",
        "                  ]\n",
        "\n",
        "for reg in regressor_list:\n",
        "  print('Treinando', reg.__class__.__name__)\n",
        "  reg.fit(X_treino, Y_treino)\n",
        "  train_score = reg.score(X_treino, Y_treino)\n",
        "  val_score = cross_val_score(reg, X_treino, Y_treino, cv=5)\n",
        "  test_score = reg.score(X_teste, Y_teste)\n",
        "  print('Train score', train_score)\n",
        "  print('Validation score', val_score)\n",
        "  print('Test score', test_score)\n",
        "  print('='*80)"
      ],
      "execution_count": 22,
      "outputs": [
        {
          "output_type": "stream",
          "text": [
            "Treinando DecisionTreeRegressor\n",
            "Train score 0.9919558664084195\n",
            "Validation score [0.58106206 0.58578371 0.6441994  0.5693379  0.56112055]\n",
            "Test score 0.6079975341586445\n",
            "================================================================================\n",
            "Treinando RandomForestRegressor\n",
            "Train score 0.9617655728183883\n",
            "Validation score [0.74025997 0.7859181  0.78892363 0.72789547 0.72804464]\n",
            "Test score 0.7664138797872764\n",
            "================================================================================\n",
            "Treinando MLPRegressor\n",
            "Train score 0.2436200301233642\n",
            "Validation score [0.23059955 0.22551407 0.26801892 0.19887642 0.23223614]\n",
            "Test score 0.23612774290883654\n",
            "================================================================================\n",
            "Treinando XGBRegressor\n",
            "[17:33:52] WARNING: /workspace/src/objective/regression_obj.cu:152: reg:linear is now deprecated in favor of reg:squarederror.\n",
            "[17:33:52] WARNING: /workspace/src/objective/regression_obj.cu:152: reg:linear is now deprecated in favor of reg:squarederror.\n",
            "[17:33:53] WARNING: /workspace/src/objective/regression_obj.cu:152: reg:linear is now deprecated in favor of reg:squarederror.\n",
            "[17:33:53] WARNING: /workspace/src/objective/regression_obj.cu:152: reg:linear is now deprecated in favor of reg:squarederror.\n",
            "[17:33:53] WARNING: /workspace/src/objective/regression_obj.cu:152: reg:linear is now deprecated in favor of reg:squarederror.\n",
            "[17:33:53] WARNING: /workspace/src/objective/regression_obj.cu:152: reg:linear is now deprecated in favor of reg:squarederror.\n",
            "Train score 0.7516060828328912\n",
            "Validation score [0.70309581 0.74881847 0.76072383 0.71576883 0.71280607]\n",
            "Test score 0.7250702283826602\n",
            "================================================================================\n"
          ],
          "name": "stdout"
        }
      ]
    },
    {
      "cell_type": "markdown",
      "metadata": {
        "id": "y1JjwOOokRce"
      },
      "source": [
        "## Gridsearch XGBRegressor"
      ]
    },
    {
      "cell_type": "code",
      "metadata": {
        "colab": {
          "base_uri": "https://localhost:8080/"
        },
        "id": "QJg7hbHfsntS",
        "outputId": "42b59680-c899-4297-dcb2-2777102be0b2"
      },
      "source": [
        "#  Todo: calibração do modelo\n",
        "from sklearn.model_selection import GridSearchCV\n",
        "parameters=[{'learning_rate':[0.1,0.2,0.3,0.4,0.5],\n",
        "             'max_depth':[3,4,5,6,7,8],\n",
        "             'n_estimators':[50, 100,150,200,250]}]\n",
        "            \n",
        "xgb = XGBRegressor(n_estimators=100, max_depth=1)\n",
        "gs = GridSearchCV(xgb,parameters,scoring='r2',n_jobs=-1,cv=5)\n",
        "gs.fit(X_treino, Y_treino)\n",
        "xgb = gs.best_estimator_\n",
        "\n",
        "train_score = xgb.score(X_treino, Y_treino)\n",
        "val_score = cross_val_score(xgb, X_treino, Y_treino, cv=3)\n",
        "test_score = xgb.score(X_teste, Y_teste)\n",
        "print('Train score', train_score)\n",
        "print('Validation score', val_score)\n",
        "print('Test score', test_score)"
      ],
      "execution_count": 24,
      "outputs": [
        {
          "output_type": "stream",
          "text": [
            "[17:38:39] WARNING: /workspace/src/objective/regression_obj.cu:152: reg:linear is now deprecated in favor of reg:squarederror.\n",
            "[17:38:40] WARNING: /workspace/src/objective/regression_obj.cu:152: reg:linear is now deprecated in favor of reg:squarederror.\n",
            "[17:38:41] WARNING: /workspace/src/objective/regression_obj.cu:152: reg:linear is now deprecated in favor of reg:squarederror.\n",
            "[17:38:41] WARNING: /workspace/src/objective/regression_obj.cu:152: reg:linear is now deprecated in favor of reg:squarederror.\n",
            "Train score 0.8793083585337251\n",
            "Validation score [0.75279048 0.78584254 0.76135513]\n",
            "Test score 0.7783948755450683\n"
          ],
          "name": "stdout"
        }
      ]
    },
    {
      "cell_type": "markdown",
      "metadata": {
        "id": "qZZo5qoDnIOB"
      },
      "source": [
        " - Calculando o erro"
      ]
    },
    {
      "cell_type": "code",
      "metadata": {
        "id": "98rh2XRBnIOB"
      },
      "source": [
        "from sklearn.metrics import mean_absolute_error,mean_squared_error, r2_score"
      ],
      "execution_count": 25,
      "outputs": []
    },
    {
      "cell_type": "code",
      "metadata": {
        "colab": {
          "base_uri": "https://localhost:8080/"
        },
        "id": "32YRmCqLnIOC",
        "outputId": "c56a1e87-ba08-4bb0-d138-ac80ce928fce"
      },
      "source": [
        "y_pred = xgb.predict(X_teste)\n",
        "\n",
        "MAE  = mean_absolute_error(Y_teste,y_pred)\n",
        "MSE  = mean_squared_error(Y_teste,y_pred)\n",
        "RMSE = np.sqrt(mean_squared_error(Y_teste,y_pred))\n",
        "R2 = r2_score(Y_teste, y_pred)\n",
        "\n",
        "\n",
        "print('MAE = {:0.4f}'.format(MAE))\n",
        "print('MSE = {:0.4f}'.format(MSE))\n",
        "print('RMSE = {:0.4f}'.format(RMSE))\n",
        "print('R2 = {:0.4f}'.format(R2))"
      ],
      "execution_count": 26,
      "outputs": [
        {
          "output_type": "stream",
          "text": [
            "MAE = 5209.5274\n",
            "MSE = 61249052.6102\n",
            "RMSE = 7826.1774\n",
            "R2 = 0.7784\n"
          ],
          "name": "stdout"
        }
      ]
    },
    {
      "cell_type": "code",
      "metadata": {
        "id": "ODZCsZF3kLeQ"
      },
      "source": [
        ""
      ],
      "execution_count": 26,
      "outputs": []
    },
    {
      "cell_type": "markdown",
      "metadata": {
        "id": "MnypHAtRkL83"
      },
      "source": [
        "## Gridsearch RandomForest"
      ]
    },
    {
      "cell_type": "code",
      "metadata": {
        "colab": {
          "base_uri": "https://localhost:8080/"
        },
        "id": "dOyha1GLhYlY",
        "outputId": "eead3740-30b8-4571-b8e4-bbabbb8a36a5"
      },
      "source": [
        "from sklearn.model_selection import GridSearchCV\n",
        "parameters=[{\n",
        "            \"min_samples_split\" : [2,4,8],\n",
        "            \"bootstrap\": [True, False],\n",
        "            'max_depth':[3,4,5,6,7,8,9,10],\n",
        "            'n_estimators':np.arange(1,51,5)}]\n",
        "            \n",
        "reg = RandomForestRegressor(n_estimators=100, max_depth=1)\n",
        "gs = GridSearchCV(reg,parameters,scoring='r2',n_jobs=-1,cv=5, refit = True)\n",
        "gs.fit(X_treino, Y_treino)\n",
        "reg = gs.best_estimator_\n",
        "\n",
        "train_score = reg.score(X_treino, Y_treino)\n",
        "val_score = cross_val_score(reg, X_treino, Y_treino, cv=5)\n",
        "test_score = reg.score(X_teste, Y_teste)\n",
        "print('Train score', train_score)\n",
        "print('Validation score', val_score)\n",
        "print('Test score', test_score)"
      ],
      "execution_count": 27,
      "outputs": [
        {
          "output_type": "stream",
          "text": [
            "Train score 0.8611274440697831\n",
            "Validation score [0.74742711 0.79121722 0.79577011 0.74138175 0.74268426]\n",
            "Test score 0.7659735138413444\n"
          ],
          "name": "stdout"
        }
      ]
    },
    {
      "cell_type": "markdown",
      "metadata": {
        "id": "DOED2n9dkaC7"
      },
      "source": [
        " - Calculando o erro"
      ]
    },
    {
      "cell_type": "code",
      "metadata": {
        "colab": {
          "base_uri": "https://localhost:8080/"
        },
        "id": "8aJ5Z6LrhYsl",
        "outputId": "5c1cced9-23d2-4d14-8c0a-fb7d217ebc30"
      },
      "source": [
        "y_pred = reg.predict(X_teste)\n",
        "\n",
        "MAE  = mean_absolute_error(Y_teste,y_pred)\n",
        "MSE  = mean_squared_error(Y_teste,y_pred)\n",
        "RMSE = np.sqrt(mean_squared_error(Y_teste,y_pred))\n",
        "R2 = r2_score(Y_teste, y_pred)\n",
        "\n",
        "\n",
        "print('MAE = {:0.4f}'.format(MAE))\n",
        "print('MSE = {:0.4f}'.format(MSE))\n",
        "print('RMSE = {:0.4f}'.format(RMSE))\n",
        "print('R2 = {:0.4f}'.format(R2))"
      ],
      "execution_count": 28,
      "outputs": [
        {
          "output_type": "stream",
          "text": [
            "MAE = 5406.9696\n",
            "MSE = 64682171.0381\n",
            "RMSE = 8042.5227\n",
            "R2 = 0.7660\n"
          ],
          "name": "stdout"
        }
      ]
    },
    {
      "cell_type": "code",
      "metadata": {
        "id": "8GI6ukoOjSGk"
      },
      "source": [
        ""
      ],
      "execution_count": 28,
      "outputs": []
    }
  ]
}