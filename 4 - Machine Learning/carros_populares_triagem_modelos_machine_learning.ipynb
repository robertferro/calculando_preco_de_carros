{
  "nbformat": 4,
  "nbformat_minor": 0,
  "metadata": {
    "colab": {
      "name": "carros_populares_triagem_modelos_machine_learning.ipynb",
      "provenance": []
    },
    "kernelspec": {
      "display_name": "Python 3",
      "language": "python",
      "name": "python3"
    },
    "language_info": {
      "codemirror_mode": {
        "name": "ipython",
        "version": 3
      },
      "file_extension": ".py",
      "mimetype": "text/x-python",
      "name": "python",
      "nbconvert_exporter": "python",
      "pygments_lexer": "ipython3",
      "version": "3.8.3"
    }
  },
  "cells": [
    {
      "cell_type": "markdown",
      "metadata": {
        "id": "FVZHPjPOnINL"
      },
      "source": [
        "# Objetivo:\n",
        " \n",
        " - Selecionar apenas carros populares do dataset. \n",
        " - Encontrar o melhor algoritmo  para fazer a previsão do preço dos carros populares. "
      ]
    },
    {
      "cell_type": "code",
      "metadata": {
        "id": "UOzuxQtinINk"
      },
      "source": [
        "import pandas as pd\n",
        "import numpy as np\n",
        "import matplotlib.pyplot as plt\n",
        "import seaborn as sns"
      ],
      "execution_count": 1,
      "outputs": []
    },
    {
      "cell_type": "code",
      "metadata": {
        "id": "3JPuJT4znINm"
      },
      "source": [
        "url = 'https://raw.githubusercontent.com/robertferro/carros/main/2%20-%20Manipula%C3%A7%C3%A3o%20de%20dados/carros_pre_processado.csv'\n",
        "\n",
        "\n",
        "# url = 'https://raw.githubusercontent.com/robertferro/carros/main/3%20-%20EDA/carros_ml_pre_processados.csv'"
      ],
      "execution_count": 2,
      "outputs": []
    },
    {
      "cell_type": "code",
      "metadata": {
        "id": "nW1sd5vFnINn"
      },
      "source": [
        "df = pd.read_csv(url, sep = ',')"
      ],
      "execution_count": 3,
      "outputs": []
    },
    {
      "cell_type": "code",
      "metadata": {
        "colab": {
          "base_uri": "https://localhost:8080/",
          "height": 197
        },
        "id": "Ry6BxV2HnINo",
        "outputId": "f85dc856-53db-4a8c-a14a-c64742ba67fa"
      },
      "source": [
        "# pd.set_option('display.max_rows', 250)\n",
        "# df.modelo.value_counts().tail(250)\n",
        "df.head()"
      ],
      "execution_count": 4,
      "outputs": [
        {
          "output_type": "execute_result",
          "data": {
            "text/html": [
              "<div>\n",
              "<style scoped>\n",
              "    .dataframe tbody tr th:only-of-type {\n",
              "        vertical-align: middle;\n",
              "    }\n",
              "\n",
              "    .dataframe tbody tr th {\n",
              "        vertical-align: top;\n",
              "    }\n",
              "\n",
              "    .dataframe thead th {\n",
              "        text-align: right;\n",
              "    }\n",
              "</style>\n",
              "<table border=\"1\" class=\"dataframe\">\n",
              "  <thead>\n",
              "    <tr style=\"text-align: right;\">\n",
              "      <th></th>\n",
              "      <th>motor</th>\n",
              "      <th>marca</th>\n",
              "      <th>modelo</th>\n",
              "      <th>preco</th>\n",
              "      <th>quilometragem</th>\n",
              "      <th>ano</th>\n",
              "      <th>informacoes</th>\n",
              "    </tr>\n",
              "  </thead>\n",
              "  <tbody>\n",
              "    <tr>\n",
              "      <th>0</th>\n",
              "      <td>1.4</td>\n",
              "      <td>Chevrolet</td>\n",
              "      <td>Agile</td>\n",
              "      <td>25990</td>\n",
              "      <td>91000</td>\n",
              "      <td>2011</td>\n",
              "      <td>Agile 1.4 Lt 5p</td>\n",
              "    </tr>\n",
              "    <tr>\n",
              "      <th>1</th>\n",
              "      <td>1.4</td>\n",
              "      <td>Chevrolet</td>\n",
              "      <td>Agile</td>\n",
              "      <td>28900</td>\n",
              "      <td>123915</td>\n",
              "      <td>2013</td>\n",
              "      <td>Agile 1.4 Ltz 5p</td>\n",
              "    </tr>\n",
              "    <tr>\n",
              "      <th>2</th>\n",
              "      <td>1.4</td>\n",
              "      <td>Chevrolet</td>\n",
              "      <td>Agile</td>\n",
              "      <td>28000</td>\n",
              "      <td>91000</td>\n",
              "      <td>2013</td>\n",
              "      <td>Agile 1.4 Lt 5p</td>\n",
              "    </tr>\n",
              "    <tr>\n",
              "      <th>3</th>\n",
              "      <td>1.4</td>\n",
              "      <td>Chevrolet</td>\n",
              "      <td>Agile</td>\n",
              "      <td>26890</td>\n",
              "      <td>151000</td>\n",
              "      <td>2011</td>\n",
              "      <td>Agile 1.4 Mpfi Ltz 8v</td>\n",
              "    </tr>\n",
              "    <tr>\n",
              "      <th>4</th>\n",
              "      <td>1.4</td>\n",
              "      <td>Chevrolet</td>\n",
              "      <td>Agile</td>\n",
              "      <td>31990</td>\n",
              "      <td>106863</td>\n",
              "      <td>2014</td>\n",
              "      <td>Agile Agile 1.4 Ltz 8v Flex 4p Manual</td>\n",
              "    </tr>\n",
              "  </tbody>\n",
              "</table>\n",
              "</div>"
            ],
            "text/plain": [
              "   motor      marca  ...   ano                            informacoes\n",
              "0    1.4  Chevrolet  ...  2011                        Agile 1.4 Lt 5p\n",
              "1    1.4  Chevrolet  ...  2013                       Agile 1.4 Ltz 5p\n",
              "2    1.4  Chevrolet  ...  2013                        Agile 1.4 Lt 5p\n",
              "3    1.4  Chevrolet  ...  2011                  Agile 1.4 Mpfi Ltz 8v\n",
              "4    1.4  Chevrolet  ...  2014  Agile Agile 1.4 Ltz 8v Flex 4p Manual\n",
              "\n",
              "[5 rows x 7 columns]"
            ]
          },
          "metadata": {
            "tags": []
          },
          "execution_count": 4
        }
      ]
    },
    {
      "cell_type": "code",
      "metadata": {
        "id": "Zo2_gHS2V8Hc"
      },
      "source": [
        "df['quilometragem'] = df['quilometragem'].str.replace(',','0')\n",
        "df['quilometragem'] = df['quilometragem'].astype(float)"
      ],
      "execution_count": 5,
      "outputs": []
    },
    {
      "cell_type": "code",
      "metadata": {
        "colab": {
          "base_uri": "https://localhost:8080/"
        },
        "id": "23iSFgF7V8Hc",
        "outputId": "b02d3fc5-4dd7-42a5-9f5c-4d55f567455b"
      },
      "source": [
        "df.info()"
      ],
      "execution_count": 6,
      "outputs": [
        {
          "output_type": "stream",
          "text": [
            "<class 'pandas.core.frame.DataFrame'>\n",
            "RangeIndex: 16735 entries, 0 to 16734\n",
            "Data columns (total 7 columns):\n",
            " #   Column         Non-Null Count  Dtype  \n",
            "---  ------         --------------  -----  \n",
            " 0   motor          15613 non-null  float64\n",
            " 1   marca          16735 non-null  object \n",
            " 2   modelo         16735 non-null  object \n",
            " 3   preco          16735 non-null  int64  \n",
            " 4   quilometragem  16735 non-null  float64\n",
            " 5   ano            16735 non-null  int64  \n",
            " 6   informacoes    16735 non-null  object \n",
            "dtypes: float64(2), int64(2), object(3)\n",
            "memory usage: 915.3+ KB\n"
          ],
          "name": "stdout"
        }
      ]
    },
    {
      "cell_type": "code",
      "metadata": {
        "colab": {
          "base_uri": "https://localhost:8080/",
          "height": 167
        },
        "id": "WaEea9gLCDVb",
        "outputId": "f07e0538-9cea-44b7-84fa-ea0af02aca83"
      },
      "source": [
        "df.describe().round(2).T"
      ],
      "execution_count": 7,
      "outputs": [
        {
          "output_type": "execute_result",
          "data": {
            "text/html": [
              "<div>\n",
              "<style scoped>\n",
              "    .dataframe tbody tr th:only-of-type {\n",
              "        vertical-align: middle;\n",
              "    }\n",
              "\n",
              "    .dataframe tbody tr th {\n",
              "        vertical-align: top;\n",
              "    }\n",
              "\n",
              "    .dataframe thead th {\n",
              "        text-align: right;\n",
              "    }\n",
              "</style>\n",
              "<table border=\"1\" class=\"dataframe\">\n",
              "  <thead>\n",
              "    <tr style=\"text-align: right;\">\n",
              "      <th></th>\n",
              "      <th>count</th>\n",
              "      <th>mean</th>\n",
              "      <th>std</th>\n",
              "      <th>min</th>\n",
              "      <th>25%</th>\n",
              "      <th>50%</th>\n",
              "      <th>75%</th>\n",
              "      <th>max</th>\n",
              "    </tr>\n",
              "  </thead>\n",
              "  <tbody>\n",
              "    <tr>\n",
              "      <th>motor</th>\n",
              "      <td>15613.0</td>\n",
              "      <td>1.880000e+00</td>\n",
              "      <td>7.100000e-01</td>\n",
              "      <td>1.0</td>\n",
              "      <td>1.5</td>\n",
              "      <td>1.8</td>\n",
              "      <td>2.0</td>\n",
              "      <td>6.200000e+00</td>\n",
              "    </tr>\n",
              "    <tr>\n",
              "      <th>preco</th>\n",
              "      <td>16735.0</td>\n",
              "      <td>8.156294e+04</td>\n",
              "      <td>5.011212e+05</td>\n",
              "      <td>1000.0</td>\n",
              "      <td>30998.5</td>\n",
              "      <td>51800.0</td>\n",
              "      <td>89845.0</td>\n",
              "      <td>3.990000e+07</td>\n",
              "    </tr>\n",
              "    <tr>\n",
              "      <th>quilometragem</th>\n",
              "      <td>16735.0</td>\n",
              "      <td>5.975500e+14</td>\n",
              "      <td>7.730136e+16</td>\n",
              "      <td>-558038585.0</td>\n",
              "      <td>30894.5</td>\n",
              "      <td>75000.0</td>\n",
              "      <td>118000.0</td>\n",
              "      <td>1.000000e+19</td>\n",
              "    </tr>\n",
              "    <tr>\n",
              "      <th>ano</th>\n",
              "      <td>16735.0</td>\n",
              "      <td>2.013770e+03</td>\n",
              "      <td>5.770000e+00</td>\n",
              "      <td>1968.0</td>\n",
              "      <td>2011.0</td>\n",
              "      <td>2014.0</td>\n",
              "      <td>2018.0</td>\n",
              "      <td>2.022000e+03</td>\n",
              "    </tr>\n",
              "  </tbody>\n",
              "</table>\n",
              "</div>"
            ],
            "text/plain": [
              "                 count          mean  ...       75%           max\n",
              "motor          15613.0  1.880000e+00  ...       2.0  6.200000e+00\n",
              "preco          16735.0  8.156294e+04  ...   89845.0  3.990000e+07\n",
              "quilometragem  16735.0  5.975500e+14  ...  118000.0  1.000000e+19\n",
              "ano            16735.0  2.013770e+03  ...    2018.0  2.022000e+03\n",
              "\n",
              "[4 rows x 8 columns]"
            ]
          },
          "metadata": {
            "tags": []
          },
          "execution_count": 7
        }
      ]
    },
    {
      "cell_type": "code",
      "metadata": {
        "colab": {
          "base_uri": "https://localhost:8080/"
        },
        "id": "zlNp34gEsnsI",
        "outputId": "28154da3-0ef5-4419-9b58-3d026025f8f2"
      },
      "source": [
        "df.isna().sum()"
      ],
      "execution_count": 8,
      "outputs": [
        {
          "output_type": "execute_result",
          "data": {
            "text/plain": [
              "motor            1122\n",
              "marca               0\n",
              "modelo              0\n",
              "preco               0\n",
              "quilometragem       0\n",
              "ano                 0\n",
              "informacoes         0\n",
              "dtype: int64"
            ]
          },
          "metadata": {
            "tags": []
          },
          "execution_count": 8
        }
      ]
    },
    {
      "cell_type": "code",
      "metadata": {
        "id": "oq5s8OYgsnsJ"
      },
      "source": [
        "df = df.dropna()"
      ],
      "execution_count": 9,
      "outputs": []
    },
    {
      "cell_type": "markdown",
      "metadata": {
        "id": "m5HHQshGV8Hc"
      },
      "source": [
        "##  Criando o dataframe carros populares.\r\n",
        "\r\n"
      ]
    },
    {
      "cell_type": "code",
      "metadata": {
        "id": "bmoX1tg0V8Hc",
        "outputId": "c405cb32-215d-4a33-b2bd-33b8823f1910"
      },
      "source": [
        "df.marca.value_counts()"
      ],
      "execution_count": null,
      "outputs": [
        {
          "output_type": "execute_result",
          "data": {
            "text/plain": [
              "Chevrolet        2177\n",
              "Volkswagen       1816\n",
              "Fiat             1752\n",
              "Renault          1007\n",
              "Hyundai          1007\n",
              "Ford              956\n",
              "Citroën           937\n",
              "Peugeot           826\n",
              "Nissan            643\n",
              "Toyota            635\n",
              "Land              552\n",
              "Mitsubishi        545\n",
              "Kia               520\n",
              "Honda             517\n",
              "Mercedes-benz     506\n",
              "Bmw               486\n",
              "Jeep              368\n",
              "Audi              270\n",
              "Suzuki             93\n",
              "Name: marca, dtype: int64"
            ]
          },
          "metadata": {
            "tags": []
          },
          "execution_count": 10
        }
      ]
    },
    {
      "cell_type": "markdown",
      "metadata": {
        "id": "lyTjjXNnc04-"
      },
      "source": [
        " - Selecionando as marcas "
      ]
    },
    {
      "cell_type": "code",
      "metadata": {
        "id": "p-No4WqQV8Hc"
      },
      "source": [
        "filtro_carros_populares = ['Chevrolet','Volkswagen','Fiat','Renault','Hyundai','Ford',\n",
        " 'Citroën','Peugeot','Nissan','Toyota','Mitsubishi','Kia','Honda','Suzuki']"
      ],
      "execution_count": 10,
      "outputs": []
    },
    {
      "cell_type": "code",
      "metadata": {
        "id": "k-y7g0OzV8Hc"
      },
      "source": [
        "carros_populares = df.set_index('marca')\n",
        "carros_populares = carros_populares.loc[filtro_carros_populares]\n",
        "carros_populares = carros_populares.reset_index()"
      ],
      "execution_count": 11,
      "outputs": []
    },
    {
      "cell_type": "markdown",
      "metadata": {
        "id": "M2sc4w3sdKal"
      },
      "source": [
        " - Estababelecendo condições para selecionar apenas carros populares"
      ]
    },
    {
      "cell_type": "code",
      "metadata": {
        "id": "vWgpN9p3V8Hc"
      },
      "source": [
        "carros_populares = carros_populares.query('preco<=80000')\n",
        "carros_populares = carros_populares.query('preco >= 5000')\n",
        "carros_populares = carros_populares.query('quilometragem >= 5000')"
      ],
      "execution_count": 13,
      "outputs": []
    },
    {
      "cell_type": "code",
      "metadata": {
        "colab": {
          "base_uri": "https://localhost:8080/"
        },
        "id": "yY0ybfqFV8Hc",
        "outputId": "23b7447c-d987-42e7-a018-4707213be2e3"
      },
      "source": [
        "carros_populares.shape"
      ],
      "execution_count": 14,
      "outputs": [
        {
          "output_type": "execute_result",
          "data": {
            "text/plain": [
              "(9499, 7)"
            ]
          },
          "metadata": {
            "tags": []
          },
          "execution_count": 14
        }
      ]
    },
    {
      "cell_type": "code",
      "metadata": {
        "colab": {
          "base_uri": "https://localhost:8080/",
          "height": 167
        },
        "id": "QlhNglnHV8Hc",
        "outputId": "67d6daa5-15f0-47f2-af22-160c2aa2fd03"
      },
      "source": [
        "carros_populares.describe().round(2).T"
      ],
      "execution_count": 15,
      "outputs": [
        {
          "output_type": "execute_result",
          "data": {
            "text/html": [
              "<div>\n",
              "<style scoped>\n",
              "    .dataframe tbody tr th:only-of-type {\n",
              "        vertical-align: middle;\n",
              "    }\n",
              "\n",
              "    .dataframe tbody tr th {\n",
              "        vertical-align: top;\n",
              "    }\n",
              "\n",
              "    .dataframe thead th {\n",
              "        text-align: right;\n",
              "    }\n",
              "</style>\n",
              "<table border=\"1\" class=\"dataframe\">\n",
              "  <thead>\n",
              "    <tr style=\"text-align: right;\">\n",
              "      <th></th>\n",
              "      <th>count</th>\n",
              "      <th>mean</th>\n",
              "      <th>std</th>\n",
              "      <th>min</th>\n",
              "      <th>25%</th>\n",
              "      <th>50%</th>\n",
              "      <th>75%</th>\n",
              "      <th>max</th>\n",
              "    </tr>\n",
              "  </thead>\n",
              "  <tbody>\n",
              "    <tr>\n",
              "      <th>motor</th>\n",
              "      <td>9499.0</td>\n",
              "      <td>1.71</td>\n",
              "      <td>0.55</td>\n",
              "      <td>1.0</td>\n",
              "      <td>1.4</td>\n",
              "      <td>1.6</td>\n",
              "      <td>2.0</td>\n",
              "      <td>6.2</td>\n",
              "    </tr>\n",
              "    <tr>\n",
              "      <th>preco</th>\n",
              "      <td>9499.0</td>\n",
              "      <td>40163.98</td>\n",
              "      <td>18052.65</td>\n",
              "      <td>5000.0</td>\n",
              "      <td>25900.0</td>\n",
              "      <td>36900.0</td>\n",
              "      <td>52900.0</td>\n",
              "      <td>80000.0</td>\n",
              "    </tr>\n",
              "    <tr>\n",
              "      <th>quilometragem</th>\n",
              "      <td>9499.0</td>\n",
              "      <td>108159.72</td>\n",
              "      <td>91639.74</td>\n",
              "      <td>5000.0</td>\n",
              "      <td>62086.5</td>\n",
              "      <td>96000.0</td>\n",
              "      <td>133378.5</td>\n",
              "      <td>999999.0</td>\n",
              "    </tr>\n",
              "    <tr>\n",
              "      <th>ano</th>\n",
              "      <td>9499.0</td>\n",
              "      <td>2012.52</td>\n",
              "      <td>5.23</td>\n",
              "      <td>1973.0</td>\n",
              "      <td>2010.0</td>\n",
              "      <td>2013.0</td>\n",
              "      <td>2016.0</td>\n",
              "      <td>2021.0</td>\n",
              "    </tr>\n",
              "  </tbody>\n",
              "</table>\n",
              "</div>"
            ],
            "text/plain": [
              "                count       mean       std  ...      50%       75%       max\n",
              "motor          9499.0       1.71      0.55  ...      1.6       2.0       6.2\n",
              "preco          9499.0   40163.98  18052.65  ...  36900.0   52900.0   80000.0\n",
              "quilometragem  9499.0  108159.72  91639.74  ...  96000.0  133378.5  999999.0\n",
              "ano            9499.0    2012.52      5.23  ...   2013.0    2016.0    2021.0\n",
              "\n",
              "[4 rows x 8 columns]"
            ]
          },
          "metadata": {
            "tags": []
          },
          "execution_count": 15
        }
      ]
    },
    {
      "cell_type": "code",
      "metadata": {
        "colab": {
          "base_uri": "https://localhost:8080/",
          "height": 743
        },
        "id": "oLsbkE7rV8Hc",
        "outputId": "be0dc31e-d0b3-4ba7-8430-cf374dd754f0"
      },
      "source": [
        "sns.pairplot(data=carros_populares, kind='reg')"
      ],
      "execution_count": 17,
      "outputs": [
        {
          "output_type": "execute_result",
          "data": {
            "text/plain": [
              "<seaborn.axisgrid.PairGrid at 0x7f7c580bb790>"
            ]
          },
          "metadata": {
            "tags": []
          },
          "execution_count": 17
        },
        {
          "output_type": "display_data",
          "data": {
            "image/png": "[encoded data removed]",
            "text/plain": [
              "<Figure size 720x720 with 20 Axes>"
            ]
          },
          "metadata": {
            "tags": [],
            "needs_background": "light"
          }
        }
      ]
    },
    {
      "cell_type": "code",
      "metadata": {
        "colab": {
          "base_uri": "https://localhost:8080/",
          "height": 601
        },
        "id": "j0DUhXhgV8Hc",
        "outputId": "8046176c-b9f6-45e5-c279-128c14692707"
      },
      "source": [
        "carros_populares.hist(bins=50, figsize=(15,8))"
      ],
      "execution_count": 18,
      "outputs": [
        {
          "output_type": "execute_result",
          "data": {
            "text/plain": [
              "array([[<matplotlib.axes._subplots.AxesSubplot object at 0x7f7c5757f490>,\n",
              "        <matplotlib.axes._subplots.AxesSubplot object at 0x7f7c57592950>],\n",
              "       [<matplotlib.axes._subplots.AxesSubplot object at 0x7f7c575a4ad0>,\n",
              "        <matplotlib.axes._subplots.AxesSubplot object at 0x7f7c57552690>]],\n",
              "      dtype=object)"
            ]
          },
          "metadata": {
            "tags": []
          },
          "execution_count": 18
        },
        {
          "output_type": "display_data",
          "data": {
            "image/png": "[encoded data removed]",
            "text/plain": [
              "<Figure size 1080x576 with 4 Axes>"
            ]
          },
          "metadata": {
            "tags": [],
            "needs_background": "light"
          }
        }
      ]
    },
    {
      "cell_type": "code",
      "metadata": {
        "id": "kS98DDO1V8Hc"
      },
      "source": [
        "carros_populares = carros_populares.query('quilometragem <=210000')"
      ],
      "execution_count": 31,
      "outputs": []
    },
    {
      "cell_type": "code",
      "metadata": {
        "id": "_gp0ogS5V8Hs"
      },
      "source": [
        "dados = carros_populares"
      ],
      "execution_count": 32,
      "outputs": []
    },
    {
      "cell_type": "code",
      "metadata": {
        "colab": {
          "base_uri": "https://localhost:8080/",
          "height": 587
        },
        "id": "oUlgNOI7V8Hs",
        "outputId": "d2f49f99-7941-401b-d31b-53e1c650fe82"
      },
      "source": [
        "dados.hist(bins=50, figsize=(15,8))"
      ],
      "execution_count": 33,
      "outputs": [
        {
          "output_type": "execute_result",
          "data": {
            "text/plain": [
              "array([[<matplotlib.axes._subplots.AxesSubplot object at 0x7f7c56e58c50>,\n",
              "        <matplotlib.axes._subplots.AxesSubplot object at 0x7f7c56e01d10>],\n",
              "       [<matplotlib.axes._subplots.AxesSubplot object at 0x7f7c56d98390>,\n",
              "        <matplotlib.axes._subplots.AxesSubplot object at 0x7f7c56601250>]],\n",
              "      dtype=object)"
            ]
          },
          "metadata": {
            "tags": []
          },
          "execution_count": 33
        },
        {
          "output_type": "display_data",
          "data": {
            "image/png": "[encoded data removed]",
            "text/plain": [
              "<Figure size 1080x576 with 4 Axes>"
            ]
          },
          "metadata": {
            "tags": [],
            "needs_background": "light"
          }
        }
      ]
    },
    {
      "cell_type": "code",
      "metadata": {
        "colab": {
          "base_uri": "https://localhost:8080/"
        },
        "id": "Kx7RDTADV8Hs",
        "outputId": "e0644999-3b1a-4f4f-d457-b1bfdcbd9a22"
      },
      "source": [
        "dados.shape"
      ],
      "execution_count": 34,
      "outputs": [
        {
          "output_type": "execute_result",
          "data": {
            "text/plain": [
              "(9073, 7)"
            ]
          },
          "metadata": {
            "tags": []
          },
          "execution_count": 34
        }
      ]
    },
    {
      "cell_type": "code",
      "metadata": {
        "id": "ziL1eq4GV8Hs"
      },
      "source": [
        "dados = dados.query('ano >= 2008')"
      ],
      "execution_count": 35,
      "outputs": []
    },
    {
      "cell_type": "code",
      "metadata": {
        "colab": {
          "base_uri": "https://localhost:8080/"
        },
        "id": "f3YkrJW3V8Hs",
        "outputId": "6791721e-41a2-48cd-b373-4a50f9522f84"
      },
      "source": [
        "dados.shape"
      ],
      "execution_count": 36,
      "outputs": [
        {
          "output_type": "execute_result",
          "data": {
            "text/plain": [
              "(8071, 7)"
            ]
          },
          "metadata": {
            "tags": []
          },
          "execution_count": 36
        }
      ]
    },
    {
      "cell_type": "code",
      "metadata": {
        "colab": {
          "base_uri": "https://localhost:8080/",
          "height": 587
        },
        "id": "g7445lFoV8Hs",
        "outputId": "b2227be2-1732-4d6f-fe00-15134babab2e"
      },
      "source": [
        "dados.hist(bins=50, figsize=(15,8))"
      ],
      "execution_count": 37,
      "outputs": [
        {
          "output_type": "execute_result",
          "data": {
            "text/plain": [
              "array([[<matplotlib.axes._subplots.AxesSubplot object at 0x7f7c56180f90>,\n",
              "        <matplotlib.axes._subplots.AxesSubplot object at 0x7f7c56531c50>],\n",
              "       [<matplotlib.axes._subplots.AxesSubplot object at 0x7f7c56137510>,\n",
              "        <matplotlib.axes._subplots.AxesSubplot object at 0x7f7c5616cc10>]],\n",
              "      dtype=object)"
            ]
          },
          "metadata": {
            "tags": []
          },
          "execution_count": 37
        },
        {
          "output_type": "display_data",
          "data": {
            "image/png": "[encoded data removed]",
            "text/plain": [
              "<Figure size 1080x576 with 4 Axes>"
            ]
          },
          "metadata": {
            "tags": [],
            "needs_background": "light"
          }
        }
      ]
    },
    {
      "cell_type": "code",
      "metadata": {
        "colab": {
          "base_uri": "https://localhost:8080/",
          "height": 352
        },
        "id": "_Q5AcYBMV8Hs",
        "outputId": "61b946d2-ce44-4126-d30c-5549c7fc1d97"
      },
      "source": [
        "sns.boxplot(dados['quilometragem'])"
      ],
      "execution_count": 38,
      "outputs": [
        {
          "output_type": "stream",
          "text": [
            "/usr/local/lib/python3.7/dist-packages/seaborn/_decorators.py:43: FutureWarning: Pass the following variable as a keyword arg: x. From version 0.12, the only valid positional argument will be `data`, and passing other arguments without an explicit keyword will result in an error or misinterpretation.\n",
            "  FutureWarning\n"
          ],
          "name": "stderr"
        },
        {
          "output_type": "execute_result",
          "data": {
            "text/plain": [
              "<matplotlib.axes._subplots.AxesSubplot at 0x7f7c55e21bd0>"
            ]
          },
          "metadata": {
            "tags": []
          },
          "execution_count": 38
        },
        {
          "output_type": "display_data",
          "data": {
            "image/png": "[encoded data removed]",
            "text/plain": [
              "<Figure size 432x288 with 1 Axes>"
            ]
          },
          "metadata": {
            "tags": [],
            "needs_background": "light"
          }
        }
      ]
    },
    {
      "cell_type": "code",
      "metadata": {
        "colab": {
          "base_uri": "https://localhost:8080/",
          "height": 352
        },
        "id": "Tv5p33u1V8Hs",
        "outputId": "ff0ea5a2-b808-45ae-a9bb-08a40e24650c"
      },
      "source": [
        "sns.boxplot(dados['preco'])"
      ],
      "execution_count": 39,
      "outputs": [
        {
          "output_type": "stream",
          "text": [
            "/usr/local/lib/python3.7/dist-packages/seaborn/_decorators.py:43: FutureWarning: Pass the following variable as a keyword arg: x. From version 0.12, the only valid positional argument will be `data`, and passing other arguments without an explicit keyword will result in an error or misinterpretation.\n",
            "  FutureWarning\n"
          ],
          "name": "stderr"
        },
        {
          "output_type": "execute_result",
          "data": {
            "text/plain": [
              "<matplotlib.axes._subplots.AxesSubplot at 0x7f7c55d92d10>"
            ]
          },
          "metadata": {
            "tags": []
          },
          "execution_count": 39
        },
        {
          "output_type": "display_data",
          "data": {
            "image/png": "[encoded data removed]",
            "text/plain": [
              "<Figure size 432x288 with 1 Axes>"
            ]
          },
          "metadata": {
            "tags": [],
            "needs_background": "light"
          }
        }
      ]
    },
    {
      "cell_type": "code",
      "metadata": {
        "colab": {
          "base_uri": "https://localhost:8080/"
        },
        "id": "bdO5pLCxV8Hs",
        "outputId": "c23152e0-f1f4-4fb2-aab2-a48ad437843a"
      },
      "source": [
        "dados.modelo.value_counts()"
      ],
      "execution_count": 40,
      "outputs": [
        {
          "output_type": "execute_result",
          "data": {
            "text/plain": [
              "Aircross     89\n",
              "I30          88\n",
              "March        88\n",
              "Punto        86\n",
              "voyage       86\n",
              "             ..\n",
              "Camaro        1\n",
              "Classe-C      1\n",
              "Hilux         1\n",
              "Sprinter      1\n",
              "Hilux-SW4     1\n",
              "Name: modelo, Length: 153, dtype: int64"
            ]
          },
          "metadata": {
            "tags": []
          },
          "execution_count": 40
        }
      ]
    },
    {
      "cell_type": "code",
      "metadata": {
        "id": "2Fx3T1Iweku8"
      },
      "source": [
        "# pd.set_option('display.max_rows', 250)\r\n",
        "# dados.modelo.value_counts().head(250)"
      ],
      "execution_count": 50,
      "outputs": []
    },
    {
      "cell_type": "code",
      "metadata": {
        "colab": {
          "base_uri": "https://localhost:8080/"
        },
        "id": "QDv07gohV8Hs",
        "outputId": "748d279b-6ce2-4a6d-9628-836c18f7eda7"
      },
      "source": [
        "dados.modelo.value_counts().tail(29)"
      ],
      "execution_count": 49,
      "outputs": [
        {
          "output_type": "execute_result",
          "data": {
            "text/plain": [
              "Clio-Sedan     23\n",
              "HR             23\n",
              "Tiguan         22\n",
              "S10            20\n",
              "C3-Aircross    19\n",
              "RAV4           19\n",
              "HB20X          18\n",
              "Omega          16\n",
              "Frontier       16\n",
              "Parati         15\n",
              "Creta          12\n",
              "blazer         11\n",
              "Ranger         11\n",
              "Classe-A       10\n",
              "L200           10\n",
              "Toro            9\n",
              "Jumper          9\n",
              "Amarok          9\n",
              "Ducato          6\n",
              "T-Cross         6\n",
              "Trailblaze      5\n",
              "Escort          4\n",
              "Master          2\n",
              "SW4             2\n",
              "Camaro          1\n",
              "Classe-C        1\n",
              "Hilux           1\n",
              "Sprinter        1\n",
              "Hilux-SW4       1\n",
              "Name: modelo, dtype: int64"
            ]
          },
          "metadata": {
            "tags": []
          },
          "execution_count": 49
        }
      ]
    },
    {
      "cell_type": "code",
      "metadata": {
        "id": "lQ3e1wI3V8Hs"
      },
      "source": [
        "drop = list(dict(dados.modelo.value_counts().tail(29)).keys())\n",
        "dados = dados.set_index('modelo')\n",
        "dados = dados.drop(drop)\n",
        "dados = dados.reset_index()"
      ],
      "execution_count": 51,
      "outputs": []
    },
    {
      "cell_type": "code",
      "metadata": {
        "colab": {
          "base_uri": "https://localhost:8080/",
          "height": 167
        },
        "id": "L7fdwKmoCbrR",
        "outputId": "af9359d2-10a7-49e8-8149-4b514a7b4395"
      },
      "source": [
        "dados.describe().round(2).T"
      ],
      "execution_count": 52,
      "outputs": [
        {
          "output_type": "execute_result",
          "data": {
            "text/html": [
              "<div>\n",
              "<style scoped>\n",
              "    .dataframe tbody tr th:only-of-type {\n",
              "        vertical-align: middle;\n",
              "    }\n",
              "\n",
              "    .dataframe tbody tr th {\n",
              "        vertical-align: top;\n",
              "    }\n",
              "\n",
              "    .dataframe thead th {\n",
              "        text-align: right;\n",
              "    }\n",
              "</style>\n",
              "<table border=\"1\" class=\"dataframe\">\n",
              "  <thead>\n",
              "    <tr style=\"text-align: right;\">\n",
              "      <th></th>\n",
              "      <th>count</th>\n",
              "      <th>mean</th>\n",
              "      <th>std</th>\n",
              "      <th>min</th>\n",
              "      <th>25%</th>\n",
              "      <th>50%</th>\n",
              "      <th>75%</th>\n",
              "      <th>max</th>\n",
              "    </tr>\n",
              "  </thead>\n",
              "  <tbody>\n",
              "    <tr>\n",
              "      <th>motor</th>\n",
              "      <td>7769.0</td>\n",
              "      <td>1.66</td>\n",
              "      <td>0.50</td>\n",
              "      <td>1.0</td>\n",
              "      <td>1.4</td>\n",
              "      <td>1.6</td>\n",
              "      <td>2.0</td>\n",
              "      <td>3.8</td>\n",
              "    </tr>\n",
              "    <tr>\n",
              "      <th>preco</th>\n",
              "      <td>7769.0</td>\n",
              "      <td>42239.35</td>\n",
              "      <td>16867.66</td>\n",
              "      <td>8500.0</td>\n",
              "      <td>28990.0</td>\n",
              "      <td>38969.0</td>\n",
              "      <td>53990.0</td>\n",
              "      <td>80000.0</td>\n",
              "    </tr>\n",
              "    <tr>\n",
              "      <th>quilometragem</th>\n",
              "      <td>7769.0</td>\n",
              "      <td>89710.59</td>\n",
              "      <td>42726.23</td>\n",
              "      <td>5000.0</td>\n",
              "      <td>56320.0</td>\n",
              "      <td>88502.0</td>\n",
              "      <td>119769.0</td>\n",
              "      <td>210000.0</td>\n",
              "    </tr>\n",
              "    <tr>\n",
              "      <th>ano</th>\n",
              "      <td>7769.0</td>\n",
              "      <td>2014.00</td>\n",
              "      <td>3.50</td>\n",
              "      <td>2008.0</td>\n",
              "      <td>2011.0</td>\n",
              "      <td>2014.0</td>\n",
              "      <td>2017.0</td>\n",
              "      <td>2021.0</td>\n",
              "    </tr>\n",
              "  </tbody>\n",
              "</table>\n",
              "</div>"
            ],
            "text/plain": [
              "                count      mean       std  ...      50%       75%       max\n",
              "motor          7769.0      1.66      0.50  ...      1.6       2.0       3.8\n",
              "preco          7769.0  42239.35  16867.66  ...  38969.0   53990.0   80000.0\n",
              "quilometragem  7769.0  89710.59  42726.23  ...  88502.0  119769.0  210000.0\n",
              "ano            7769.0   2014.00      3.50  ...   2014.0    2017.0    2021.0\n",
              "\n",
              "[4 rows x 8 columns]"
            ]
          },
          "metadata": {
            "tags": []
          },
          "execution_count": 52
        }
      ]
    },
    {
      "cell_type": "code",
      "metadata": {
        "colab": {
          "base_uri": "https://localhost:8080/",
          "height": 610
        },
        "id": "9jERgfAqnIN0",
        "outputId": "270011d4-ad6e-4496-d5ea-8b3decacdd45"
      },
      "source": [
        "plt.figure(figsize=(14,10))\n",
        "\n",
        "corr = dados.corr().abs()\n",
        "mask = np.triu(np.ones_like(corr, dtype=np.bool))\n",
        "\n",
        "sns.heatmap(corr, mask=mask, annot=True, center=0, cmap=\"YlGnBu\")"
      ],
      "execution_count": 53,
      "outputs": [
        {
          "output_type": "execute_result",
          "data": {
            "text/plain": [
              "<matplotlib.axes._subplots.AxesSubplot at 0x7f7c55ca2890>"
            ]
          },
          "metadata": {
            "tags": []
          },
          "execution_count": 53
        },
        {
          "output_type": "display_data",
          "data": {
            "image/png": "[encoded data removed]",
            "text/plain": [
              "<Figure size 1008x720 with 2 Axes>"
            ]
          },
          "metadata": {
            "tags": [],
            "needs_background": "light"
          }
        }
      ]
    },
    {
      "cell_type": "markdown",
      "metadata": {
        "id": "dHqmb5iMkSMm"
      },
      "source": [
        "## Definindo as amostras de treino e teste"
      ]
    },
    {
      "cell_type": "code",
      "metadata": {
        "id": "6uHzERpDsns9"
      },
      "source": [
        "from sklearn.preprocessing import LabelEncoder"
      ],
      "execution_count": 54,
      "outputs": []
    },
    {
      "cell_type": "code",
      "metadata": {
        "id": "O80XaND7sntG"
      },
      "source": [
        "enconder = LabelEncoder()"
      ],
      "execution_count": 55,
      "outputs": []
    },
    {
      "cell_type": "code",
      "metadata": {
        "id": "s7VM7DTvsntH"
      },
      "source": [
        "dados['marca'] = enconder.fit_transform(dados['marca'])\n",
        "dados['modelo'] = enconder.fit_transform(dados['modelo'])"
      ],
      "execution_count": 56,
      "outputs": []
    },
    {
      "cell_type": "code",
      "metadata": {
        "colab": {
          "base_uri": "https://localhost:8080/",
          "height": 610
        },
        "id": "jM00CYdHV8Hs",
        "outputId": "a1fd2f24-0dae-4dbf-9fef-1d7f839667c1"
      },
      "source": [
        "plt.figure(figsize=(14,10))\n",
        "\n",
        "corr = dados.corr().abs()\n",
        "mask = np.triu(np.ones_like(corr, dtype=np.bool))\n",
        "\n",
        "sns.heatmap(corr, mask=mask, annot=True, center=0, cmap=\"YlGnBu\")"
      ],
      "execution_count": 57,
      "outputs": [
        {
          "output_type": "execute_result",
          "data": {
            "text/plain": [
              "<matplotlib.axes._subplots.AxesSubplot at 0x7f7c55e2c450>"
            ]
          },
          "metadata": {
            "tags": []
          },
          "execution_count": 57
        },
        {
          "output_type": "display_data",
          "data": {
            "image/png": "[encoded data removed]",
            "text/plain": [
              "<Figure size 1008x720 with 2 Axes>"
            ]
          },
          "metadata": {
            "tags": [],
            "needs_background": "light"
          }
        }
      ]
    },
    {
      "cell_type": "code",
      "metadata": {
        "id": "EeduinjrkL3w"
      },
      "source": [
        "from sklearn.model_selection import train_test_split"
      ],
      "execution_count": 58,
      "outputs": []
    },
    {
      "cell_type": "code",
      "metadata": {
        "id": "xd26HcK6sntI"
      },
      "source": [
        "X = dados.drop(columns=['preco','informacoes'])\n",
        "Y = dados['preco']"
      ],
      "execution_count": 59,
      "outputs": []
    },
    {
      "cell_type": "code",
      "metadata": {
        "id": "xg49TNzVkL-B"
      },
      "source": [
        "X_treino,X_teste,Y_treino,Y_teste = train_test_split(X,Y,test_size=0.25,random_state=0 )"
      ],
      "execution_count": 61,
      "outputs": []
    },
    {
      "cell_type": "code",
      "metadata": {
        "id": "w0ZWcHvh-9gP"
      },
      "source": [
        "# treino['preco'] = treino['preco'].apply(np.log1p)\n",
        "# treino['quilometragem'] = treino['quilometragem'].apply(np.log1p)\n",
        "# teste['preco'] = teste['preco'].apply(np.log1p)\n",
        "# teste['quilometragem'] = teste['quilometragem'].apply(np.log1p)"
      ],
      "execution_count": 62,
      "outputs": []
    },
    {
      "cell_type": "markdown",
      "metadata": {
        "id": "2qyhuuFmq3Tc"
      },
      "source": [
        " - Modelo \"Baseline\" (Ponto de partida)"
      ]
    },
    {
      "cell_type": "code",
      "metadata": {
        "id": "Q9SIbFFDnIN5"
      },
      "source": [
        "from sklearn.linear_model import LinearRegression"
      ],
      "execution_count": 63,
      "outputs": []
    },
    {
      "cell_type": "code",
      "metadata": {
        "colab": {
          "base_uri": "https://localhost:8080/"
        },
        "id": "f79edtGSnIN6",
        "outputId": "d7929993-db66-45e1-a437-91f0d72a9f15"
      },
      "source": [
        "lr = LinearRegression()\n",
        "lr.fit(X_treino, Y_treino)\n",
        "lr.score(X_teste, Y_teste)"
      ],
      "execution_count": 64,
      "outputs": [
        {
          "output_type": "execute_result",
          "data": {
            "text/plain": [
              "0.5496783466338998"
            ]
          },
          "metadata": {
            "tags": []
          },
          "execution_count": 64
        }
      ]
    },
    {
      "cell_type": "markdown",
      "metadata": {
        "id": "APUAvXnEnIN7"
      },
      "source": [
        " - Machine learning"
      ]
    },
    {
      "cell_type": "code",
      "metadata": {
        "colab": {
          "base_uri": "https://localhost:8080/"
        },
        "id": "oGLHoDbUnIN7",
        "outputId": "2395cd25-7c42-4037-9a2e-ee4f48edab2f"
      },
      "source": [
        "from sklearn.tree import DecisionTreeRegressor\n",
        "from sklearn.ensemble import RandomForestRegressor\n",
        "from sklearn.neural_network import MLPRegressor\n",
        "from xgboost import XGBRegressor\n",
        "import warnings\n",
        "warnings.filterwarnings(\"ignore\")\n",
        "\n",
        "\n",
        "regressor_list = [\n",
        "                  DecisionTreeRegressor(),\n",
        "                  RandomForestRegressor(),\n",
        "                  MLPRegressor(),\n",
        "                  XGBRegressor(),\n",
        "           \n",
        "                  ]\n",
        "\n",
        "for reg in regressor_list:\n",
        "  print('Treinando', reg.__class__.__name__)\n",
        "  reg.fit(X_treino, Y_treino)\n",
        "  train_score = reg.score(X_treino, Y_treino)\n",
        "  test_score = reg.score(X_teste, Y_teste)\n",
        "  print('Train score', train_score)\n",
        "  print('Test score', test_score)\n",
        "  print('='*80)"
      ],
      "execution_count": 65,
      "outputs": [
        {
          "output_type": "stream",
          "text": [
            "Treinando DecisionTreeRegressor\n",
            "Train score 0.9919558664084195\n",
            "Test score 0.6142355679386382\n",
            "================================================================================\n",
            "Treinando RandomForestRegressor\n",
            "Train score 0.9626163804012353\n",
            "Test score 0.7658609792459447\n",
            "================================================================================\n",
            "Treinando MLPRegressor\n",
            "Train score 0.24015941902425797\n",
            "Test score 0.23124937846666016\n",
            "================================================================================\n",
            "Treinando XGBRegressor\n",
            "[16:41:25] WARNING: /workspace/src/objective/regression_obj.cu:152: reg:linear is now deprecated in favor of reg:squarederror.\n",
            "Train score 0.7516060828328912\n",
            "Test score 0.7250702283826602\n",
            "================================================================================\n"
          ],
          "name": "stdout"
        }
      ]
    },
    {
      "cell_type": "code",
      "metadata": {
        "colab": {
          "base_uri": "https://localhost:8080/"
        },
        "id": "KuFanXxCnIN8",
        "outputId": "56a1c105-3774-4f1c-b130-6f5165465021"
      },
      "source": [
        "# repetindo processo com validação cruzada\n",
        "import warnings\n",
        "warnings.filterwarnings(\"ignore\")\n",
        "\n",
        "from sklearn.tree import DecisionTreeRegressor\n",
        "from sklearn.ensemble import RandomForestRegressor\n",
        "from sklearn.neural_network import MLPRegressor\n",
        "from xgboost import XGBRegressor\n",
        "from sklearn.model_selection import cross_val_score\n",
        "\n",
        "\n",
        "regressor_list = [\n",
        "                  DecisionTreeRegressor(),\n",
        "                  RandomForestRegressor(),\n",
        "                  MLPRegressor(),\n",
        "                  XGBRegressor(),\n",
        "                  ]\n",
        "\n",
        "for reg in regressor_list:\n",
        "  print('Treinando', reg.__class__.__name__)\n",
        "  reg.fit(X_treino, Y_treino)\n",
        "  train_score = reg.score(X_treino, Y_treino)\n",
        "  val_score = cross_val_score(reg, X_treino, Y_treino, cv=5)\n",
        "  test_score = reg.score(X_teste, Y_teste)\n",
        "  print('Train score', train_score)\n",
        "  print('Validation score', val_score)\n",
        "  print('Test score', test_score)\n",
        "  print('='*80)"
      ],
      "execution_count": 66,
      "outputs": [
        {
          "output_type": "stream",
          "text": [
            "Treinando DecisionTreeRegressor\n",
            "Train score 0.9919558664084195\n",
            "Validation score [0.56303125 0.58788319 0.64932038 0.57762366 0.55642131]\n",
            "Test score 0.6130153499721227\n",
            "================================================================================\n",
            "Treinando RandomForestRegressor\n",
            "Train score 0.9613687516054564\n",
            "Validation score [0.74092442 0.78497207 0.78864628 0.73402184 0.72535034]\n",
            "Test score 0.7689946268882453\n",
            "================================================================================\n",
            "Treinando MLPRegressor\n",
            "Train score 0.24257188875124513\n",
            "Validation score [0.21173969 0.21669478 0.26672258 0.22617343 0.24801439]\n",
            "Test score 0.2318633453759662\n",
            "================================================================================\n",
            "Treinando XGBRegressor\n",
            "[16:41:53] WARNING: /workspace/src/objective/regression_obj.cu:152: reg:linear is now deprecated in favor of reg:squarederror.\n",
            "[16:41:53] WARNING: /workspace/src/objective/regression_obj.cu:152: reg:linear is now deprecated in favor of reg:squarederror.\n",
            "[16:41:53] WARNING: /workspace/src/objective/regression_obj.cu:152: reg:linear is now deprecated in favor of reg:squarederror.\n",
            "[16:41:54] WARNING: /workspace/src/objective/regression_obj.cu:152: reg:linear is now deprecated in favor of reg:squarederror.\n",
            "[16:41:54] WARNING: /workspace/src/objective/regression_obj.cu:152: reg:linear is now deprecated in favor of reg:squarederror.\n",
            "[16:41:54] WARNING: /workspace/src/objective/regression_obj.cu:152: reg:linear is now deprecated in favor of reg:squarederror.\n",
            "Train score 0.7516060828328912\n",
            "Validation score [0.70309581 0.74881847 0.76072383 0.71576883 0.71280607]\n",
            "Test score 0.7250702283826602\n",
            "================================================================================\n"
          ],
          "name": "stdout"
        }
      ]
    },
    {
      "cell_type": "code",
      "metadata": {
        "id": "PzHGbcYAnIN9"
      },
      "source": [
        "# from sklearn.model_selection import GridSearchCV\n",
        "# parameters=[{ 'max_features':['auto', 'sqrt', 'log2'],\n",
        "#              'max_depth':[3,4,5,6,7,8],\n",
        "#              'n_estimators':[50, 100,150,200,250]}]\n",
        "            \n",
        "# reg = RandomForestRegressor(n_estimators=100, max_depth=1)\n",
        "# gs = GridSearchCV(reg,parameters,scoring='r2',n_jobs=-1,cv=5, refit = True)\n",
        "# gs.fit(X_treino, Y_treino)\n",
        "# reg = gs.best_estimator_\n",
        "\n",
        "# train_score = reg.score(X_treino, Y_treino)\n",
        "# val_score = cross_val_score(reg, X_treino, Y_treino, cv=5)\n",
        "# test_score = reg.score(X_teste, Y_teste)\n",
        "# print('Train score', train_score)\n",
        "# print('Validation score', val_score)\n",
        "# print('Test score', test_score)"
      ],
      "execution_count": null,
      "outputs": []
    },
    {
      "cell_type": "markdown",
      "metadata": {
        "id": "y1JjwOOokRce"
      },
      "source": [
        "## Gridsearch XGBRegressor"
      ]
    },
    {
      "cell_type": "code",
      "metadata": {
        "colab": {
          "base_uri": "https://localhost:8080/"
        },
        "id": "QJg7hbHfsntS",
        "outputId": "59c9fa84-039c-4b22-c20c-c02b73b54137"
      },
      "source": [
        "#  Todo: calibração do modelo\n",
        "from sklearn.model_selection import GridSearchCV\n",
        "parameters=[{'learning_rate':[0.1,0.2,0.3,0.4,0.5],\n",
        "             'max_depth':[3,4,5,6,7,8],\n",
        "             'n_estimators':[50, 100,150,200,250]}]\n",
        "            \n",
        "xgb = XGBRegressor(n_estimators=100, max_depth=1)\n",
        "gs = GridSearchCV(xgb,parameters,scoring='r2',n_jobs=-1,cv=5)\n",
        "gs.fit(X_treino, Y_treino)\n",
        "xgb = gs.best_estimator_\n",
        "\n",
        "train_score = xgb.score(X_treino, Y_treino)\n",
        "val_score = cross_val_score(xgb, X_treino, Y_treino, cv=3)\n",
        "test_score = xgb.score(X_teste, Y_teste)\n",
        "print('Train score', train_score)\n",
        "print('Validation score', val_score)\n",
        "print('Test score', test_score)"
      ],
      "execution_count": 83,
      "outputs": [
        {
          "output_type": "stream",
          "text": [
            "[17:00:43] WARNING: /workspace/src/objective/regression_obj.cu:152: reg:linear is now deprecated in favor of reg:squarederror.\n",
            "[17:00:44] WARNING: /workspace/src/objective/regression_obj.cu:152: reg:linear is now deprecated in favor of reg:squarederror.\n",
            "[17:00:45] WARNING: /workspace/src/objective/regression_obj.cu:152: reg:linear is now deprecated in favor of reg:squarederror.\n",
            "[17:00:45] WARNING: /workspace/src/objective/regression_obj.cu:152: reg:linear is now deprecated in favor of reg:squarederror.\n",
            "Train score 0.8793083585337251\n",
            "Validation score [0.75279048 0.78584254 0.76135513]\n",
            "Test score 0.7783948755450683\n"
          ],
          "name": "stdout"
        }
      ]
    },
    {
      "cell_type": "markdown",
      "metadata": {
        "id": "qZZo5qoDnIOB"
      },
      "source": [
        " - Calculando o erro"
      ]
    },
    {
      "cell_type": "code",
      "metadata": {
        "id": "98rh2XRBnIOB"
      },
      "source": [
        "from sklearn.metrics import mean_absolute_error,mean_squared_error, r2_score"
      ],
      "execution_count": 71,
      "outputs": []
    },
    {
      "cell_type": "code",
      "metadata": {
        "colab": {
          "base_uri": "https://localhost:8080/"
        },
        "id": "32YRmCqLnIOC",
        "outputId": "57df34a8-d97d-43b2-f7cd-f08f2ac5d818"
      },
      "source": [
        "y_pred = xgb.predict(X_teste)\n",
        "\n",
        "MAE  = mean_absolute_error(Y_teste,y_pred)\n",
        "MSE  = mean_squared_error(Y_teste,y_pred)\n",
        "RMSE = np.sqrt(mean_squared_error(Y_teste,y_pred))\n",
        "R2 = r2_score(Y_teste, y_pred)\n",
        "\n",
        "\n",
        "print('MAE = {:0.4f}'.format(MAE))\n",
        "print('MSE = {:0.4f}'.format(MSE))\n",
        "print('RMSE = {:0.4f}'.format(RMSE))\n",
        "print('R2 = {:0.4f}'.format(R2))"
      ],
      "execution_count": 84,
      "outputs": [
        {
          "output_type": "stream",
          "text": [
            "MAE = 5209.5274\n",
            "MSE = 61249052.6102\n",
            "RMSE = 7826.1774\n",
            "R2 = 0.7784\n"
          ],
          "name": "stdout"
        }
      ]
    },
    {
      "cell_type": "code",
      "metadata": {
        "id": "ODZCsZF3kLeQ"
      },
      "source": [
        ""
      ],
      "execution_count": null,
      "outputs": []
    },
    {
      "cell_type": "markdown",
      "metadata": {
        "id": "MnypHAtRkL83"
      },
      "source": [
        "## Gridsearch RandomForest"
      ]
    },
    {
      "cell_type": "code",
      "metadata": {
        "colab": {
          "base_uri": "https://localhost:8080/"
        },
        "id": "dOyha1GLhYlY",
        "outputId": "0ac1fa75-c40a-4622-8685-3f4f0aaf31e0"
      },
      "source": [
        "from sklearn.model_selection import GridSearchCV\r\n",
        "parameters=[{\r\n",
        "            \"min_samples_split\" : [2,4,8],\r\n",
        "            \"bootstrap\": [True, False],\r\n",
        "            'max_depth':[3,4,5,6,7,8,9,10],\r\n",
        "            'n_estimators':np.arange(1,51,5)}]\r\n",
        "            \r\n",
        "reg = RandomForestRegressor(n_estimators=100, max_depth=1)\r\n",
        "gs = GridSearchCV(reg,parameters,scoring='r2',n_jobs=-1,cv=5, refit = True)\r\n",
        "gs.fit(X_treino, Y_treino)\r\n",
        "reg = gs.best_estimator_\r\n",
        "\r\n",
        "train_score = reg.score(X_treino, Y_treino)\r\n",
        "val_score = cross_val_score(reg, X_treino, Y_treino, cv=5)\r\n",
        "test_score = reg.score(X_teste, Y_teste)\r\n",
        "print('Train score', train_score)\r\n",
        "print('Validation score', val_score)\r\n",
        "print('Test score', test_score)"
      ],
      "execution_count": 69,
      "outputs": [
        {
          "output_type": "stream",
          "text": [
            "Train score 0.862154756491635\n",
            "Validation score [0.74650719 0.7941035  0.7964869  0.74420985 0.74250781]\n",
            "Test score 0.770227629206796\n"
          ],
          "name": "stdout"
        }
      ]
    },
    {
      "cell_type": "markdown",
      "metadata": {
        "id": "DOED2n9dkaC7"
      },
      "source": [
        " - Calculando o erro"
      ]
    },
    {
      "cell_type": "code",
      "metadata": {
        "colab": {
          "base_uri": "https://localhost:8080/"
        },
        "id": "8aJ5Z6LrhYsl",
        "outputId": "08017f6b-023b-4f2f-aea9-0cddf7069487"
      },
      "source": [
        "y_pred = reg.predict(X_teste)\r\n",
        "\r\n",
        "MAE  = mean_absolute_error(Y_teste,y_pred)\r\n",
        "MSE  = mean_squared_error(Y_teste,y_pred)\r\n",
        "RMSE = np.sqrt(mean_squared_error(Y_teste,y_pred))\r\n",
        "R2 = r2_score(Y_teste, y_pred)\r\n",
        "\r\n",
        "\r\n",
        "print('MAE = {:0.4f}'.format(MAE))\r\n",
        "print('MSE = {:0.4f}'.format(MSE))\r\n",
        "print('RMSE = {:0.4f}'.format(RMSE))\r\n",
        "print('R2 = {:0.4f}'.format(R2))"
      ],
      "execution_count": 72,
      "outputs": [
        {
          "output_type": "stream",
          "text": [
            "MAE = 5368.1347\n",
            "MSE = 63506383.5356\n",
            "RMSE = 7969.0893\n",
            "R2 = 0.7702\n"
          ],
          "name": "stdout"
        }
      ]
    },
    {
      "cell_type": "code",
      "metadata": {
        "id": "8GI6ukoOjSGk"
      },
      "source": [
        ""
      ],
      "execution_count": null,
      "outputs": []
    }
  ]
}