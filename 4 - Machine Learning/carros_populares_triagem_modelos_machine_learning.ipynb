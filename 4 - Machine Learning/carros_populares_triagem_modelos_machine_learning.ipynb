{
  "nbformat": 4,
  "nbformat_minor": 0,
  "metadata": {
    "colab": {
      "name": "carros_populares_triagem_modelos_machine_learning.ipynb",
      "provenance": []
    },
    "kernelspec": {
      "display_name": "Python 3",
      "language": "python",
      "name": "python3"
    },
    "language_info": {
      "codemirror_mode": {
        "name": "ipython",
        "version": 3
      },
      "file_extension": ".py",
      "mimetype": "text/x-python",
      "name": "python",
      "nbconvert_exporter": "python",
      "pygments_lexer": "ipython3",
      "version": "3.8.3"
    }
  },
  "cells": [
    {
      "cell_type": "markdown",
      "metadata": {
        "id": "FVZHPjPOnINL"
      },
      "source": [
        "# Objetivo:\n",
        " \n",
        "\n",
        " - Encontrar o melhor algoritmo  para fazer a previsão do preço dos carros populares. "
      ]
    },
    {
      "cell_type": "code",
      "metadata": {
        "id": "UOzuxQtinINk"
      },
      "source": [
        "import pandas as pd\n",
        "import numpy as np\n",
        "import matplotlib.pyplot as plt\n",
        "import seaborn as sns"
      ],
      "execution_count": 1,
      "outputs": []
    },
    {
      "cell_type": "code",
      "metadata": {
        "id": "3JPuJT4znINm"
      },
      "source": [
        "url = 'https://raw.githubusercontent.com/robertferro/carros_populares/main/3%20-%20EDA/carros_populares_filtrados.csv'"
      ],
      "execution_count": 2,
      "outputs": []
    },
    {
      "cell_type": "code",
      "metadata": {
        "id": "nW1sd5vFnINn"
      },
      "source": [
        "df = pd.read_csv(url, sep = ',')"
      ],
      "execution_count": 3,
      "outputs": []
    },
    {
      "cell_type": "code",
      "metadata": {
        "colab": {
          "base_uri": "https://localhost:8080/",
          "height": 204
        },
        "id": "Ry6BxV2HnINo",
        "outputId": "5c640f99-8738-4698-f566-21b5de1bc909"
      },
      "source": [
        "# pd.set_option('display.max_rows', 250)\n",
        "# df.modelo.value_counts().tail(250)\n",
        "df.head()"
      ],
      "execution_count": 4,
      "outputs": [
        {
          "output_type": "execute_result",
          "data": {
            "text/html": [
              "<div>\n",
              "<style scoped>\n",
              "    .dataframe tbody tr th:only-of-type {\n",
              "        vertical-align: middle;\n",
              "    }\n",
              "\n",
              "    .dataframe tbody tr th {\n",
              "        vertical-align: top;\n",
              "    }\n",
              "\n",
              "    .dataframe thead th {\n",
              "        text-align: right;\n",
              "    }\n",
              "</style>\n",
              "<table border=\"1\" class=\"dataframe\">\n",
              "  <thead>\n",
              "    <tr style=\"text-align: right;\">\n",
              "      <th></th>\n",
              "      <th>marca</th>\n",
              "      <th>modelo</th>\n",
              "      <th>motor</th>\n",
              "      <th>quilometragem</th>\n",
              "      <th>ano</th>\n",
              "      <th>preco</th>\n",
              "      <th>informacoes</th>\n",
              "    </tr>\n",
              "  </thead>\n",
              "  <tbody>\n",
              "    <tr>\n",
              "      <th>0</th>\n",
              "      <td>chevrolet</td>\n",
              "      <td>agile</td>\n",
              "      <td>1.4</td>\n",
              "      <td>91000.0</td>\n",
              "      <td>2011</td>\n",
              "      <td>25990.0</td>\n",
              "      <td>Agile 1.4 Lt 5p</td>\n",
              "    </tr>\n",
              "    <tr>\n",
              "      <th>1</th>\n",
              "      <td>chevrolet</td>\n",
              "      <td>agile</td>\n",
              "      <td>1.4</td>\n",
              "      <td>78400.0</td>\n",
              "      <td>2011</td>\n",
              "      <td>23499.0</td>\n",
              "      <td>Agile 1.4 Ltz 5p</td>\n",
              "    </tr>\n",
              "    <tr>\n",
              "      <th>2</th>\n",
              "      <td>chevrolet</td>\n",
              "      <td>agile</td>\n",
              "      <td>1.4</td>\n",
              "      <td>123915.0</td>\n",
              "      <td>2013</td>\n",
              "      <td>28900.0</td>\n",
              "      <td>Agile 1.4 Ltz 5p</td>\n",
              "    </tr>\n",
              "    <tr>\n",
              "      <th>3</th>\n",
              "      <td>chevrolet</td>\n",
              "      <td>agile</td>\n",
              "      <td>1.4</td>\n",
              "      <td>91000.0</td>\n",
              "      <td>2013</td>\n",
              "      <td>28000.0</td>\n",
              "      <td>Agile 1.4 Lt 5p</td>\n",
              "    </tr>\n",
              "    <tr>\n",
              "      <th>4</th>\n",
              "      <td>chevrolet</td>\n",
              "      <td>agile</td>\n",
              "      <td>1.4</td>\n",
              "      <td>106863.0</td>\n",
              "      <td>2014</td>\n",
              "      <td>31990.0</td>\n",
              "      <td>Agile Agile 1.4 Ltz 8v Flex 4p Manual</td>\n",
              "    </tr>\n",
              "  </tbody>\n",
              "</table>\n",
              "</div>"
            ],
            "text/plain": [
              "       marca modelo  ...    preco                            informacoes\n",
              "0  chevrolet  agile  ...  25990.0                        Agile 1.4 Lt 5p\n",
              "1  chevrolet  agile  ...  23499.0                       Agile 1.4 Ltz 5p\n",
              "2  chevrolet  agile  ...  28900.0                       Agile 1.4 Ltz 5p\n",
              "3  chevrolet  agile  ...  28000.0                        Agile 1.4 Lt 5p\n",
              "4  chevrolet  agile  ...  31990.0  Agile Agile 1.4 Ltz 8v Flex 4p Manual\n",
              "\n",
              "[5 rows x 7 columns]"
            ]
          },
          "metadata": {
            "tags": []
          },
          "execution_count": 4
        }
      ]
    },
    {
      "cell_type": "code",
      "metadata": {
        "colab": {
          "base_uri": "https://localhost:8080/"
        },
        "id": "23iSFgF7V8Hc",
        "outputId": "943c6614-82d1-4c79-c896-e8ebf946cf5a"
      },
      "source": [
        "df.info()"
      ],
      "execution_count": 5,
      "outputs": [
        {
          "output_type": "stream",
          "text": [
            "<class 'pandas.core.frame.DataFrame'>\n",
            "RangeIndex: 9161 entries, 0 to 9160\n",
            "Data columns (total 7 columns):\n",
            " #   Column         Non-Null Count  Dtype  \n",
            "---  ------         --------------  -----  \n",
            " 0   marca          9161 non-null   object \n",
            " 1   modelo         9161 non-null   object \n",
            " 2   motor          9161 non-null   float64\n",
            " 3   quilometragem  9161 non-null   float64\n",
            " 4   ano            9161 non-null   int64  \n",
            " 5   preco          9161 non-null   float64\n",
            " 6   informacoes    9161 non-null   object \n",
            "dtypes: float64(3), int64(1), object(3)\n",
            "memory usage: 501.1+ KB\n"
          ],
          "name": "stdout"
        }
      ]
    },
    {
      "cell_type": "code",
      "metadata": {
        "colab": {
          "base_uri": "https://localhost:8080/",
          "height": 173
        },
        "id": "WaEea9gLCDVb",
        "outputId": "a51baa8e-3380-45e7-e5ce-80021864c61d"
      },
      "source": [
        "df.describe().round(2).T"
      ],
      "execution_count": 6,
      "outputs": [
        {
          "output_type": "execute_result",
          "data": {
            "text/html": [
              "<div>\n",
              "<style scoped>\n",
              "    .dataframe tbody tr th:only-of-type {\n",
              "        vertical-align: middle;\n",
              "    }\n",
              "\n",
              "    .dataframe tbody tr th {\n",
              "        vertical-align: top;\n",
              "    }\n",
              "\n",
              "    .dataframe thead th {\n",
              "        text-align: right;\n",
              "    }\n",
              "</style>\n",
              "<table border=\"1\" class=\"dataframe\">\n",
              "  <thead>\n",
              "    <tr style=\"text-align: right;\">\n",
              "      <th></th>\n",
              "      <th>count</th>\n",
              "      <th>mean</th>\n",
              "      <th>std</th>\n",
              "      <th>min</th>\n",
              "      <th>25%</th>\n",
              "      <th>50%</th>\n",
              "      <th>75%</th>\n",
              "      <th>max</th>\n",
              "    </tr>\n",
              "  </thead>\n",
              "  <tbody>\n",
              "    <tr>\n",
              "      <th>motor</th>\n",
              "      <td>9161.0</td>\n",
              "      <td>1.66</td>\n",
              "      <td>0.48</td>\n",
              "      <td>1.0</td>\n",
              "      <td>1.4</td>\n",
              "      <td>1.6</td>\n",
              "      <td>2.0</td>\n",
              "      <td>4.0</td>\n",
              "    </tr>\n",
              "    <tr>\n",
              "      <th>quilometragem</th>\n",
              "      <td>9161.0</td>\n",
              "      <td>87948.85</td>\n",
              "      <td>46157.31</td>\n",
              "      <td>5000.0</td>\n",
              "      <td>49236.0</td>\n",
              "      <td>85888.0</td>\n",
              "      <td>120187.0</td>\n",
              "      <td>200000.0</td>\n",
              "    </tr>\n",
              "    <tr>\n",
              "      <th>ano</th>\n",
              "      <td>9161.0</td>\n",
              "      <td>2013.75</td>\n",
              "      <td>4.93</td>\n",
              "      <td>1973.0</td>\n",
              "      <td>2011.0</td>\n",
              "      <td>2014.0</td>\n",
              "      <td>2018.0</td>\n",
              "      <td>2021.0</td>\n",
              "    </tr>\n",
              "    <tr>\n",
              "      <th>preco</th>\n",
              "      <td>9161.0</td>\n",
              "      <td>50064.36</td>\n",
              "      <td>30792.26</td>\n",
              "      <td>6000.0</td>\n",
              "      <td>28870.0</td>\n",
              "      <td>41890.0</td>\n",
              "      <td>64990.0</td>\n",
              "      <td>199990.0</td>\n",
              "    </tr>\n",
              "  </tbody>\n",
              "</table>\n",
              "</div>"
            ],
            "text/plain": [
              "                count      mean       std  ...      50%       75%       max\n",
              "motor          9161.0      1.66      0.48  ...      1.6       2.0       4.0\n",
              "quilometragem  9161.0  87948.85  46157.31  ...  85888.0  120187.0  200000.0\n",
              "ano            9161.0   2013.75      4.93  ...   2014.0    2018.0    2021.0\n",
              "preco          9161.0  50064.36  30792.26  ...  41890.0   64990.0  199990.0\n",
              "\n",
              "[4 rows x 8 columns]"
            ]
          },
          "metadata": {
            "tags": []
          },
          "execution_count": 6
        }
      ]
    },
    {
      "cell_type": "code",
      "metadata": {
        "colab": {
          "base_uri": "https://localhost:8080/"
        },
        "id": "zlNp34gEsnsI",
        "outputId": "8d1b7d2a-5c5b-42a2-90ee-a27316f3d798"
      },
      "source": [
        "df.isna().sum()"
      ],
      "execution_count": 7,
      "outputs": [
        {
          "output_type": "execute_result",
          "data": {
            "text/plain": [
              "marca            0\n",
              "modelo           0\n",
              "motor            0\n",
              "quilometragem    0\n",
              "ano              0\n",
              "preco            0\n",
              "informacoes      0\n",
              "dtype: int64"
            ]
          },
          "metadata": {
            "tags": []
          },
          "execution_count": 7
        }
      ]
    },
    {
      "cell_type": "markdown",
      "metadata": {
        "id": "Mi6dyewKskhl"
      },
      "source": [
        " - Filtrando outliers."
      ]
    },
    {
      "cell_type": "code",
      "metadata": {
        "id": "asYdFb8gsqFp"
      },
      "source": [
        "dados = df"
      ],
      "execution_count": 8,
      "outputs": []
    },
    {
      "cell_type": "code",
      "metadata": {
        "colab": {
          "base_uri": "https://localhost:8080/",
          "height": 766
        },
        "id": "HCFNj6INsjau",
        "outputId": "65460f46-cf98-49cc-e765-7a958cea0298"
      },
      "source": [
        "sns.set_palette('Accent')\n",
        "sns.set_style('darkgrid')\n",
        "\n",
        "ax = sns.boxplot(x='marca', y='preco', data=dados, orient='v', width=0.2)\n",
        "ax.figure.set_size_inches(20, 12)\n",
        "ax.set_title('Visualizando outliers por marcas', fontsize=25)\n",
        "ax.set_ylabel('Preço', fontsize=22)\n",
        "ax.set_xlabel('Marca', fontsize=22)\n",
        "ax"
      ],
      "execution_count": 9,
      "outputs": [
        {
          "output_type": "execute_result",
          "data": {
            "text/plain": [
              "<matplotlib.axes._subplots.AxesSubplot at 0x7f2ffdabe650>"
            ]
          },
          "metadata": {
            "tags": []
          },
          "execution_count": 9
        },
        {
          "output_type": "display_data",
          "data": {
            "image/png": "[encoded data removed]",
            "text/plain": [
              "<Figure size 1440x864 with 1 Axes>"
            ]
          },
          "metadata": {
            "tags": []
          }
        }
      ]
    },
    {
      "cell_type": "code",
      "metadata": {
        "colab": {
          "base_uri": "https://localhost:8080/",
          "height": 766
        },
        "id": "qyCWEMmzsjie",
        "outputId": "64c1b941-b7f3-4e5c-9c5b-029db4a2dc0e"
      },
      "source": [
        "sns.set_palette('Accent')\n",
        "sns.set_style('darkgrid')\n",
        "\n",
        "ax = sns.boxplot(x='ano', y='preco', data=dados, orient='v', width=0.2)\n",
        "ax.figure.set_size_inches(20, 12)\n",
        "ax.set_title('Distribuição carros por ano de fabricação e preço', fontsize=25)\n",
        "ax.set_ylabel('Preço', fontsize=22)\n",
        "ax.set_xlabel('Ano', fontsize=22)\n",
        "ax"
      ],
      "execution_count": 10,
      "outputs": [
        {
          "output_type": "execute_result",
          "data": {
            "text/plain": [
              "<matplotlib.axes._subplots.AxesSubplot at 0x7f2ffd3b9290>"
            ]
          },
          "metadata": {
            "tags": []
          },
          "execution_count": 10
        },
        {
          "output_type": "display_data",
          "data": {
            "image/png": "[encoded data removed]",
            "text/plain": [
              "<Figure size 1440x864 with 1 Axes>"
            ]
          },
          "metadata": {
            "tags": []
          }
        }
      ]
    },
    {
      "cell_type": "markdown",
      "metadata": {
        "id": "dHqmb5iMkSMm"
      },
      "source": [
        "## Definindo as amostras de treino e teste"
      ]
    },
    {
      "cell_type": "code",
      "metadata": {
        "id": "6uHzERpDsns9"
      },
      "source": [
        "from sklearn.preprocessing import LabelEncoder"
      ],
      "execution_count": 11,
      "outputs": []
    },
    {
      "cell_type": "code",
      "metadata": {
        "id": "O80XaND7sntG"
      },
      "source": [
        "enconder = LabelEncoder()"
      ],
      "execution_count": 12,
      "outputs": []
    },
    {
      "cell_type": "code",
      "metadata": {
        "id": "s7VM7DTvsntH"
      },
      "source": [
        "dados['marca'] = enconder.fit_transform(dados['marca'])\n",
        "dados['modelo'] = enconder.fit_transform(dados['modelo'])"
      ],
      "execution_count": 13,
      "outputs": []
    },
    {
      "cell_type": "code",
      "metadata": {
        "colab": {
          "base_uri": "https://localhost:8080/",
          "height": 609
        },
        "id": "jM00CYdHV8Hs",
        "outputId": "4956b5f0-88d4-4e99-e566-68b9e03ab8b0"
      },
      "source": [
        "plt.figure(figsize=(14,10))\n",
        "\n",
        "corr = dados.corr().abs()\n",
        "mask = np.triu(np.ones_like(corr, dtype=np.bool))\n",
        "\n",
        "sns.heatmap(corr, mask=mask, annot=True, center=0, cmap=\"YlGnBu\")"
      ],
      "execution_count": 14,
      "outputs": [
        {
          "output_type": "execute_result",
          "data": {
            "text/plain": [
              "<matplotlib.axes._subplots.AxesSubplot at 0x7f2ffcfa8210>"
            ]
          },
          "metadata": {
            "tags": []
          },
          "execution_count": 14
        },
        {
          "output_type": "display_data",
          "data": {
            "image/png": "[encoded data removed]",
            "text/plain": [
              "<Figure size 1008x720 with 2 Axes>"
            ]
          },
          "metadata": {
            "tags": []
          }
        }
      ]
    },
    {
      "cell_type": "code",
      "metadata": {
        "id": "EeduinjrkL3w"
      },
      "source": [
        "from sklearn.model_selection import train_test_split"
      ],
      "execution_count": 15,
      "outputs": []
    },
    {
      "cell_type": "code",
      "metadata": {
        "id": "xd26HcK6sntI"
      },
      "source": [
        "X = dados.drop(columns=['preco','informacoes'])\n",
        "Y = dados['preco']"
      ],
      "execution_count": 16,
      "outputs": []
    },
    {
      "cell_type": "code",
      "metadata": {
        "id": "xg49TNzVkL-B"
      },
      "source": [
        "X_treino,X_teste,Y_treino,Y_teste = train_test_split(X,Y,test_size=0.25,random_state=0 )"
      ],
      "execution_count": 17,
      "outputs": []
    },
    {
      "cell_type": "code",
      "metadata": {
        "id": "w0ZWcHvh-9gP"
      },
      "source": [
        "# treino['preco'] = treino['preco'].apply(np.log1p)\n",
        "# treino['quilometragem'] = treino['quilometragem'].apply(np.log1p)\n",
        "# teste['preco'] = teste['preco'].apply(np.log1p)\n",
        "# teste['quilometragem'] = teste['quilometragem'].apply(np.log1p)"
      ],
      "execution_count": 18,
      "outputs": []
    },
    {
      "cell_type": "markdown",
      "metadata": {
        "id": "2qyhuuFmq3Tc"
      },
      "source": [
        " - Modelo \"Baseline\" (Ponto de partida)"
      ]
    },
    {
      "cell_type": "code",
      "metadata": {
        "id": "Q9SIbFFDnIN5"
      },
      "source": [
        "from sklearn.linear_model import LinearRegression"
      ],
      "execution_count": 19,
      "outputs": []
    },
    {
      "cell_type": "code",
      "metadata": {
        "colab": {
          "base_uri": "https://localhost:8080/"
        },
        "id": "f79edtGSnIN6",
        "outputId": "ad4fcf10-55fb-4825-ec30-6f8bd76eb49a"
      },
      "source": [
        "lr = LinearRegression()\n",
        "lr.fit(X_treino, Y_treino)\n",
        "lr.score(X_teste, Y_teste)"
      ],
      "execution_count": 20,
      "outputs": [
        {
          "output_type": "execute_result",
          "data": {
            "text/plain": [
              "0.5417496735786052"
            ]
          },
          "metadata": {
            "tags": []
          },
          "execution_count": 20
        }
      ]
    },
    {
      "cell_type": "code",
      "metadata": {
        "id": "2ubbtgQDTYDl"
      },
      "source": [
        "from sklearn.metrics import mean_absolute_error,mean_squared_error, r2_score"
      ],
      "execution_count": 22,
      "outputs": []
    },
    {
      "cell_type": "code",
      "metadata": {
        "colab": {
          "base_uri": "https://localhost:8080/"
        },
        "id": "MengMyfQS7DZ",
        "outputId": "bbcab9dd-1e5f-490b-ecee-32a5154369b9"
      },
      "source": [
        "y_pred = lr.predict(X_teste)\r\n",
        "\r\n",
        "MAE  = mean_absolute_error(Y_teste,y_pred)\r\n",
        "MSE  = mean_squared_error(Y_teste,y_pred)\r\n",
        "RMSE = np.sqrt(mean_squared_error(Y_teste,y_pred))\r\n",
        "R2 = r2_score(Y_teste, y_pred)\r\n",
        "\r\n",
        "\r\n",
        "print('MAE = {:0.4f}'.format(MAE))\r\n",
        "print('MSE = {:0.4f}'.format(MSE))\r\n",
        "print('RMSE = {:0.4f}'.format(RMSE))\r\n",
        "print('R2 = {:0.4f}'.format(R2))"
      ],
      "execution_count": 23,
      "outputs": [
        {
          "output_type": "stream",
          "text": [
            "MAE = 14690.2888\n",
            "MSE = 434989338.9398\n",
            "RMSE = 20856.3980\n",
            "R2 = 0.5417\n"
          ],
          "name": "stdout"
        }
      ]
    },
    {
      "cell_type": "markdown",
      "metadata": {
        "id": "APUAvXnEnIN7"
      },
      "source": [
        " - Machine learning"
      ]
    },
    {
      "cell_type": "code",
      "metadata": {
        "colab": {
          "base_uri": "https://localhost:8080/"
        },
        "id": "oGLHoDbUnIN7",
        "outputId": "f04a176f-d555-470b-fb44-e9938a3fda54"
      },
      "source": [
        "from sklearn.tree import DecisionTreeRegressor\n",
        "from sklearn.ensemble import RandomForestRegressor\n",
        "from sklearn.neural_network import MLPRegressor\n",
        "from xgboost import XGBRegressor\n",
        "import warnings\n",
        "warnings.filterwarnings(\"ignore\")\n",
        "\n",
        "\n",
        "regressor_list = [\n",
        "                  DecisionTreeRegressor(),\n",
        "                  RandomForestRegressor(),\n",
        "                  MLPRegressor(),\n",
        "                  XGBRegressor(),\n",
        "           \n",
        "                  ]\n",
        "\n",
        "for reg in regressor_list:\n",
        "  print('Treinando', reg.__class__.__name__)\n",
        "  reg.fit(X_treino, Y_treino)\n",
        "  train_score = reg.score(X_treino, Y_treino)\n",
        "  test_score = reg.score(X_teste, Y_teste)\n",
        "  print('Train score', train_score)\n",
        "  print('Test score', test_score)\n",
        "  print('='*80)"
      ],
      "execution_count": 24,
      "outputs": [
        {
          "output_type": "stream",
          "text": [
            "Treinando DecisionTreeRegressor\n",
            "Train score 0.9907983849457214\n",
            "Test score 0.7008836861405472\n",
            "================================================================================\n",
            "Treinando RandomForestRegressor\n",
            "Train score 0.9665587135995635\n",
            "Test score 0.8199927893766518\n",
            "================================================================================\n",
            "Treinando MLPRegressor\n",
            "Train score 0.24896311586568765\n",
            "Test score 0.26582450329589113\n",
            "================================================================================\n",
            "Treinando XGBRegressor\n",
            "[22:54:36] WARNING: /workspace/src/objective/regression_obj.cu:152: reg:linear is now deprecated in favor of reg:squarederror.\n",
            "Train score 0.7868496545757013\n",
            "Test score 0.7800094607696534\n",
            "================================================================================\n"
          ],
          "name": "stdout"
        }
      ]
    },
    {
      "cell_type": "code",
      "metadata": {
        "colab": {
          "base_uri": "https://localhost:8080/"
        },
        "id": "KuFanXxCnIN8",
        "outputId": "8fb96011-f41a-4f9a-f59a-da6015d77e2b"
      },
      "source": [
        "# repetindo processo com validação cruzada\n",
        "import warnings\n",
        "warnings.filterwarnings(\"ignore\")\n",
        "\n",
        "from sklearn.tree import DecisionTreeRegressor\n",
        "from sklearn.ensemble import RandomForestRegressor\n",
        "from sklearn.neural_network import MLPRegressor\n",
        "from xgboost import XGBRegressor\n",
        "from sklearn.model_selection import cross_val_score\n",
        "\n",
        "\n",
        "regressor_list = [\n",
        "                  DecisionTreeRegressor(),\n",
        "                  RandomForestRegressor(),\n",
        "                  MLPRegressor(),\n",
        "                  XGBRegressor(),\n",
        "                  ]\n",
        "\n",
        "for reg in regressor_list:\n",
        "  print('Treinando', reg.__class__.__name__)\n",
        "  reg.fit(X_treino, Y_treino)\n",
        "  train_score = reg.score(X_treino, Y_treino)\n",
        "  val_score = cross_val_score(reg, X_treino, Y_treino, cv=5)\n",
        "  test_score = reg.score(X_teste, Y_teste)\n",
        "  print('Train score', train_score)\n",
        "  print('Validation score', val_score)\n",
        "  print('Test score', test_score)\n",
        "  print('='*80)"
      ],
      "execution_count": 25,
      "outputs": [
        {
          "output_type": "stream",
          "text": [
            "Treinando DecisionTreeRegressor\n",
            "Train score 0.9907983849457214\n",
            "Validation score [0.67202083 0.63557761 0.59188304 0.681306   0.6497132 ]\n",
            "Test score 0.7009793479198444\n",
            "================================================================================\n",
            "Treinando RandomForestRegressor\n",
            "Train score 0.9658990852764862\n",
            "Validation score [0.78809666 0.7835525  0.76367407 0.80531918 0.8274492 ]\n",
            "Test score 0.8179060663275615\n",
            "================================================================================\n",
            "Treinando MLPRegressor\n",
            "Train score 0.25121723192022083\n",
            "Validation score [0.22193368 0.2121632  0.21431287 0.24507416 0.25074349]\n",
            "Test score 0.2658339089800671\n",
            "================================================================================\n",
            "Treinando XGBRegressor\n",
            "[22:55:08] WARNING: /workspace/src/objective/regression_obj.cu:152: reg:linear is now deprecated in favor of reg:squarederror.\n",
            "[22:55:09] WARNING: /workspace/src/objective/regression_obj.cu:152: reg:linear is now deprecated in favor of reg:squarederror.\n",
            "[22:55:09] WARNING: /workspace/src/objective/regression_obj.cu:152: reg:linear is now deprecated in favor of reg:squarederror.\n",
            "[22:55:09] WARNING: /workspace/src/objective/regression_obj.cu:152: reg:linear is now deprecated in favor of reg:squarederror.\n",
            "[22:55:09] WARNING: /workspace/src/objective/regression_obj.cu:152: reg:linear is now deprecated in favor of reg:squarederror.\n",
            "[22:55:10] WARNING: /workspace/src/objective/regression_obj.cu:152: reg:linear is now deprecated in favor of reg:squarederror.\n",
            "Train score 0.7868496545757013\n",
            "Validation score [0.74765384 0.75335314 0.73835591 0.78037379 0.7865537 ]\n",
            "Test score 0.7800094607696534\n",
            "================================================================================\n"
          ],
          "name": "stdout"
        }
      ]
    },
    {
      "cell_type": "markdown",
      "metadata": {
        "id": "y1JjwOOokRce"
      },
      "source": [
        "## Gridsearch XGBRegressor"
      ]
    },
    {
      "cell_type": "code",
      "metadata": {
        "colab": {
          "base_uri": "https://localhost:8080/"
        },
        "id": "QJg7hbHfsntS",
        "outputId": "fe032516-2b4d-4e3f-c195-684c54f64014"
      },
      "source": [
        "#  Todo: calibração do modelo\n",
        "from sklearn.model_selection import GridSearchCV\n",
        "parameters=[{'learning_rate':[0.1,0.2,0.3,0.4,0.5],\n",
        "             'max_depth':[3,4,5,6,7,8],\n",
        "             'n_estimators':[50, 100,150,200,250]}]\n",
        "            \n",
        "xgb = XGBRegressor(n_estimators=100, max_depth=1)\n",
        "gs = GridSearchCV(xgb,parameters,scoring='r2',n_jobs=-1,cv=5)\n",
        "gs.fit(X_treino, Y_treino)\n",
        "xgb = gs.best_estimator_\n",
        "\n",
        "train_score = xgb.score(X_treino, Y_treino)\n",
        "val_score = cross_val_score(xgb, X_treino, Y_treino, cv=3)\n",
        "test_score = xgb.score(X_teste, Y_teste)\n",
        "print('Train score', train_score)\n",
        "print('Validation score', val_score)\n",
        "print('Test score', test_score)"
      ],
      "execution_count": 26,
      "outputs": [
        {
          "output_type": "stream",
          "text": [
            "[23:00:49] WARNING: /workspace/src/objective/regression_obj.cu:152: reg:linear is now deprecated in favor of reg:squarederror.\n",
            "[23:00:50] WARNING: /workspace/src/objective/regression_obj.cu:152: reg:linear is now deprecated in favor of reg:squarederror.\n",
            "[23:00:50] WARNING: /workspace/src/objective/regression_obj.cu:152: reg:linear is now deprecated in favor of reg:squarederror.\n",
            "[23:00:51] WARNING: /workspace/src/objective/regression_obj.cu:152: reg:linear is now deprecated in favor of reg:squarederror.\n",
            "Train score 0.8867418461475768\n",
            "Validation score [0.78511628 0.78011592 0.81900778]\n",
            "Test score 0.8288269691799668\n"
          ],
          "name": "stdout"
        }
      ]
    },
    {
      "cell_type": "markdown",
      "metadata": {
        "id": "qZZo5qoDnIOB"
      },
      "source": [
        " - Calculando o erro"
      ]
    },
    {
      "cell_type": "code",
      "metadata": {
        "colab": {
          "base_uri": "https://localhost:8080/"
        },
        "id": "32YRmCqLnIOC",
        "outputId": "d58d38f1-086f-4520-cb6f-374f21db6c79"
      },
      "source": [
        "y_pred = xgb.predict(X_teste)\n",
        "\n",
        "MAE  = mean_absolute_error(Y_teste,y_pred)\n",
        "MSE  = mean_squared_error(Y_teste,y_pred)\n",
        "RMSE = np.sqrt(mean_squared_error(Y_teste,y_pred))\n",
        "R2 = r2_score(Y_teste, y_pred)\n",
        "\n",
        "\n",
        "print('MAE = {:0.4f}'.format(MAE))\n",
        "print('MSE = {:0.4f}'.format(MSE))\n",
        "print('RMSE = {:0.4f}'.format(RMSE))\n",
        "print('R2 = {:0.4f}'.format(R2))"
      ],
      "execution_count": 27,
      "outputs": [
        {
          "output_type": "stream",
          "text": [
            "MAE = 7099.7128\n",
            "MSE = 162484212.7275\n",
            "RMSE = 12746.9295\n",
            "R2 = 0.8288\n"
          ],
          "name": "stdout"
        }
      ]
    },
    {
      "cell_type": "code",
      "metadata": {
        "id": "ODZCsZF3kLeQ"
      },
      "source": [
        ""
      ],
      "execution_count": 27,
      "outputs": []
    },
    {
      "cell_type": "markdown",
      "metadata": {
        "id": "MnypHAtRkL83"
      },
      "source": [
        "## Gridsearch RandomForest"
      ]
    },
    {
      "cell_type": "code",
      "metadata": {
        "colab": {
          "base_uri": "https://localhost:8080/"
        },
        "id": "dOyha1GLhYlY",
        "outputId": "cc2ebaba-e78e-4aba-dcc1-f5fc291dfe99"
      },
      "source": [
        "from sklearn.model_selection import GridSearchCV\n",
        "parameters=[{\n",
        "            \"min_samples_split\" : [2,4,8],\n",
        "            \"bootstrap\": [True, False],\n",
        "            'max_depth':[3,4,5,6,7,8,9,10],\n",
        "            'n_estimators':np.arange(1,51,5)}]\n",
        "            \n",
        "reg = RandomForestRegressor(n_estimators=100, max_depth=1)\n",
        "gs = GridSearchCV(reg,parameters,scoring='r2',n_jobs=-1,cv=5, refit = True)\n",
        "gs.fit(X_treino, Y_treino)\n",
        "reg = gs.best_estimator_\n",
        "\n",
        "train_score = reg.score(X_treino, Y_treino)\n",
        "val_score = cross_val_score(reg, X_treino, Y_treino, cv=5)\n",
        "test_score = reg.score(X_teste, Y_teste)\n",
        "print('Train score', train_score)\n",
        "print('Validation score', val_score)\n",
        "print('Test score', test_score)"
      ],
      "execution_count": 28,
      "outputs": [
        {
          "output_type": "stream",
          "text": [
            "Train score 0.8706932905140421\n",
            "Validation score [0.78358257 0.77714182 0.7579607  0.79890483 0.81270033]\n",
            "Test score 0.8127387291928493\n"
          ],
          "name": "stdout"
        }
      ]
    },
    {
      "cell_type": "markdown",
      "metadata": {
        "id": "DOED2n9dkaC7"
      },
      "source": [
        " - Calculando o erro"
      ]
    },
    {
      "cell_type": "code",
      "metadata": {
        "colab": {
          "base_uri": "https://localhost:8080/"
        },
        "id": "8aJ5Z6LrhYsl",
        "outputId": "784dac3f-b7d4-4ab5-b8b6-226ceb94e429"
      },
      "source": [
        "y_pred = reg.predict(X_teste)\n",
        "\n",
        "MAE  = mean_absolute_error(Y_teste,y_pred)\n",
        "MSE  = mean_squared_error(Y_teste,y_pred)\n",
        "RMSE = np.sqrt(mean_squared_error(Y_teste,y_pred))\n",
        "R2 = r2_score(Y_teste, y_pred)\n",
        "\n",
        "\n",
        "print('MAE = {:0.4f}'.format(MAE))\n",
        "print('MSE = {:0.4f}'.format(MSE))\n",
        "print('RMSE = {:0.4f}'.format(RMSE))\n",
        "print('R2 = {:0.4f}'.format(R2))"
      ],
      "execution_count": 29,
      "outputs": [
        {
          "output_type": "stream",
          "text": [
            "MAE = 7839.2842\n",
            "MSE = 177755806.5993\n",
            "RMSE = 13332.5094\n",
            "R2 = 0.8127\n"
          ],
          "name": "stdout"
        }
      ]
    },
    {
      "cell_type": "code",
      "metadata": {
        "id": "8GI6ukoOjSGk"
      },
      "source": [
        ""
      ],
      "execution_count": 29,
      "outputs": []
    }
  ]
}