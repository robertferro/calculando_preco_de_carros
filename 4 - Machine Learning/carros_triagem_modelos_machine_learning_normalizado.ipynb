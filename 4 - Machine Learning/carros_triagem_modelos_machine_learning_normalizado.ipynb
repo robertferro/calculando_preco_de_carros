{
  "nbformat": 4,
  "nbformat_minor": 0,
  "metadata": {
    "colab": {
      "name": "carros_triagem_modelos_machine_learning_normalizado.ipynb",
      "provenance": [],
      "toc_visible": true
    },
    "kernelspec": {
      "display_name": "Python 3",
      "language": "python",
      "name": "python3"
    },
    "language_info": {
      "codemirror_mode": {
        "name": "ipython",
        "version": 3
      },
      "file_extension": ".py",
      "mimetype": "text/x-python",
      "name": "python",
      "nbconvert_exporter": "python",
      "pygments_lexer": "ipython3",
      "version": "3.8.3"
    }
  },
  "cells": [
    {
      "cell_type": "markdown",
      "metadata": {
        "id": "FVZHPjPOnINL"
      },
      "source": [
        "# Objetivo:\n",
        "\n",
        " - Encontrar o melhor algoritmo  para fazer a previsão do preço do carro."
      ]
    },
    {
      "cell_type": "code",
      "metadata": {
        "id": "UOzuxQtinINk"
      },
      "source": [
        "import pandas as pd\n",
        "import numpy as np\n",
        "import matplotlib.pyplot as plt\n",
        "import seaborn as sns"
      ],
      "execution_count": 1,
      "outputs": []
    },
    {
      "cell_type": "code",
      "metadata": {
        "id": "3JPuJT4znINm"
      },
      "source": [
        "url = 'https://raw.githubusercontent.com/robertferro/carros_populares/main/3%20-%20EDA/carros_populares_filtrados.csv'"
      ],
      "execution_count": 2,
      "outputs": []
    },
    {
      "cell_type": "code",
      "metadata": {
        "id": "nW1sd5vFnINn"
      },
      "source": [
        "df = pd.read_csv(url, sep = ',')"
      ],
      "execution_count": 3,
      "outputs": []
    },
    {
      "cell_type": "code",
      "metadata": {
        "colab": {
          "base_uri": "https://localhost:8080/",
          "height": 204
        },
        "id": "Ry6BxV2HnINo",
        "outputId": "bbd16c3e-770d-484a-89b8-e5a335e902de"
      },
      "source": [
        "# pd.set_option('display.max_rows', 250)\n",
        "# df.modelo.value_counts().tail(250)\n",
        "df.head()"
      ],
      "execution_count": 4,
      "outputs": [
        {
          "output_type": "execute_result",
          "data": {
            "text/html": [
              "<div>\n",
              "<style scoped>\n",
              "    .dataframe tbody tr th:only-of-type {\n",
              "        vertical-align: middle;\n",
              "    }\n",
              "\n",
              "    .dataframe tbody tr th {\n",
              "        vertical-align: top;\n",
              "    }\n",
              "\n",
              "    .dataframe thead th {\n",
              "        text-align: right;\n",
              "    }\n",
              "</style>\n",
              "<table border=\"1\" class=\"dataframe\">\n",
              "  <thead>\n",
              "    <tr style=\"text-align: right;\">\n",
              "      <th></th>\n",
              "      <th>marca</th>\n",
              "      <th>modelo</th>\n",
              "      <th>motor</th>\n",
              "      <th>quilometragem</th>\n",
              "      <th>ano</th>\n",
              "      <th>preco</th>\n",
              "      <th>informacoes</th>\n",
              "    </tr>\n",
              "  </thead>\n",
              "  <tbody>\n",
              "    <tr>\n",
              "      <th>0</th>\n",
              "      <td>chevrolet</td>\n",
              "      <td>agile</td>\n",
              "      <td>1.4</td>\n",
              "      <td>91000.0</td>\n",
              "      <td>2011</td>\n",
              "      <td>25990.0</td>\n",
              "      <td>Agile 1.4 Lt 5p</td>\n",
              "    </tr>\n",
              "    <tr>\n",
              "      <th>1</th>\n",
              "      <td>chevrolet</td>\n",
              "      <td>agile</td>\n",
              "      <td>1.4</td>\n",
              "      <td>78400.0</td>\n",
              "      <td>2011</td>\n",
              "      <td>23499.0</td>\n",
              "      <td>Agile 1.4 Ltz 5p</td>\n",
              "    </tr>\n",
              "    <tr>\n",
              "      <th>2</th>\n",
              "      <td>chevrolet</td>\n",
              "      <td>agile</td>\n",
              "      <td>1.4</td>\n",
              "      <td>123915.0</td>\n",
              "      <td>2013</td>\n",
              "      <td>28900.0</td>\n",
              "      <td>Agile 1.4 Ltz 5p</td>\n",
              "    </tr>\n",
              "    <tr>\n",
              "      <th>3</th>\n",
              "      <td>chevrolet</td>\n",
              "      <td>agile</td>\n",
              "      <td>1.4</td>\n",
              "      <td>91000.0</td>\n",
              "      <td>2013</td>\n",
              "      <td>28000.0</td>\n",
              "      <td>Agile 1.4 Lt 5p</td>\n",
              "    </tr>\n",
              "    <tr>\n",
              "      <th>4</th>\n",
              "      <td>chevrolet</td>\n",
              "      <td>agile</td>\n",
              "      <td>1.4</td>\n",
              "      <td>106863.0</td>\n",
              "      <td>2014</td>\n",
              "      <td>31990.0</td>\n",
              "      <td>Agile Agile 1.4 Ltz 8v Flex 4p Manual</td>\n",
              "    </tr>\n",
              "  </tbody>\n",
              "</table>\n",
              "</div>"
            ],
            "text/plain": [
              "       marca modelo  ...    preco                            informacoes\n",
              "0  chevrolet  agile  ...  25990.0                        Agile 1.4 Lt 5p\n",
              "1  chevrolet  agile  ...  23499.0                       Agile 1.4 Ltz 5p\n",
              "2  chevrolet  agile  ...  28900.0                       Agile 1.4 Ltz 5p\n",
              "3  chevrolet  agile  ...  28000.0                        Agile 1.4 Lt 5p\n",
              "4  chevrolet  agile  ...  31990.0  Agile Agile 1.4 Ltz 8v Flex 4p Manual\n",
              "\n",
              "[5 rows x 7 columns]"
            ]
          },
          "metadata": {
            "tags": []
          },
          "execution_count": 4
        }
      ]
    },
    {
      "cell_type": "code",
      "metadata": {
        "colab": {
          "base_uri": "https://localhost:8080/"
        },
        "id": "vGkXKcF8snsF",
        "outputId": "8976ae6a-af50-4f88-e84d-7be20b2b85a1"
      },
      "source": [
        "df.info()"
      ],
      "execution_count": 5,
      "outputs": [
        {
          "output_type": "stream",
          "text": [
            "<class 'pandas.core.frame.DataFrame'>\n",
            "RangeIndex: 9161 entries, 0 to 9160\n",
            "Data columns (total 7 columns):\n",
            " #   Column         Non-Null Count  Dtype  \n",
            "---  ------         --------------  -----  \n",
            " 0   marca          9161 non-null   object \n",
            " 1   modelo         9161 non-null   object \n",
            " 2   motor          9161 non-null   float64\n",
            " 3   quilometragem  9161 non-null   float64\n",
            " 4   ano            9161 non-null   int64  \n",
            " 5   preco          9161 non-null   float64\n",
            " 6   informacoes    9161 non-null   object \n",
            "dtypes: float64(3), int64(1), object(3)\n",
            "memory usage: 501.1+ KB\n"
          ],
          "name": "stdout"
        }
      ]
    },
    {
      "cell_type": "code",
      "metadata": {
        "colab": {
          "base_uri": "https://localhost:8080/",
          "height": 173
        },
        "id": "WaEea9gLCDVb",
        "outputId": "ff999308-e299-46aa-bbd6-d870c17ee8d4"
      },
      "source": [
        "df.describe().round(2).T"
      ],
      "execution_count": 6,
      "outputs": [
        {
          "output_type": "execute_result",
          "data": {
            "text/html": [
              "<div>\n",
              "<style scoped>\n",
              "    .dataframe tbody tr th:only-of-type {\n",
              "        vertical-align: middle;\n",
              "    }\n",
              "\n",
              "    .dataframe tbody tr th {\n",
              "        vertical-align: top;\n",
              "    }\n",
              "\n",
              "    .dataframe thead th {\n",
              "        text-align: right;\n",
              "    }\n",
              "</style>\n",
              "<table border=\"1\" class=\"dataframe\">\n",
              "  <thead>\n",
              "    <tr style=\"text-align: right;\">\n",
              "      <th></th>\n",
              "      <th>count</th>\n",
              "      <th>mean</th>\n",
              "      <th>std</th>\n",
              "      <th>min</th>\n",
              "      <th>25%</th>\n",
              "      <th>50%</th>\n",
              "      <th>75%</th>\n",
              "      <th>max</th>\n",
              "    </tr>\n",
              "  </thead>\n",
              "  <tbody>\n",
              "    <tr>\n",
              "      <th>motor</th>\n",
              "      <td>9161.0</td>\n",
              "      <td>1.66</td>\n",
              "      <td>0.48</td>\n",
              "      <td>1.0</td>\n",
              "      <td>1.4</td>\n",
              "      <td>1.6</td>\n",
              "      <td>2.0</td>\n",
              "      <td>4.0</td>\n",
              "    </tr>\n",
              "    <tr>\n",
              "      <th>quilometragem</th>\n",
              "      <td>9161.0</td>\n",
              "      <td>87948.85</td>\n",
              "      <td>46157.31</td>\n",
              "      <td>5000.0</td>\n",
              "      <td>49236.0</td>\n",
              "      <td>85888.0</td>\n",
              "      <td>120187.0</td>\n",
              "      <td>200000.0</td>\n",
              "    </tr>\n",
              "    <tr>\n",
              "      <th>ano</th>\n",
              "      <td>9161.0</td>\n",
              "      <td>2013.75</td>\n",
              "      <td>4.93</td>\n",
              "      <td>1973.0</td>\n",
              "      <td>2011.0</td>\n",
              "      <td>2014.0</td>\n",
              "      <td>2018.0</td>\n",
              "      <td>2021.0</td>\n",
              "    </tr>\n",
              "    <tr>\n",
              "      <th>preco</th>\n",
              "      <td>9161.0</td>\n",
              "      <td>50064.36</td>\n",
              "      <td>30792.26</td>\n",
              "      <td>6000.0</td>\n",
              "      <td>28870.0</td>\n",
              "      <td>41890.0</td>\n",
              "      <td>64990.0</td>\n",
              "      <td>199990.0</td>\n",
              "    </tr>\n",
              "  </tbody>\n",
              "</table>\n",
              "</div>"
            ],
            "text/plain": [
              "                count      mean       std  ...      50%       75%       max\n",
              "motor          9161.0      1.66      0.48  ...      1.6       2.0       4.0\n",
              "quilometragem  9161.0  87948.85  46157.31  ...  85888.0  120187.0  200000.0\n",
              "ano            9161.0   2013.75      4.93  ...   2014.0    2018.0    2021.0\n",
              "preco          9161.0  50064.36  30792.26  ...  41890.0   64990.0  199990.0\n",
              "\n",
              "[4 rows x 8 columns]"
            ]
          },
          "metadata": {
            "tags": []
          },
          "execution_count": 6
        }
      ]
    },
    {
      "cell_type": "code",
      "metadata": {
        "colab": {
          "base_uri": "https://localhost:8080/"
        },
        "id": "zlNp34gEsnsI",
        "outputId": "9fa5f1a6-c6c6-46f5-ced3-5051193a8199"
      },
      "source": [
        "df.isna().sum()"
      ],
      "execution_count": 7,
      "outputs": [
        {
          "output_type": "execute_result",
          "data": {
            "text/plain": [
              "marca            0\n",
              "modelo           0\n",
              "motor            0\n",
              "quilometragem    0\n",
              "ano              0\n",
              "preco            0\n",
              "informacoes      0\n",
              "dtype: int64"
            ]
          },
          "metadata": {
            "tags": []
          },
          "execution_count": 7
        }
      ]
    },
    {
      "cell_type": "code",
      "metadata": {
        "id": "oq5s8OYgsnsJ"
      },
      "source": [
        "dados = df"
      ],
      "execution_count": 8,
      "outputs": []
    },
    {
      "cell_type": "code",
      "metadata": {
        "colab": {
          "base_uri": "https://localhost:8080/",
          "height": 173
        },
        "id": "L7fdwKmoCbrR",
        "outputId": "670dc72d-c5dc-4c1b-9e59-5ea221d1da0c"
      },
      "source": [
        "dados.describe().round(2).T"
      ],
      "execution_count": 9,
      "outputs": [
        {
          "output_type": "execute_result",
          "data": {
            "text/html": [
              "<div>\n",
              "<style scoped>\n",
              "    .dataframe tbody tr th:only-of-type {\n",
              "        vertical-align: middle;\n",
              "    }\n",
              "\n",
              "    .dataframe tbody tr th {\n",
              "        vertical-align: top;\n",
              "    }\n",
              "\n",
              "    .dataframe thead th {\n",
              "        text-align: right;\n",
              "    }\n",
              "</style>\n",
              "<table border=\"1\" class=\"dataframe\">\n",
              "  <thead>\n",
              "    <tr style=\"text-align: right;\">\n",
              "      <th></th>\n",
              "      <th>count</th>\n",
              "      <th>mean</th>\n",
              "      <th>std</th>\n",
              "      <th>min</th>\n",
              "      <th>25%</th>\n",
              "      <th>50%</th>\n",
              "      <th>75%</th>\n",
              "      <th>max</th>\n",
              "    </tr>\n",
              "  </thead>\n",
              "  <tbody>\n",
              "    <tr>\n",
              "      <th>motor</th>\n",
              "      <td>9161.0</td>\n",
              "      <td>1.66</td>\n",
              "      <td>0.48</td>\n",
              "      <td>1.0</td>\n",
              "      <td>1.4</td>\n",
              "      <td>1.6</td>\n",
              "      <td>2.0</td>\n",
              "      <td>4.0</td>\n",
              "    </tr>\n",
              "    <tr>\n",
              "      <th>quilometragem</th>\n",
              "      <td>9161.0</td>\n",
              "      <td>87948.85</td>\n",
              "      <td>46157.31</td>\n",
              "      <td>5000.0</td>\n",
              "      <td>49236.0</td>\n",
              "      <td>85888.0</td>\n",
              "      <td>120187.0</td>\n",
              "      <td>200000.0</td>\n",
              "    </tr>\n",
              "    <tr>\n",
              "      <th>ano</th>\n",
              "      <td>9161.0</td>\n",
              "      <td>2013.75</td>\n",
              "      <td>4.93</td>\n",
              "      <td>1973.0</td>\n",
              "      <td>2011.0</td>\n",
              "      <td>2014.0</td>\n",
              "      <td>2018.0</td>\n",
              "      <td>2021.0</td>\n",
              "    </tr>\n",
              "    <tr>\n",
              "      <th>preco</th>\n",
              "      <td>9161.0</td>\n",
              "      <td>50064.36</td>\n",
              "      <td>30792.26</td>\n",
              "      <td>6000.0</td>\n",
              "      <td>28870.0</td>\n",
              "      <td>41890.0</td>\n",
              "      <td>64990.0</td>\n",
              "      <td>199990.0</td>\n",
              "    </tr>\n",
              "  </tbody>\n",
              "</table>\n",
              "</div>"
            ],
            "text/plain": [
              "                count      mean       std  ...      50%       75%       max\n",
              "motor          9161.0      1.66      0.48  ...      1.6       2.0       4.0\n",
              "quilometragem  9161.0  87948.85  46157.31  ...  85888.0  120187.0  200000.0\n",
              "ano            9161.0   2013.75      4.93  ...   2014.0    2018.0    2021.0\n",
              "preco          9161.0  50064.36  30792.26  ...  41890.0   64990.0  199990.0\n",
              "\n",
              "[4 rows x 8 columns]"
            ]
          },
          "metadata": {
            "tags": []
          },
          "execution_count": 9
        }
      ]
    },
    {
      "cell_type": "code",
      "metadata": {
        "colab": {
          "base_uri": "https://localhost:8080/",
          "height": 609
        },
        "id": "9jERgfAqnIN0",
        "outputId": "419be350-feef-4729-a625-6e83908aadf2"
      },
      "source": [
        "plt.figure(figsize=(14,10))\n",
        "\n",
        "corr = dados.corr().abs()\n",
        "mask = np.triu(np.ones_like(corr, dtype=np.bool))\n",
        "\n",
        "sns.heatmap(corr, mask=mask, annot=True, center=0, cmap=\"YlGnBu\")"
      ],
      "execution_count": 10,
      "outputs": [
        {
          "output_type": "execute_result",
          "data": {
            "text/plain": [
              "<matplotlib.axes._subplots.AxesSubplot at 0x7fe4eca7eb90>"
            ]
          },
          "metadata": {
            "tags": []
          },
          "execution_count": 10
        },
        {
          "output_type": "display_data",
          "data": {
            "image/png": "[encoded data removed]",
            "text/plain": [
              "<Figure size 1008x720 with 2 Axes>"
            ]
          },
          "metadata": {
            "tags": [],
            "needs_background": "light"
          }
        }
      ]
    },
    {
      "cell_type": "code",
      "metadata": {
        "colab": {
          "base_uri": "https://localhost:8080/",
          "height": 584
        },
        "id": "z9fITVShcA8l",
        "outputId": "dc543c48-2c26-46a0-8158-46320271d435"
      },
      "source": [
        "dados.hist(bins=50, figsize=(15,8))"
      ],
      "execution_count": 11,
      "outputs": [
        {
          "output_type": "execute_result",
          "data": {
            "text/plain": [
              "array([[<matplotlib.axes._subplots.AxesSubplot object at 0x7fe4e3d20f10>,\n",
              "        <matplotlib.axes._subplots.AxesSubplot object at 0x7fe4e3cda4d0>],\n",
              "       [<matplotlib.axes._subplots.AxesSubplot object at 0x7fe4e3c8fb50>,\n",
              "        <matplotlib.axes._subplots.AxesSubplot object at 0x7fe4e3c54210>]],\n",
              "      dtype=object)"
            ]
          },
          "metadata": {
            "tags": []
          },
          "execution_count": 11
        },
        {
          "output_type": "display_data",
          "data": {
            "image/png": "[encoded data removed]",
            "text/plain": [
              "<Figure size 1080x576 with 4 Axes>"
            ]
          },
          "metadata": {
            "tags": [],
            "needs_background": "light"
          }
        }
      ]
    },
    {
      "cell_type": "markdown",
      "metadata": {
        "id": "dHqmb5iMkSMm"
      },
      "source": [
        "## Definindo as amostras de treino e teste"
      ]
    },
    {
      "cell_type": "code",
      "metadata": {
        "id": "6uHzERpDsns9"
      },
      "source": [
        "from sklearn.preprocessing import LabelEncoder"
      ],
      "execution_count": 12,
      "outputs": []
    },
    {
      "cell_type": "code",
      "metadata": {
        "id": "O80XaND7sntG"
      },
      "source": [
        "enconder = LabelEncoder()"
      ],
      "execution_count": 13,
      "outputs": []
    },
    {
      "cell_type": "code",
      "metadata": {
        "id": "s7VM7DTvsntH"
      },
      "source": [
        "dados['marca'] = enconder.fit_transform(dados['marca'])\n",
        "dados['modelo'] = enconder.fit_transform(dados['modelo'])"
      ],
      "execution_count": 14,
      "outputs": []
    },
    {
      "cell_type": "code",
      "metadata": {
        "colab": {
          "base_uri": "https://localhost:8080/",
          "height": 609
        },
        "id": "kNWJjnGFcA8n",
        "outputId": "2c5af5b9-c1b2-4026-fd5c-eb782ad7ed4f"
      },
      "source": [
        "plt.figure(figsize=(14,10))\n",
        "\n",
        "corr = dados.corr().abs()\n",
        "mask = np.triu(np.ones_like(corr, dtype=np.bool))\n",
        "\n",
        "sns.heatmap(corr, mask=mask, annot=True, center=0, cmap=\"YlGnBu\")"
      ],
      "execution_count": 15,
      "outputs": [
        {
          "output_type": "execute_result",
          "data": {
            "text/plain": [
              "<matplotlib.axes._subplots.AxesSubplot at 0x7fe4e2ff43d0>"
            ]
          },
          "metadata": {
            "tags": []
          },
          "execution_count": 15
        },
        {
          "output_type": "display_data",
          "data": {
            "image/png": "[encoded data removed]",
            "text/plain": [
              "<Figure size 1008x720 with 2 Axes>"
            ]
          },
          "metadata": {
            "tags": [],
            "needs_background": "light"
          }
        }
      ]
    },
    {
      "cell_type": "markdown",
      "metadata": {
        "id": "cGkKCEs0cA8o"
      },
      "source": [
        "- Normalizando o preço."
      ]
    },
    {
      "cell_type": "code",
      "metadata": {
        "id": "JlqP5K9FcA8p"
      },
      "source": [
        "dados['preco'] = dados['preco'].apply(np.log1p)"
      ],
      "execution_count": 16,
      "outputs": []
    },
    {
      "cell_type": "code",
      "metadata": {
        "colab": {
          "base_uri": "https://localhost:8080/",
          "height": 618
        },
        "id": "B18G2WJwcA8p",
        "outputId": "f321b48b-6cbf-4055-c50e-bb61cef8479e"
      },
      "source": [
        "dados.hist(bins=50, figsize=(12,8))"
      ],
      "execution_count": 17,
      "outputs": [
        {
          "output_type": "execute_result",
          "data": {
            "text/plain": [
              "array([[<matplotlib.axes._subplots.AxesSubplot object at 0x7fe4e2505110>,\n",
              "        <matplotlib.axes._subplots.AxesSubplot object at 0x7fe4e2505c50>],\n",
              "       [<matplotlib.axes._subplots.AxesSubplot object at 0x7fe4ec9eed10>,\n",
              "        <matplotlib.axes._subplots.AxesSubplot object at 0x7fe4e249c610>],\n",
              "       [<matplotlib.axes._subplots.AxesSubplot object at 0x7fe4e2451c90>,\n",
              "        <matplotlib.axes._subplots.AxesSubplot object at 0x7fe4e2414350>]],\n",
              "      dtype=object)"
            ]
          },
          "metadata": {
            "tags": []
          },
          "execution_count": 17
        },
        {
          "output_type": "display_data",
          "data": {
            "image/png": "[encoded data removed]",
            "text/plain": [
              "<Figure size 864x576 with 6 Axes>"
            ]
          },
          "metadata": {
            "tags": [],
            "needs_background": "light"
          }
        }
      ]
    },
    {
      "cell_type": "code",
      "metadata": {
        "colab": {
          "base_uri": "https://localhost:8080/",
          "height": 350
        },
        "id": "ouwNE5IUcA8q",
        "outputId": "a8343909-ec09-4e43-e497-31d6c9b7f2c4"
      },
      "source": [
        "sns.boxplot(dados['preco'])"
      ],
      "execution_count": 18,
      "outputs": [
        {
          "output_type": "stream",
          "text": [
            "/usr/local/lib/python3.7/dist-packages/seaborn/_decorators.py:43: FutureWarning: Pass the following variable as a keyword arg: x. From version 0.12, the only valid positional argument will be `data`, and passing other arguments without an explicit keyword will result in an error or misinterpretation.\n",
            "  FutureWarning\n"
          ],
          "name": "stderr"
        },
        {
          "output_type": "execute_result",
          "data": {
            "text/plain": [
              "<matplotlib.axes._subplots.AxesSubplot at 0x7fe4e1f84f50>"
            ]
          },
          "metadata": {
            "tags": []
          },
          "execution_count": 18
        },
        {
          "output_type": "display_data",
          "data": {
            "image/png": "[encoded data removed]",
            "text/plain": [
              "<Figure size 432x288 with 1 Axes>"
            ]
          },
          "metadata": {
            "tags": [],
            "needs_background": "light"
          }
        }
      ]
    },
    {
      "cell_type": "code",
      "metadata": {
        "id": "EeduinjrkL3w"
      },
      "source": [
        "from sklearn.model_selection import train_test_split"
      ],
      "execution_count": 19,
      "outputs": []
    },
    {
      "cell_type": "code",
      "metadata": {
        "id": "xd26HcK6sntI"
      },
      "source": [
        "X = dados.drop(columns=['preco','informacoes'])\n",
        "Y = dados['preco']"
      ],
      "execution_count": 20,
      "outputs": []
    },
    {
      "cell_type": "code",
      "metadata": {
        "id": "xg49TNzVkL-B"
      },
      "source": [
        "X_treino,X_teste,Y_treino,Y_teste = train_test_split(X,Y,test_size=0.25,random_state=0 )"
      ],
      "execution_count": 21,
      "outputs": []
    },
    {
      "cell_type": "markdown",
      "metadata": {
        "id": "2qyhuuFmq3Tc"
      },
      "source": [
        " - Modelo \"Baseline\" (Ponto de partida)"
      ]
    },
    {
      "cell_type": "code",
      "metadata": {
        "id": "Q9SIbFFDnIN5"
      },
      "source": [
        "from sklearn.linear_model import LinearRegression"
      ],
      "execution_count": 22,
      "outputs": []
    },
    {
      "cell_type": "code",
      "metadata": {
        "colab": {
          "base_uri": "https://localhost:8080/"
        },
        "id": "f79edtGSnIN6",
        "outputId": "835efd06-9114-4f3a-b184-1667af54b9ee"
      },
      "source": [
        "lr = LinearRegression()\n",
        "lr.fit(X_treino, Y_treino)\n",
        "lr.score(X_teste, Y_teste)"
      ],
      "execution_count": 23,
      "outputs": [
        {
          "output_type": "execute_result",
          "data": {
            "text/plain": [
              "0.6909139635901138"
            ]
          },
          "metadata": {
            "tags": []
          },
          "execution_count": 23
        }
      ]
    },
    {
      "cell_type": "markdown",
      "metadata": {
        "id": "APUAvXnEnIN7"
      },
      "source": [
        " - Machine learning"
      ]
    },
    {
      "cell_type": "code",
      "metadata": {
        "colab": {
          "base_uri": "https://localhost:8080/"
        },
        "id": "oGLHoDbUnIN7",
        "outputId": "012c158a-e07f-4df5-f223-1bebd203a015"
      },
      "source": [
        "from sklearn.tree import DecisionTreeRegressor\n",
        "from sklearn.ensemble import RandomForestRegressor\n",
        "from sklearn.neural_network import MLPRegressor\n",
        "from xgboost import XGBRegressor\n",
        "import warnings\n",
        "warnings.filterwarnings(\"ignore\")\n",
        "\n",
        "\n",
        "regressor_list = [\n",
        "                  DecisionTreeRegressor(),\n",
        "                  RandomForestRegressor(),\n",
        "                  MLPRegressor(),\n",
        "                  XGBRegressor(),\n",
        "           \n",
        "                  ]\n",
        "\n",
        "for reg in regressor_list:\n",
        "  print('Treinando', reg.__class__.__name__)\n",
        "  reg.fit(X_treino, Y_treino)\n",
        "  train_score = reg.score(X_treino, Y_treino)\n",
        "  test_score = reg.score(X_teste, Y_teste)\n",
        "  print('Train score', train_score)\n",
        "  print('Test score', test_score)\n",
        "  print('='*80)"
      ],
      "execution_count": 24,
      "outputs": [
        {
          "output_type": "stream",
          "text": [
            "Treinando DecisionTreeRegressor\n",
            "Train score 0.9938293632112039\n",
            "Test score 0.7586076097342249\n",
            "================================================================================\n",
            "Treinando RandomForestRegressor\n",
            "Train score 0.9732952654320842\n",
            "Test score 0.8467954218108216\n",
            "================================================================================\n",
            "Treinando MLPRegressor\n",
            "Train score -17.66348218539783\n",
            "Test score -17.522007534186177\n",
            "================================================================================\n",
            "Treinando XGBRegressor\n",
            "[19:51:49] WARNING: /workspace/src/objective/regression_obj.cu:152: reg:linear is now deprecated in favor of reg:squarederror.\n",
            "Train score 0.8165707685583343\n",
            "Test score 0.8246790003622272\n",
            "================================================================================\n"
          ],
          "name": "stdout"
        }
      ]
    },
    {
      "cell_type": "code",
      "metadata": {
        "colab": {
          "base_uri": "https://localhost:8080/"
        },
        "id": "KuFanXxCnIN8",
        "outputId": "83f83cc8-dd5c-494c-c9be-ddf038c4dec9"
      },
      "source": [
        "# repetindo processo com validação cruzada\n",
        "import warnings\n",
        "warnings.filterwarnings(\"ignore\")\n",
        "\n",
        "from sklearn.tree import DecisionTreeRegressor\n",
        "from sklearn.ensemble import RandomForestRegressor\n",
        "from sklearn.neural_network import MLPRegressor\n",
        "from xgboost import XGBRegressor\n",
        "from sklearn.model_selection import cross_val_score\n",
        "\n",
        "\n",
        "regressor_list = [\n",
        "                  DecisionTreeRegressor(),\n",
        "                  RandomForestRegressor(),\n",
        "                  MLPRegressor(),\n",
        "                  XGBRegressor(),\n",
        "                  ]\n",
        "\n",
        "for reg in regressor_list:\n",
        "  print('Treinando', reg.__class__.__name__)\n",
        "  reg.fit(X_treino, Y_treino)\n",
        "  train_score = reg.score(X_treino, Y_treino)\n",
        "  val_score = cross_val_score(reg, X_treino, Y_treino, cv=5)\n",
        "  test_score = reg.score(X_teste, Y_teste)\n",
        "  print('Train score', train_score)\n",
        "  print('Validation score', (val_score).mean())\n",
        "  print('Test score', test_score)\n",
        "  print('='*80)"
      ],
      "execution_count": 31,
      "outputs": [
        {
          "output_type": "stream",
          "text": [
            "Treinando DecisionTreeRegressor\n",
            "Train score 0.9938293632112039\n",
            "Validation score 0.7167056483718752\n",
            "Test score 0.7573421396457871\n",
            "================================================================================\n",
            "Treinando RandomForestRegressor\n",
            "Train score 0.9732643481546152\n",
            "Validation score 0.8323579090997473\n",
            "Test score 0.844884888116396\n",
            "================================================================================\n",
            "Treinando MLPRegressor\n",
            "Train score -20.027043788409042\n",
            "Validation score -8.11351455519484\n",
            "Test score -16.732746521389444\n",
            "================================================================================\n",
            "Treinando XGBRegressor\n",
            "[20:05:33] WARNING: /workspace/src/objective/regression_obj.cu:152: reg:linear is now deprecated in favor of reg:squarederror.\n",
            "[20:05:33] WARNING: /workspace/src/objective/regression_obj.cu:152: reg:linear is now deprecated in favor of reg:squarederror.\n",
            "[20:05:33] WARNING: /workspace/src/objective/regression_obj.cu:152: reg:linear is now deprecated in favor of reg:squarederror.\n",
            "[20:05:33] WARNING: /workspace/src/objective/regression_obj.cu:152: reg:linear is now deprecated in favor of reg:squarederror.\n",
            "[20:05:34] WARNING: /workspace/src/objective/regression_obj.cu:152: reg:linear is now deprecated in favor of reg:squarederror.\n",
            "[20:05:34] WARNING: /workspace/src/objective/regression_obj.cu:152: reg:linear is now deprecated in favor of reg:squarederror.\n",
            "Train score 0.8165707685583343\n",
            "Validation score 0.8020353809492542\n",
            "Test score 0.8246790003622272\n",
            "================================================================================\n"
          ],
          "name": "stdout"
        }
      ]
    },
    {
      "cell_type": "markdown",
      "metadata": {
        "id": "90uC8MvrApdI"
      },
      "source": [
        "## Gridsearch RandomForest"
      ]
    },
    {
      "cell_type": "code",
      "metadata": {
        "colab": {
          "base_uri": "https://localhost:8080/"
        },
        "id": "AtGdrmWSAjAJ",
        "outputId": "8ce9cb5a-dabc-4284-d2f0-f2fc9a3f7e18"
      },
      "source": [
        "from sklearn.model_selection import GridSearchCV\n",
        "parameters=[{\n",
        "            \"max_features\": [\"auto\", \"sqrt\", \"log2\"],\n",
        "            \"min_samples_split\" : [2,4,8],\n",
        "            \"bootstrap\": [True, False],\n",
        "            'max_depth':[3,4,5,6,7,8,9,10],\n",
        "            'n_estimators':np.arange(1,51,5)}]\n",
        "            \n",
        "reg = RandomForestRegressor(n_estimators=100, max_depth=1)\n",
        "gs = GridSearchCV(reg,parameters,scoring='r2',n_jobs=-1,cv=5, refit = True)\n",
        "gs.fit(X_treino, Y_treino)\n",
        "reg = gs.best_estimator_\n",
        "\n",
        "train_score = reg.score(X_treino, Y_treino)\n",
        "val_score = cross_val_score(reg, X_treino, Y_treino, cv=5)\n",
        "test_score = reg.score(X_teste, Y_teste)\n",
        "print('Train score', train_score)\n",
        "print('Validation score', (val_score).mean())\n",
        "print('Test score', test_score)"
      ],
      "execution_count": 33,
      "outputs": [
        {
          "output_type": "stream",
          "text": [
            "Train score 0.8920391390703544\n",
            "Validation score 0.828483771030819\n",
            "Test score 0.8451249588732979\n"
          ],
          "name": "stdout"
        }
      ]
    },
    {
      "cell_type": "markdown",
      "metadata": {
        "id": "MxYR9XIkS3iN"
      },
      "source": [
        " - Calculando  o erro."
      ]
    },
    {
      "cell_type": "code",
      "metadata": {
        "colab": {
          "base_uri": "https://localhost:8080/"
        },
        "id": "1gCzIiTHA0Nj",
        "outputId": "0f8fc4b6-94ee-4ecc-bafa-c72ec824097c"
      },
      "source": [
        "y_pred = reg.predict(X_teste)\n",
        "\n",
        "MAE  = mean_absolute_error(Y_teste,y_pred)\n",
        "MSE  = mean_squared_error(Y_teste,y_pred)\n",
        "RMSE = np.sqrt(mean_squared_error(Y_teste,y_pred))\n",
        "R2 = r2_score(Y_teste, y_pred)\n",
        "\n",
        "\n",
        "print('MAE = {:0.4f}'.format(MAE))\n",
        "print('MSE = {:0.4f}'.format(MSE))\n",
        "print('RMSE = {:0.4f}'.format(RMSE))\n",
        "print('R2 = {:0.4f}'.format(R2))"
      ],
      "execution_count": 34,
      "outputs": [
        {
          "output_type": "stream",
          "text": [
            "MAE = 0.1550\n",
            "MSE = 0.0542\n",
            "RMSE = 0.2328\n",
            "R2 = 0.8451\n"
          ],
          "name": "stdout"
        }
      ]
    },
    {
      "cell_type": "markdown",
      "metadata": {
        "id": "G-cOn5P0Qg2k"
      },
      "source": [
        "## Salvando o modelo"
      ]
    },
    {
      "cell_type": "code",
      "metadata": {
        "id": "i0tBbfZJQiy3"
      },
      "source": [
        "# import pickle\r\n",
        "# # now you can save it to a file\r\n",
        "# with open('randomforest_regression.pkl', 'wb') as f:\r\n",
        "#     pickle.dump(reg, f)\r\n",
        "\r\n",
        "# output = open('modelo_faturamento', 'wb')\r\n",
        "# pickle.dump(reg, output)\r\n",
        "# output.close()\r\n",
        "\r\n",
        "#  abrindo o arquivo salvo\r\n",
        "\r\n",
        "# modelo = open('modelo_faturamento', 'rb')\r\n",
        "# new_model = pickle.load(modelo)\r\n",
        "# modelo.close()"
      ],
      "execution_count": null,
      "outputs": []
    },
    {
      "cell_type": "code",
      "metadata": {
        "id": "PVAGMNmXSYDt"
      },
      "source": [
        "import pickle\r\n",
        "\r\n",
        "output = open('modelo_precos', 'wb')\r\n",
        "pickle.dump(reg, output)\r\n",
        "output.close()"
      ],
      "execution_count": 36,
      "outputs": []
    },
    {
      "cell_type": "code",
      "metadata": {
        "id": "BgxYP_fFSYcs"
      },
      "source": [
        ""
      ],
      "execution_count": null,
      "outputs": []
    }
  ]
}